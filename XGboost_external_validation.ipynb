{
 "cells": [
  {
   "cell_type": "markdown",
   "metadata": {},
   "source": [
    "# Metagenomic-based Diagnostic for Sepsis"
   ]
  },
  {
   "cell_type": "code",
   "execution_count": 1,
   "metadata": {},
   "outputs": [
    {
     "ename": "ModuleNotFoundError",
     "evalue": "No module named 'xgboost'",
     "output_type": "error",
     "traceback": [
      "\u001b[0;31m---------------------------------------------------------------------------\u001b[0m",
      "\u001b[0;31mModuleNotFoundError\u001b[0m                       Traceback (most recent call last)",
      "\u001b[0;32m<ipython-input-1-1039b6cdc1c4>\u001b[0m in \u001b[0;36m<module>\u001b[0;34m\u001b[0m\n\u001b[1;32m      1\u001b[0m \u001b[0;31m# Import Statements\u001b[0m\u001b[0;34m\u001b[0m\u001b[0;34m\u001b[0m\u001b[0;34m\u001b[0m\u001b[0m\n\u001b[0;32m----> 2\u001b[0;31m \u001b[0;32mfrom\u001b[0m \u001b[0mxgboost\u001b[0m \u001b[0;32mimport\u001b[0m \u001b[0mXGBClassifier\u001b[0m\u001b[0;34m\u001b[0m\u001b[0;34m\u001b[0m\u001b[0m\n\u001b[0m\u001b[1;32m      3\u001b[0m \u001b[0;32mfrom\u001b[0m \u001b[0msklearn\u001b[0m\u001b[0;34m.\u001b[0m\u001b[0mmodel_selection\u001b[0m \u001b[0;32mimport\u001b[0m \u001b[0mGridSearchCV\u001b[0m\u001b[0;34m\u001b[0m\u001b[0;34m\u001b[0m\u001b[0m\n\u001b[1;32m      4\u001b[0m \u001b[0;32mfrom\u001b[0m \u001b[0msklearn\u001b[0m\u001b[0;34m.\u001b[0m\u001b[0mmodel_selection\u001b[0m \u001b[0;32mimport\u001b[0m \u001b[0mStratifiedKFold\u001b[0m\u001b[0;34m\u001b[0m\u001b[0;34m\u001b[0m\u001b[0m\n\u001b[1;32m      5\u001b[0m \u001b[0;32mimport\u001b[0m \u001b[0mpandas\u001b[0m \u001b[0;32mas\u001b[0m \u001b[0mpd\u001b[0m\u001b[0;34m\u001b[0m\u001b[0;34m\u001b[0m\u001b[0m\n",
      "\u001b[0;31mModuleNotFoundError\u001b[0m: No module named 'xgboost'"
     ]
    }
   ],
   "source": [
    "# Import Statements\n",
    "from xgboost import XGBClassifier\n",
    "from sklearn.model_selection import GridSearchCV\n",
    "from sklearn.model_selection import StratifiedKFold\n",
    "import pandas as pd\n",
    "import numpy as np\n",
    "import os\n",
    "import matplotlib.pyplot as plt\n",
    "from pathlib import Path\n",
    "cwd = Path.cwd()\n",
    "datasets = cwd / 'datasets'\n",
    "results = cwd / 'results'"
   ]
  },
  {
   "cell_type": "markdown",
   "metadata": {},
   "source": [
    "## Data Preprocessing\n",
    "Since we are using stratified kfold, a validation split is not necesssary."
   ]
  },
  {
   "cell_type": "markdown",
   "metadata": {},
   "source": [
    "### Load data"
   ]
  },
  {
   "cell_type": "code",
   "execution_count": 2,
   "metadata": {},
   "outputs": [],
   "source": [
    "import pickle\n",
    "\n",
    "with open(datasets / 'karius_genus_raw.pickle', 'rb') as f:\n",
    "    X, y = pickle.load(f)\n",
    "    \n",
    "with open(datasets / 'karius_genus_pathogens.pickle', 'rb') as f:\n",
    "    X_pathogens, _ = pickle.load(f)\n",
    "\n",
    "# Binary encode y\n",
    "y[y == 'septic'] = 1\n",
    "y[y == 'healthy'] = 0\n",
    "y = y.astype('int')\n",
    "\n",
    "# Relative abundance\n",
    "RA = X.apply(func=lambda x: x / x.sum(), axis=1)"
   ]
  },
  {
   "cell_type": "markdown",
   "metadata": {},
   "source": [
    "### Train Test Split"
   ]
  },
  {
   "cell_type": "code",
   "execution_count": 3,
   "metadata": {},
   "outputs": [],
   "source": [
    "from sklearn.model_selection import train_test_split\n",
    "\n",
    "# Test data\n",
    "X_idx, X_test_idx, y_train, y_test = train_test_split(X.index, y,\n",
    "                                                shuffle=True,\n",
    "                                                random_state=66,\n",
    "                                                test_size=0.3,\n",
    "                                                stratify=y)\n",
    "\n",
    "\n",
    "def get_datasets(df, train_idx, test_idx):\n",
    "    train = df.loc[train_idx, :]\n",
    "    test = df.loc[test_idx, :]\n",
    "    return train, test\n",
    "\n",
    "raw_train, raw_test = get_datasets(X, X_idx, X_test_idx)\n",
    "RA_train, RA_test = get_datasets(RA, X_idx, X_test_idx)"
   ]
  },
  {
   "cell_type": "markdown",
   "metadata": {},
   "source": [
    "Here I print the number of examples for each split of data."
   ]
  },
  {
   "cell_type": "code",
   "execution_count": 4,
   "metadata": {},
   "outputs": [
    {
     "data": {
      "text/html": [
       "<div>\n",
       "<style scoped>\n",
       "    .dataframe tbody tr th:only-of-type {\n",
       "        vertical-align: middle;\n",
       "    }\n",
       "\n",
       "    .dataframe tbody tr th {\n",
       "        vertical-align: top;\n",
       "    }\n",
       "\n",
       "    .dataframe thead th {\n",
       "        text-align: right;\n",
       "    }\n",
       "</style>\n",
       "<table border=\"1\" class=\"dataframe\">\n",
       "  <thead>\n",
       "    <tr style=\"text-align: right;\">\n",
       "      <th></th>\n",
       "      <th>Septic</th>\n",
       "      <th>Healthy</th>\n",
       "    </tr>\n",
       "  </thead>\n",
       "  <tbody>\n",
       "    <tr>\n",
       "      <th>train</th>\n",
       "      <td>82</td>\n",
       "      <td>116</td>\n",
       "    </tr>\n",
       "    <tr>\n",
       "      <th>test</th>\n",
       "      <td>35</td>\n",
       "      <td>51</td>\n",
       "    </tr>\n",
       "  </tbody>\n",
       "</table>\n",
       "</div>"
      ],
      "text/plain": [
       "      Septic Healthy\n",
       "train     82     116\n",
       "test      35      51"
      ]
     },
     "metadata": {},
     "output_type": "display_data"
    }
   ],
   "source": [
    "def get_metadata(y, df):\n",
    "    pos = len(y[y == 1])\n",
    "    neg = len(y[y == 0])\n",
    "    row = pd.DataFrame({'Septic': [pos], 'Healthy': [neg]})\n",
    "    df = df.append(row)\n",
    "    return df\n",
    "\n",
    "\n",
    "metadata = pd.DataFrame(columns=['Septic', 'Healthy'])\n",
    "metadata = get_metadata(y_train, metadata)\n",
    "metadata = get_metadata(y_test, metadata)\n",
    "metadata.index = ['train', 'test']\n",
    "display(metadata)\n",
    "\n",
    "# Get negative to positive ratio\n",
    "ratio = sum(y == 0) / sum(y == 1)"
   ]
  },
  {
   "cell_type": "markdown",
   "metadata": {},
   "source": [
    "## Optimising model hyperparameters\n",
    "We use gridsearch to do hyperparameter optimisation (n_estimators, max_depth).\n",
    "n_estimators: Number of tree stumps\n",
    "max_depth: max depth of nodes in tree stumps"
   ]
  },
  {
   "cell_type": "code",
   "execution_count": 5,
   "metadata": {},
   "outputs": [],
   "source": [
    "def optimise(X, y):\n",
    "    # Hyperparemeter Optimisation using grid search (F1)\n",
    "    model = XGBClassifier()\n",
    "    n_estimators = range(50, 300, 10)\n",
    "    max_depth = range(1, 5, 1)\n",
    "    gamma = [0.5, 1, 1.5, 2, 5]\n",
    "    subsample = [0.6, 0.7, 0.8, 0.9, 1.0]\n",
    "    colsample_bytree = np.linspace(0.1, 1, 10)\n",
    "    print(max_depth)\n",
    "    param_grid = dict(max_depth=max_depth, \n",
    "                      n_estimators=n_estimators, \n",
    "                      colsample_bytree=colsample_bytree,\n",
    "                      gamma = gamma,\n",
    "                     subsample = subsample,\n",
    "                     scale_pos_weight = [ratio])\n",
    "    kfold = StratifiedKFold(n_splits=5, shuffle=True, random_state=66)\n",
    "    grid_search = GridSearchCV(model, param_grid, scoring=\"roc_auc\", n_jobs=-1, cv=kfold, verbose=1)\n",
    "    grid_result = grid_search.fit(X, y)\n",
    "    # summarize results\n",
    "    means = grid_result.cv_results_['mean_test_score']\n",
    "    stds = grid_result.cv_results_['std_test_score']\n",
    "    params = grid_result.cv_results_['params']\n",
    "    print(\"Best: %f using %s\" % (grid_result.best_score_, grid_result.best_params_))\n",
    "\n",
    "    # Print parameters and scores\n",
    "#     for mean, stdev, param in zip(means, stds, params):\n",
    "#         print(\"%f (%f) with: %r\" % (mean, stdev, param))\n",
    "\n",
    "    return(grid_result.best_params_)"
   ]
  },
  {
   "cell_type": "markdown",
   "metadata": {},
   "source": [
    "### Optimise Model using Neat Data"
   ]
  },
  {
   "cell_type": "code",
   "execution_count": 6,
   "metadata": {},
   "outputs": [],
   "source": [
    "# raw_params = optimise(raw_train, y_train)\n",
    "raw_params = {'colsample_bytree': 0.1, 'gamma': 0.5, 'max_depth': 2, 'n_estimators': 140, 'scale_pos_weight': 1.4273504273504274, 'subsample': 0.6}\n",
    "\n",
    "# RA_params = optimise(RA_train, y_train)\n",
    "RA_params = {'colsample_bytree': 0.1, 'gamma': 1, 'max_depth': 1, 'n_estimators': 290, 'scale_pos_weight': 1.4273504273504274, 'subsample': 0.6}"
   ]
  },
  {
   "cell_type": "markdown",
   "metadata": {},
   "source": [
    "### Model Training"
   ]
  },
  {
   "cell_type": "code",
   "execution_count": 7,
   "metadata": {},
   "outputs": [
    {
     "data": {
      "text/plain": [
       "XGBClassifier(base_score=0.5, booster='gbtree', colsample_bylevel=1,\n",
       "              colsample_bynode=1, colsample_bytree=0.1, gamma=1,\n",
       "              learning_rate=0.1, max_delta_step=0, max_depth=1,\n",
       "              min_child_weight=1, missing=None, n_estimators=290, n_jobs=1,\n",
       "              nthread=None, objective='binary:logistic', random_state=0,\n",
       "              reg_alpha=0, reg_lambda=1, scale_pos_weight=1.4273504273504274,\n",
       "              seed=None, silent=None, subsample=0.6, verbosity=1)"
      ]
     },
     "execution_count": 7,
     "metadata": {},
     "output_type": "execute_result"
    }
   ],
   "source": [
    "raw_model = XGBClassifier(**raw_params)\n",
    "raw_model.fit(X=raw_train, y=y_train)\n",
    "\n",
    "RA_model = XGBClassifier(**RA_params)\n",
    "RA_model.fit(X=RA_train, y=y_train)"
   ]
  },
  {
   "cell_type": "markdown",
   "metadata": {},
   "source": [
    "### Evaluate Neat Data"
   ]
  },
  {
   "cell_type": "code",
   "execution_count": 8,
   "metadata": {},
   "outputs": [],
   "source": [
    "from sklearn.metrics import precision_recall_fscore_support, roc_auc_score\n",
    "from imblearn.metrics import sensitivity_specificity_support\n",
    "\n",
    "def evaluate(model, X_Test, y_Test):\n",
    "    y_Pred = model.predict(X_Test)\n",
    "    y_Score = model.predict_proba(X_Test)[:, 1]\n",
    "\n",
    "    precision, recall, f1, _ = precision_recall_fscore_support(y_true=y_Test, y_pred=y_Pred, average='binary')\n",
    "    sensitivity, specificity, _ = sensitivity_specificity_support(y_true=y_Test, y_pred=y_Pred, average='binary')\n",
    "    auc = roc_auc_score(y_true=y_Test, y_score=y_Score)\n",
    "    metric_df = pd.DataFrame({'F1':[f1],\n",
    "                              'Sensitivity': [sensitivity],\n",
    "                              'Specificity': [specificity],\n",
    "                              'AUROC': [auc]})\n",
    "    return metric_df\n",
    "\n",
    "\n",
    "# Evaluate on test data\n",
    "raw_metric = evaluate(raw_model, raw_test, y_test)\n",
    "RA_metric = evaluate(RA_model, RA_test, y_test)"
   ]
  },
  {
   "cell_type": "markdown",
   "metadata": {},
   "source": [
    "### Remove Contaminants based on SHAP values"
   ]
  },
  {
   "cell_type": "code",
   "execution_count": 9,
   "metadata": {},
   "outputs": [],
   "source": [
    "import math\n",
    "from scipy.stats import spearmanr\n",
    "import shap\n",
    "\n",
    "\n",
    "def decontam(X_train, y_train, params):\n",
    "    model = XGBClassifier(**params)\n",
    "    model.fit(X=X_train, y=y_train)\n",
    "\n",
    "    explainer = shap.TreeExplainer(model, feature_pertubation='interventional', model_output='probability', data=X_train)\n",
    "    shap_val = explainer.shap_values(X_train)\n",
    "\n",
    "    to_retain = np.array([True] * X_train.shape[1])\n",
    "    corrs = np.zeros(X_train.shape[1])\n",
    "\n",
    "    for i in range(X_train.shape[1]):\n",
    "        rho = spearmanr(X_train.iloc[:, i], shap_val[:, i])[0]\n",
    "        p = spearmanr(X_train.iloc[:, i], shap_val[:, i])[1]\n",
    "        if rho < 0 and p < 0.05:\n",
    "            to_retain[i] = False\n",
    "\n",
    "        if math.isnan(rho):\n",
    "            corrs[i] = 2\n",
    "        else:\n",
    "            corrs[i] = rho\n",
    "\n",
    "    to_retain = np.logical_and(corrs > 0, corrs != 2)\n",
    "    to_retain = X_train.columns[to_retain]\n",
    "    print(to_retain.shape, to_retain)\n",
    "    return to_retain"
   ]
  },
  {
   "cell_type": "code",
   "execution_count": 10,
   "metadata": {
    "scrolled": true
   },
   "outputs": [
    {
     "name": "stderr",
     "output_type": "stream",
     "text": [
      "invalid value encountered in true_divide\n",
      "invalid value encountered in true_divide\n",
      "invalid value encountered in greater\n",
      "invalid value encountered in less\n",
      "invalid value encountered in less_equal\n"
     ]
    },
    {
     "name": "stdout",
     "output_type": "stream",
     "text": [
      "(61,) Index(['Rhodopseudomonas', 'Afipia', 'Agrobacterium', 'Starkeya',\n",
      "       'Novosphingobium', 'Azospirillum', 'Citrobacter', 'Escherichia',\n",
      "       'Klebsiella', 'Salmonella', 'Proteus', 'Moraxella', 'Pseudomonas',\n",
      "       'Stenotrophomonas', 'Aeromonas', 'Acidovorax', 'Delftia', 'Polaromonas',\n",
      "       'Diaphorobacter', 'Rhodoferax', 'Ottowia', 'Cupriavidus',\n",
      "       'Burkholderia', 'Pandoraea', 'Paraburkholderia', 'Campylobacter',\n",
      "       'Bacteroides', 'Prevotella', 'Microbacterium', 'Rothia', 'Cellulomonas',\n",
      "       'Actinomyces', 'Bifidobacterium', 'Streptococcus', 'Bacillus',\n",
      "       'Lachnoclostridium', 'Blautia', 'Roseburia', 'Veillonella',\n",
      "       'Fusobacterium', 'Betapolyomavirus', 'Cytomegalovirus', 'Enterococcus',\n",
      "       'Flavonifractor', 'Pseudopropionibacterium', 'Tessaracoccus',\n",
      "       'Methylocystis', 'Haemophilus', 'Enterobacter', 'Neisseria',\n",
      "       'Sulfuritortus', 'Tannerella', 'Cloacibacterium', 'Shigella',\n",
      "       'Shewanella', 'Meiothermus', 'Lymphocryptovirus', 'Thiomonas',\n",
      "       'Leuconostoc', 'Dokdonella', 'Alphatorquevirus'],\n",
      "      dtype='object')\n",
      "(36,) Index(['Afipia', 'Agrobacterium', 'Citrobacter', 'Escherichia', 'Klebsiella',\n",
      "       'Salmonella', 'Proteus', 'Moraxella', 'Stenotrophomonas', 'Aeromonas',\n",
      "       'Ottowia', 'Burkholderia', 'Pandoraea', 'Paraburkholderia',\n",
      "       'Campylobacter', 'Bacteroides', 'Prevotella', 'Cellulomonas',\n",
      "       'Bifidobacterium', 'Streptococcus', 'Bacillus', 'Lachnoclostridium',\n",
      "       'Blautia', 'Roseburia', 'Veillonella', 'Betapolyomavirus',\n",
      "       'Cytomegalovirus', 'Enterococcus', 'Flavonifractor', 'Enterobacter',\n",
      "       'Sulfuritortus', 'Tannerella', 'Shigella', 'Shewanella',\n",
      "       'Lymphocryptovirus', 'Alphatorquevirus'],\n",
      "      dtype='object')\n",
      "(31,) Index(['Agrobacterium', 'Escherichia', 'Klebsiella', 'Salmonella', 'Proteus',\n",
      "       'Stenotrophomonas', 'Aeromonas', 'Burkholderia', 'Pandoraea',\n",
      "       'Paraburkholderia', 'Campylobacter', 'Prevotella', 'Cellulomonas',\n",
      "       'Bifidobacterium', 'Streptococcus', 'Bacillus', 'Lachnoclostridium',\n",
      "       'Blautia', 'Roseburia', 'Veillonella', 'Betapolyomavirus',\n",
      "       'Cytomegalovirus', 'Enterococcus', 'Flavonifractor', 'Enterobacter',\n",
      "       'Sulfuritortus', 'Tannerella', 'Shigella', 'Shewanella',\n",
      "       'Lymphocryptovirus', 'Alphatorquevirus'],\n",
      "      dtype='object')\n",
      "(29,) Index(['Agrobacterium', 'Escherichia', 'Salmonella', 'Proteus',\n",
      "       'Stenotrophomonas', 'Aeromonas', 'Burkholderia', 'Pandoraea',\n",
      "       'Campylobacter', 'Prevotella', 'Cellulomonas', 'Bifidobacterium',\n",
      "       'Streptococcus', 'Bacillus', 'Lachnoclostridium', 'Blautia',\n",
      "       'Roseburia', 'Veillonella', 'Betapolyomavirus', 'Cytomegalovirus',\n",
      "       'Enterococcus', 'Flavonifractor', 'Enterobacter', 'Sulfuritortus',\n",
      "       'Tannerella', 'Shigella', 'Shewanella', 'Lymphocryptovirus',\n",
      "       'Alphatorquevirus'],\n",
      "      dtype='object')\n",
      "(28,) Index(['Agrobacterium', 'Escherichia', 'Salmonella', 'Proteus',\n",
      "       'Stenotrophomonas', 'Aeromonas', 'Burkholderia', 'Pandoraea',\n",
      "       'Campylobacter', 'Prevotella', 'Cellulomonas', 'Bifidobacterium',\n",
      "       'Bacillus', 'Lachnoclostridium', 'Blautia', 'Roseburia', 'Veillonella',\n",
      "       'Betapolyomavirus', 'Cytomegalovirus', 'Enterococcus', 'Flavonifractor',\n",
      "       'Enterobacter', 'Sulfuritortus', 'Tannerella', 'Shigella', 'Shewanella',\n",
      "       'Lymphocryptovirus', 'Alphatorquevirus'],\n",
      "      dtype='object')\n",
      "(28,) Index(['Agrobacterium', 'Escherichia', 'Salmonella', 'Proteus',\n",
      "       'Stenotrophomonas', 'Aeromonas', 'Burkholderia', 'Pandoraea',\n",
      "       'Campylobacter', 'Prevotella', 'Cellulomonas', 'Bifidobacterium',\n",
      "       'Bacillus', 'Lachnoclostridium', 'Blautia', 'Roseburia', 'Veillonella',\n",
      "       'Betapolyomavirus', 'Cytomegalovirus', 'Enterococcus', 'Flavonifractor',\n",
      "       'Enterobacter', 'Sulfuritortus', 'Tannerella', 'Shigella', 'Shewanella',\n",
      "       'Lymphocryptovirus', 'Alphatorquevirus'],\n",
      "      dtype='object')\n",
      "(28,) Index(['Agrobacterium', 'Escherichia', 'Salmonella', 'Proteus',\n",
      "       'Stenotrophomonas', 'Aeromonas', 'Burkholderia', 'Pandoraea',\n",
      "       'Campylobacter', 'Prevotella', 'Cellulomonas', 'Bifidobacterium',\n",
      "       'Bacillus', 'Lachnoclostridium', 'Blautia', 'Roseburia', 'Veillonella',\n",
      "       'Betapolyomavirus', 'Cytomegalovirus', 'Enterococcus', 'Flavonifractor',\n",
      "       'Enterobacter', 'Sulfuritortus', 'Tannerella', 'Shigella', 'Shewanella',\n",
      "       'Lymphocryptovirus', 'Alphatorquevirus'],\n",
      "      dtype='object')\n",
      "(28,) Index(['Agrobacterium', 'Escherichia', 'Salmonella', 'Proteus',\n",
      "       'Stenotrophomonas', 'Aeromonas', 'Burkholderia', 'Pandoraea',\n",
      "       'Campylobacter', 'Prevotella', 'Cellulomonas', 'Bifidobacterium',\n",
      "       'Bacillus', 'Lachnoclostridium', 'Blautia', 'Roseburia', 'Veillonella',\n",
      "       'Betapolyomavirus', 'Cytomegalovirus', 'Enterococcus', 'Flavonifractor',\n",
      "       'Enterobacter', 'Sulfuritortus', 'Tannerella', 'Shigella', 'Shewanella',\n",
      "       'Lymphocryptovirus', 'Alphatorquevirus'],\n",
      "      dtype='object')\n",
      "(28,) Index(['Agrobacterium', 'Escherichia', 'Salmonella', 'Proteus',\n",
      "       'Stenotrophomonas', 'Aeromonas', 'Burkholderia', 'Pandoraea',\n",
      "       'Campylobacter', 'Prevotella', 'Cellulomonas', 'Bifidobacterium',\n",
      "       'Bacillus', 'Lachnoclostridium', 'Blautia', 'Roseburia', 'Veillonella',\n",
      "       'Betapolyomavirus', 'Cytomegalovirus', 'Enterococcus', 'Flavonifractor',\n",
      "       'Enterobacter', 'Sulfuritortus', 'Tannerella', 'Shigella', 'Shewanella',\n",
      "       'Lymphocryptovirus', 'Alphatorquevirus'],\n",
      "      dtype='object')\n",
      "(28,) Index(['Agrobacterium', 'Escherichia', 'Salmonella', 'Proteus',\n",
      "       'Stenotrophomonas', 'Aeromonas', 'Burkholderia', 'Pandoraea',\n",
      "       'Campylobacter', 'Prevotella', 'Cellulomonas', 'Bifidobacterium',\n",
      "       'Bacillus', 'Lachnoclostridium', 'Blautia', 'Roseburia', 'Veillonella',\n",
      "       'Betapolyomavirus', 'Cytomegalovirus', 'Enterococcus', 'Flavonifractor',\n",
      "       'Enterobacter', 'Sulfuritortus', 'Tannerella', 'Shigella', 'Shewanella',\n",
      "       'Lymphocryptovirus', 'Alphatorquevirus'],\n",
      "      dtype='object')\n"
     ]
    }
   ],
   "source": [
    "genera_new = raw_train.columns\n",
    "for _ in range(10):\n",
    "    genera_new = decontam(raw_train[genera_new], y_train, raw_params)"
   ]
  },
  {
   "cell_type": "code",
   "execution_count": 11,
   "metadata": {},
   "outputs": [
    {
     "name": "stdout",
     "output_type": "stream",
     "text": [
      "['Alphatorquevirus', 'Shewanella', 'Lachnoclostridium', 'Betapolyomavirus', 'Pandoraea', 'Enterobacter', 'Burkholderia', 'Escherichia', 'Enterococcus', 'Stenotrophomonas', 'Lymphocryptovirus', 'Prevotella', 'Bifidobacterium', 'Veillonella', 'Campylobacter', 'Shigella', 'Cellulomonas', 'Blautia', 'Cytomegalovirus', 'Salmonella', 'Agrobacterium', 'Tannerella', 'Aeromonas', 'Bacillus', 'Proteus']\n"
     ]
    }
   ],
   "source": [
    "to_retain = list(set(genera_new).intersection(set(X_pathogens.columns)))\n",
    "print(to_retain)"
   ]
  },
  {
   "cell_type": "code",
   "execution_count": 12,
   "metadata": {},
   "outputs": [],
   "source": [
    "# Decontam + pathogens\n",
    "raw_SS = X_pathogens[to_retain]\n"
   ]
  },
  {
   "cell_type": "code",
   "execution_count": 13,
   "metadata": {},
   "outputs": [
    {
     "data": {
      "image/png": "[encoded data removed]",
      "text/plain": [
       "<Figure size 288x360 with 2 Axes>"
      ]
     },
     "metadata": {
      "needs_background": "light"
     },
     "output_type": "display_data"
    }
   ],
   "source": [
    "# Get SHAP summary before removing Cellulomonas and Agrobacterium\n",
    "pre_SS_train, pre_SS_test = get_datasets(raw_SS, X_idx, X_test_idx)\n",
    "pre_model = XGBClassifier(**raw_params)\n",
    "pre_model.fit(X=pre_SS_train, y=y_train)\n",
    "\n",
    "pre_explainer = shap.TreeExplainer(pre_model, feature_pertubation='interventional', model_output='probability', data=pre_SS_train)\n",
    "shap_pre = pre_explainer.shap_values(pre_SS_train)\n",
    "\n",
    "shap.summary_plot(shap_pre, pre_SS_train, show=False, plot_size=(4, 5), color_bar_label='Unique k-mer Count', max_display=25)\n",
    "fig, ax = plt.gcf(), plt.gca()\n",
    "ax.set_xlabel('SHAP Value')\n",
    "plt.savefig(results / 'pre_shap.png', dpi=1200, format='png', bbox_inches='tight')\n"
   ]
  },
  {
   "cell_type": "markdown",
   "metadata": {},
   "source": [
    "### Drop features"
   ]
  },
  {
   "cell_type": "code",
   "execution_count": 14,
   "metadata": {},
   "outputs": [
    {
     "name": "stdout",
     "output_type": "stream",
     "text": [
      "Removed 3 genera\n",
      "New shape  = (284, 23)\n"
     ]
    }
   ],
   "source": [
    "raw_SS = raw_SS.drop(['Cellulomonas', 'Agrobacterium'], axis=1)\n",
    "print(f'Removed {len(genera_new) - len(to_retain)} genera')\n",
    "# print(f\"Genera from list not removed:\\n {set(meta) - set(to_remove)}\")\n",
    "print(f'New shape  = {raw_SS.shape}')"
   ]
  },
  {
   "cell_type": "code",
   "execution_count": 15,
   "metadata": {},
   "outputs": [],
   "source": [
    "# Normalise Datasets\n",
    "RA_SS = raw_SS.apply(func=lambda x: x / x.sum(), axis=1)\n",
    "\n",
    "# Get train test split\n",
    "raw_SS_train, raw_SS_test = get_datasets(raw_SS, X_idx, X_test_idx)\n",
    "RA_SS_train, RA_SS_test = get_datasets(RA_SS, X_idx, X_test_idx)"
   ]
  },
  {
   "cell_type": "markdown",
   "metadata": {},
   "source": [
    "### Number of Features"
   ]
  },
  {
   "cell_type": "code",
   "execution_count": 16,
   "metadata": {},
   "outputs": [
    {
     "name": "stdout",
     "output_type": "stream",
     "text": [
      "Neat (284, 1056)\n",
      "Pathogens (284, 23)\n"
     ]
    }
   ],
   "source": [
    "print('Neat', X.shape)\n",
    "print('Pathogens', raw_SS.shape)"
   ]
  },
  {
   "cell_type": "markdown",
   "metadata": {},
   "source": [
    "### Optimise SS Models"
   ]
  },
  {
   "cell_type": "markdown",
   "metadata": {},
   "source": [
    "#### Pathogens"
   ]
  },
  {
   "cell_type": "code",
   "execution_count": 17,
   "metadata": {},
   "outputs": [],
   "source": [
    "# raw_SS_params = optimise(raw_SS_train, y_train)\n",
    "raw_SS_params = {'colsample_bytree': 0.1, 'gamma': 1, 'max_depth': 3, 'n_estimators': 270, 'scale_pos_weight': 1.4273504273504274, 'subsample': 1.0}"
   ]
  },
  {
   "cell_type": "code",
   "execution_count": 18,
   "metadata": {},
   "outputs": [],
   "source": [
    "# RA_SS_params = optimise(RA_SS_train, y_train)\n",
    "RA_SS_params = {'colsample_bytree': 0.2, 'gamma': 1, 'max_depth': 4, 'n_estimators': 70, 'scale_pos_weight': 1.4273504273504274, 'subsample': 0.6}"
   ]
  },
  {
   "cell_type": "markdown",
   "metadata": {},
   "source": [
    "## Fit optimised models"
   ]
  },
  {
   "cell_type": "code",
   "execution_count": 19,
   "metadata": {
    "scrolled": true
   },
   "outputs": [
    {
     "data": {
      "text/plain": [
       "XGBClassifier(base_score=0.5, booster='gbtree', colsample_bylevel=1,\n",
       "              colsample_bynode=1, colsample_bytree=0.2, gamma=1,\n",
       "              learning_rate=0.1, max_delta_step=0, max_depth=4,\n",
       "              min_child_weight=1, missing=None, n_estimators=70, n_jobs=1,\n",
       "              nthread=None, objective='binary:logistic', random_state=0,\n",
       "              reg_alpha=0, reg_lambda=1, scale_pos_weight=1.4273504273504274,\n",
       "              seed=None, silent=None, subsample=0.6, verbosity=1)"
      ]
     },
     "execution_count": 19,
     "metadata": {},
     "output_type": "execute_result"
    }
   ],
   "source": [
    "# Fit optimised model on all training data\n",
    "\n",
    "# Decontam\n",
    "raw_SS_model = XGBClassifier(**raw_SS_params)\n",
    "raw_SS_model.fit(X=raw_SS_train, y=y_train)\n",
    "\n",
    "RA_SS_model = XGBClassifier(**RA_SS_params)\n",
    "RA_SS_model.fit(X=RA_SS_train, y=y_train)"
   ]
  },
  {
   "cell_type": "markdown",
   "metadata": {},
   "source": [
    "## Evaluate model"
   ]
  },
  {
   "cell_type": "code",
   "execution_count": 20,
   "metadata": {
    "scrolled": true
   },
   "outputs": [
    {
     "data": {
      "text/html": [
       "<div>\n",
       "<style scoped>\n",
       "    .dataframe tbody tr th:only-of-type {\n",
       "        vertical-align: middle;\n",
       "    }\n",
       "\n",
       "    .dataframe tbody tr th {\n",
       "        vertical-align: top;\n",
       "    }\n",
       "\n",
       "    .dataframe thead th {\n",
       "        text-align: right;\n",
       "    }\n",
       "</style>\n",
       "<table border=\"1\" class=\"dataframe\">\n",
       "  <thead>\n",
       "    <tr style=\"text-align: right;\">\n",
       "      <th></th>\n",
       "      <th>F1</th>\n",
       "      <th>Sensitivity</th>\n",
       "      <th>Specificity</th>\n",
       "      <th>AUROC</th>\n",
       "    </tr>\n",
       "  </thead>\n",
       "  <tbody>\n",
       "    <tr>\n",
       "      <th>Raw</th>\n",
       "      <td>0.986</td>\n",
       "      <td>1.000</td>\n",
       "      <td>0.980</td>\n",
       "      <td>0.999</td>\n",
       "    </tr>\n",
       "    <tr>\n",
       "      <th>RA</th>\n",
       "      <td>0.930</td>\n",
       "      <td>0.943</td>\n",
       "      <td>0.941</td>\n",
       "      <td>0.993</td>\n",
       "    </tr>\n",
       "    <tr>\n",
       "      <th>Raw SS</th>\n",
       "      <td>0.914</td>\n",
       "      <td>0.914</td>\n",
       "      <td>0.941</td>\n",
       "      <td>0.943</td>\n",
       "    </tr>\n",
       "    <tr>\n",
       "      <th>RA SS</th>\n",
       "      <td>0.886</td>\n",
       "      <td>0.886</td>\n",
       "      <td>0.922</td>\n",
       "      <td>0.959</td>\n",
       "    </tr>\n",
       "  </tbody>\n",
       "</table>\n",
       "</div>"
      ],
      "text/plain": [
       "           F1  Sensitivity  Specificity  AUROC\n",
       "Raw     0.986        1.000        0.980  0.999\n",
       "RA      0.930        0.943        0.941  0.993\n",
       "Raw SS  0.914        0.914        0.941  0.943\n",
       "RA SS   0.886        0.886        0.922  0.959"
      ]
     },
     "metadata": {},
     "output_type": "display_data"
    }
   ],
   "source": [
    "raw_SS_metric = evaluate(raw_SS_model, raw_SS_test, y_test)\n",
    "RA_SS_metric = evaluate(RA_SS_model, RA_SS_test, y_test)\n",
    "\n",
    "raw_SS_metric = evaluate(raw_SS_model, raw_SS_test, y_test)\n",
    "RA_SS_metric = evaluate(RA_SS_model, RA_SS_test, y_test)\n",
    "\n",
    "metric_df = pd.concat([raw_metric,\n",
    "                       RA_metric,\n",
    "                       raw_SS_metric,\n",
    "                       RA_SS_metric], axis=0)\n",
    "metric_df.index = ['Raw', 'RA', 'Raw SS', 'RA SS']\n",
    "display(metric_df.round(3))"
   ]
  },
  {
   "cell_type": "markdown",
   "metadata": {},
   "source": [
    "### Confidence Intervals (non-parametric boostrap estimates)"
   ]
  },
  {
   "cell_type": "markdown",
   "metadata": {},
   "source": [
    "Bootstrap with 1001 iterations, 95% CI"
   ]
  },
  {
   "cell_type": "code",
   "execution_count": 21,
   "metadata": {},
   "outputs": [],
   "source": [
    "def get_percentiles(x, alpha=0.05):\n",
    "    low = np.percentile(x, alpha / 2 * 100)\n",
    "    high = np.percentile(x, (1 - alpha / 2) * 100)\n",
    "    \n",
    "    return low, high\n",
    "\n",
    "\n",
    "np.random.seed(66)\n",
    "from sklearn.utils import resample\n",
    "\n",
    "\n",
    "def get_confint(model, X_test, y_test, n_iter=1001):\n",
    "    boot_df = pd.DataFrame({'F1': [0], 'Sensitivity': [0], 'Specificity': [0], 'AUROC' : [0]})\n",
    "    \n",
    "    for _ in range(n_iter):\n",
    "        boot_X, boot_y = resample(X_test, y_test, n_samples=len(y_test), replace=True, stratify=y_test)\n",
    "        y_pred = model.predict(boot_X)\n",
    "        y_score = model.predict_proba(boot_X)[:, 1]\n",
    "\n",
    "        sensitivity, specificity, _ = sensitivity_specificity_support(y_true=boot_y, y_pred=y_pred, average='binary')\n",
    "        precision, recall, f1, _ = precision_recall_fscore_support(y_true=boot_y, y_pred=y_pred, average='binary')\n",
    "        auc = roc_auc_score(y_true=boot_y, y_score=y_score)\n",
    "        temp_df = pd.DataFrame({'F1': [f1], 'Sensitivity': [sensitivity], \n",
    "                                'Specificity': [specificity], 'AUROC' : [auc]})\n",
    "        \n",
    "        boot_df = pd.concat([boot_df, temp_df], axis=0)\n",
    "    \n",
    "    boot_df = boot_df.iloc[1:, :]\n",
    "    \n",
    "    confints = [get_percentiles(boot_df[col]) for col in boot_df.columns]\n",
    "    display(pd.DataFrame(confints, \n",
    "                         columns=['2.5%', '97.5%'], \n",
    "                         index=boot_df.columns).transpose().round(3))\n",
    "    "
   ]
  },
  {
   "cell_type": "code",
   "execution_count": 22,
   "metadata": {},
   "outputs": [
    {
     "name": "stdout",
     "output_type": "stream",
     "text": [
      "Raw:"
     ]
    },
    {
     "data": {
      "text/html": [
       "<div>\n",
       "<style scoped>\n",
       "    .dataframe tbody tr th:only-of-type {\n",
       "        vertical-align: middle;\n",
       "    }\n",
       "\n",
       "    .dataframe tbody tr th {\n",
       "        vertical-align: top;\n",
       "    }\n",
       "\n",
       "    .dataframe thead th {\n",
       "        text-align: right;\n",
       "    }\n",
       "</style>\n",
       "<table border=\"1\" class=\"dataframe\">\n",
       "  <thead>\n",
       "    <tr style=\"text-align: right;\">\n",
       "      <th></th>\n",
       "      <th>F1</th>\n",
       "      <th>Sensitivity</th>\n",
       "      <th>Specificity</th>\n",
       "      <th>AUROC</th>\n",
       "    </tr>\n",
       "  </thead>\n",
       "  <tbody>\n",
       "    <tr>\n",
       "      <th>2.5%</th>\n",
       "      <td>0.959</td>\n",
       "      <td>1.0</td>\n",
       "      <td>0.941</td>\n",
       "      <td>0.997</td>\n",
       "    </tr>\n",
       "    <tr>\n",
       "      <th>97.5%</th>\n",
       "      <td>1.000</td>\n",
       "      <td>1.0</td>\n",
       "      <td>1.000</td>\n",
       "      <td>1.000</td>\n",
       "    </tr>\n",
       "  </tbody>\n",
       "</table>\n",
       "</div>"
      ],
      "text/plain": [
       "          F1  Sensitivity  Specificity  AUROC\n",
       "2.5%   0.959          1.0        0.941  0.997\n",
       "97.5%  1.000          1.0        1.000  1.000"
      ]
     },
     "metadata": {},
     "output_type": "display_data"
    },
    {
     "name": "stdout",
     "output_type": "stream",
     "text": [
      "RA:"
     ]
    },
    {
     "data": {
      "text/html": [
       "<div>\n",
       "<style scoped>\n",
       "    .dataframe tbody tr th:only-of-type {\n",
       "        vertical-align: middle;\n",
       "    }\n",
       "\n",
       "    .dataframe tbody tr th {\n",
       "        vertical-align: top;\n",
       "    }\n",
       "\n",
       "    .dataframe thead th {\n",
       "        text-align: right;\n",
       "    }\n",
       "</style>\n",
       "<table border=\"1\" class=\"dataframe\">\n",
       "  <thead>\n",
       "    <tr style=\"text-align: right;\">\n",
       "      <th></th>\n",
       "      <th>F1</th>\n",
       "      <th>Sensitivity</th>\n",
       "      <th>Specificity</th>\n",
       "      <th>AUROC</th>\n",
       "    </tr>\n",
       "  </thead>\n",
       "  <tbody>\n",
       "    <tr>\n",
       "      <th>2.5%</th>\n",
       "      <td>0.873</td>\n",
       "      <td>0.886</td>\n",
       "      <td>0.863</td>\n",
       "      <td>0.981</td>\n",
       "    </tr>\n",
       "    <tr>\n",
       "      <th>97.5%</th>\n",
       "      <td>0.986</td>\n",
       "      <td>1.000</td>\n",
       "      <td>1.000</td>\n",
       "      <td>1.000</td>\n",
       "    </tr>\n",
       "  </tbody>\n",
       "</table>\n",
       "</div>"
      ],
      "text/plain": [
       "          F1  Sensitivity  Specificity  AUROC\n",
       "2.5%   0.873        0.886        0.863  0.981\n",
       "97.5%  0.986        1.000        1.000  1.000"
      ]
     },
     "metadata": {},
     "output_type": "display_data"
    },
    {
     "name": "stdout",
     "output_type": "stream",
     "text": [
      "Raw SS:"
     ]
    },
    {
     "data": {
      "text/html": [
       "<div>\n",
       "<style scoped>\n",
       "    .dataframe tbody tr th:only-of-type {\n",
       "        vertical-align: middle;\n",
       "    }\n",
       "\n",
       "    .dataframe tbody tr th {\n",
       "        vertical-align: top;\n",
       "    }\n",
       "\n",
       "    .dataframe thead th {\n",
       "        text-align: right;\n",
       "    }\n",
       "</style>\n",
       "<table border=\"1\" class=\"dataframe\">\n",
       "  <thead>\n",
       "    <tr style=\"text-align: right;\">\n",
       "      <th></th>\n",
       "      <th>F1</th>\n",
       "      <th>Sensitivity</th>\n",
       "      <th>Specificity</th>\n",
       "      <th>AUROC</th>\n",
       "    </tr>\n",
       "  </thead>\n",
       "  <tbody>\n",
       "    <tr>\n",
       "      <th>2.5%</th>\n",
       "      <td>0.841</td>\n",
       "      <td>0.829</td>\n",
       "      <td>0.863</td>\n",
       "      <td>0.884</td>\n",
       "    </tr>\n",
       "    <tr>\n",
       "      <th>97.5%</th>\n",
       "      <td>0.971</td>\n",
       "      <td>1.000</td>\n",
       "      <td>1.000</td>\n",
       "      <td>0.988</td>\n",
       "    </tr>\n",
       "  </tbody>\n",
       "</table>\n",
       "</div>"
      ],
      "text/plain": [
       "          F1  Sensitivity  Specificity  AUROC\n",
       "2.5%   0.841        0.829        0.863  0.884\n",
       "97.5%  0.971        1.000        1.000  0.988"
      ]
     },
     "metadata": {},
     "output_type": "display_data"
    },
    {
     "name": "stdout",
     "output_type": "stream",
     "text": [
      "RA SS:"
     ]
    },
    {
     "data": {
      "text/html": [
       "<div>\n",
       "<style scoped>\n",
       "    .dataframe tbody tr th:only-of-type {\n",
       "        vertical-align: middle;\n",
       "    }\n",
       "\n",
       "    .dataframe tbody tr th {\n",
       "        vertical-align: top;\n",
       "    }\n",
       "\n",
       "    .dataframe thead th {\n",
       "        text-align: right;\n",
       "    }\n",
       "</style>\n",
       "<table border=\"1\" class=\"dataframe\">\n",
       "  <thead>\n",
       "    <tr style=\"text-align: right;\">\n",
       "      <th></th>\n",
       "      <th>F1</th>\n",
       "      <th>Sensitivity</th>\n",
       "      <th>Specificity</th>\n",
       "      <th>AUROC</th>\n",
       "    </tr>\n",
       "  </thead>\n",
       "  <tbody>\n",
       "    <tr>\n",
       "      <th>2.5%</th>\n",
       "      <td>0.800</td>\n",
       "      <td>0.771</td>\n",
       "      <td>0.843</td>\n",
       "      <td>0.903</td>\n",
       "    </tr>\n",
       "    <tr>\n",
       "      <th>97.5%</th>\n",
       "      <td>0.957</td>\n",
       "      <td>0.971</td>\n",
       "      <td>0.980</td>\n",
       "      <td>0.991</td>\n",
       "    </tr>\n",
       "  </tbody>\n",
       "</table>\n",
       "</div>"
      ],
      "text/plain": [
       "          F1  Sensitivity  Specificity  AUROC\n",
       "2.5%   0.800        0.771        0.843  0.903\n",
       "97.5%  0.957        0.971        0.980  0.991"
      ]
     },
     "metadata": {},
     "output_type": "display_data"
    }
   ],
   "source": [
    "print('Raw:', end='')\n",
    "get_confint(raw_model, raw_test, y_test)\n",
    "print('RA:', end='')\n",
    "get_confint(RA_model, RA_test, y_test)\n",
    "\n",
    "print('Raw SS:', end='')\n",
    "get_confint(raw_SS_model, raw_SS_test, y_test)\n",
    "print('RA SS:', end='')\n",
    "get_confint(RA_SS_model, RA_SS_test, y_test)"
   ]
  },
  {
   "cell_type": "markdown",
   "metadata": {},
   "source": [
    "## Interpreting model using SHAP values"
   ]
  },
  {
   "cell_type": "markdown",
   "metadata": {},
   "source": [
    "### Feature importance\n",
    "This is a plot of mean absolute SHAP values per feature"
   ]
  },
  {
   "cell_type": "markdown",
   "metadata": {},
   "source": [
    "### Plot of SHAP values per Feature"
   ]
  },
  {
   "cell_type": "code",
   "execution_count": 23,
   "metadata": {},
   "outputs": [],
   "source": [
    "import matplotlib.pyplot as plt\n",
    "explainer_SS = shap.TreeExplainer(raw_SS_model, feature_pertubation='interventional', model_output='probability', data=raw_SS_train)\n",
    "shap_SS = explainer_SS.shap_values(raw_SS_test)\n",
    "\n",
    "explainer_raw = shap.TreeExplainer(raw_model, feature_pertubation='interventional', model_output='probability', data=raw_train)\n",
    "shap_raw = explainer_raw.shap_values(raw_test)"
   ]
  },
  {
   "cell_type": "code",
   "execution_count": 24,
   "metadata": {
    "scrolled": true
   },
   "outputs": [
    {
     "data": {
      "image/png": "[encoded data removed]",
      "text/plain": [
       "<Figure size 288x360 with 2 Axes>"
      ]
     },
     "metadata": {
      "needs_background": "light"
     },
     "output_type": "display_data"
    }
   ],
   "source": [
    "shap.summary_plot(shap_SS, raw_SS_test, show=False, plot_size=(4, 5), color_bar_label='Unique k-mer Count', max_display=35)\n",
    "fig, ax = plt.gcf(), plt.gca()\n",
    "ax.set_xlabel('SHAP Value')\n",
    "plt.savefig(results / 'SS_shap.png', dpi=1200, format='png', bbox_inches='tight')"
   ]
  },
  {
   "cell_type": "code",
   "execution_count": 25,
   "metadata": {},
   "outputs": [
    {
     "data": {
      "image/png": "[encoded data removed]",
      "text/plain": [
       "<Figure size 288x360 with 2 Axes>"
      ]
     },
     "metadata": {
      "needs_background": "light"
     },
     "output_type": "display_data"
    }
   ],
   "source": [
    "shap.summary_plot(shap_raw, raw_test, show=False, plot_size=(4, 5), color_bar_label='Unique k-mer Count', max_display=23)\n",
    "fig, ax = plt.gcf(), plt.gca()\n",
    "ax.set_xlabel('SHAP Value')\n",
    "plt.savefig(results / 'raw_shap.png', dpi=1200, format='png', bbox_inches='tight')"
   ]
  },
  {
   "cell_type": "markdown",
   "metadata": {},
   "source": [
    "* Features are ranked by importance from top to botttom\n",
    "* feature values are the kmer counts for each genus\n",
    "* SHAP values are the average marginal contributions to probability"
   ]
  },
  {
   "cell_type": "markdown",
   "metadata": {},
   "source": [
    "### Force plot for healthy patient"
   ]
  },
  {
   "cell_type": "code",
   "execution_count": 26,
   "metadata": {
    "scrolled": true
   },
   "outputs": [
    {
     "name": "stdout",
     "output_type": "stream",
     "text": [
      "Actual Classification 1\n",
      "SRR8288754\n"
     ]
    },
    {
     "data": {
      "image/png": "[encoded data removed]",
      "text/plain": [
       "<Figure size 1440x216 with 1 Axes>"
      ]
     },
     "metadata": {
      "needs_background": "light"
     },
     "output_type": "display_data"
    }
   ],
   "source": [
    "j = 72\n",
    "print(f'Actual Classification {y_test[j]}')\n",
    "print(raw_SS_test.index[j])\n",
    "shap.force_plot(explainer_SS.expected_value, \n",
    "                shap_SS[j,:], \n",
    "                raw_SS_test.iloc[j,:],\n",
    "                show=False,\n",
    "                matplotlib=True)\n",
    "plt.savefig(results / 'SS_force_plot.png', dpi=1200, format='png', bbox_inches='tight')"
   ]
  },
  {
   "cell_type": "markdown",
   "metadata": {},
   "source": [
    "## How much does Escherichia drive predictions?"
   ]
  },
  {
   "cell_type": "code",
   "execution_count": 27,
   "metadata": {},
   "outputs": [],
   "source": [
    "escherichia_idx = raw_SS_test.columns.get_loc('Escherichia')"
   ]
  },
  {
   "cell_type": "code",
   "execution_count": 28,
   "metadata": {},
   "outputs": [
    {
     "name": "stdout",
     "output_type": "stream",
     "text": [
      "Before Removing Escherichia = 0.9434173669467788\n",
      "After Removing Escherichia = 0.8773109243697479\n"
     ]
    }
   ],
   "source": [
    "y_score = raw_SS_model.predict_proba(raw_SS_test)[:, 1]\n",
    "old_auc = roc_auc_score(y_true=y_test, y_score=y_score)\n",
    "new_auc = roc_auc_score(y_true=y_test, y_score=y_score - shap_SS[:, escherichia_idx])\n",
    "print(f\"Before Removing Escherichia = {old_auc}\\nAfter Removing Escherichia = {new_auc}\")"
   ]
  }
 ],
 "metadata": {
  "kernelspec": {
   "display_name": "mashin",
   "language": "python",
   "name": "mashin"
  },
  "language_info": {
   "codemirror_mode": {
    "name": "ipython",
    "version": 3
   },
   "file_extension": ".py",
   "mimetype": "text/x-python",
   "name": "python",
   "nbconvert_exporter": "python",
   "pygments_lexer": "ipython3",
   "version": "3.7.3"
  }
 },
 "nbformat": 4,
 "nbformat_minor": 4
}
