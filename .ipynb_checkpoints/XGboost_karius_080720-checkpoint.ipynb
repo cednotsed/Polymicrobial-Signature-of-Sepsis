{
 "cells": [
  {
   "cell_type": "markdown",
   "metadata": {},
   "source": [
    "# Metagenomic-based Diagnostic for Sepsis (Karius Dataset)"
   ]
  },
  {
   "cell_type": "code",
   "execution_count": 1,
   "metadata": {},
   "outputs": [],
   "source": [
    "# Import Statements\n",
    "import pandas as pd\n",
    "import numpy as np\n",
    "import matplotlib.pyplot as plt\n",
    "from pathlib import Path\n",
    "\n",
    "cwd = Path.cwd()\n",
    "datasets = cwd / 'datasets'\n",
    "results = cwd / 'results'"
   ]
  },
  {
   "cell_type": "markdown",
   "metadata": {},
   "source": [
    "## Data Preprocessing\n",
    "Since we are using stratified kfold, a validation split is not necesssary."
   ]
  },
  {
   "cell_type": "markdown",
   "metadata": {},
   "source": [
    "### Load data"
   ]
  },
  {
   "cell_type": "code",
   "execution_count": 2,
   "metadata": {
    "scrolled": true
   },
   "outputs": [
    {
     "data": {
      "text/html": [
       "<div>\n",
       "<style scoped>\n",
       "    .dataframe tbody tr th:only-of-type {\n",
       "        vertical-align: middle;\n",
       "    }\n",
       "\n",
       "    .dataframe tbody tr th {\n",
       "        vertical-align: top;\n",
       "    }\n",
       "\n",
       "    .dataframe thead th {\n",
       "        text-align: right;\n",
       "    }\n",
       "</style>\n",
       "<table border=\"1\" class=\"dataframe\">\n",
       "  <thead>\n",
       "    <tr style=\"text-align: right;\">\n",
       "      <th></th>\n",
       "      <th>pathogen</th>\n",
       "      <th>y</th>\n",
       "      <th>Streptococcus</th>\n",
       "      <th>Lactococcus</th>\n",
       "      <th>Lactobacillus</th>\n",
       "      <th>Enterococcus</th>\n",
       "      <th>Granulicatella</th>\n",
       "      <th>Staphylococcus</th>\n",
       "      <th>Gemella</th>\n",
       "      <th>Bacillus</th>\n",
       "      <th>...</th>\n",
       "      <th>Chitinophaga</th>\n",
       "      <th>Zhongshania</th>\n",
       "      <th>Aliagarivorans</th>\n",
       "      <th>Geomicrobium</th>\n",
       "      <th>Phytophthora</th>\n",
       "      <th>Rhodopirellula</th>\n",
       "      <th>Epibacterium</th>\n",
       "      <th>Anaerolinea</th>\n",
       "      <th>Jonquetella</th>\n",
       "      <th>Apibacter</th>\n",
       "    </tr>\n",
       "  </thead>\n",
       "  <tbody>\n",
       "    <tr>\n",
       "      <th>0</th>\n",
       "      <td>none</td>\n",
       "      <td>healthy</td>\n",
       "      <td>8.0</td>\n",
       "      <td>0.0</td>\n",
       "      <td>0.0</td>\n",
       "      <td>0.0</td>\n",
       "      <td>0.0</td>\n",
       "      <td>7.0</td>\n",
       "      <td>0.0</td>\n",
       "      <td>0.0</td>\n",
       "      <td>...</td>\n",
       "      <td>0.0</td>\n",
       "      <td>0.0</td>\n",
       "      <td>0.0</td>\n",
       "      <td>0.0</td>\n",
       "      <td>0.0</td>\n",
       "      <td>0.0</td>\n",
       "      <td>0.0</td>\n",
       "      <td>0.0</td>\n",
       "      <td>0.0</td>\n",
       "      <td>0.0</td>\n",
       "    </tr>\n",
       "    <tr>\n",
       "      <th>1</th>\n",
       "      <td>none</td>\n",
       "      <td>healthy</td>\n",
       "      <td>2.0</td>\n",
       "      <td>0.0</td>\n",
       "      <td>0.0</td>\n",
       "      <td>1.0</td>\n",
       "      <td>0.0</td>\n",
       "      <td>5.0</td>\n",
       "      <td>0.0</td>\n",
       "      <td>0.0</td>\n",
       "      <td>...</td>\n",
       "      <td>0.0</td>\n",
       "      <td>0.0</td>\n",
       "      <td>0.0</td>\n",
       "      <td>0.0</td>\n",
       "      <td>0.0</td>\n",
       "      <td>0.0</td>\n",
       "      <td>0.0</td>\n",
       "      <td>0.0</td>\n",
       "      <td>0.0</td>\n",
       "      <td>1.0</td>\n",
       "    </tr>\n",
       "    <tr>\n",
       "      <th>2</th>\n",
       "      <td>none</td>\n",
       "      <td>healthy</td>\n",
       "      <td>3.0</td>\n",
       "      <td>0.0</td>\n",
       "      <td>0.0</td>\n",
       "      <td>0.0</td>\n",
       "      <td>0.0</td>\n",
       "      <td>2.0</td>\n",
       "      <td>0.0</td>\n",
       "      <td>2.0</td>\n",
       "      <td>...</td>\n",
       "      <td>0.0</td>\n",
       "      <td>0.0</td>\n",
       "      <td>0.0</td>\n",
       "      <td>0.0</td>\n",
       "      <td>0.0</td>\n",
       "      <td>0.0</td>\n",
       "      <td>0.0</td>\n",
       "      <td>0.0</td>\n",
       "      <td>0.0</td>\n",
       "      <td>0.0</td>\n",
       "    </tr>\n",
       "    <tr>\n",
       "      <th>3</th>\n",
       "      <td>none</td>\n",
       "      <td>healthy</td>\n",
       "      <td>7.0</td>\n",
       "      <td>0.0</td>\n",
       "      <td>1.0</td>\n",
       "      <td>0.0</td>\n",
       "      <td>0.0</td>\n",
       "      <td>10.0</td>\n",
       "      <td>0.0</td>\n",
       "      <td>2.0</td>\n",
       "      <td>...</td>\n",
       "      <td>0.0</td>\n",
       "      <td>0.0</td>\n",
       "      <td>0.0</td>\n",
       "      <td>0.0</td>\n",
       "      <td>0.0</td>\n",
       "      <td>0.0</td>\n",
       "      <td>0.0</td>\n",
       "      <td>0.0</td>\n",
       "      <td>0.0</td>\n",
       "      <td>0.0</td>\n",
       "    </tr>\n",
       "    <tr>\n",
       "      <th>4</th>\n",
       "      <td>none</td>\n",
       "      <td>healthy</td>\n",
       "      <td>11.0</td>\n",
       "      <td>0.0</td>\n",
       "      <td>0.0</td>\n",
       "      <td>0.0</td>\n",
       "      <td>0.0</td>\n",
       "      <td>22.0</td>\n",
       "      <td>0.0</td>\n",
       "      <td>0.0</td>\n",
       "      <td>...</td>\n",
       "      <td>0.0</td>\n",
       "      <td>0.0</td>\n",
       "      <td>0.0</td>\n",
       "      <td>0.0</td>\n",
       "      <td>0.0</td>\n",
       "      <td>0.0</td>\n",
       "      <td>0.0</td>\n",
       "      <td>0.0</td>\n",
       "      <td>0.0</td>\n",
       "      <td>0.0</td>\n",
       "    </tr>\n",
       "    <tr>\n",
       "      <th>...</th>\n",
       "      <td>...</td>\n",
       "      <td>...</td>\n",
       "      <td>...</td>\n",
       "      <td>...</td>\n",
       "      <td>...</td>\n",
       "      <td>...</td>\n",
       "      <td>...</td>\n",
       "      <td>...</td>\n",
       "      <td>...</td>\n",
       "      <td>...</td>\n",
       "      <td>...</td>\n",
       "      <td>...</td>\n",
       "      <td>...</td>\n",
       "      <td>...</td>\n",
       "      <td>...</td>\n",
       "      <td>...</td>\n",
       "      <td>...</td>\n",
       "      <td>...</td>\n",
       "      <td>...</td>\n",
       "      <td>...</td>\n",
       "      <td>...</td>\n",
       "    </tr>\n",
       "    <tr>\n",
       "      <th>282</th>\n",
       "      <td>Escherichia coli</td>\n",
       "      <td>septic</td>\n",
       "      <td>21.0</td>\n",
       "      <td>0.0</td>\n",
       "      <td>0.0</td>\n",
       "      <td>0.0</td>\n",
       "      <td>0.0</td>\n",
       "      <td>3.0</td>\n",
       "      <td>0.0</td>\n",
       "      <td>0.0</td>\n",
       "      <td>...</td>\n",
       "      <td>0.0</td>\n",
       "      <td>0.0</td>\n",
       "      <td>0.0</td>\n",
       "      <td>0.0</td>\n",
       "      <td>0.0</td>\n",
       "      <td>0.0</td>\n",
       "      <td>0.0</td>\n",
       "      <td>0.0</td>\n",
       "      <td>0.0</td>\n",
       "      <td>0.0</td>\n",
       "    </tr>\n",
       "    <tr>\n",
       "      <th>283</th>\n",
       "      <td>Cryptococcus neoformans</td>\n",
       "      <td>septic</td>\n",
       "      <td>18.0</td>\n",
       "      <td>0.0</td>\n",
       "      <td>1.0</td>\n",
       "      <td>0.0</td>\n",
       "      <td>0.0</td>\n",
       "      <td>0.0</td>\n",
       "      <td>0.0</td>\n",
       "      <td>6.0</td>\n",
       "      <td>...</td>\n",
       "      <td>0.0</td>\n",
       "      <td>0.0</td>\n",
       "      <td>0.0</td>\n",
       "      <td>0.0</td>\n",
       "      <td>0.0</td>\n",
       "      <td>0.0</td>\n",
       "      <td>0.0</td>\n",
       "      <td>0.0</td>\n",
       "      <td>0.0</td>\n",
       "      <td>0.0</td>\n",
       "    </tr>\n",
       "    <tr>\n",
       "      <th>284</th>\n",
       "      <td>Streptococcus oralis</td>\n",
       "      <td>septic</td>\n",
       "      <td>1038.0</td>\n",
       "      <td>0.0</td>\n",
       "      <td>2.0</td>\n",
       "      <td>1.0</td>\n",
       "      <td>0.0</td>\n",
       "      <td>8.0</td>\n",
       "      <td>0.0</td>\n",
       "      <td>0.0</td>\n",
       "      <td>...</td>\n",
       "      <td>0.0</td>\n",
       "      <td>0.0</td>\n",
       "      <td>0.0</td>\n",
       "      <td>0.0</td>\n",
       "      <td>0.0</td>\n",
       "      <td>0.0</td>\n",
       "      <td>0.0</td>\n",
       "      <td>0.0</td>\n",
       "      <td>0.0</td>\n",
       "      <td>0.0</td>\n",
       "    </tr>\n",
       "    <tr>\n",
       "      <th>285</th>\n",
       "      <td>Escherichia coli</td>\n",
       "      <td>septic</td>\n",
       "      <td>2.0</td>\n",
       "      <td>0.0</td>\n",
       "      <td>0.0</td>\n",
       "      <td>0.0</td>\n",
       "      <td>0.0</td>\n",
       "      <td>2.0</td>\n",
       "      <td>0.0</td>\n",
       "      <td>1.0</td>\n",
       "      <td>...</td>\n",
       "      <td>0.0</td>\n",
       "      <td>0.0</td>\n",
       "      <td>0.0</td>\n",
       "      <td>0.0</td>\n",
       "      <td>0.0</td>\n",
       "      <td>0.0</td>\n",
       "      <td>0.0</td>\n",
       "      <td>0.0</td>\n",
       "      <td>0.0</td>\n",
       "      <td>0.0</td>\n",
       "    </tr>\n",
       "    <tr>\n",
       "      <th>286</th>\n",
       "      <td>Escherichia coli</td>\n",
       "      <td>septic</td>\n",
       "      <td>14.0</td>\n",
       "      <td>0.0</td>\n",
       "      <td>0.0</td>\n",
       "      <td>0.0</td>\n",
       "      <td>0.0</td>\n",
       "      <td>74.0</td>\n",
       "      <td>0.0</td>\n",
       "      <td>3.0</td>\n",
       "      <td>...</td>\n",
       "      <td>0.0</td>\n",
       "      <td>0.0</td>\n",
       "      <td>0.0</td>\n",
       "      <td>0.0</td>\n",
       "      <td>0.0</td>\n",
       "      <td>0.0</td>\n",
       "      <td>0.0</td>\n",
       "      <td>0.0</td>\n",
       "      <td>0.0</td>\n",
       "      <td>0.0</td>\n",
       "    </tr>\n",
       "  </tbody>\n",
       "</table>\n",
       "<p>287 rows × 583 columns</p>\n",
       "</div>"
      ],
      "text/plain": [
       "                    pathogen        y  Streptococcus  Lactococcus  \\\n",
       "0                       none  healthy            8.0          0.0   \n",
       "1                       none  healthy            2.0          0.0   \n",
       "2                       none  healthy            3.0          0.0   \n",
       "3                       none  healthy            7.0          0.0   \n",
       "4                       none  healthy           11.0          0.0   \n",
       "..                       ...      ...            ...          ...   \n",
       "282         Escherichia coli   septic           21.0          0.0   \n",
       "283  Cryptococcus neoformans   septic           18.0          0.0   \n",
       "284     Streptococcus oralis   septic         1038.0          0.0   \n",
       "285         Escherichia coli   septic            2.0          0.0   \n",
       "286         Escherichia coli   septic           14.0          0.0   \n",
       "\n",
       "     Lactobacillus  Enterococcus  Granulicatella  Staphylococcus  Gemella  \\\n",
       "0              0.0           0.0             0.0             7.0      0.0   \n",
       "1              0.0           1.0             0.0             5.0      0.0   \n",
       "2              0.0           0.0             0.0             2.0      0.0   \n",
       "3              1.0           0.0             0.0            10.0      0.0   \n",
       "4              0.0           0.0             0.0            22.0      0.0   \n",
       "..             ...           ...             ...             ...      ...   \n",
       "282            0.0           0.0             0.0             3.0      0.0   \n",
       "283            1.0           0.0             0.0             0.0      0.0   \n",
       "284            2.0           1.0             0.0             8.0      0.0   \n",
       "285            0.0           0.0             0.0             2.0      0.0   \n",
       "286            0.0           0.0             0.0            74.0      0.0   \n",
       "\n",
       "     Bacillus  ...  Chitinophaga  Zhongshania  Aliagarivorans  Geomicrobium  \\\n",
       "0         0.0  ...           0.0          0.0             0.0           0.0   \n",
       "1         0.0  ...           0.0          0.0             0.0           0.0   \n",
       "2         2.0  ...           0.0          0.0             0.0           0.0   \n",
       "3         2.0  ...           0.0          0.0             0.0           0.0   \n",
       "4         0.0  ...           0.0          0.0             0.0           0.0   \n",
       "..        ...  ...           ...          ...             ...           ...   \n",
       "282       0.0  ...           0.0          0.0             0.0           0.0   \n",
       "283       6.0  ...           0.0          0.0             0.0           0.0   \n",
       "284       0.0  ...           0.0          0.0             0.0           0.0   \n",
       "285       1.0  ...           0.0          0.0             0.0           0.0   \n",
       "286       3.0  ...           0.0          0.0             0.0           0.0   \n",
       "\n",
       "     Phytophthora  Rhodopirellula  Epibacterium  Anaerolinea  Jonquetella  \\\n",
       "0             0.0             0.0           0.0          0.0          0.0   \n",
       "1             0.0             0.0           0.0          0.0          0.0   \n",
       "2             0.0             0.0           0.0          0.0          0.0   \n",
       "3             0.0             0.0           0.0          0.0          0.0   \n",
       "4             0.0             0.0           0.0          0.0          0.0   \n",
       "..            ...             ...           ...          ...          ...   \n",
       "282           0.0             0.0           0.0          0.0          0.0   \n",
       "283           0.0             0.0           0.0          0.0          0.0   \n",
       "284           0.0             0.0           0.0          0.0          0.0   \n",
       "285           0.0             0.0           0.0          0.0          0.0   \n",
       "286           0.0             0.0           0.0          0.0          0.0   \n",
       "\n",
       "     Apibacter  \n",
       "0          0.0  \n",
       "1          1.0  \n",
       "2          0.0  \n",
       "3          0.0  \n",
       "4          0.0  \n",
       "..         ...  \n",
       "282        0.0  \n",
       "283        0.0  \n",
       "284        0.0  \n",
       "285        0.0  \n",
       "286        0.0  \n",
       "\n",
       "[287 rows x 583 columns]"
      ]
     },
     "metadata": {},
     "output_type": "display_data"
    }
   ],
   "source": [
    "raw_df = pd.read_csv(datasets / 'karius_genus_raw_maxi.csv')\n",
    "display(raw_df)\n",
    "\n",
    "X = raw_df.iloc[:, 2:].copy()\n",
    "y = raw_df.iloc[:, 1].copy()"
   ]
  },
  {
   "cell_type": "code",
   "execution_count": 3,
   "metadata": {},
   "outputs": [],
   "source": [
    "# Binary encode y\n",
    "y.loc[y == 'septic'] = 1\n",
    "y.loc[y == 'healthy'] = 0\n",
    "y = y.astype('int')\n",
    "\n",
    "# Relative abundance\n",
    "X_RA = X.apply(func=lambda x: x / x.sum(), axis=1)"
   ]
  },
  {
   "cell_type": "code",
   "execution_count": 4,
   "metadata": {},
   "outputs": [
    {
     "data": {
      "text/html": [
       "<div>\n",
       "<style scoped>\n",
       "    .dataframe tbody tr th:only-of-type {\n",
       "        vertical-align: middle;\n",
       "    }\n",
       "\n",
       "    .dataframe tbody tr th {\n",
       "        vertical-align: top;\n",
       "    }\n",
       "\n",
       "    .dataframe thead th {\n",
       "        text-align: right;\n",
       "    }\n",
       "</style>\n",
       "<table border=\"1\" class=\"dataframe\">\n",
       "  <thead>\n",
       "    <tr style=\"text-align: right;\">\n",
       "      <th></th>\n",
       "      <th>Septic</th>\n",
       "      <th>Healthy</th>\n",
       "    </tr>\n",
       "  </thead>\n",
       "  <tbody>\n",
       "    <tr>\n",
       "      <th>Train fold</th>\n",
       "      <td>106</td>\n",
       "      <td>153</td>\n",
       "    </tr>\n",
       "    <tr>\n",
       "      <th>Test fold</th>\n",
       "      <td>11</td>\n",
       "      <td>17</td>\n",
       "    </tr>\n",
       "  </tbody>\n",
       "</table>\n",
       "</div>"
      ],
      "text/plain": [
       "            Septic  Healthy\n",
       "Train fold     106      153\n",
       "Test fold       11       17"
      ]
     },
     "metadata": {},
     "output_type": "display_data"
    }
   ],
   "source": [
    "n_splits = 10\n",
    "\n",
    "pos = len(y[y == 1])\n",
    "neg = len(y[y == 0])\n",
    "split_sizes = pd.DataFrame({'Septic': [pos - int(pos / n_splits), int(pos / n_splits)], \n",
    "                           'Healthy': [neg - int(neg / n_splits), int(neg / n_splits)]}, index=['Train fold', 'Test fold'])\n",
    "\n",
    "display(split_sizes)\n",
    "\n",
    "# Get negative to positive ratio\n",
    "ratio = sum(y == 0) / sum(y == 1)"
   ]
  },
  {
   "cell_type": "markdown",
   "metadata": {},
   "source": [
    "## Nested CV for hyperparameter optimisation"
   ]
  },
  {
   "cell_type": "code",
   "execution_count": 5,
   "metadata": {},
   "outputs": [],
   "source": [
    "from xgboost import XGBClassifier\n",
    "from sklearn.model_selection import RandomizedSearchCV, StratifiedKFold, cross_validate\n",
    "from sklearn.metrics import make_scorer, precision_score, recall_score, f1_score, average_precision_score"
   ]
  },
  {
   "cell_type": "code",
   "execution_count": 6,
   "metadata": {},
   "outputs": [],
   "source": [
    "def optimise_evaluate(X, y):\n",
    "    np.random.seed(66)\n",
    "    ratio = sum(y == 0) / sum(y == 1)\n",
    "    \n",
    "    # Hyperparemeter Optimisation using grid search (F1)\n",
    "    model = XGBClassifier()\n",
    "    n_estimators = range(100, 300, 10)\n",
    "    max_depth = range(1, 5, 1)\n",
    "    gamma = np.linspace(0.1, 3, 10)\n",
    "    subsample = [0.6, 0.7, 0.8, 0.9, 1.0]\n",
    "    colsample_bytree = np.linspace(0.1, 1, 20)\n",
    "    \n",
    "    param_grid = dict(max_depth=max_depth, \n",
    "                      n_estimators=n_estimators, \n",
    "                      colsample_bytree=colsample_bytree,\n",
    "                      gamma=gamma,\n",
    "                      subsample=subsample,\n",
    "                      scale_pos_weight=[ratio])\n",
    "    \n",
    "    inner_cv = StratifiedKFold(n_splits=n_splits, shuffle=True)\n",
    "    outer_cv = StratifiedKFold(n_splits=n_splits, shuffle=True)\n",
    "\n",
    "    # Inner CV\n",
    "    model = RandomizedSearchCV(model, \n",
    "                               param_grid, \n",
    "                               scoring='roc_auc',\n",
    "                               n_iter=1000,\n",
    "                               n_jobs=68, \n",
    "                               cv=inner_cv, \n",
    "                               verbose=0)\n",
    "\n",
    "    model.fit(X, y)\n",
    "    best_params = model.best_params_\n",
    "    print(best_params)\n",
    "\n",
    "    # Custom metrics\n",
    "    precision = make_scorer(precision_score, average='binary')\n",
    "    recall = make_scorer(recall_score, average='binary')\n",
    "    f1 = make_scorer(f1_score, average='binary')\n",
    "    auprc = make_scorer(average_precision_score, average=None)\n",
    "    \n",
    "    scoring = {'precision': precision, \n",
    "               'recall': recall, \n",
    "               'AUROC': 'roc_auc',\n",
    "               'F1': f1}\n",
    "\n",
    "    # Outer CV\n",
    "    outer_results = cross_validate(model, X=X, y=y, cv=outer_cv, scoring=scoring)\n",
    "    outer_results = pd.DataFrame(outer_results).mean()[['test_precision', 'test_recall', 'test_F1', 'test_AUROC']]\n",
    "\n",
    "    return outer_results, best_params\n"
   ]
  },
  {
   "cell_type": "markdown",
   "metadata": {},
   "source": [
    "### Optimise and evaluate models trained on dirty data"
   ]
  },
  {
   "cell_type": "code",
   "execution_count": 7,
   "metadata": {
    "scrolled": true
   },
   "outputs": [
    {
     "name": "stdout",
     "output_type": "stream",
     "text": [
      "{'subsample': 0.8, 'scale_pos_weight': 1.452991452991453, 'n_estimators': 240, 'max_depth': 3, 'gamma': 1.3888888888888888, 'colsample_bytree': 0.24210526315789474}\n",
      "{'subsample': 0.9, 'scale_pos_weight': 1.452991452991453, 'n_estimators': 200, 'max_depth': 2, 'gamma': 0.7444444444444444, 'colsample_bytree': 0.1473684210526316}\n"
     ]
    }
   ],
   "source": [
    "raw_results, raw_params = optimise_evaluate(X, y)\n",
    "# raw_params = {'subsample': 0.5263157894736842, 'scale_pos_weight': 1.4273504273504274, 'n_estimators': 96, 'max_depth': 2, 'gamma': 1.8421052631578947, 'colsample_bytree': 0.19473684210526315}\n",
    "RA_results, RA_params = optimise_evaluate(X_RA, y)\n",
    "# RA_params = {'subsample': 0.4789473684210527, 'scale_pos_weight': 1.4273504273504274, 'n_estimators': 255, 'max_depth': 1, 'gamma': 0.7894736842105263, 'colsample_bytree': 0.4}\n"
   ]
  },
  {
   "cell_type": "markdown",
   "metadata": {},
   "source": [
    "## Estimates of test error"
   ]
  },
  {
   "cell_type": "code",
   "execution_count": 8,
   "metadata": {
    "scrolled": true
   },
   "outputs": [
    {
     "data": {
      "text/html": [
       "<div>\n",
       "<style scoped>\n",
       "    .dataframe tbody tr th:only-of-type {\n",
       "        vertical-align: middle;\n",
       "    }\n",
       "\n",
       "    .dataframe tbody tr th {\n",
       "        vertical-align: top;\n",
       "    }\n",
       "\n",
       "    .dataframe thead th {\n",
       "        text-align: right;\n",
       "    }\n",
       "</style>\n",
       "<table border=\"1\" class=\"dataframe\">\n",
       "  <thead>\n",
       "    <tr style=\"text-align: right;\">\n",
       "      <th></th>\n",
       "      <th>test_precision</th>\n",
       "      <th>test_recall</th>\n",
       "      <th>test_F1</th>\n",
       "      <th>test_AUROC</th>\n",
       "    </tr>\n",
       "  </thead>\n",
       "  <tbody>\n",
       "    <tr>\n",
       "      <th>Raw</th>\n",
       "      <td>0.966</td>\n",
       "      <td>0.891</td>\n",
       "      <td>0.924</td>\n",
       "      <td>0.984</td>\n",
       "    </tr>\n",
       "    <tr>\n",
       "      <th>RA</th>\n",
       "      <td>0.951</td>\n",
       "      <td>0.916</td>\n",
       "      <td>0.931</td>\n",
       "      <td>0.986</td>\n",
       "    </tr>\n",
       "  </tbody>\n",
       "</table>\n",
       "</div>"
      ],
      "text/plain": [
       "     test_precision  test_recall  test_F1  test_AUROC\n",
       "Raw           0.966        0.891    0.924       0.984\n",
       "RA            0.951        0.916    0.931       0.986"
      ]
     },
     "metadata": {},
     "output_type": "display_data"
    }
   ],
   "source": [
    "metric_df = pd.DataFrame({'Raw': raw_results, 'RA': RA_results}).round(3).T\n",
    "display(metric_df)"
   ]
  },
  {
   "cell_type": "markdown",
   "metadata": {},
   "source": [
    "## Train dirty models"
   ]
  },
  {
   "cell_type": "code",
   "execution_count": 9,
   "metadata": {},
   "outputs": [
    {
     "data": {
      "text/plain": [
       "XGBClassifier(colsample_bytree=0.1473684210526316, gamma=0.7444444444444444,\n",
       "              max_depth=2, n_estimators=200, scale_pos_weight=1.452991452991453,\n",
       "              subsample=0.9)"
      ]
     },
     "execution_count": 9,
     "metadata": {},
     "output_type": "execute_result"
    }
   ],
   "source": [
    "raw_model = XGBClassifier(**raw_params)\n",
    "raw_model.fit(X, y)\n",
    "\n",
    "RA_model = XGBClassifier(**RA_params)\n",
    "RA_model.fit(X_RA, y)\n"
   ]
  },
  {
   "cell_type": "markdown",
   "metadata": {},
   "source": [
    "### Remove Contaminants based on SHAP values"
   ]
  },
  {
   "cell_type": "code",
   "execution_count": 10,
   "metadata": {},
   "outputs": [],
   "source": [
    "import math\n",
    "from scipy.stats import spearmanr\n",
    "import shap\n",
    "\n",
    "\n",
    "def decontam(X_train, y_train, params):\n",
    "    X_train = X_train.copy()\n",
    "    y_train = y_train.copy()\n",
    "    params = params.copy()\n",
    "#     X_train = X_train.apply(func=lambda x: x / x.sum(), axis=1)\n",
    "    \n",
    "    model = XGBClassifier(**params)\n",
    "    model.fit(X=X_train, y=y_train)\n",
    "\n",
    "    explainer = shap.TreeExplainer(model, feature_pertubation='interventional', model_output='probability', data=X_train)\n",
    "    shap_val = explainer.shap_values(X_train)\n",
    "\n",
    "    to_retain = np.array([True] * X_train.shape[1])\n",
    "    corrs = np.zeros(X_train.shape[1])\n",
    "    \n",
    "    for i in range(X_train.shape[1]):\n",
    "        if sum(X_train.iloc[:, i] != 0) >= X_train.shape[0] * 0.1:\n",
    "            rho = spearmanr(X_train.iloc[:, i], shap_val[:, i])[0]\n",
    "            p = spearmanr(X_train.iloc[:, i], shap_val[:, i])[1]\n",
    "            print(f'rho={rho}, p={p}, genus={X_train.columns[i]}')\n",
    "            \n",
    "            if rho < 0:\n",
    "                to_retain[i] = False\n",
    "                \n",
    "            elif not shap_val[:, i].any(0):\n",
    "                to_retain[i] = False\n",
    "        else:\n",
    "            to_retain[i] = False\n",
    "\n",
    "    to_retain = X_train.columns[to_retain]\n",
    "    print(to_retain.shape, to_retain)\n",
    "    \n",
    "    return to_retain"
   ]
  },
  {
   "cell_type": "code",
   "execution_count": 11,
   "metadata": {},
   "outputs": [],
   "source": [
    "# Retrieve known human pathogens\n",
    "meta = pd.read_csv(datasets / 'pathogen_list.csv', encoding= 'unicode_escape')\n",
    "meta = meta['Genus'].unique()\n",
    "\n",
    "# Remove non-human pathogens\n",
    "genera_new = X.columns\n",
    "genera_new = list(set(genera_new).intersection(set(meta)))"
   ]
  },
  {
   "cell_type": "code",
   "execution_count": 12,
   "metadata": {
    "scrolled": true
   },
   "outputs": [
    {
     "name": "stdout",
     "output_type": "stream",
     "text": [
      "rho=0.5123325362027888, p=1.3116260347909587e-20, genus=Cellulomonas\n",
      "rho=nan, p=nan, genus=Dietzia\n",
      "rho=nan, p=nan, genus=Exiguobacterium\n",
      "rho=nan, p=nan, genus=Kocuria\n",
      "rho=nan, p=nan, genus=Massilia\n",
      "rho=0.5447240908966967, p=1.4120197325097417e-23, genus=Leptotrichia\n",
      "rho=nan, p=nan, genus=Halomonas\n",
      "rho=-0.9546997099258387, p=4.64964697050376e-152, genus=Micrococcus\n",
      "rho=0.5362508801513836, p=9.063457122968876e-23, genus=Clostridium\n",
      "rho=-0.6772968526100894, p=7.127897655178781e-40, genus=Corynebacterium\n",
      "rho=nan, p=nan, genus=Microbacterium\n",
      "rho=-0.9045072661232056, p=1.706812474405999e-107, genus=Alishewanella\n",
      "rho=nan, p=nan, genus=Dermacoccus\n",
      "rho=nan, p=nan, genus=Streptomyces\n",
      "rho=-0.84386858770676, p=4.854431751740718e-79, genus=Chryseobacterium\n",
      "rho=nan, p=nan, genus=Kytococcus\n",
      "rho=nan, p=nan, genus=Brachybacterium\n",
      "rho=nan, p=nan, genus=Bifidobacterium\n",
      "rho=0.7280865443494341, p=1.1751119114584463e-48, genus=Delftia\n",
      "rho=-0.8856044587453854, p=6.331229655332418e-97, genus=Afipia\n",
      "rho=nan, p=nan, genus=Ochrobactrum\n",
      "rho=nan, p=nan, genus=Brevibacterium\n",
      "rho=nan, p=nan, genus=Helicobacter\n",
      "rho=nan, p=nan, genus=Curtobacterium\n",
      "rho=nan, p=nan, genus=Providencia\n",
      "rho=0.43853806759969416, p=6.425819519837851e-15, genus=Veillonella\n",
      "rho=0.3025674285516243, p=1.727855270682318e-07, genus=Aeromonas\n",
      "rho=0.9035140760276613, p=6.929780514606439e-107, genus=Bacteroides\n",
      "rho=0.8586665764950049, p=1.0253735305413793e-84, genus=Bradyrhizobium\n",
      "rho=0.8018739945453013, p=1.0570250243772347e-65, genus=Klebsiella\n",
      "rho=0.6634698762953138, p=8.829842857693711e-38, genus=Shewanella\n",
      "rho=0.8348423214141975, p=7.332855591349488e-76, genus=Prevotella\n",
      "rho=-0.46491005133840224, p=8.517688480562543e-17, genus=Sphingobacterium\n",
      "rho=nan, p=nan, genus=Aggregatibacter\n",
      "rho=0.7194921319795777, p=4.925026997529951e-47, genus=Streptococcus\n",
      "rho=-0.733232359128115, p=1.171302795253604e-49, genus=Gordonia\n",
      "rho=0.6858887671750608, p=3.1168122757404767e-41, genus=Capnocytophaga\n",
      "rho=nan, p=nan, genus=Campylobacter\n",
      "rho=0.9116724177906963, p=4.306652745264355e-112, genus=Stenotrophomonas\n",
      "rho=0.7817015715426481, p=2.1818847116275204e-60, genus=Escherichia\n",
      "rho=0.8185837147985089, p=1.3604889998702341e-70, genus=Pantoea\n",
      "rho=nan, p=nan, genus=Leifsonia\n",
      "rho=nan, p=nan, genus=Peptoniphilus\n",
      "rho=nan, p=nan, genus=Alistipes\n",
      "rho=nan, p=nan, genus=Porphyromonas\n",
      "rho=-0.770109126226214, p=1.3912485515874655e-57, genus=Acinetobacter\n",
      "rho=-0.8271957066266735, p=2.5806262641809008e-73, genus=Bosea\n",
      "rho=-0.7426693320431398, p=1.4801329607581177e-51, genus=Arthrobacter\n",
      "rho=0.8677622639533156, p=1.5549404777789562e-88, genus=Pseudomonas\n",
      "rho=0.09397066476696128, p=0.11216577002153795, genus=Cellulosimicrobium\n",
      "rho=-0.9316218903671627, p=2.6561600567248227e-127, genus=Ralstonia\n",
      "rho=0.8506423787736935, p=1.4610766691220358e-81, genus=Comamonas\n",
      "rho=-0.4503797875506284, p=9.657893691732984e-16, genus=Achromobacter\n",
      "rho=0.8402462388472854, p=9.676183247136339e-78, genus=Burkholderia\n",
      "rho=-0.7149938223328673, p=3.2926693517241653e-46, genus=Elizabethkingia\n",
      "rho=0.29708245687451923, p=2.9415817751927195e-07, genus=Enterococcus\n",
      "rho=-0.8096909040911902, p=6.260930460620026e-68, genus=Alcaligenes\n",
      "rho=0.36380970407870294, p=2.0769060956715222e-10, genus=Psychrobacter\n",
      "rho=0.7592803883187031, p=4.152036691950689e-55, genus=Actinomyces\n",
      "rho=0.6535033337921172, p=2.4362457009062292e-36, genus=Rothia\n",
      "rho=nan, p=nan, genus=Rhodococcus\n",
      "rho=0.8827297710958372, p=1.75560734487991e-95, genus=Methylobacterium\n",
      "rho=-0.0899423750149829, p=0.12847246080389135, genus=Staphylococcus\n",
      "rho=nan, p=nan, genus=Roseomonas\n",
      "rho=0.9011166518697531, p=1.9178113342766094e-105, genus=Enterobacter\n",
      "rho=-0.6456043729482591, p=3.094158681781896e-35, genus=Serratia\n",
      "rho=0.5212731764016973, p=2.1386449558728427e-21, genus=Alphatorquevirus\n",
      "rho=nan, p=nan, genus=Paracoccus\n",
      "rho=nan, p=nan, genus=Leclercia\n",
      "rho=-0.8549050629920965, p=3.257995330488494e-83, genus=Sphingomonas\n",
      "rho=nan, p=nan, genus=Citrobacter\n",
      "rho=0.8127645509220807, p=7.804556751923792e-69, genus=Cupriavidus\n",
      "rho=-0.707873250436412, p=6.187702924272438e-45, genus=Flavobacterium\n",
      "rho=nan, p=nan, genus=Oerskovia\n",
      "rho=nan, p=nan, genus=Granulicatella\n",
      "rho=0.07264434720013074, p=0.2198511238814054, genus=Brevundimonas\n",
      "rho=-0.7763832465130156, p=4.430087980427098e-59, genus=Haemophilus\n",
      "rho=-0.3767841160854055, p=4.108699759043377e-11, genus=Neisseria\n"
     ]
    },
    {
     "name": "stderr",
     "output_type": "stream",
     "text": [
      "An input array is constant; the correlation coefficent is not defined.\n"
     ]
    },
    {
     "name": "stdout",
     "output_type": "stream",
     "text": [
      "rho=0.5364793030158721, p=8.626290147293124e-23, genus=Fusobacterium\n",
      "rho=0.925222177789431, p=5.738314153792438e-122, genus=Bacillus\n",
      "rho=nan, p=nan, genus=Pseudonocardia\n",
      "rho=-0.8097392863152315, p=6.060831771830847e-68, genus=Mycobacterium\n",
      "rho=nan, p=nan, genus=Parabacteroides\n",
      "rho=nan, p=nan, genus=Lactobacillus\n",
      "rho=0.7493237690692591, p=6.038388937890361e-53, genus=Agrobacterium\n",
      "(32,) Index(['Cellulomonas', 'Leptotrichia', 'Clostridium', 'Delftia', 'Veillonella',\n",
      "       'Aeromonas', 'Bacteroides', 'Bradyrhizobium', 'Klebsiella',\n",
      "       'Shewanella', 'Prevotella', 'Streptococcus', 'Capnocytophaga',\n",
      "       'Stenotrophomonas', 'Escherichia', 'Pantoea', 'Pseudomonas',\n",
      "       'Cellulosimicrobium', 'Comamonas', 'Burkholderia', 'Enterococcus',\n",
      "       'Psychrobacter', 'Actinomyces', 'Rothia', 'Methylobacterium',\n",
      "       'Enterobacter', 'Alphatorquevirus', 'Cupriavidus', 'Brevundimonas',\n",
      "       'Fusobacterium', 'Bacillus', 'Agrobacterium'],\n",
      "      dtype='object')\n",
      "rho=0.763625278881565, p=4.377516363491231e-56, genus=Cellulomonas\n",
      "rho=0.5390308722762603, p=4.9531917053261915e-23, genus=Leptotrichia\n",
      "rho=0.5362081324800481, p=9.14765955032472e-23, genus=Clostridium\n",
      "rho=-0.8718064432091879, p=2.5197469969487774e-90, genus=Delftia\n",
      "rho=0.6983520824149586, p=2.7304569280139977e-43, genus=Veillonella\n",
      "rho=0.36663562174896763, p=1.468271871789332e-10, genus=Aeromonas\n",
      "rho=0.7255519746630517, p=3.588636009134187e-48, genus=Bacteroides\n",
      "rho=-0.660136796923471, p=2.715864448336438e-37, genus=Bradyrhizobium\n",
      "rho=0.6322734986122508, p=1.9110998826445433e-33, genus=Klebsiella\n",
      "rho=0.6643167191560939, p=6.621810747091972e-38, genus=Shewanella\n",
      "rho=0.9125880071892347, p=1.043476648014392e-112, genus=Prevotella\n",
      "rho=0.18189770812120765, p=0.0019751380974727464, genus=Streptococcus\n",
      "rho=0.683824295799603, p=6.677076969402351e-41, genus=Capnocytophaga\n",
      "rho=0.8688830610712682, p=5.0294209239609605e-89, genus=Stenotrophomonas\n",
      "rho=0.7824359273840981, p=1.4301853512644924e-60, genus=Escherichia\n",
      "rho=0.41550587564305974, p=2.0877157371338756e-13, genus=Pantoea\n",
      "rho=-0.9352038032918835, p=1.612039393830062e-130, genus=Pseudomonas\n",
      "rho=-0.6280352141587009, p=6.799241614221547e-33, genus=Cellulosimicrobium\n",
      "rho=0.5278228993186473, p=5.472301581823594e-22, genus=Comamonas\n",
      "rho=0.788944392769967, p=3.1461868148624904e-62, genus=Burkholderia\n",
      "rho=0.3095697580721636, p=8.620163768395236e-08, genus=Enterococcus\n",
      "rho=0.7319990792757248, p=2.0454401609108297e-49, genus=Psychrobacter\n",
      "rho=-0.890801349383925, p=1.2358490742697813e-99, genus=Actinomyces\n",
      "rho=-0.5185108846922623, p=3.766870393258275e-21, genus=Rothia\n",
      "rho=0.533405266479085, p=1.672611365307726e-22, genus=Methylobacterium\n",
      "rho=0.8416030873703614, p=3.182363289519032e-78, genus=Enterobacter\n",
      "rho=0.5211854338625577, p=2.1776207271704023e-21, genus=Alphatorquevirus\n",
      "rho=0.7813434778909718, p=2.6793184078897166e-60, genus=Cupriavidus\n",
      "rho=-0.9255350341143831, p=3.2301908835742993e-122, genus=Brevundimonas\n",
      "rho=-0.4578636519463442, p=2.8053998860454723e-16, genus=Fusobacterium\n",
      "rho=0.6954957060201854, p=8.261961870540108e-43, genus=Bacillus\n",
      "rho=0.6349765051818951, p=8.419277938934622e-34, genus=Agrobacterium\n",
      "(24,) Index(['Cellulomonas', 'Leptotrichia', 'Clostridium', 'Veillonella',\n",
      "       'Aeromonas', 'Bacteroides', 'Klebsiella', 'Shewanella', 'Prevotella',\n",
      "       'Streptococcus', 'Capnocytophaga', 'Stenotrophomonas', 'Escherichia',\n",
      "       'Pantoea', 'Comamonas', 'Burkholderia', 'Enterococcus', 'Psychrobacter',\n",
      "       'Methylobacterium', 'Enterobacter', 'Alphatorquevirus', 'Cupriavidus',\n",
      "       'Bacillus', 'Agrobacterium'],\n",
      "      dtype='object')\n",
      "rho=0.004559072673927641, p=0.9387039563241051, genus=Cellulomonas\n",
      "rho=0.5455879727139885, p=1.1647346292603895e-23, genus=Leptotrichia\n",
      "rho=0.5369750097722085, p=7.747750691427711e-23, genus=Clostridium\n",
      "rho=0.7009258112482866, p=9.955773580164145e-44, genus=Veillonella\n",
      "rho=-0.027069033985368918, p=0.6479147966462833, genus=Aeromonas\n",
      "rho=0.4150483187723305, p=2.2312680730147354e-13, genus=Bacteroides\n",
      "rho=0.7606203510036388, p=2.0852957954872235e-55, genus=Klebsiella\n",
      "rho=0.6645118155367301, p=6.196218344351813e-38, genus=Shewanella\n",
      "rho=0.835148829022962, p=5.760935679530308e-76, genus=Prevotella\n",
      "rho=0.03771753273248291, p=0.5245069840715386, genus=Streptococcus\n",
      "rho=0.6853149207858739, p=3.854406639366421e-41, genus=Capnocytophaga\n",
      "rho=0.5879493136507098, p=4.483994001356945e-28, genus=Stenotrophomonas\n",
      "rho=0.7769912120717153, p=3.1533125010901296e-59, genus=Escherichia\n",
      "rho=0.14382705987058497, p=0.014742503558266807, genus=Pantoea\n",
      "rho=-0.5864131037632918, p=6.655455960399266e-28, genus=Comamonas\n",
      "rho=0.7889350883860665, p=3.1637045554134456e-62, genus=Burkholderia\n",
      "rho=0.5055652999617184, p=4.9977539489578183e-20, genus=Enterococcus\n",
      "rho=0.73746140283492, p=1.6907277895804948e-50, genus=Psychrobacter\n",
      "rho=-0.09623932331178076, p=0.10372413963785547, genus=Methylobacterium\n",
      "rho=0.7132189597667891, p=6.898196610362997e-46, genus=Enterobacter\n",
      "rho=0.5215180027391394, p=2.0334849379075663e-21, genus=Alphatorquevirus\n",
      "rho=-0.2346169745960899, p=5.98304774766541e-05, genus=Cupriavidus\n",
      "rho=0.6024356790057159, p=9.736436895396167e-30, genus=Bacillus\n",
      "rho=0.2950760492529062, p=3.56383390948922e-07, genus=Agrobacterium\n",
      "(20,) Index(['Cellulomonas', 'Leptotrichia', 'Clostridium', 'Veillonella',\n",
      "       'Bacteroides', 'Klebsiella', 'Shewanella', 'Prevotella',\n",
      "       'Streptococcus', 'Capnocytophaga', 'Stenotrophomonas', 'Escherichia',\n",
      "       'Pantoea', 'Burkholderia', 'Enterococcus', 'Psychrobacter',\n",
      "       'Enterobacter', 'Alphatorquevirus', 'Bacillus', 'Agrobacterium'],\n",
      "      dtype='object')\n",
      "rho=-0.22110309129849842, p=0.0001592275666708164, genus=Cellulomonas\n",
      "rho=0.5452663027965574, p=1.2513798326286809e-23, genus=Leptotrichia\n",
      "rho=0.5364975771602908, p=8.592226979260624e-23, genus=Clostridium\n",
      "rho=0.7320282621747054, p=2.018706236271989e-49, genus=Veillonella\n",
      "rho=0.25382790308442676, p=1.3437978955476421e-05, genus=Bacteroides\n",
      "rho=0.7755708354909322, p=6.965992825068528e-59, genus=Klebsiella\n",
      "rho=0.6522662780708907, p=3.645586485430239e-36, genus=Shewanella\n",
      "rho=0.8053445401587616, p=1.1159421386427135e-66, genus=Prevotella\n",
      "rho=-0.004766235988114136, p=0.9359245109233865, genus=Streptococcus\n",
      "rho=0.6819783773432275, p=1.3125727429470994e-40, genus=Capnocytophaga\n",
      "rho=0.4000396169943819, p=1.8701905987315655e-12, genus=Stenotrophomonas\n",
      "rho=0.784515970018106, p=4.284569937026634e-61, genus=Escherichia\n",
      "rho=-0.731754636073166, p=2.2835803590699348e-49, genus=Pantoea\n",
      "rho=0.80167143573252, p=1.2035818724184456e-65, genus=Burkholderia\n",
      "rho=0.35187478884338996, p=8.659040642903748e-10, genus=Enterococcus\n",
      "rho=0.44937915167470016, p=1.1367749721906115e-15, genus=Psychrobacter\n",
      "rho=0.569080357308709, p=4.974726779575578e-26, genus=Enterobacter\n",
      "rho=0.5214301502664336, p=2.0706213553934086e-21, genus=Alphatorquevirus\n",
      "rho=0.6771656917754127, p=7.470560589649306e-40, genus=Bacillus\n",
      "rho=0.5888032446451654, p=3.596922004363539e-28, genus=Agrobacterium\n",
      "(17,) Index(['Leptotrichia', 'Clostridium', 'Veillonella', 'Bacteroides',\n",
      "       'Klebsiella', 'Shewanella', 'Prevotella', 'Capnocytophaga',\n",
      "       'Stenotrophomonas', 'Escherichia', 'Burkholderia', 'Enterococcus',\n",
      "       'Psychrobacter', 'Enterobacter', 'Alphatorquevirus', 'Bacillus',\n",
      "       'Agrobacterium'],\n",
      "      dtype='object')\n",
      "rho=0.3118894076385539, p=6.81910976024547e-08, genus=Leptotrichia\n",
      "rho=0.5362522412218625, p=9.060788722012027e-23, genus=Clostridium\n",
      "rho=0.0177504378734153, p=0.7646175214868599, genus=Veillonella\n",
      "rho=0.21598607626708635, p=0.00022720210269336433, genus=Bacteroides\n",
      "rho=0.7983301849799598, p=1.003043596318574e-64, genus=Klebsiella\n",
      "rho=0.6639099614512243, p=7.604253824021968e-38, genus=Shewanella\n",
      "rho=0.7747485302457061, p=1.0992821337153463e-58, genus=Prevotella\n",
      "rho=0.6805646632553785, p=2.1951891051894013e-40, genus=Capnocytophaga\n",
      "rho=0.19332517239577915, p=0.000994942164876376, genus=Stenotrophomonas\n",
      "rho=0.7847740405453387, p=3.6859803294829516e-61, genus=Escherichia\n",
      "rho=0.7668778587141105, p=7.86935954271178e-57, genus=Burkholderia\n",
      "rho=0.26396346308005314, p=5.8162740857587344e-06, genus=Enterococcus\n",
      "rho=0.6371564413683328, p=4.320873326500531e-34, genus=Psychrobacter\n",
      "rho=0.7025240237669944, p=5.291998012445012e-44, genus=Enterobacter\n",
      "rho=0.52127491867769, p=2.1378780181683603e-21, genus=Alphatorquevirus\n",
      "rho=0.32807196530477345, p=1.2559927537891026e-08, genus=Bacillus\n",
      "rho=0.4442664316145679, p=2.592864017761472e-15, genus=Agrobacterium\n",
      "(17,) Index(['Leptotrichia', 'Clostridium', 'Veillonella', 'Bacteroides',\n",
      "       'Klebsiella', 'Shewanella', 'Prevotella', 'Capnocytophaga',\n",
      "       'Stenotrophomonas', 'Escherichia', 'Burkholderia', 'Enterococcus',\n",
      "       'Psychrobacter', 'Enterobacter', 'Alphatorquevirus', 'Bacillus',\n",
      "       'Agrobacterium'],\n",
      "      dtype='object')\n"
     ]
    },
    {
     "name": "stdout",
     "output_type": "stream",
     "text": [
      "rho=0.3118894076385539, p=6.81910976024547e-08, genus=Leptotrichia\n",
      "rho=0.5362522412218625, p=9.060788722012027e-23, genus=Clostridium\n",
      "rho=0.0177504378734153, p=0.7646175214868599, genus=Veillonella\n",
      "rho=0.21598607626708635, p=0.00022720210269336433, genus=Bacteroides\n",
      "rho=0.7983301849799598, p=1.003043596318574e-64, genus=Klebsiella\n",
      "rho=0.6639099614512243, p=7.604253824021968e-38, genus=Shewanella\n",
      "rho=0.7747485302457061, p=1.0992821337153463e-58, genus=Prevotella\n",
      "rho=0.6805646632553785, p=2.1951891051894013e-40, genus=Capnocytophaga\n",
      "rho=0.19332517239577915, p=0.000994942164876376, genus=Stenotrophomonas\n",
      "rho=0.7847740405453387, p=3.6859803294829516e-61, genus=Escherichia\n",
      "rho=0.7668778587141105, p=7.86935954271178e-57, genus=Burkholderia\n",
      "rho=0.26396346308005314, p=5.8162740857587344e-06, genus=Enterococcus\n",
      "rho=0.6371564413683328, p=4.320873326500531e-34, genus=Psychrobacter\n",
      "rho=0.7025240237669944, p=5.291998012445012e-44, genus=Enterobacter\n",
      "rho=0.52127491867769, p=2.1378780181683603e-21, genus=Alphatorquevirus\n",
      "rho=0.32807196530477345, p=1.2559927537891026e-08, genus=Bacillus\n",
      "rho=0.4442664316145679, p=2.592864017761472e-15, genus=Agrobacterium\n",
      "(17,) Index(['Leptotrichia', 'Clostridium', 'Veillonella', 'Bacteroides',\n",
      "       'Klebsiella', 'Shewanella', 'Prevotella', 'Capnocytophaga',\n",
      "       'Stenotrophomonas', 'Escherichia', 'Burkholderia', 'Enterococcus',\n",
      "       'Psychrobacter', 'Enterobacter', 'Alphatorquevirus', 'Bacillus',\n",
      "       'Agrobacterium'],\n",
      "      dtype='object')\n",
      "rho=0.3118894076385539, p=6.81910976024547e-08, genus=Leptotrichia\n",
      "rho=0.5362522412218625, p=9.060788722012027e-23, genus=Clostridium\n",
      "rho=0.0177504378734153, p=0.7646175214868599, genus=Veillonella\n",
      "rho=0.21598607626708635, p=0.00022720210269336433, genus=Bacteroides\n",
      "rho=0.7983301849799598, p=1.003043596318574e-64, genus=Klebsiella\n",
      "rho=0.6639099614512243, p=7.604253824021968e-38, genus=Shewanella\n",
      "rho=0.7747485302457061, p=1.0992821337153463e-58, genus=Prevotella\n",
      "rho=0.6805646632553785, p=2.1951891051894013e-40, genus=Capnocytophaga\n",
      "rho=0.19332517239577915, p=0.000994942164876376, genus=Stenotrophomonas\n",
      "rho=0.7847740405453387, p=3.6859803294829516e-61, genus=Escherichia\n",
      "rho=0.7668778587141105, p=7.86935954271178e-57, genus=Burkholderia\n",
      "rho=0.26396346308005314, p=5.8162740857587344e-06, genus=Enterococcus\n",
      "rho=0.6371564413683328, p=4.320873326500531e-34, genus=Psychrobacter\n",
      "rho=0.7025240237669944, p=5.291998012445012e-44, genus=Enterobacter\n",
      "rho=0.52127491867769, p=2.1378780181683603e-21, genus=Alphatorquevirus\n",
      "rho=0.32807196530477345, p=1.2559927537891026e-08, genus=Bacillus\n",
      "rho=0.4442664316145679, p=2.592864017761472e-15, genus=Agrobacterium\n",
      "(17,) Index(['Leptotrichia', 'Clostridium', 'Veillonella', 'Bacteroides',\n",
      "       'Klebsiella', 'Shewanella', 'Prevotella', 'Capnocytophaga',\n",
      "       'Stenotrophomonas', 'Escherichia', 'Burkholderia', 'Enterococcus',\n",
      "       'Psychrobacter', 'Enterobacter', 'Alphatorquevirus', 'Bacillus',\n",
      "       'Agrobacterium'],\n",
      "      dtype='object')\n",
      "rho=0.3118894076385539, p=6.81910976024547e-08, genus=Leptotrichia\n",
      "rho=0.5362522412218625, p=9.060788722012027e-23, genus=Clostridium\n",
      "rho=0.0177504378734153, p=0.7646175214868599, genus=Veillonella\n",
      "rho=0.21598607626708635, p=0.00022720210269336433, genus=Bacteroides\n",
      "rho=0.7983301849799598, p=1.003043596318574e-64, genus=Klebsiella\n",
      "rho=0.6639099614512243, p=7.604253824021968e-38, genus=Shewanella\n",
      "rho=0.7747485302457061, p=1.0992821337153463e-58, genus=Prevotella\n",
      "rho=0.6805646632553785, p=2.1951891051894013e-40, genus=Capnocytophaga\n",
      "rho=0.19332517239577915, p=0.000994942164876376, genus=Stenotrophomonas\n",
      "rho=0.7847740405453387, p=3.6859803294829516e-61, genus=Escherichia\n",
      "rho=0.7668778587141105, p=7.86935954271178e-57, genus=Burkholderia\n",
      "rho=0.26396346308005314, p=5.8162740857587344e-06, genus=Enterococcus\n",
      "rho=0.6371564413683328, p=4.320873326500531e-34, genus=Psychrobacter\n",
      "rho=0.7025240237669944, p=5.291998012445012e-44, genus=Enterobacter\n",
      "rho=0.52127491867769, p=2.1378780181683603e-21, genus=Alphatorquevirus\n",
      "rho=0.32807196530477345, p=1.2559927537891026e-08, genus=Bacillus\n",
      "rho=0.4442664316145679, p=2.592864017761472e-15, genus=Agrobacterium\n",
      "(17,) Index(['Leptotrichia', 'Clostridium', 'Veillonella', 'Bacteroides',\n",
      "       'Klebsiella', 'Shewanella', 'Prevotella', 'Capnocytophaga',\n",
      "       'Stenotrophomonas', 'Escherichia', 'Burkholderia', 'Enterococcus',\n",
      "       'Psychrobacter', 'Enterobacter', 'Alphatorquevirus', 'Bacillus',\n",
      "       'Agrobacterium'],\n",
      "      dtype='object')\n",
      "rho=0.3118894076385539, p=6.81910976024547e-08, genus=Leptotrichia\n",
      "rho=0.5362522412218625, p=9.060788722012027e-23, genus=Clostridium\n",
      "rho=0.0177504378734153, p=0.7646175214868599, genus=Veillonella\n",
      "rho=0.21598607626708635, p=0.00022720210269336433, genus=Bacteroides\n",
      "rho=0.7983301849799598, p=1.003043596318574e-64, genus=Klebsiella\n",
      "rho=0.6639099614512243, p=7.604253824021968e-38, genus=Shewanella\n",
      "rho=0.7747485302457061, p=1.0992821337153463e-58, genus=Prevotella\n",
      "rho=0.6805646632553785, p=2.1951891051894013e-40, genus=Capnocytophaga\n",
      "rho=0.19332517239577915, p=0.000994942164876376, genus=Stenotrophomonas\n",
      "rho=0.7847740405453387, p=3.6859803294829516e-61, genus=Escherichia\n",
      "rho=0.7668778587141105, p=7.86935954271178e-57, genus=Burkholderia\n",
      "rho=0.26396346308005314, p=5.8162740857587344e-06, genus=Enterococcus\n",
      "rho=0.6371564413683328, p=4.320873326500531e-34, genus=Psychrobacter\n",
      "rho=0.7025240237669944, p=5.291998012445012e-44, genus=Enterobacter\n",
      "rho=0.52127491867769, p=2.1378780181683603e-21, genus=Alphatorquevirus\n",
      "rho=0.32807196530477345, p=1.2559927537891026e-08, genus=Bacillus\n",
      "rho=0.4442664316145679, p=2.592864017761472e-15, genus=Agrobacterium\n",
      "(17,) Index(['Leptotrichia', 'Clostridium', 'Veillonella', 'Bacteroides',\n",
      "       'Klebsiella', 'Shewanella', 'Prevotella', 'Capnocytophaga',\n",
      "       'Stenotrophomonas', 'Escherichia', 'Burkholderia', 'Enterococcus',\n",
      "       'Psychrobacter', 'Enterobacter', 'Alphatorquevirus', 'Bacillus',\n",
      "       'Agrobacterium'],\n",
      "      dtype='object')\n",
      "rho=0.3118894076385539, p=6.81910976024547e-08, genus=Leptotrichia\n",
      "rho=0.5362522412218625, p=9.060788722012027e-23, genus=Clostridium\n",
      "rho=0.0177504378734153, p=0.7646175214868599, genus=Veillonella\n",
      "rho=0.21598607626708635, p=0.00022720210269336433, genus=Bacteroides\n",
      "rho=0.7983301849799598, p=1.003043596318574e-64, genus=Klebsiella\n",
      "rho=0.6639099614512243, p=7.604253824021968e-38, genus=Shewanella\n",
      "rho=0.7747485302457061, p=1.0992821337153463e-58, genus=Prevotella\n",
      "rho=0.6805646632553785, p=2.1951891051894013e-40, genus=Capnocytophaga\n",
      "rho=0.19332517239577915, p=0.000994942164876376, genus=Stenotrophomonas\n",
      "rho=0.7847740405453387, p=3.6859803294829516e-61, genus=Escherichia\n",
      "rho=0.7668778587141105, p=7.86935954271178e-57, genus=Burkholderia\n",
      "rho=0.26396346308005314, p=5.8162740857587344e-06, genus=Enterococcus\n",
      "rho=0.6371564413683328, p=4.320873326500531e-34, genus=Psychrobacter\n",
      "rho=0.7025240237669944, p=5.291998012445012e-44, genus=Enterobacter\n",
      "rho=0.52127491867769, p=2.1378780181683603e-21, genus=Alphatorquevirus\n",
      "rho=0.32807196530477345, p=1.2559927537891026e-08, genus=Bacillus\n",
      "rho=0.4442664316145679, p=2.592864017761472e-15, genus=Agrobacterium\n",
      "(17,) Index(['Leptotrichia', 'Clostridium', 'Veillonella', 'Bacteroides',\n",
      "       'Klebsiella', 'Shewanella', 'Prevotella', 'Capnocytophaga',\n",
      "       'Stenotrophomonas', 'Escherichia', 'Burkholderia', 'Enterococcus',\n",
      "       'Psychrobacter', 'Enterobacter', 'Alphatorquevirus', 'Bacillus',\n",
      "       'Agrobacterium'],\n",
      "      dtype='object')\n"
     ]
    }
   ],
   "source": [
    "# Decontam using raw_params\n",
    "for _ in range(10):\n",
    "    genera_new = decontam(X.loc[:, genera_new], y, raw_params)"
   ]
  },
  {
   "cell_type": "code",
   "execution_count": 13,
   "metadata": {},
   "outputs": [],
   "source": [
    "# Decontam + pathogens\n",
    "raw_CR = X[genera_new]\n",
    "\n",
    "# Normalise RA\n",
    "RA_CR = raw_CR.apply(func=lambda x: x / x.sum(), axis=1)"
   ]
  },
  {
   "cell_type": "code",
   "execution_count": 14,
   "metadata": {},
   "outputs": [
    {
     "data": {
      "image/png": "[encoded data removed]",
      "text/plain": [
       "<Figure size 288x360 with 2 Axes>"
      ]
     },
     "metadata": {
      "needs_background": "light"
     },
     "output_type": "display_data"
    }
   ],
   "source": [
    "pre_model = XGBClassifier(**raw_params)\n",
    "pre_model.fit(X=raw_CR, y=y)\n",
    "\n",
    "pre_explainer = shap.TreeExplainer(pre_model, feature_pertubation='interventional', model_output='probability', data=raw_CR)\n",
    "shap_pre = pre_explainer.shap_values(raw_CR)\n",
    "\n",
    "shap.summary_plot(shap_pre, raw_CR, show=False, plot_size=(4, 5), color_bar_label='Read Count', max_display=25)\n",
    "fig, ax = plt.gcf(), plt.gca()\n",
    "ax.set_xlabel('SHAP Value')\n",
    "plt.savefig(results / 'pre_shap.png', dpi=600, format='png', bbox_inches='tight')\n"
   ]
  },
  {
   "cell_type": "markdown",
   "metadata": {},
   "source": [
    "### Number of Features"
   ]
  },
  {
   "cell_type": "code",
   "execution_count": 15,
   "metadata": {},
   "outputs": [
    {
     "name": "stdout",
     "output_type": "stream",
     "text": [
      "Neat (287, 581)\n",
      "CR (287, 17)\n"
     ]
    }
   ],
   "source": [
    "print('Neat', X.shape)\n",
    "print('CR', raw_CR.shape)"
   ]
  },
  {
   "cell_type": "markdown",
   "metadata": {},
   "source": [
    "## Optimise and evaluate decontaminated models"
   ]
  },
  {
   "cell_type": "code",
   "execution_count": 16,
   "metadata": {},
   "outputs": [
    {
     "name": "stdout",
     "output_type": "stream",
     "text": [
      "{'subsample': 0.7, 'scale_pos_weight': 1.452991452991453, 'n_estimators': 140, 'max_depth': 1, 'gamma': 2.033333333333333, 'colsample_bytree': 0.1473684210526316}\n",
      "{'subsample': 0.9, 'scale_pos_weight': 1.452991452991453, 'n_estimators': 110, 'max_depth': 4, 'gamma': 2.033333333333333, 'colsample_bytree': 0.1473684210526316}\n"
     ]
    },
    {
     "data": {
      "text/html": [
       "<div>\n",
       "<style scoped>\n",
       "    .dataframe tbody tr th:only-of-type {\n",
       "        vertical-align: middle;\n",
       "    }\n",
       "\n",
       "    .dataframe tbody tr th {\n",
       "        vertical-align: top;\n",
       "    }\n",
       "\n",
       "    .dataframe thead th {\n",
       "        text-align: right;\n",
       "    }\n",
       "</style>\n",
       "<table border=\"1\" class=\"dataframe\">\n",
       "  <thead>\n",
       "    <tr style=\"text-align: right;\">\n",
       "      <th></th>\n",
       "      <th>test_precision</th>\n",
       "      <th>test_recall</th>\n",
       "      <th>test_F1</th>\n",
       "      <th>test_AUROC</th>\n",
       "    </tr>\n",
       "  </thead>\n",
       "  <tbody>\n",
       "    <tr>\n",
       "      <th>Raw</th>\n",
       "      <td>0.966</td>\n",
       "      <td>0.891</td>\n",
       "      <td>0.924</td>\n",
       "      <td>0.984</td>\n",
       "    </tr>\n",
       "    <tr>\n",
       "      <th>RA</th>\n",
       "      <td>0.951</td>\n",
       "      <td>0.916</td>\n",
       "      <td>0.931</td>\n",
       "      <td>0.986</td>\n",
       "    </tr>\n",
       "    <tr>\n",
       "      <th>Raw CR</th>\n",
       "      <td>0.835</td>\n",
       "      <td>0.788</td>\n",
       "      <td>0.802</td>\n",
       "      <td>0.915</td>\n",
       "    </tr>\n",
       "    <tr>\n",
       "      <th>RA CR</th>\n",
       "      <td>0.841</td>\n",
       "      <td>0.803</td>\n",
       "      <td>0.813</td>\n",
       "      <td>0.906</td>\n",
       "    </tr>\n",
       "  </tbody>\n",
       "</table>\n",
       "</div>"
      ],
      "text/plain": [
       "        test_precision  test_recall  test_F1  test_AUROC\n",
       "Raw              0.966        0.891    0.924       0.984\n",
       "RA               0.951        0.916    0.931       0.986\n",
       "Raw CR           0.835        0.788    0.802       0.915\n",
       "RA CR            0.841        0.803    0.813       0.906"
      ]
     },
     "metadata": {},
     "output_type": "display_data"
    }
   ],
   "source": [
    "raw_CR_results, raw_CR_params = optimise_evaluate(raw_CR, y)\n",
    "# raw_CR_params = {'subsample': 0.7631578947368421, 'scale_pos_weight': 1.4273504273504274, 'n_estimators': 426, 'max_depth': 1, 'gamma': 0.0, 'colsample_bytree': 0.1}\n",
    "\n",
    "RA_CR_results, RA_CR_params = optimise_evaluate(RA_CR, y)\n",
    "# RA_CR_params = {'subsample': 0.38421052631578945, 'scale_pos_weight': 1.4273504273504274, 'n_estimators': 101, 'max_depth': 5, 'gamma': 2.894736842105263, 'colsample_bytree': 0.19473684210526315}\n",
    "\n",
    "metric_df = metric_df.append(pd.DataFrame({'Raw CR': raw_CR_results, 'RA CR': RA_CR_results}).round(3).T)\n",
    "display(metric_df)"
   ]
  },
  {
   "cell_type": "markdown",
   "metadata": {},
   "source": [
    "### Fit clean models"
   ]
  },
  {
   "cell_type": "code",
   "execution_count": 17,
   "metadata": {},
   "outputs": [
    {
     "data": {
      "text/plain": [
       "XGBClassifier(colsample_bytree=0.1473684210526316, gamma=2.033333333333333,\n",
       "              max_depth=4, n_estimators=110, scale_pos_weight=1.452991452991453,\n",
       "              subsample=0.9)"
      ]
     },
     "execution_count": 17,
     "metadata": {},
     "output_type": "execute_result"
    }
   ],
   "source": [
    "raw_CR_model = XGBClassifier(**raw_CR_params)\n",
    "raw_CR_model.fit(raw_CR, y)\n",
    "\n",
    "RA_CR_model = XGBClassifier(**RA_CR_params)\n",
    "RA_CR_model.fit(RA_CR, y)"
   ]
  },
  {
   "cell_type": "markdown",
   "metadata": {},
   "source": [
    "## Interpreting model using SHAP values"
   ]
  },
  {
   "cell_type": "markdown",
   "metadata": {},
   "source": [
    "### Plot of SHAP values per Feature"
   ]
  },
  {
   "cell_type": "code",
   "execution_count": 18,
   "metadata": {},
   "outputs": [],
   "source": [
    "import matplotlib.pyplot as plt\n",
    "explainer_CR = shap.TreeExplainer(raw_CR_model, feature_pertubation='interventional', model_output='probability', data=raw_CR)\n",
    "shap_CR = explainer_CR.shap_values(raw_CR)\n",
    "\n",
    "explainer_raw = shap.TreeExplainer(raw_model, feature_pertubation='interventional', model_output='probability', data=X)\n",
    "shap_raw = explainer_raw.shap_values(X)"
   ]
  },
  {
   "cell_type": "markdown",
   "metadata": {},
   "source": [
    "#### Dirty raw"
   ]
  },
  {
   "cell_type": "code",
   "execution_count": 19,
   "metadata": {},
   "outputs": [
    {
     "data": {
      "image/png": "[encoded data removed]",
      "text/plain": [
       "<Figure size 288x360 with 2 Axes>"
      ]
     },
     "metadata": {
      "needs_background": "light"
     },
     "output_type": "display_data"
    }
   ],
   "source": [
    "shap.summary_plot(shap_raw, X, show=False, plot_size=(4, 5), color_bar_label='Read Count', max_display=23)\n",
    "fig, ax = plt.gcf(), plt.gca()\n",
    "ax.set_xlabel('SHAP Value')\n",
    "plt.savefig(results / 'raw_shap.png', dpi=600, format='png', bbox_inches='tight')"
   ]
  },
  {
   "cell_type": "code",
   "execution_count": 20,
   "metadata": {
    "scrolled": true
   },
   "outputs": [
    {
     "data": {
      "image/png": "[encoded data removed]",
      "text/plain": [
       "<Figure size 288x360 with 2 Axes>"
      ]
     },
     "metadata": {
      "needs_background": "light"
     },
     "output_type": "display_data"
    }
   ],
   "source": [
    "shap.summary_plot(shap_CR, raw_CR, show=False, plot_size=(4, 5), color_bar_label='Read Count', max_display=35)\n",
    "fig, ax = plt.gcf(), plt.gca()\n",
    "ax.set_xlabel('SHAP Value')\n",
    "plt.savefig(results / 'raw_CR_shap.png', dpi=600, format='png', bbox_inches='tight')"
   ]
  },
  {
   "cell_type": "markdown",
   "metadata": {},
   "source": [
    "* Features are ranked by importance from top to botttom\n",
    "* feature values are the read counts for each genus\n",
    "* SHAP values are the average marginal contributions to probability"
   ]
  },
  {
   "cell_type": "markdown",
   "metadata": {},
   "source": [
    "### Force plot for healthy patient"
   ]
  },
  {
   "cell_type": "code",
   "execution_count": 21,
   "metadata": {
    "scrolled": true
   },
   "outputs": [
    {
     "name": "stdout",
     "output_type": "stream",
     "text": [
      "Actual Classification 1\n",
      "201\n"
     ]
    },
    {
     "data": {
      "image/png": "[encoded data removed]",
      "text/plain": [
       "<Figure size 1440x216 with 1 Axes>"
      ]
     },
     "metadata": {
      "needs_background": "light"
     },
     "output_type": "display_data"
    }
   ],
   "source": [
    "j = 201\n",
    "\n",
    "print(f'Actual Classification {y[j]}')\n",
    "print(raw_CR.index[j])\n",
    "\n",
    "shap.force_plot(explainer_CR.expected_value, \n",
    "                shap_CR[j,:], \n",
    "                raw_CR.iloc[j,:],\n",
    "                show=False,\n",
    "                matplotlib=True)\n",
    "\n",
    "plt.savefig(results / 'CR_force_plot.png', dpi=600, format='png', bbox_inches='tight')"
   ]
  },
  {
   "cell_type": "markdown",
   "metadata": {},
   "source": [
    "## How much does Escherichia drive predictions?"
   ]
  },
  {
   "cell_type": "markdown",
   "metadata": {},
   "source": [
    "In Escherichia-positive patients"
   ]
  },
  {
   "cell_type": "code",
   "execution_count": 22,
   "metadata": {
    "scrolled": true
   },
   "outputs": [
    {
     "name": "stdout",
     "output_type": "stream",
     "text": [
      "{'subsample': 0.7, 'scale_pos_weight': 1.0, 'n_estimators': 200, 'max_depth': 4, 'gamma': 0.1, 'colsample_bytree': 0.7631578947368421}\n",
      "{'subsample': 0.8, 'scale_pos_weight': 1.0, 'n_estimators': 190, 'max_depth': 1, 'gamma': 0.7444444444444444, 'colsample_bytree': 0.1}\n",
      "{'subsample': 0.9, 'scale_pos_weight': 1.0, 'n_estimators': 170, 'max_depth': 3, 'gamma': 0.1, 'colsample_bytree': 0.5263157894736842}\n"
     ]
    },
    {
     "data": {
      "text/html": [
       "<div>\n",
       "<style scoped>\n",
       "    .dataframe tbody tr th:only-of-type {\n",
       "        vertical-align: middle;\n",
       "    }\n",
       "\n",
       "    .dataframe tbody tr th {\n",
       "        vertical-align: top;\n",
       "    }\n",
       "\n",
       "    .dataframe thead th {\n",
       "        text-align: right;\n",
       "    }\n",
       "</style>\n",
       "<table border=\"1\" class=\"dataframe\">\n",
       "  <thead>\n",
       "    <tr style=\"text-align: right;\">\n",
       "      <th></th>\n",
       "      <th>test_precision</th>\n",
       "      <th>test_recall</th>\n",
       "      <th>test_F1</th>\n",
       "      <th>test_AUROC</th>\n",
       "    </tr>\n",
       "  </thead>\n",
       "  <tbody>\n",
       "    <tr>\n",
       "      <th>With</th>\n",
       "      <td>0.966667</td>\n",
       "      <td>0.980</td>\n",
       "      <td>0.970707</td>\n",
       "      <td>0.992</td>\n",
       "    </tr>\n",
       "    <tr>\n",
       "      <th>No</th>\n",
       "      <td>0.850000</td>\n",
       "      <td>0.725</td>\n",
       "      <td>0.755433</td>\n",
       "      <td>0.828</td>\n",
       "    </tr>\n",
       "    <tr>\n",
       "      <th>only</th>\n",
       "      <td>0.983333</td>\n",
       "      <td>0.980</td>\n",
       "      <td>0.979798</td>\n",
       "      <td>0.990</td>\n",
       "    </tr>\n",
       "  </tbody>\n",
       "</table>\n",
       "</div>"
      ],
      "text/plain": [
       "      test_precision  test_recall   test_F1  test_AUROC\n",
       "With        0.966667        0.980  0.970707       0.992\n",
       "No          0.850000        0.725  0.755433       0.828\n",
       "only        0.983333        0.980  0.979798       0.990"
      ]
     },
     "metadata": {},
     "output_type": "display_data"
    },
    {
     "name": "stdout",
     "output_type": "stream",
     "text": [
      "{'subsample': 0.8, 'scale_pos_weight': 1.0, 'n_estimators': 260, 'max_depth': 1, 'gamma': 0.1, 'colsample_bytree': 0.24210526315789474}\n",
      "{'subsample': 1.0, 'scale_pos_weight': 1.0, 'n_estimators': 120, 'max_depth': 4, 'gamma': 1.711111111111111, 'colsample_bytree': 0.1}\n",
      "{'subsample': 1.0, 'scale_pos_weight': 1.0, 'n_estimators': 230, 'max_depth': 4, 'gamma': 0.1, 'colsample_bytree': 0.5263157894736842}\n"
     ]
    },
    {
     "data": {
      "text/html": [
       "<div>\n",
       "<style scoped>\n",
       "    .dataframe tbody tr th:only-of-type {\n",
       "        vertical-align: middle;\n",
       "    }\n",
       "\n",
       "    .dataframe tbody tr th {\n",
       "        vertical-align: top;\n",
       "    }\n",
       "\n",
       "    .dataframe thead th {\n",
       "        text-align: right;\n",
       "    }\n",
       "</style>\n",
       "<table border=\"1\" class=\"dataframe\">\n",
       "  <thead>\n",
       "    <tr style=\"text-align: right;\">\n",
       "      <th></th>\n",
       "      <th>test_precision</th>\n",
       "      <th>test_recall</th>\n",
       "      <th>test_F1</th>\n",
       "      <th>test_AUROC</th>\n",
       "    </tr>\n",
       "  </thead>\n",
       "  <tbody>\n",
       "    <tr>\n",
       "      <th>With</th>\n",
       "      <td>0.963333</td>\n",
       "      <td>0.98</td>\n",
       "      <td>0.970909</td>\n",
       "      <td>0.970</td>\n",
       "    </tr>\n",
       "    <tr>\n",
       "      <th>No</th>\n",
       "      <td>0.850476</td>\n",
       "      <td>0.71</td>\n",
       "      <td>0.742684</td>\n",
       "      <td>0.865</td>\n",
       "    </tr>\n",
       "    <tr>\n",
       "      <th>only</th>\n",
       "      <td>0.963333</td>\n",
       "      <td>0.98</td>\n",
       "      <td>0.970909</td>\n",
       "      <td>0.968</td>\n",
       "    </tr>\n",
       "  </tbody>\n",
       "</table>\n",
       "</div>"
      ],
      "text/plain": [
       "      test_precision  test_recall   test_F1  test_AUROC\n",
       "With        0.963333         0.98  0.970909       0.970\n",
       "No          0.850476         0.71  0.742684       0.865\n",
       "only        0.963333         0.98  0.970909       0.968"
      ]
     },
     "metadata": {},
     "output_type": "display_data"
    },
    {
     "name": "stdout",
     "output_type": "stream",
     "text": [
      "{'subsample': 0.8, 'scale_pos_weight': 1.0, 'n_estimators': 260, 'max_depth': 1, 'gamma': 0.1, 'colsample_bytree': 0.24210526315789474}\n",
      "{'subsample': 1.0, 'scale_pos_weight': 1.0, 'n_estimators': 120, 'max_depth': 4, 'gamma': 1.711111111111111, 'colsample_bytree': 0.1}\n",
      "{'subsample': 1.0, 'scale_pos_weight': 1.0, 'n_estimators': 230, 'max_depth': 4, 'gamma': 0.1, 'colsample_bytree': 0.5263157894736842}\n"
     ]
    },
    {
     "data": {
      "text/html": [
       "<div>\n",
       "<style scoped>\n",
       "    .dataframe tbody tr th:only-of-type {\n",
       "        vertical-align: middle;\n",
       "    }\n",
       "\n",
       "    .dataframe tbody tr th {\n",
       "        vertical-align: top;\n",
       "    }\n",
       "\n",
       "    .dataframe thead th {\n",
       "        text-align: right;\n",
       "    }\n",
       "</style>\n",
       "<table border=\"1\" class=\"dataframe\">\n",
       "  <thead>\n",
       "    <tr style=\"text-align: right;\">\n",
       "      <th></th>\n",
       "      <th>test_precision</th>\n",
       "      <th>test_recall</th>\n",
       "      <th>test_F1</th>\n",
       "      <th>test_AUROC</th>\n",
       "    </tr>\n",
       "  </thead>\n",
       "  <tbody>\n",
       "    <tr>\n",
       "      <th>With</th>\n",
       "      <td>0.963333</td>\n",
       "      <td>0.98</td>\n",
       "      <td>0.970909</td>\n",
       "      <td>0.970</td>\n",
       "    </tr>\n",
       "    <tr>\n",
       "      <th>No</th>\n",
       "      <td>0.850476</td>\n",
       "      <td>0.71</td>\n",
       "      <td>0.742684</td>\n",
       "      <td>0.865</td>\n",
       "    </tr>\n",
       "    <tr>\n",
       "      <th>only</th>\n",
       "      <td>0.963333</td>\n",
       "      <td>0.98</td>\n",
       "      <td>0.970909</td>\n",
       "      <td>0.968</td>\n",
       "    </tr>\n",
       "  </tbody>\n",
       "</table>\n",
       "</div>"
      ],
      "text/plain": [
       "      test_precision  test_recall   test_F1  test_AUROC\n",
       "With        0.963333         0.98  0.970909       0.970\n",
       "No          0.850476         0.71  0.742684       0.865\n",
       "only        0.963333         0.98  0.970909       0.968"
      ]
     },
     "metadata": {},
     "output_type": "display_data"
    },
    {
     "name": "stdout",
     "output_type": "stream",
     "text": [
      "{'subsample': 0.8, 'scale_pos_weight': 1.0, 'n_estimators': 260, 'max_depth': 1, 'gamma': 0.1, 'colsample_bytree': 0.24210526315789474}\n",
      "{'subsample': 1.0, 'scale_pos_weight': 1.0, 'n_estimators': 120, 'max_depth': 4, 'gamma': 1.711111111111111, 'colsample_bytree': 0.1}\n",
      "{'subsample': 1.0, 'scale_pos_weight': 1.0, 'n_estimators': 230, 'max_depth': 4, 'gamma': 0.1, 'colsample_bytree': 0.5263157894736842}\n"
     ]
    },
    {
     "data": {
      "text/html": [
       "<div>\n",
       "<style scoped>\n",
       "    .dataframe tbody tr th:only-of-type {\n",
       "        vertical-align: middle;\n",
       "    }\n",
       "\n",
       "    .dataframe tbody tr th {\n",
       "        vertical-align: top;\n",
       "    }\n",
       "\n",
       "    .dataframe thead th {\n",
       "        text-align: right;\n",
       "    }\n",
       "</style>\n",
       "<table border=\"1\" class=\"dataframe\">\n",
       "  <thead>\n",
       "    <tr style=\"text-align: right;\">\n",
       "      <th></th>\n",
       "      <th>test_precision</th>\n",
       "      <th>test_recall</th>\n",
       "      <th>test_F1</th>\n",
       "      <th>test_AUROC</th>\n",
       "    </tr>\n",
       "  </thead>\n",
       "  <tbody>\n",
       "    <tr>\n",
       "      <th>With</th>\n",
       "      <td>0.963333</td>\n",
       "      <td>0.98</td>\n",
       "      <td>0.970909</td>\n",
       "      <td>0.970</td>\n",
       "    </tr>\n",
       "    <tr>\n",
       "      <th>No</th>\n",
       "      <td>0.850476</td>\n",
       "      <td>0.71</td>\n",
       "      <td>0.742684</td>\n",
       "      <td>0.865</td>\n",
       "    </tr>\n",
       "    <tr>\n",
       "      <th>only</th>\n",
       "      <td>0.963333</td>\n",
       "      <td>0.98</td>\n",
       "      <td>0.970909</td>\n",
       "      <td>0.968</td>\n",
       "    </tr>\n",
       "  </tbody>\n",
       "</table>\n",
       "</div>"
      ],
      "text/plain": [
       "      test_precision  test_recall   test_F1  test_AUROC\n",
       "With        0.963333         0.98  0.970909       0.970\n",
       "No          0.850476         0.71  0.742684       0.865\n",
       "only        0.963333         0.98  0.970909       0.968"
      ]
     },
     "metadata": {},
     "output_type": "display_data"
    },
    {
     "name": "stdout",
     "output_type": "stream",
     "text": [
      "{'subsample': 0.8, 'scale_pos_weight': 1.0, 'n_estimators': 260, 'max_depth': 1, 'gamma': 0.1, 'colsample_bytree': 0.24210526315789474}\n",
      "{'subsample': 1.0, 'scale_pos_weight': 1.0, 'n_estimators': 120, 'max_depth': 4, 'gamma': 1.711111111111111, 'colsample_bytree': 0.1}\n",
      "{'subsample': 1.0, 'scale_pos_weight': 1.0, 'n_estimators': 230, 'max_depth': 4, 'gamma': 0.1, 'colsample_bytree': 0.5263157894736842}\n"
     ]
    },
    {
     "data": {
      "text/html": [
       "<div>\n",
       "<style scoped>\n",
       "    .dataframe tbody tr th:only-of-type {\n",
       "        vertical-align: middle;\n",
       "    }\n",
       "\n",
       "    .dataframe tbody tr th {\n",
       "        vertical-align: top;\n",
       "    }\n",
       "\n",
       "    .dataframe thead th {\n",
       "        text-align: right;\n",
       "    }\n",
       "</style>\n",
       "<table border=\"1\" class=\"dataframe\">\n",
       "  <thead>\n",
       "    <tr style=\"text-align: right;\">\n",
       "      <th></th>\n",
       "      <th>test_precision</th>\n",
       "      <th>test_recall</th>\n",
       "      <th>test_F1</th>\n",
       "      <th>test_AUROC</th>\n",
       "    </tr>\n",
       "  </thead>\n",
       "  <tbody>\n",
       "    <tr>\n",
       "      <th>With</th>\n",
       "      <td>0.963333</td>\n",
       "      <td>0.98</td>\n",
       "      <td>0.970909</td>\n",
       "      <td>0.970</td>\n",
       "    </tr>\n",
       "    <tr>\n",
       "      <th>No</th>\n",
       "      <td>0.850476</td>\n",
       "      <td>0.71</td>\n",
       "      <td>0.742684</td>\n",
       "      <td>0.865</td>\n",
       "    </tr>\n",
       "    <tr>\n",
       "      <th>only</th>\n",
       "      <td>0.963333</td>\n",
       "      <td>0.98</td>\n",
       "      <td>0.970909</td>\n",
       "      <td>0.968</td>\n",
       "    </tr>\n",
       "  </tbody>\n",
       "</table>\n",
       "</div>"
      ],
      "text/plain": [
       "      test_precision  test_recall   test_F1  test_AUROC\n",
       "With        0.963333         0.98  0.970909       0.970\n",
       "No          0.850476         0.71  0.742684       0.865\n",
       "only        0.963333         0.98  0.970909       0.968"
      ]
     },
     "metadata": {},
     "output_type": "display_data"
    },
    {
     "name": "stdout",
     "output_type": "stream",
     "text": [
      "{'subsample': 0.8, 'scale_pos_weight': 1.0, 'n_estimators': 260, 'max_depth': 1, 'gamma': 0.1, 'colsample_bytree': 0.24210526315789474}\n",
      "{'subsample': 1.0, 'scale_pos_weight': 1.0, 'n_estimators': 120, 'max_depth': 4, 'gamma': 1.711111111111111, 'colsample_bytree': 0.1}\n",
      "{'subsample': 1.0, 'scale_pos_weight': 1.0, 'n_estimators': 230, 'max_depth': 4, 'gamma': 0.1, 'colsample_bytree': 0.5263157894736842}\n"
     ]
    },
    {
     "data": {
      "text/html": [
       "<div>\n",
       "<style scoped>\n",
       "    .dataframe tbody tr th:only-of-type {\n",
       "        vertical-align: middle;\n",
       "    }\n",
       "\n",
       "    .dataframe tbody tr th {\n",
       "        vertical-align: top;\n",
       "    }\n",
       "\n",
       "    .dataframe thead th {\n",
       "        text-align: right;\n",
       "    }\n",
       "</style>\n",
       "<table border=\"1\" class=\"dataframe\">\n",
       "  <thead>\n",
       "    <tr style=\"text-align: right;\">\n",
       "      <th></th>\n",
       "      <th>test_precision</th>\n",
       "      <th>test_recall</th>\n",
       "      <th>test_F1</th>\n",
       "      <th>test_AUROC</th>\n",
       "    </tr>\n",
       "  </thead>\n",
       "  <tbody>\n",
       "    <tr>\n",
       "      <th>With</th>\n",
       "      <td>0.963333</td>\n",
       "      <td>0.98</td>\n",
       "      <td>0.970909</td>\n",
       "      <td>0.970</td>\n",
       "    </tr>\n",
       "    <tr>\n",
       "      <th>No</th>\n",
       "      <td>0.850476</td>\n",
       "      <td>0.71</td>\n",
       "      <td>0.742684</td>\n",
       "      <td>0.865</td>\n",
       "    </tr>\n",
       "    <tr>\n",
       "      <th>only</th>\n",
       "      <td>0.963333</td>\n",
       "      <td>0.98</td>\n",
       "      <td>0.970909</td>\n",
       "      <td>0.968</td>\n",
       "    </tr>\n",
       "  </tbody>\n",
       "</table>\n",
       "</div>"
      ],
      "text/plain": [
       "      test_precision  test_recall   test_F1  test_AUROC\n",
       "With        0.963333         0.98  0.970909       0.970\n",
       "No          0.850476         0.71  0.742684       0.865\n",
       "only        0.963333         0.98  0.970909       0.968"
      ]
     },
     "metadata": {},
     "output_type": "display_data"
    },
    {
     "name": "stdout",
     "output_type": "stream",
     "text": [
      "{'subsample': 0.8, 'scale_pos_weight': 1.0, 'n_estimators': 260, 'max_depth': 1, 'gamma': 0.1, 'colsample_bytree': 0.24210526315789474}\n",
      "{'subsample': 1.0, 'scale_pos_weight': 1.0, 'n_estimators': 120, 'max_depth': 4, 'gamma': 1.711111111111111, 'colsample_bytree': 0.1}\n",
      "{'subsample': 1.0, 'scale_pos_weight': 1.0, 'n_estimators': 230, 'max_depth': 4, 'gamma': 0.1, 'colsample_bytree': 0.5263157894736842}\n"
     ]
    },
    {
     "data": {
      "text/html": [
       "<div>\n",
       "<style scoped>\n",
       "    .dataframe tbody tr th:only-of-type {\n",
       "        vertical-align: middle;\n",
       "    }\n",
       "\n",
       "    .dataframe tbody tr th {\n",
       "        vertical-align: top;\n",
       "    }\n",
       "\n",
       "    .dataframe thead th {\n",
       "        text-align: right;\n",
       "    }\n",
       "</style>\n",
       "<table border=\"1\" class=\"dataframe\">\n",
       "  <thead>\n",
       "    <tr style=\"text-align: right;\">\n",
       "      <th></th>\n",
       "      <th>test_precision</th>\n",
       "      <th>test_recall</th>\n",
       "      <th>test_F1</th>\n",
       "      <th>test_AUROC</th>\n",
       "    </tr>\n",
       "  </thead>\n",
       "  <tbody>\n",
       "    <tr>\n",
       "      <th>With</th>\n",
       "      <td>0.963333</td>\n",
       "      <td>0.98</td>\n",
       "      <td>0.970909</td>\n",
       "      <td>0.970</td>\n",
       "    </tr>\n",
       "    <tr>\n",
       "      <th>No</th>\n",
       "      <td>0.850476</td>\n",
       "      <td>0.71</td>\n",
       "      <td>0.742684</td>\n",
       "      <td>0.865</td>\n",
       "    </tr>\n",
       "    <tr>\n",
       "      <th>only</th>\n",
       "      <td>0.963333</td>\n",
       "      <td>0.98</td>\n",
       "      <td>0.970909</td>\n",
       "      <td>0.968</td>\n",
       "    </tr>\n",
       "  </tbody>\n",
       "</table>\n",
       "</div>"
      ],
      "text/plain": [
       "      test_precision  test_recall   test_F1  test_AUROC\n",
       "With        0.963333         0.98  0.970909       0.970\n",
       "No          0.850476         0.71  0.742684       0.865\n",
       "only        0.963333         0.98  0.970909       0.968"
      ]
     },
     "metadata": {},
     "output_type": "display_data"
    },
    {
     "name": "stdout",
     "output_type": "stream",
     "text": [
      "{'subsample': 0.8, 'scale_pos_weight': 1.0, 'n_estimators': 260, 'max_depth': 1, 'gamma': 0.1, 'colsample_bytree': 0.24210526315789474}\n",
      "{'subsample': 1.0, 'scale_pos_weight': 1.0, 'n_estimators': 120, 'max_depth': 4, 'gamma': 1.711111111111111, 'colsample_bytree': 0.1}\n",
      "{'subsample': 1.0, 'scale_pos_weight': 1.0, 'n_estimators': 230, 'max_depth': 4, 'gamma': 0.1, 'colsample_bytree': 0.5263157894736842}\n"
     ]
    },
    {
     "data": {
      "text/html": [
       "<div>\n",
       "<style scoped>\n",
       "    .dataframe tbody tr th:only-of-type {\n",
       "        vertical-align: middle;\n",
       "    }\n",
       "\n",
       "    .dataframe tbody tr th {\n",
       "        vertical-align: top;\n",
       "    }\n",
       "\n",
       "    .dataframe thead th {\n",
       "        text-align: right;\n",
       "    }\n",
       "</style>\n",
       "<table border=\"1\" class=\"dataframe\">\n",
       "  <thead>\n",
       "    <tr style=\"text-align: right;\">\n",
       "      <th></th>\n",
       "      <th>test_precision</th>\n",
       "      <th>test_recall</th>\n",
       "      <th>test_F1</th>\n",
       "      <th>test_AUROC</th>\n",
       "    </tr>\n",
       "  </thead>\n",
       "  <tbody>\n",
       "    <tr>\n",
       "      <th>With</th>\n",
       "      <td>0.963333</td>\n",
       "      <td>0.98</td>\n",
       "      <td>0.970909</td>\n",
       "      <td>0.970</td>\n",
       "    </tr>\n",
       "    <tr>\n",
       "      <th>No</th>\n",
       "      <td>0.850476</td>\n",
       "      <td>0.71</td>\n",
       "      <td>0.742684</td>\n",
       "      <td>0.865</td>\n",
       "    </tr>\n",
       "    <tr>\n",
       "      <th>only</th>\n",
       "      <td>0.963333</td>\n",
       "      <td>0.98</td>\n",
       "      <td>0.970909</td>\n",
       "      <td>0.968</td>\n",
       "    </tr>\n",
       "  </tbody>\n",
       "</table>\n",
       "</div>"
      ],
      "text/plain": [
       "      test_precision  test_recall   test_F1  test_AUROC\n",
       "With        0.963333         0.98  0.970909       0.970\n",
       "No          0.850476         0.71  0.742684       0.865\n",
       "only        0.963333         0.98  0.970909       0.968"
      ]
     },
     "metadata": {},
     "output_type": "display_data"
    },
    {
     "name": "stdout",
     "output_type": "stream",
     "text": [
      "{'subsample': 0.8, 'scale_pos_weight': 1.0, 'n_estimators': 260, 'max_depth': 1, 'gamma': 0.1, 'colsample_bytree': 0.24210526315789474}\n",
      "{'subsample': 1.0, 'scale_pos_weight': 1.0, 'n_estimators': 120, 'max_depth': 4, 'gamma': 1.711111111111111, 'colsample_bytree': 0.1}\n",
      "{'subsample': 1.0, 'scale_pos_weight': 1.0, 'n_estimators': 230, 'max_depth': 4, 'gamma': 0.1, 'colsample_bytree': 0.5263157894736842}\n"
     ]
    },
    {
     "data": {
      "text/html": [
       "<div>\n",
       "<style scoped>\n",
       "    .dataframe tbody tr th:only-of-type {\n",
       "        vertical-align: middle;\n",
       "    }\n",
       "\n",
       "    .dataframe tbody tr th {\n",
       "        vertical-align: top;\n",
       "    }\n",
       "\n",
       "    .dataframe thead th {\n",
       "        text-align: right;\n",
       "    }\n",
       "</style>\n",
       "<table border=\"1\" class=\"dataframe\">\n",
       "  <thead>\n",
       "    <tr style=\"text-align: right;\">\n",
       "      <th></th>\n",
       "      <th>test_precision</th>\n",
       "      <th>test_recall</th>\n",
       "      <th>test_F1</th>\n",
       "      <th>test_AUROC</th>\n",
       "    </tr>\n",
       "  </thead>\n",
       "  <tbody>\n",
       "    <tr>\n",
       "      <th>With</th>\n",
       "      <td>0.963333</td>\n",
       "      <td>0.98</td>\n",
       "      <td>0.970909</td>\n",
       "      <td>0.970</td>\n",
       "    </tr>\n",
       "    <tr>\n",
       "      <th>No</th>\n",
       "      <td>0.850476</td>\n",
       "      <td>0.71</td>\n",
       "      <td>0.742684</td>\n",
       "      <td>0.865</td>\n",
       "    </tr>\n",
       "    <tr>\n",
       "      <th>only</th>\n",
       "      <td>0.963333</td>\n",
       "      <td>0.98</td>\n",
       "      <td>0.970909</td>\n",
       "      <td>0.968</td>\n",
       "    </tr>\n",
       "  </tbody>\n",
       "</table>\n",
       "</div>"
      ],
      "text/plain": [
       "      test_precision  test_recall   test_F1  test_AUROC\n",
       "With        0.963333         0.98  0.970909       0.970\n",
       "No          0.850476         0.71  0.742684       0.865\n",
       "only        0.963333         0.98  0.970909       0.968"
      ]
     },
     "metadata": {},
     "output_type": "display_data"
    },
    {
     "name": "stdout",
     "output_type": "stream",
     "text": [
      "{'subsample': 0.8, 'scale_pos_weight': 1.0, 'n_estimators': 260, 'max_depth': 1, 'gamma': 0.1, 'colsample_bytree': 0.24210526315789474}\n",
      "{'subsample': 1.0, 'scale_pos_weight': 1.0, 'n_estimators': 120, 'max_depth': 4, 'gamma': 1.711111111111111, 'colsample_bytree': 0.1}\n",
      "{'subsample': 1.0, 'scale_pos_weight': 1.0, 'n_estimators': 230, 'max_depth': 4, 'gamma': 0.1, 'colsample_bytree': 0.5263157894736842}\n"
     ]
    },
    {
     "data": {
      "text/html": [
       "<div>\n",
       "<style scoped>\n",
       "    .dataframe tbody tr th:only-of-type {\n",
       "        vertical-align: middle;\n",
       "    }\n",
       "\n",
       "    .dataframe tbody tr th {\n",
       "        vertical-align: top;\n",
       "    }\n",
       "\n",
       "    .dataframe thead th {\n",
       "        text-align: right;\n",
       "    }\n",
       "</style>\n",
       "<table border=\"1\" class=\"dataframe\">\n",
       "  <thead>\n",
       "    <tr style=\"text-align: right;\">\n",
       "      <th></th>\n",
       "      <th>test_precision</th>\n",
       "      <th>test_recall</th>\n",
       "      <th>test_F1</th>\n",
       "      <th>test_AUROC</th>\n",
       "    </tr>\n",
       "  </thead>\n",
       "  <tbody>\n",
       "    <tr>\n",
       "      <th>With</th>\n",
       "      <td>0.963333</td>\n",
       "      <td>0.98</td>\n",
       "      <td>0.970909</td>\n",
       "      <td>0.970</td>\n",
       "    </tr>\n",
       "    <tr>\n",
       "      <th>No</th>\n",
       "      <td>0.850476</td>\n",
       "      <td>0.71</td>\n",
       "      <td>0.742684</td>\n",
       "      <td>0.865</td>\n",
       "    </tr>\n",
       "    <tr>\n",
       "      <th>only</th>\n",
       "      <td>0.963333</td>\n",
       "      <td>0.98</td>\n",
       "      <td>0.970909</td>\n",
       "      <td>0.968</td>\n",
       "    </tr>\n",
       "  </tbody>\n",
       "</table>\n",
       "</div>"
      ],
      "text/plain": [
       "      test_precision  test_recall   test_F1  test_AUROC\n",
       "With        0.963333         0.98  0.970909       0.970\n",
       "No          0.850476         0.71  0.742684       0.865\n",
       "only        0.963333         0.98  0.970909       0.968"
      ]
     },
     "metadata": {},
     "output_type": "display_data"
    }
   ],
   "source": [
    "n = 10\n",
    "\n",
    "for i in range(n):\n",
    "    escherichia = pd.DataFrame(raw_CR.loc[raw_df.pathogen == 'Escherichia coli', :])\n",
    "    healthy_samples = pd.DataFrame(raw_CR.loc[raw_df.pathogen == 'none', :])\n",
    "    y_esc = y[raw_df.pathogen == 'Escherichia coli']\n",
    "    y_healthy = y[raw_df.pathogen == 'none']\n",
    "\n",
    "    sample_idx = np.random.choice(healthy_samples.index, escherichia.shape[0], replace=False)\n",
    "\n",
    "    X_esc = escherichia.append(healthy_samples.iloc[sample_idx, :])\n",
    "    y_esc = y_esc.append(y_healthy[sample_idx])\n",
    "\n",
    "    # decontam feature space\n",
    "    with_escherichia_results, with_escherichia_params = optimise_evaluate(X_esc, y_esc)\n",
    "\n",
    "    # decontam without Escherichia\n",
    "    no_escherichia_results, no_escherichia_params = optimise_evaluate(X_esc.drop('Escherichia', axis=1), y_esc)\n",
    "\n",
    "    # Escherichia only\n",
    "    only_escherichia_results, only_escherichia_params = optimise_evaluate(pd.DataFrame(X_esc['Escherichia']), y_esc)\n",
    "\n",
    "    esc_metric = pd.DataFrame({'With': with_escherichia_results,\n",
    "                               'No': no_escherichia_results,\n",
    "                               'only': only_escherichia_results}).T\n",
    "\n",
    "    display(esc_metric)\n",
    "    if i == 0:\n",
    "        esc_df = esc_metric\n",
    "\n",
    "    else:\n",
    "        esc_df = esc_df + esc_metric"
   ]
  },
  {
   "cell_type": "code",
   "execution_count": 23,
   "metadata": {},
   "outputs": [
    {
     "data": {
      "text/html": [
       "<div>\n",
       "<style scoped>\n",
       "    .dataframe tbody tr th:only-of-type {\n",
       "        vertical-align: middle;\n",
       "    }\n",
       "\n",
       "    .dataframe tbody tr th {\n",
       "        vertical-align: top;\n",
       "    }\n",
       "\n",
       "    .dataframe thead th {\n",
       "        text-align: right;\n",
       "    }\n",
       "</style>\n",
       "<table border=\"1\" class=\"dataframe\">\n",
       "  <thead>\n",
       "    <tr style=\"text-align: right;\">\n",
       "      <th></th>\n",
       "      <th>test_precision</th>\n",
       "      <th>test_recall</th>\n",
       "      <th>test_F1</th>\n",
       "      <th>test_AUROC</th>\n",
       "    </tr>\n",
       "  </thead>\n",
       "  <tbody>\n",
       "    <tr>\n",
       "      <th>With</th>\n",
       "      <td>0.964</td>\n",
       "      <td>0.980</td>\n",
       "      <td>0.971</td>\n",
       "      <td>0.972</td>\n",
       "    </tr>\n",
       "    <tr>\n",
       "      <th>No</th>\n",
       "      <td>0.850</td>\n",
       "      <td>0.712</td>\n",
       "      <td>0.744</td>\n",
       "      <td>0.861</td>\n",
       "    </tr>\n",
       "    <tr>\n",
       "      <th>only</th>\n",
       "      <td>0.965</td>\n",
       "      <td>0.980</td>\n",
       "      <td>0.972</td>\n",
       "      <td>0.970</td>\n",
       "    </tr>\n",
       "  </tbody>\n",
       "</table>\n",
       "</div>"
      ],
      "text/plain": [
       "      test_precision  test_recall  test_F1  test_AUROC\n",
       "With           0.964        0.980    0.971       0.972\n",
       "No             0.850        0.712    0.744       0.861\n",
       "only           0.965        0.980    0.972       0.970"
      ]
     },
     "metadata": {},
     "output_type": "display_data"
    }
   ],
   "source": [
    "# Average metrics over 10 random samples\n",
    "esc_df = esc_df / n\n",
    "esc_df = esc_df.round(3)\n",
    "display(esc_df)"
   ]
  },
  {
   "cell_type": "markdown",
   "metadata": {},
   "source": [
    "### Visualise raw model without using Escherichia"
   ]
  },
  {
   "cell_type": "code",
   "execution_count": 24,
   "metadata": {},
   "outputs": [
    {
     "data": {
      "image/png": "[encoded data removed]",
      "text/plain": [
       "<Figure size 288x360 with 2 Axes>"
      ]
     },
     "metadata": {
      "needs_background": "light"
     },
     "output_type": "display_data"
    }
   ],
   "source": [
    "no_esc_model = XGBClassifier(**no_escherichia_params)\n",
    "no_esc_model.fit(X=X_esc.drop('Escherichia', axis=1), y=y_esc)\n",
    "\n",
    "no_esc_explainer = shap.TreeExplainer(no_esc_model, \n",
    "                                      feature_pertubation='interventional', \n",
    "                                      model_output='probability', \n",
    "                                      data=X_esc.drop('Escherichia', axis=1))\n",
    "\n",
    "shap_no_esc = no_esc_explainer.shap_values(X_esc.drop('Escherichia', axis=1))\n",
    "\n",
    "shap.summary_plot(shap_no_esc, \n",
    "                  X_esc.drop('Escherichia', axis=1), \n",
    "                  show=False, plot_size=(4, 5), \n",
    "                  color_bar_label='Read Count', \n",
    "                  max_display=25)\n",
    "\n",
    "fig, ax = plt.gcf(), plt.gca()\n",
    "ax.set_xlabel('SHAP Value')\n",
    "\n",
    "plt.savefig(results / 'no_esc_shap.png', dpi=600, format='png', bbox_inches='tight')"
   ]
  },
  {
   "cell_type": "code",
   "execution_count": 25,
   "metadata": {},
   "outputs": [
    {
     "data": {
      "text/html": [
       "<div>\n",
       "<style scoped>\n",
       "    .dataframe tbody tr th:only-of-type {\n",
       "        vertical-align: middle;\n",
       "    }\n",
       "\n",
       "    .dataframe tbody tr th {\n",
       "        vertical-align: top;\n",
       "    }\n",
       "\n",
       "    .dataframe thead th {\n",
       "        text-align: right;\n",
       "    }\n",
       "</style>\n",
       "<table border=\"1\" class=\"dataframe\">\n",
       "  <thead>\n",
       "    <tr style=\"text-align: right;\">\n",
       "      <th></th>\n",
       "      <th>test_precision</th>\n",
       "      <th>test_recall</th>\n",
       "      <th>test_F1</th>\n",
       "      <th>test_AUROC</th>\n",
       "    </tr>\n",
       "  </thead>\n",
       "  <tbody>\n",
       "    <tr>\n",
       "      <th>Raw</th>\n",
       "      <td>0.966</td>\n",
       "      <td>0.891</td>\n",
       "      <td>0.924</td>\n",
       "      <td>0.984</td>\n",
       "    </tr>\n",
       "    <tr>\n",
       "      <th>RA</th>\n",
       "      <td>0.951</td>\n",
       "      <td>0.916</td>\n",
       "      <td>0.931</td>\n",
       "      <td>0.986</td>\n",
       "    </tr>\n",
       "    <tr>\n",
       "      <th>Raw CR</th>\n",
       "      <td>0.835</td>\n",
       "      <td>0.788</td>\n",
       "      <td>0.802</td>\n",
       "      <td>0.915</td>\n",
       "    </tr>\n",
       "    <tr>\n",
       "      <th>RA CR</th>\n",
       "      <td>0.841</td>\n",
       "      <td>0.803</td>\n",
       "      <td>0.813</td>\n",
       "      <td>0.906</td>\n",
       "    </tr>\n",
       "  </tbody>\n",
       "</table>\n",
       "</div>"
      ],
      "text/plain": [
       "        test_precision  test_recall  test_F1  test_AUROC\n",
       "Raw              0.966        0.891    0.924       0.984\n",
       "RA               0.951        0.916    0.931       0.986\n",
       "Raw CR           0.835        0.788    0.802       0.915\n",
       "RA CR            0.841        0.803    0.813       0.906"
      ]
     },
     "metadata": {},
     "output_type": "display_data"
    }
   ],
   "source": [
    "display(metric_df)\n",
    "metric_df.to_csv(results / 'karius_model_results.csv', index=True, header=True)"
   ]
  },
  {
   "cell_type": "markdown",
   "metadata": {},
   "source": [
    "## Simple decontamination"
   ]
  },
  {
   "cell_type": "code",
   "execution_count": 26,
   "metadata": {},
   "outputs": [],
   "source": [
    "import math\n",
    "from scipy.stats import wilcoxon\n",
    "import shap\n",
    "\n",
    "\n",
    "def decontam_simple(X, y):\n",
    "    to_retain = np.array([True] * X.shape[1])\n",
    "    p_vals = []\n",
    "    problems = []\n",
    "    for i in range(X.shape[1]):\n",
    "        try:\n",
    "            genus = X.iloc[:, i].copy()\n",
    "            pos = genus.loc[y == 1]\n",
    "            neg = genus.loc[y == 0]\n",
    "            \n",
    "            if not (sum(pos != 0) >= 5 and sum(neg != 0) >= 5):\n",
    "                raise ValueError\n",
    "            \n",
    "            # Downsample negative class\n",
    "            neg = neg.sample(len(pos))\n",
    "            \n",
    "            # Wilcoxon test\n",
    "            _, p_val = wilcoxon(pos, neg, alternative='less')\n",
    "            p_vals.append(p_val)\n",
    "\n",
    "            if p_val < 0.05:\n",
    "                to_retain[i] = False\n",
    "        \n",
    "        except ValueError:\n",
    "            problems.append(X.columns[i])\n",
    "            to_retain[i] = False\n",
    "            \n",
    "\n",
    "    return to_retain, p_vals, problems"
   ]
  },
  {
   "cell_type": "code",
   "execution_count": 27,
   "metadata": {
    "scrolled": true
   },
   "outputs": [
    {
     "name": "stderr",
     "output_type": "stream",
     "text": [
      "Sample size too small for normal approximation.\n"
     ]
    },
    {
     "name": "stdout",
     "output_type": "stream",
     "text": [
      "After simple decontamination: 140\n",
      "After removing non-human pathogens: 79\n",
      "No. of problems: 386\n",
      "Final list of genera: ['Cellulomonas', 'Rahnella', 'Dietzia', 'Exiguobacterium', 'Kocuria', 'Leptotrichia', 'Halomonas', 'Williamsia', 'Aureimonas', 'Clostridium', 'Anaerococcus', 'Yersinia', 'Gemella', 'Amycolatopsis', 'Sutterella', 'Dermacoccus', 'Aerococcus', 'Kytococcus', 'Brachybacterium', 'Bifidobacterium', 'Actinomadura', 'Ochrobactrum', 'Brevibacterium', 'Helicobacter', 'Nocardiopsis', 'Pandoraea', 'Paenibacillus', 'Veillonella', 'Legionella', 'Klebsiella', 'Aeromonas', 'Bacteroides', 'Shewanella', 'Prevotella', 'Streptococcus', 'Aggregatibacter', 'Capnocytophaga', 'Moraxella', 'Campylobacter', 'Pantoea', 'Escherichia', 'Stenotrophomonas', 'Lactococcus', 'Leifsonia', 'Eikenella', 'Alistipes', 'Porphyromonas', 'Weissella', 'Cellulosimicrobium', 'Azospirillum', 'Comamonas', 'Burkholderia', 'Enterococcus', 'Psychrobacter', 'Bordetella', 'Actinomyces', 'Rothia', 'Rhodococcus', 'Staphylococcus', 'Vibrio', 'Roseomonas', 'Enterobacter', 'Paracoccus', 'Leclercia', 'Tyzzerella', 'Citrobacter', 'Cupriavidus', 'Oerskovia', 'Granulicatella', 'Haemophilus', 'Neisseria', 'Fusobacterium', 'Janibacter', 'Bacillus', 'Collinsella', 'Pseudonocardia', 'Parabacteroides', 'Lactobacillus', 'Agrobacterium']\n"
     ]
    }
   ],
   "source": [
    "simple_retain, simple_p, problems = decontam_simple(X_RA, y)\n",
    "print(f'After simple decontamination: {sum(simple_retain)}') # No. of genera retained after simple decontamination\n",
    "\n",
    "# Remove non-human associated pathogens\n",
    "retain_names = list(set(X.columns[simple_retain]).intersection(set(meta)))\n",
    "print(f'After removing non-human pathogens: {len(retain_names)}') # No. of genera retained after simple decontamination\n",
    "\n",
    "simple_X = X.loc[:, retain_names]\n",
    "\n",
    "# No. of genera with less than 5 septic and 5 healthy non-zero samples\n",
    "print(f'No. of problems: {len(problems)}')\n",
    "print(f'Final list of genera: {retain_names}')\n",
    "pd.Series(retain_names).to_csv(datasets / 'simple_decontam_pathogens_karius.csv', index=False, header=False)"
   ]
  },
  {
   "cell_type": "code",
   "execution_count": 28,
   "metadata": {},
   "outputs": [
    {
     "name": "stdout",
     "output_type": "stream",
     "text": [
      "{'subsample': 0.7, 'scale_pos_weight': 1.452991452991453, 'n_estimators': 250, 'max_depth': 3, 'gamma': 1.711111111111111, 'colsample_bytree': 0.19473684210526315}\n"
     ]
    }
   ],
   "source": [
    "simple_results, simple_params = optimise_evaluate(simple_X, y)\n",
    "metric_df = metric_df.append(pd.DataFrame({'Raw simple': simple_results}).round(3).T)"
   ]
  },
  {
   "cell_type": "code",
   "execution_count": 29,
   "metadata": {},
   "outputs": [
    {
     "data": {
      "image/png": "[encoded data removed]",
      "text/plain": [
       "<Figure size 288x360 with 2 Axes>"
      ]
     },
     "metadata": {
      "needs_background": "light"
     },
     "output_type": "display_data"
    }
   ],
   "source": [
    "simple_model = XGBClassifier(**simple_params)\n",
    "simple_model.fit(X=simple_X, y=y)\n",
    "\n",
    "simple_explainer = shap.TreeExplainer(simple_model, feature_pertubation='interventional', \n",
    "                                      model_output='probability', \n",
    "                                      data=simple_X)\n",
    "\n",
    "shap_simple = simple_explainer.shap_values(simple_X)\n",
    "\n",
    "shap.summary_plot(shap_simple, simple_X, show=False, plot_size=(4, 5), color_bar_label='Read Count', max_display=25)\n",
    "fig, ax = plt.gcf(), plt.gca()\n",
    "ax.set_xlabel('SHAP Value')\n",
    "plt.savefig(results / 'simple_decontam_shap.png', dpi=600, format='png', bbox_inches='tight')"
   ]
  },
  {
   "cell_type": "code",
   "execution_count": 30,
   "metadata": {},
   "outputs": [
    {
     "name": "stdout",
     "output_type": "stream",
     "text": [
      "No. of genera in common: 16\n",
      "No. of genera in CR: 17\n",
      "No. of genera in simple decontam: 79\n"
     ]
    }
   ],
   "source": [
    "# Intersecting genera between \n",
    "common = len(list(set(genera_new).intersection(set(retain_names))))\n",
    "print(f'No. of genera in common: {common}\\nNo. of genera in CR: {len(genera_new)}\\nNo. of genera in simple decontam: {len(retain_names)}')"
   ]
  },
  {
   "cell_type": "markdown",
   "metadata": {},
   "source": [
    "### Final Results"
   ]
  },
  {
   "cell_type": "code",
   "execution_count": 31,
   "metadata": {},
   "outputs": [
    {
     "data": {
      "text/html": [
       "<div>\n",
       "<style scoped>\n",
       "    .dataframe tbody tr th:only-of-type {\n",
       "        vertical-align: middle;\n",
       "    }\n",
       "\n",
       "    .dataframe tbody tr th {\n",
       "        vertical-align: top;\n",
       "    }\n",
       "\n",
       "    .dataframe thead th {\n",
       "        text-align: right;\n",
       "    }\n",
       "</style>\n",
       "<table border=\"1\" class=\"dataframe\">\n",
       "  <thead>\n",
       "    <tr style=\"text-align: right;\">\n",
       "      <th></th>\n",
       "      <th>test_precision</th>\n",
       "      <th>test_recall</th>\n",
       "      <th>test_F1</th>\n",
       "      <th>test_AUROC</th>\n",
       "    </tr>\n",
       "  </thead>\n",
       "  <tbody>\n",
       "    <tr>\n",
       "      <th>With</th>\n",
       "      <td>0.964</td>\n",
       "      <td>0.980</td>\n",
       "      <td>0.971</td>\n",
       "      <td>0.972</td>\n",
       "    </tr>\n",
       "    <tr>\n",
       "      <th>No</th>\n",
       "      <td>0.850</td>\n",
       "      <td>0.712</td>\n",
       "      <td>0.744</td>\n",
       "      <td>0.861</td>\n",
       "    </tr>\n",
       "    <tr>\n",
       "      <th>only</th>\n",
       "      <td>0.965</td>\n",
       "      <td>0.980</td>\n",
       "      <td>0.972</td>\n",
       "      <td>0.970</td>\n",
       "    </tr>\n",
       "  </tbody>\n",
       "</table>\n",
       "</div>"
      ],
      "text/plain": [
       "      test_precision  test_recall  test_F1  test_AUROC\n",
       "With           0.964        0.980    0.971       0.972\n",
       "No             0.850        0.712    0.744       0.861\n",
       "only           0.965        0.980    0.972       0.970"
      ]
     },
     "metadata": {},
     "output_type": "display_data"
    },
    {
     "data": {
      "text/html": [
       "<div>\n",
       "<style scoped>\n",
       "    .dataframe tbody tr th:only-of-type {\n",
       "        vertical-align: middle;\n",
       "    }\n",
       "\n",
       "    .dataframe tbody tr th {\n",
       "        vertical-align: top;\n",
       "    }\n",
       "\n",
       "    .dataframe thead th {\n",
       "        text-align: right;\n",
       "    }\n",
       "</style>\n",
       "<table border=\"1\" class=\"dataframe\">\n",
       "  <thead>\n",
       "    <tr style=\"text-align: right;\">\n",
       "      <th></th>\n",
       "      <th>test_precision</th>\n",
       "      <th>test_recall</th>\n",
       "      <th>test_F1</th>\n",
       "      <th>test_AUROC</th>\n",
       "    </tr>\n",
       "  </thead>\n",
       "  <tbody>\n",
       "    <tr>\n",
       "      <th>Raw</th>\n",
       "      <td>0.966</td>\n",
       "      <td>0.891</td>\n",
       "      <td>0.924</td>\n",
       "      <td>0.984</td>\n",
       "    </tr>\n",
       "    <tr>\n",
       "      <th>RA</th>\n",
       "      <td>0.951</td>\n",
       "      <td>0.916</td>\n",
       "      <td>0.931</td>\n",
       "      <td>0.986</td>\n",
       "    </tr>\n",
       "    <tr>\n",
       "      <th>Raw CR</th>\n",
       "      <td>0.835</td>\n",
       "      <td>0.788</td>\n",
       "      <td>0.802</td>\n",
       "      <td>0.915</td>\n",
       "    </tr>\n",
       "    <tr>\n",
       "      <th>RA CR</th>\n",
       "      <td>0.841</td>\n",
       "      <td>0.803</td>\n",
       "      <td>0.813</td>\n",
       "      <td>0.906</td>\n",
       "    </tr>\n",
       "    <tr>\n",
       "      <th>Raw simple</th>\n",
       "      <td>0.834</td>\n",
       "      <td>0.786</td>\n",
       "      <td>0.800</td>\n",
       "      <td>0.919</td>\n",
       "    </tr>\n",
       "  </tbody>\n",
       "</table>\n",
       "</div>"
      ],
      "text/plain": [
       "            test_precision  test_recall  test_F1  test_AUROC\n",
       "Raw                  0.966        0.891    0.924       0.984\n",
       "RA                   0.951        0.916    0.931       0.986\n",
       "Raw CR               0.835        0.788    0.802       0.915\n",
       "RA CR                0.841        0.803    0.813       0.906\n",
       "Raw simple           0.834        0.786    0.800       0.919"
      ]
     },
     "metadata": {},
     "output_type": "display_data"
    }
   ],
   "source": [
    "display(esc_df)\n",
    "display(metric_df)\n",
    "\n",
    "esc_df.to_csv(results / 'escherichia_model_results.csv', index=True, header=True)\n",
    "metric_df.to_csv(results / 'karius_model_results.csv', index=True, header=True)"
   ]
  }
 ],
 "metadata": {
  "kernelspec": {
   "display_name": "xgboost",
   "language": "python",
   "name": "xgboost"
  },
  "language_info": {
   "codemirror_mode": {
    "name": "ipython",
    "version": 3
   },
   "file_extension": ".py",
   "mimetype": "text/x-python",
   "name": "python",
   "nbconvert_exporter": "python",
   "pygments_lexer": "ipython3",
   "version": "3.7.3"
  }
 },
 "nbformat": 4,
 "nbformat_minor": 4
}
