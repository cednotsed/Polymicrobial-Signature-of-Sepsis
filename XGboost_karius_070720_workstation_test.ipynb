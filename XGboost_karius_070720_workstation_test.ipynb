{
 "cells": [
  {
   "cell_type": "markdown",
   "metadata": {},
   "source": [
    "# Metagenomic-based Diagnostic for Sepsis (External Validation)"
   ]
  },
  {
   "cell_type": "code",
   "execution_count": 1,
   "metadata": {},
   "outputs": [],
   "source": [
    "# Import Statements\n",
    "from xgboost import XGBClassifier\n",
    "from sklearn.model_selection import RandomizedSearchCV, StratifiedKFold, cross_val_score\n",
    "import pandas as pd\n",
    "import numpy as np\n",
    "import matplotlib.pyplot as plt\n",
    "from pathlib import Path\n",
    "\n",
    "cwd = Path.cwd()\n",
    "datasets = cwd / 'datasets'\n",
    "results = cwd / 'results/external_validation'"
   ]
  },
  {
   "cell_type": "code",
   "execution_count": 2,
   "metadata": {},
   "outputs": [
    {
     "data": {
      "text/plain": [
       "[PosixPath('/ugi/home/zcbtct0/Polymicrobial-Signature-of-Sepsis/datasets/karius_SraRunInfo.csv'),\n",
       " PosixPath('/ugi/home/zcbtct0/Polymicrobial-Signature-of-Sepsis/datasets/kapusta_metadata_290620.tsv'),\n",
       " PosixPath('/ugi/home/zcbtct0/Polymicrobial-Signature-of-Sepsis/datasets/contaminant_list.txt'),\n",
       " PosixPath('/ugi/home/zcbtct0/Polymicrobial-Signature-of-Sepsis/datasets/PRJEB21872.txt'),\n",
       " PosixPath('/ugi/home/zcbtct0/Polymicrobial-Signature-of-Sepsis/datasets/PRJEB30958.txt'),\n",
       " PosixPath('/ugi/home/zcbtct0/Polymicrobial-Signature-of-Sepsis/datasets/karius_genus_raw_kuniq.csv'),\n",
       " PosixPath('/ugi/home/zcbtct0/Polymicrobial-Signature-of-Sepsis/datasets/.RData'),\n",
       " PosixPath('/ugi/home/zcbtct0/Polymicrobial-Signature-of-Sepsis/datasets/karius_parsed_metadata.csv'),\n",
       " PosixPath('/ugi/home/zcbtct0/Polymicrobial-Signature-of-Sepsis/datasets/PRJEB13247.txt'),\n",
       " PosixPath('/ugi/home/zcbtct0/Polymicrobial-Signature-of-Sepsis/datasets/simple_decontam_pathogens.csv'),\n",
       " PosixPath('/ugi/home/zcbtct0/Polymicrobial-Signature-of-Sepsis/datasets/pathogen_list.csv'),\n",
       " PosixPath('/ugi/home/zcbtct0/Polymicrobial-Signature-of-Sepsis/datasets/kraken2_reports'),\n",
       " PosixPath('/ugi/home/zcbtct0/Polymicrobial-Signature-of-Sepsis/datasets/kapusta_grumaz_karius_genus_raw.csv'),\n",
       " PosixPath('/ugi/home/zcbtct0/Polymicrobial-Signature-of-Sepsis/datasets/.Rhistory'),\n",
       " PosixPath('/ugi/home/zcbtct0/Polymicrobial-Signature-of-Sepsis/datasets/grumaz_pooled_metadata.csv')]"
      ]
     },
     "execution_count": 2,
     "metadata": {},
     "output_type": "execute_result"
    }
   ],
   "source": [
    "list(datasets.glob('*'))"
   ]
  },
  {
   "cell_type": "markdown",
   "metadata": {},
   "source": [
    "## Data Preprocessing\n",
    "Since we are using stratified kfold, a validation split is not necesssary."
   ]
  },
  {
   "cell_type": "markdown",
   "metadata": {},
   "source": [
    "### Load data"
   ]
  },
  {
   "cell_type": "code",
   "execution_count": 3,
   "metadata": {
    "scrolled": true
   },
   "outputs": [
    {
     "data": {
      "text/html": [
       "<div>\n",
       "<style scoped>\n",
       "    .dataframe tbody tr th:only-of-type {\n",
       "        vertical-align: middle;\n",
       "    }\n",
       "\n",
       "    .dataframe tbody tr th {\n",
       "        vertical-align: top;\n",
       "    }\n",
       "\n",
       "    .dataframe thead th {\n",
       "        text-align: right;\n",
       "    }\n",
       "</style>\n",
       "<table border=\"1\" class=\"dataframe\">\n",
       "  <thead>\n",
       "    <tr style=\"text-align: right;\">\n",
       "      <th></th>\n",
       "      <th>y</th>\n",
       "      <th>Bifidobacterium</th>\n",
       "      <th>Arthrobacter</th>\n",
       "      <th>Kocuria</th>\n",
       "      <th>Cellulomonas</th>\n",
       "      <th>Brevibacterium</th>\n",
       "      <th>Agromyces</th>\n",
       "      <th>Microbacterium</th>\n",
       "      <th>Demequina</th>\n",
       "      <th>Corynebacterium</th>\n",
       "      <th>...</th>\n",
       "      <th>Nosocomiicoccus</th>\n",
       "      <th>Solimonas</th>\n",
       "      <th>Myroides</th>\n",
       "      <th>Bosea</th>\n",
       "      <th>Microvirgula</th>\n",
       "      <th>Myxococcus</th>\n",
       "      <th>Thermoanaerobacter</th>\n",
       "      <th>Collimonas</th>\n",
       "      <th>Eggerthella</th>\n",
       "      <th>Rubrivivax</th>\n",
       "    </tr>\n",
       "  </thead>\n",
       "  <tbody>\n",
       "    <tr>\n",
       "      <th>0</th>\n",
       "      <td>healthy</td>\n",
       "      <td>654.0</td>\n",
       "      <td>0.0</td>\n",
       "      <td>0.0</td>\n",
       "      <td>92.0</td>\n",
       "      <td>19.0</td>\n",
       "      <td>0.0</td>\n",
       "      <td>0.0</td>\n",
       "      <td>2.0</td>\n",
       "      <td>9.0</td>\n",
       "      <td>...</td>\n",
       "      <td>0.0</td>\n",
       "      <td>0.0</td>\n",
       "      <td>0.0</td>\n",
       "      <td>0.0</td>\n",
       "      <td>0.0</td>\n",
       "      <td>0.0</td>\n",
       "      <td>0.0</td>\n",
       "      <td>0.0</td>\n",
       "      <td>0.0</td>\n",
       "      <td>0.0</td>\n",
       "    </tr>\n",
       "    <tr>\n",
       "      <th>1</th>\n",
       "      <td>septic</td>\n",
       "      <td>5.0</td>\n",
       "      <td>1.0</td>\n",
       "      <td>0.0</td>\n",
       "      <td>0.0</td>\n",
       "      <td>5.0</td>\n",
       "      <td>4.0</td>\n",
       "      <td>0.0</td>\n",
       "      <td>4.0</td>\n",
       "      <td>0.0</td>\n",
       "      <td>...</td>\n",
       "      <td>0.0</td>\n",
       "      <td>0.0</td>\n",
       "      <td>0.0</td>\n",
       "      <td>0.0</td>\n",
       "      <td>0.0</td>\n",
       "      <td>0.0</td>\n",
       "      <td>0.0</td>\n",
       "      <td>0.0</td>\n",
       "      <td>0.0</td>\n",
       "      <td>0.0</td>\n",
       "    </tr>\n",
       "    <tr>\n",
       "      <th>2</th>\n",
       "      <td>healthy</td>\n",
       "      <td>451.0</td>\n",
       "      <td>0.0</td>\n",
       "      <td>0.0</td>\n",
       "      <td>0.0</td>\n",
       "      <td>6.0</td>\n",
       "      <td>0.0</td>\n",
       "      <td>0.0</td>\n",
       "      <td>0.0</td>\n",
       "      <td>10.0</td>\n",
       "      <td>...</td>\n",
       "      <td>0.0</td>\n",
       "      <td>0.0</td>\n",
       "      <td>0.0</td>\n",
       "      <td>0.0</td>\n",
       "      <td>0.0</td>\n",
       "      <td>0.0</td>\n",
       "      <td>0.0</td>\n",
       "      <td>0.0</td>\n",
       "      <td>0.0</td>\n",
       "      <td>0.0</td>\n",
       "    </tr>\n",
       "    <tr>\n",
       "      <th>3</th>\n",
       "      <td>healthy</td>\n",
       "      <td>763.0</td>\n",
       "      <td>1.0</td>\n",
       "      <td>0.0</td>\n",
       "      <td>2.0</td>\n",
       "      <td>29.0</td>\n",
       "      <td>0.0</td>\n",
       "      <td>34.0</td>\n",
       "      <td>3.0</td>\n",
       "      <td>253.0</td>\n",
       "      <td>...</td>\n",
       "      <td>0.0</td>\n",
       "      <td>0.0</td>\n",
       "      <td>0.0</td>\n",
       "      <td>0.0</td>\n",
       "      <td>0.0</td>\n",
       "      <td>0.0</td>\n",
       "      <td>22.0</td>\n",
       "      <td>0.0</td>\n",
       "      <td>0.0</td>\n",
       "      <td>0.0</td>\n",
       "    </tr>\n",
       "    <tr>\n",
       "      <th>4</th>\n",
       "      <td>healthy</td>\n",
       "      <td>443.0</td>\n",
       "      <td>0.0</td>\n",
       "      <td>0.0</td>\n",
       "      <td>0.0</td>\n",
       "      <td>24.0</td>\n",
       "      <td>0.0</td>\n",
       "      <td>0.0</td>\n",
       "      <td>5.0</td>\n",
       "      <td>14.0</td>\n",
       "      <td>...</td>\n",
       "      <td>0.0</td>\n",
       "      <td>0.0</td>\n",
       "      <td>0.0</td>\n",
       "      <td>0.0</td>\n",
       "      <td>0.0</td>\n",
       "      <td>0.0</td>\n",
       "      <td>0.0</td>\n",
       "      <td>0.0</td>\n",
       "      <td>0.0</td>\n",
       "      <td>0.0</td>\n",
       "    </tr>\n",
       "    <tr>\n",
       "      <th>...</th>\n",
       "      <td>...</td>\n",
       "      <td>...</td>\n",
       "      <td>...</td>\n",
       "      <td>...</td>\n",
       "      <td>...</td>\n",
       "      <td>...</td>\n",
       "      <td>...</td>\n",
       "      <td>...</td>\n",
       "      <td>...</td>\n",
       "      <td>...</td>\n",
       "      <td>...</td>\n",
       "      <td>...</td>\n",
       "      <td>...</td>\n",
       "      <td>...</td>\n",
       "      <td>...</td>\n",
       "      <td>...</td>\n",
       "      <td>...</td>\n",
       "      <td>...</td>\n",
       "      <td>...</td>\n",
       "      <td>...</td>\n",
       "      <td>...</td>\n",
       "    </tr>\n",
       "    <tr>\n",
       "      <th>194</th>\n",
       "      <td>septic</td>\n",
       "      <td>0.0</td>\n",
       "      <td>2.0</td>\n",
       "      <td>1.0</td>\n",
       "      <td>24.0</td>\n",
       "      <td>1.0</td>\n",
       "      <td>0.0</td>\n",
       "      <td>4.0</td>\n",
       "      <td>0.0</td>\n",
       "      <td>2.0</td>\n",
       "      <td>...</td>\n",
       "      <td>0.0</td>\n",
       "      <td>0.0</td>\n",
       "      <td>0.0</td>\n",
       "      <td>1.0</td>\n",
       "      <td>0.0</td>\n",
       "      <td>0.0</td>\n",
       "      <td>0.0</td>\n",
       "      <td>0.0</td>\n",
       "      <td>0.0</td>\n",
       "      <td>0.0</td>\n",
       "    </tr>\n",
       "    <tr>\n",
       "      <th>195</th>\n",
       "      <td>septic</td>\n",
       "      <td>0.0</td>\n",
       "      <td>0.0</td>\n",
       "      <td>0.0</td>\n",
       "      <td>0.0</td>\n",
       "      <td>0.0</td>\n",
       "      <td>0.0</td>\n",
       "      <td>2.0</td>\n",
       "      <td>0.0</td>\n",
       "      <td>0.0</td>\n",
       "      <td>...</td>\n",
       "      <td>0.0</td>\n",
       "      <td>0.0</td>\n",
       "      <td>0.0</td>\n",
       "      <td>3.0</td>\n",
       "      <td>0.0</td>\n",
       "      <td>0.0</td>\n",
       "      <td>0.0</td>\n",
       "      <td>0.0</td>\n",
       "      <td>0.0</td>\n",
       "      <td>0.0</td>\n",
       "    </tr>\n",
       "    <tr>\n",
       "      <th>196</th>\n",
       "      <td>septic</td>\n",
       "      <td>0.0</td>\n",
       "      <td>0.0</td>\n",
       "      <td>1.0</td>\n",
       "      <td>0.0</td>\n",
       "      <td>0.0</td>\n",
       "      <td>0.0</td>\n",
       "      <td>0.0</td>\n",
       "      <td>0.0</td>\n",
       "      <td>0.0</td>\n",
       "      <td>...</td>\n",
       "      <td>0.0</td>\n",
       "      <td>0.0</td>\n",
       "      <td>0.0</td>\n",
       "      <td>4.0</td>\n",
       "      <td>0.0</td>\n",
       "      <td>0.0</td>\n",
       "      <td>0.0</td>\n",
       "      <td>0.0</td>\n",
       "      <td>0.0</td>\n",
       "      <td>0.0</td>\n",
       "    </tr>\n",
       "    <tr>\n",
       "      <th>197</th>\n",
       "      <td>septic</td>\n",
       "      <td>0.0</td>\n",
       "      <td>0.0</td>\n",
       "      <td>39.0</td>\n",
       "      <td>14.0</td>\n",
       "      <td>0.0</td>\n",
       "      <td>2.0</td>\n",
       "      <td>10.0</td>\n",
       "      <td>0.0</td>\n",
       "      <td>3.0</td>\n",
       "      <td>...</td>\n",
       "      <td>0.0</td>\n",
       "      <td>0.0</td>\n",
       "      <td>0.0</td>\n",
       "      <td>2.0</td>\n",
       "      <td>0.0</td>\n",
       "      <td>0.0</td>\n",
       "      <td>0.0</td>\n",
       "      <td>0.0</td>\n",
       "      <td>0.0</td>\n",
       "      <td>1.0</td>\n",
       "    </tr>\n",
       "    <tr>\n",
       "      <th>198</th>\n",
       "      <td>septic</td>\n",
       "      <td>0.0</td>\n",
       "      <td>0.0</td>\n",
       "      <td>0.0</td>\n",
       "      <td>0.0</td>\n",
       "      <td>0.0</td>\n",
       "      <td>0.0</td>\n",
       "      <td>0.0</td>\n",
       "      <td>0.0</td>\n",
       "      <td>0.0</td>\n",
       "      <td>...</td>\n",
       "      <td>0.0</td>\n",
       "      <td>0.0</td>\n",
       "      <td>0.0</td>\n",
       "      <td>0.0</td>\n",
       "      <td>0.0</td>\n",
       "      <td>0.0</td>\n",
       "      <td>0.0</td>\n",
       "      <td>0.0</td>\n",
       "      <td>0.0</td>\n",
       "      <td>0.0</td>\n",
       "    </tr>\n",
       "  </tbody>\n",
       "</table>\n",
       "<p>196 rows × 187 columns</p>\n",
       "</div>"
      ],
      "text/plain": [
       "           y  Bifidobacterium  Arthrobacter  Kocuria  Cellulomonas  \\\n",
       "0    healthy            654.0           0.0      0.0          92.0   \n",
       "1     septic              5.0           1.0      0.0           0.0   \n",
       "2    healthy            451.0           0.0      0.0           0.0   \n",
       "3    healthy            763.0           1.0      0.0           2.0   \n",
       "4    healthy            443.0           0.0      0.0           0.0   \n",
       "..       ...              ...           ...      ...           ...   \n",
       "194   septic              0.0           2.0      1.0          24.0   \n",
       "195   septic              0.0           0.0      0.0           0.0   \n",
       "196   septic              0.0           0.0      1.0           0.0   \n",
       "197   septic              0.0           0.0     39.0          14.0   \n",
       "198   septic              0.0           0.0      0.0           0.0   \n",
       "\n",
       "     Brevibacterium  Agromyces  Microbacterium  Demequina  Corynebacterium  \\\n",
       "0              19.0        0.0             0.0        2.0              9.0   \n",
       "1               5.0        4.0             0.0        4.0              0.0   \n",
       "2               6.0        0.0             0.0        0.0             10.0   \n",
       "3              29.0        0.0            34.0        3.0            253.0   \n",
       "4              24.0        0.0             0.0        5.0             14.0   \n",
       "..              ...        ...             ...        ...              ...   \n",
       "194             1.0        0.0             4.0        0.0              2.0   \n",
       "195             0.0        0.0             2.0        0.0              0.0   \n",
       "196             0.0        0.0             0.0        0.0              0.0   \n",
       "197             0.0        2.0            10.0        0.0              3.0   \n",
       "198             0.0        0.0             0.0        0.0              0.0   \n",
       "\n",
       "     ...  Nosocomiicoccus  Solimonas  Myroides  Bosea  Microvirgula  \\\n",
       "0    ...              0.0        0.0       0.0    0.0           0.0   \n",
       "1    ...              0.0        0.0       0.0    0.0           0.0   \n",
       "2    ...              0.0        0.0       0.0    0.0           0.0   \n",
       "3    ...              0.0        0.0       0.0    0.0           0.0   \n",
       "4    ...              0.0        0.0       0.0    0.0           0.0   \n",
       "..   ...              ...        ...       ...    ...           ...   \n",
       "194  ...              0.0        0.0       0.0    1.0           0.0   \n",
       "195  ...              0.0        0.0       0.0    3.0           0.0   \n",
       "196  ...              0.0        0.0       0.0    4.0           0.0   \n",
       "197  ...              0.0        0.0       0.0    2.0           0.0   \n",
       "198  ...              0.0        0.0       0.0    0.0           0.0   \n",
       "\n",
       "     Myxococcus  Thermoanaerobacter  Collimonas  Eggerthella  Rubrivivax  \n",
       "0           0.0                 0.0         0.0          0.0         0.0  \n",
       "1           0.0                 0.0         0.0          0.0         0.0  \n",
       "2           0.0                 0.0         0.0          0.0         0.0  \n",
       "3           0.0                22.0         0.0          0.0         0.0  \n",
       "4           0.0                 0.0         0.0          0.0         0.0  \n",
       "..          ...                 ...         ...          ...         ...  \n",
       "194         0.0                 0.0         0.0          0.0         0.0  \n",
       "195         0.0                 0.0         0.0          0.0         0.0  \n",
       "196         0.0                 0.0         0.0          0.0         0.0  \n",
       "197         0.0                 0.0         0.0          0.0         1.0  \n",
       "198         0.0                 0.0         0.0          0.0         0.0  \n",
       "\n",
       "[196 rows x 187 columns]"
      ]
     },
     "metadata": {},
     "output_type": "display_data"
    }
   ],
   "source": [
    "raw_df = pd.read_csv(datasets / 'kapusta_grumaz_karius_genus_raw.csv')\n",
    "\n",
    "# Remove NTCs\n",
    "raw_df = raw_df.loc[raw_df.y != 'ntc', :]\n",
    "display(raw_df)\n",
    "\n",
    "X = raw_df.drop('y', axis=1).copy()\n",
    "y = raw_df.y.copy()"
   ]
  },
  {
   "cell_type": "code",
   "execution_count": 4,
   "metadata": {},
   "outputs": [],
   "source": [
    "# Binary encode y\n",
    "y.loc[y == 'septic'] = 1\n",
    "y.loc[y == 'healthy'] = 0\n",
    "y = y.astype('int')\n",
    "\n",
    "# Relative abundance\n",
    "X_RA = X.apply(func=lambda x: x / x.sum(), axis=1)"
   ]
  },
  {
   "cell_type": "code",
   "execution_count": 5,
   "metadata": {},
   "outputs": [
    {
     "data": {
      "text/html": [
       "<div>\n",
       "<style scoped>\n",
       "    .dataframe tbody tr th:only-of-type {\n",
       "        vertical-align: middle;\n",
       "    }\n",
       "\n",
       "    .dataframe tbody tr th {\n",
       "        vertical-align: top;\n",
       "    }\n",
       "\n",
       "    .dataframe thead th {\n",
       "        text-align: right;\n",
       "    }\n",
       "</style>\n",
       "<table border=\"1\" class=\"dataframe\">\n",
       "  <thead>\n",
       "    <tr style=\"text-align: right;\">\n",
       "      <th></th>\n",
       "      <th>Septic</th>\n",
       "      <th>Healthy</th>\n",
       "    </tr>\n",
       "  </thead>\n",
       "  <tbody>\n",
       "    <tr>\n",
       "      <th>Train fold</th>\n",
       "      <td>118</td>\n",
       "      <td>59</td>\n",
       "    </tr>\n",
       "    <tr>\n",
       "      <th>Test fold</th>\n",
       "      <td>13</td>\n",
       "      <td>6</td>\n",
       "    </tr>\n",
       "  </tbody>\n",
       "</table>\n",
       "</div>"
      ],
      "text/plain": [
       "            Septic  Healthy\n",
       "Train fold     118       59\n",
       "Test fold       13        6"
      ]
     },
     "metadata": {},
     "output_type": "display_data"
    }
   ],
   "source": [
    "n_splits = 10\n",
    "\n",
    "pos = len(y[y == 1])\n",
    "neg = len(y[y == 0])\n",
    "split_sizes = pd.DataFrame({'Septic': [pos - int(pos / n_splits), int(pos / n_splits)], \n",
    "                           'Healthy': [neg - int(neg / n_splits), int(neg / n_splits)]}, index=['Train fold', 'Test fold'])\n",
    "\n",
    "display(split_sizes)\n",
    "\n",
    "# Get negative to positive ratio\n",
    "ratio = sum(y == 0) / sum(y == 1)"
   ]
  },
  {
   "cell_type": "markdown",
   "metadata": {},
   "source": [
    "## Nested CV for hyperparameter optimisation"
   ]
  },
  {
   "cell_type": "code",
   "execution_count": 6,
   "metadata": {},
   "outputs": [],
   "source": [
    "# Metrics\n",
    "from sklearn.metrics import make_scorer, precision_score, recall_score\n",
    "from sklearn.model_selection import cross_validate"
   ]
  },
  {
   "cell_type": "code",
   "execution_count": 7,
   "metadata": {},
   "outputs": [],
   "source": [
    "def optimise(X, y, param_dict=False):\n",
    "    np.random.seed(66)\n",
    "    \n",
    "    # Hyperparemeter Optimisation using grid search (F1)\n",
    "    model = XGBClassifier()\n",
    "    n_estimators = range(50, 500, 1)\n",
    "    max_depth = range(1, 10)\n",
    "    gamma = np.linspace(0, 5, 20)\n",
    "    subsample = np.linspace(0.1, 1, 20)\n",
    "    colsample_bytree = np.linspace(0.1, 1, 20)\n",
    "    \n",
    "    param_grid = dict(max_depth=max_depth, \n",
    "                      n_estimators=n_estimators, \n",
    "                      colsample_bytree=colsample_bytree,\n",
    "                      gamma=gamma,\n",
    "                      subsample=subsample,\n",
    "                      scale_pos_weight=[ratio])\n",
    "    \n",
    "    inner_cv = StratifiedKFold(n_splits=5, shuffle=True)\n",
    "    outer_cv = StratifiedKFold(n_splits=5, shuffle=True)\n",
    "    \n",
    "    if not param_dict:\n",
    "        # Inner CV\n",
    "        model = RandomizedSearchCV(model, \n",
    "                                   param_grid, \n",
    "                                   scoring=\"roc_auc\",\n",
    "                                   n_iter=1000,\n",
    "                                   n_jobs=60, \n",
    "                                   cv=inner_cv, \n",
    "                                   verbose=1)\n",
    "\n",
    "        model.fit(X, y)\n",
    "        best_params = model.best_params_\n",
    "        print(best_params)\n",
    "                \n",
    "    else:\n",
    "        model = XGBClassifier(**param_dict)\n",
    "        model.fit(X, y)\n",
    "        best_params = param_dict\n",
    "\n",
    "    # Custom metrics\n",
    "    precision = make_scorer(precision_score, average='binary')\n",
    "    recall = make_scorer(recall_score, average='binary')\n",
    "    scoring = {'precision': precision, \n",
    "               'recall': recall, \n",
    "               'AUROC': 'roc_auc'}\n",
    "    \n",
    "    # Outer CV\n",
    "    outer_results = cross_validate(model, X=X, y=y, cv=outer_cv, scoring=scoring)\n",
    "    outer_results = pd.DataFrame(outer_results).mean()[['test_precision', 'test_recall', 'test_AUROC']]\n",
    "    \n",
    "    return model, outer_results, best_params"
   ]
  },
  {
   "cell_type": "markdown",
   "metadata": {},
   "source": [
    "### Optimise Model using Neat Data"
   ]
  },
  {
   "cell_type": "code",
   "execution_count": null,
   "metadata": {
    "scrolled": true
   },
   "outputs": [
    {
     "name": "stdout",
     "output_type": "stream",
     "text": [
      "Fitting 5 folds for each of 1000 candidates, totalling 5000 fits\n"
     ]
    },
    {
     "name": "stderr",
     "output_type": "stream",
     "text": [
      "[Parallel(n_jobs=60)]: Using backend LokyBackend with 60 concurrent workers.\n",
      "[Parallel(n_jobs=60)]: Done  80 tasks      | elapsed:    2.3s\n",
      "[Parallel(n_jobs=60)]: Done 330 tasks      | elapsed:    3.7s\n",
      "[Parallel(n_jobs=60)]: Done 680 tasks      | elapsed:    5.8s\n",
      "[Parallel(n_jobs=60)]: Done 1130 tasks      | elapsed:    8.5s\n",
      "[Parallel(n_jobs=60)]: Done 1680 tasks      | elapsed:   12.0s\n",
      "[Parallel(n_jobs=60)]: Done 2330 tasks      | elapsed:   16.0s\n",
      "[Parallel(n_jobs=60)]: Done 3080 tasks      | elapsed:   20.5s\n",
      "[Parallel(n_jobs=60)]: Done 3930 tasks      | elapsed:   25.9s\n",
      "[Parallel(n_jobs=60)]: Done 4880 tasks      | elapsed:   31.5s\n",
      "[Parallel(n_jobs=60)]: Done 5000 out of 5000 | elapsed:   32.5s finished\n"
     ]
    },
    {
     "name": "stdout",
     "output_type": "stream",
     "text": [
      "{'subsample': 1.0, 'scale_pos_weight': 0.4961832061068702, 'n_estimators': 390, 'max_depth': 7, 'gamma': 0.2631578947368421, 'colsample_bytree': 0.1}\n",
      "Fitting 5 folds for each of 1000 candidates, totalling 5000 fits\n"
     ]
    },
    {
     "name": "stderr",
     "output_type": "stream",
     "text": [
      "[Parallel(n_jobs=60)]: Using backend LokyBackend with 60 concurrent workers.\n",
      "[Parallel(n_jobs=60)]: Done  80 tasks      | elapsed:    0.9s\n",
      "[Parallel(n_jobs=60)]: Done 540 tasks      | elapsed:    2.8s\n",
      "[Parallel(n_jobs=60)]: Done 1240 tasks      | elapsed:    5.6s\n",
      "[Parallel(n_jobs=60)]: Done 2140 tasks      | elapsed:    9.1s\n",
      "[Parallel(n_jobs=60)]: Done 3240 tasks      | elapsed:   13.4s\n",
      "[Parallel(n_jobs=60)]: Done 4540 tasks      | elapsed:   18.2s\n",
      "[Parallel(n_jobs=60)]: Done 5000 out of 5000 | elapsed:   20.1s finished\n"
     ]
    },
    {
     "name": "stdout",
     "output_type": "stream",
     "text": [
      "Fitting 5 folds for each of 1000 candidates, totalling 5000 fits\n"
     ]
    },
    {
     "name": "stderr",
     "output_type": "stream",
     "text": [
      "[Parallel(n_jobs=60)]: Using backend LokyBackend with 60 concurrent workers.\n",
      "[Parallel(n_jobs=60)]: Done  80 tasks      | elapsed:    0.8s\n",
      "[Parallel(n_jobs=60)]: Done 540 tasks      | elapsed:    2.7s\n",
      "[Parallel(n_jobs=60)]: Done 1240 tasks      | elapsed:    5.5s\n",
      "[Parallel(n_jobs=60)]: Done 2140 tasks      | elapsed:    9.3s\n",
      "[Parallel(n_jobs=60)]: Done 3240 tasks      | elapsed:   13.6s\n",
      "[Parallel(n_jobs=60)]: Done 4540 tasks      | elapsed:   18.7s\n",
      "[Parallel(n_jobs=60)]: Done 5000 out of 5000 | elapsed:   20.5s finished\n"
     ]
    },
    {
     "name": "stdout",
     "output_type": "stream",
     "text": [
      "Fitting 5 folds for each of 1000 candidates, totalling 5000 fits\n"
     ]
    },
    {
     "name": "stderr",
     "output_type": "stream",
     "text": [
      "[Parallel(n_jobs=60)]: Using backend LokyBackend with 60 concurrent workers.\n"
     ]
    }
   ],
   "source": [
    "raw_model, raw_results, raw_params = optimise(X, y)\n",
    "# raw_params = {'subsample': 0.5263157894736842, 'scale_pos_weight': 1.4273504273504274, 'n_estimators': 96, 'max_depth': 2, 'gamma': 1.8421052631578947, 'colsample_bytree': 0.19473684210526315}\n",
    "# raw_model, raw_results, _ = optimise(X, y, raw_params)\n",
    "RA_model, RA_results, RA_params = optimise(X_RA, y)\n",
    "# RA_params = {'subsample': 0.4789473684210527, 'scale_pos_weight': 1.4273504273504274, 'n_estimators': 255, 'max_depth': 1, 'gamma': 0.7894736842105263, 'colsample_bytree': 0.33684210526315794}\n",
    "# RA_model, RA_results, _ = optimise(X_RA, y, RA_params)"
   ]
  },
  {
   "cell_type": "markdown",
   "metadata": {},
   "source": [
    "## Estimates of test error"
   ]
  },
  {
   "cell_type": "code",
   "execution_count": null,
   "metadata": {},
   "outputs": [],
   "source": [
    "metric_df = pd.DataFrame({'Raw': raw_results, 'RA': RA_results}).round(3).T\n",
    "display(metric_df)"
   ]
  },
  {
   "cell_type": "markdown",
   "metadata": {},
   "source": [
    "### Remove Contaminants based on SHAP values"
   ]
  },
  {
   "cell_type": "code",
   "execution_count": null,
   "metadata": {},
   "outputs": [],
   "source": [
    "import math\n",
    "from scipy.stats import spearmanr\n",
    "import shap\n",
    "\n",
    "\n",
    "def decontam(X_train, y_train, params):\n",
    "    model = XGBClassifier(**params)\n",
    "    model.fit(X=X_train, y=y_train)\n",
    "\n",
    "    explainer = shap.TreeExplainer(model, feature_pertubation='interventional', model_output='probability', data=X_train)\n",
    "    shap_val = explainer.shap_values(X_train)\n",
    "\n",
    "    to_retain = np.array([True] * X_train.shape[1])\n",
    "    corrs = np.zeros(X_train.shape[1])\n",
    "\n",
    "    for i in range(X_train.shape[1]):\n",
    "        rho = spearmanr(X_train.iloc[:, i], shap_val[:, i])[0]\n",
    "        p = spearmanr(X_train.iloc[:, i], shap_val[:, i])[1]\n",
    "        if rho < 0 and p < 0.05:\n",
    "            to_retain[i] = False\n",
    "\n",
    "        if math.isnan(rho):\n",
    "            corrs[i] = 2\n",
    "        else:\n",
    "            corrs[i] = rho\n",
    "\n",
    "    to_retain = np.logical_and(corrs > 0, corrs != 2)\n",
    "    to_retain = X_train.columns[to_retain]\n",
    "    print(to_retain.shape, to_retain)\n",
    "    \n",
    "    return to_retain"
   ]
  },
  {
   "cell_type": "code",
   "execution_count": null,
   "metadata": {
    "scrolled": true
   },
   "outputs": [],
   "source": [
    "# Decontam using raw_params\n",
    "genera_new = X.columns\n",
    "\n",
    "for _ in range(10):\n",
    "    genera_new = decontam(X.loc[:, genera_new], y, raw_params)"
   ]
  },
  {
   "cell_type": "markdown",
   "metadata": {},
   "source": [
    "### Remove non-human associated pathogens"
   ]
  },
  {
   "cell_type": "code",
   "execution_count": null,
   "metadata": {
    "scrolled": true
   },
   "outputs": [],
   "source": [
    "# Retrieve known human pathogens\n",
    "meta = pd.read_csv(datasets / 'pathogen_list.csv', encoding= 'unicode_escape')\n",
    "meta = meta['Genus'].unique()\n",
    "\n",
    "to_retain = list(set(genera_new).intersection(set(meta)))\n",
    "print(to_retain)"
   ]
  },
  {
   "cell_type": "code",
   "execution_count": null,
   "metadata": {},
   "outputs": [],
   "source": [
    "# Decontam + pathogens\n",
    "raw_CR = X[to_retain]\n"
   ]
  },
  {
   "cell_type": "code",
   "execution_count": null,
   "metadata": {},
   "outputs": [],
   "source": [
    "# Get SHAP summary before removing Cellulomonas and Agrobacterium\n",
    "pre_model = XGBClassifier(**raw_params)\n",
    "pre_model.fit(X=raw_CR, y=y)\n",
    "\n",
    "pre_explainer = shap.TreeExplainer(pre_model, feature_pertubation='interventional', model_output='probability', data=raw_CR)\n",
    "shap_pre = pre_explainer.shap_values(raw_CR)\n",
    "\n",
    "shap.summary_plot(shap_pre, raw_CR, show=False, plot_size=(4, 5), color_bar_label='Unique k-mer Count', max_display=25)\n",
    "fig, ax = plt.gcf(), plt.gca()\n",
    "ax.set_xlabel('SHAP Value')\n",
    "plt.savefig(results / 'pre_shap.png', dpi=600, format='png', bbox_inches='tight')\n"
   ]
  },
  {
   "cell_type": "markdown",
   "metadata": {},
   "source": [
    "### Drop features"
   ]
  },
  {
   "cell_type": "code",
   "execution_count": null,
   "metadata": {},
   "outputs": [],
   "source": [
    "# Normalise Datasets\n",
    "RA_CR = raw_CR.apply(func=lambda x: x / x.sum(), axis=1)"
   ]
  },
  {
   "cell_type": "markdown",
   "metadata": {},
   "source": [
    "### Number of Features"
   ]
  },
  {
   "cell_type": "code",
   "execution_count": null,
   "metadata": {},
   "outputs": [],
   "source": [
    "print('Neat', X.shape)\n",
    "print('CR', raw_CR.shape)"
   ]
  },
  {
   "cell_type": "markdown",
   "metadata": {},
   "source": [
    "### Optimise decontaminated models"
   ]
  },
  {
   "cell_type": "markdown",
   "metadata": {},
   "source": [
    "#### Pathogens"
   ]
  },
  {
   "cell_type": "code",
   "execution_count": null,
   "metadata": {},
   "outputs": [],
   "source": [
    "# raw_CR_model, raw_CR_results, raw_CR_params = optimise(raw_CR, y)\n",
    "raw_CR_params = {'subsample': 0.7631578947368421, 'scale_pos_weight': 1.4273504273504274, 'n_estimators': 426, 'max_depth': 1, 'gamma': 0.0, 'colsample_bytree': 0.1}\n",
    "raw_CR_model, raw_CR_results, _ = optimise(raw_CR, y, raw_CR_params)\n",
    "# RA_CR_model, RA_CR_results, RA_CR_params = optimise(RA_CR, y)\n",
    "RA_CR_params = {'subsample': 0.38421052631578945, 'scale_pos_weight': 1.4273504273504274, 'n_estimators': 101, 'max_depth': 5, 'gamma': 2.894736842105263, 'colsample_bytree': 0.19473684210526315}\n",
    "RA_CR_model, RA_CR_results, _ = optimise(RA_CR, y, RA_CR_params)"
   ]
  },
  {
   "cell_type": "code",
   "execution_count": null,
   "metadata": {},
   "outputs": [],
   "source": [
    "metric_CR_df = pd.DataFrame({'Raw CR': raw_CR_results, 'RA CR': RA_CR_results}).round(3).T\n",
    "metric_df = metric_df.append(metric_CR_df)\n",
    "display(metric_df)"
   ]
  },
  {
   "cell_type": "code",
   "execution_count": null,
   "metadata": {},
   "outputs": [],
   "source": [
    "300620_STOPPPPP"
   ]
  },
  {
   "cell_type": "markdown",
   "metadata": {},
   "source": [
    "## Interpreting model using SHAP values"
   ]
  },
  {
   "cell_type": "markdown",
   "metadata": {},
   "source": [
    "### Plot of SHAP values per Feature"
   ]
  },
  {
   "cell_type": "code",
   "execution_count": null,
   "metadata": {},
   "outputs": [],
   "source": [
    "import matplotlib.pyplot as plt\n",
    "explainer_CR = shap.TreeExplainer(raw_CR_model, feature_pertubation='interventional', model_output='probability', data=raw_CR)\n",
    "shap_CR = explainer_CR.shap_values(raw_CR)\n",
    "\n",
    "explainer_raw = shap.TreeExplainer(raw_model, feature_pertubation='interventional', model_output='probability', data=X)\n",
    "shap_raw = explainer_raw.shap_values(X)"
   ]
  },
  {
   "cell_type": "code",
   "execution_count": null,
   "metadata": {
    "scrolled": true
   },
   "outputs": [],
   "source": [
    "shap.summary_plot(shap_CR, raw_CR, show=False, plot_size=(4, 5), color_bar_label='Unique k-mer Count', max_display=35)\n",
    "fig, ax = plt.gcf(), plt.gca()\n",
    "ax.set_xlabel('SHAP Value')\n",
    "plt.savefig(results / 'CR_shap.png', dpi=600, format='png', bbox_inches='tight')"
   ]
  },
  {
   "cell_type": "code",
   "execution_count": null,
   "metadata": {},
   "outputs": [],
   "source": [
    "shap.summary_plot(shap_raw, X, show=False, plot_size=(4, 5), color_bar_label='Unique k-mer Count', max_display=23)\n",
    "fig, ax = plt.gcf(), plt.gca()\n",
    "ax.set_xlabel('SHAP Value')\n",
    "plt.savefig(results / 'raw_shap.png', dpi=600, format='png', bbox_inches='tight')"
   ]
  },
  {
   "cell_type": "markdown",
   "metadata": {},
   "source": [
    "* Features are ranked by importance from top to botttom\n",
    "* feature values are the kmer counts for each genus\n",
    "* SHAP values are the average marginal contributions to probability"
   ]
  },
  {
   "cell_type": "markdown",
   "metadata": {},
   "source": [
    "### Force plot for healthy patient"
   ]
  },
  {
   "cell_type": "code",
   "execution_count": null,
   "metadata": {
    "scrolled": true
   },
   "outputs": [],
   "source": [
    "j = 201\n",
    "print(f'Actual Classification {y[j]}')\n",
    "print(raw_CR.index[j])\n",
    "shap.force_plot(explainer_CR.expected_value, \n",
    "                shap_CR[j,:], \n",
    "                raw_CR.iloc[j,:],\n",
    "                show=False,\n",
    "                matplotlib=True)\n",
    "plt.savefig(results / 'CR_force_plot.png', dpi=600, format='png', bbox_inches='tight')"
   ]
  },
  {
   "cell_type": "markdown",
   "metadata": {},
   "source": [
    "## How much does Escherichia drive predictions?"
   ]
  },
  {
   "cell_type": "code",
   "execution_count": null,
   "metadata": {},
   "outputs": [],
   "source": [
    "raw_CR.columns"
   ]
  },
  {
   "cell_type": "code",
   "execution_count": null,
   "metadata": {},
   "outputs": [],
   "source": [
    "no_ecoli_model, no_ecoli_results, no_ecoli_params = optimise(raw_CR.drop('Escherichia', axis=1), y)"
   ]
  },
  {
   "cell_type": "code",
   "execution_count": null,
   "metadata": {},
   "outputs": [],
   "source": [
    "no_ecoli_results"
   ]
  }
 ],
 "metadata": {
  "kernelspec": {
   "display_name": "mashin_light",
   "language": "python",
   "name": "mashin_light"
  },
  "language_info": {
   "codemirror_mode": {
    "name": "ipython",
    "version": 3
   },
   "file_extension": ".py",
   "mimetype": "text/x-python",
   "name": "python",
   "nbconvert_exporter": "python",
   "pygments_lexer": "ipython3",
   "version": "3.7.3"
  }
 },
 "nbformat": 4,
 "nbformat_minor": 4
}
