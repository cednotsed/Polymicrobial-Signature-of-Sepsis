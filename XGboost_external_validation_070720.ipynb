{
 "cells": [
  {
   "cell_type": "markdown",
   "metadata": {},
   "source": [
    "# Metagenomic-based Diagnostic for Sepsis (Karius Dataset)"
   ]
  },
  {
   "cell_type": "code",
   "execution_count": 1,
   "metadata": {},
   "outputs": [
    {
     "name": "stdout",
     "output_type": "stream",
     "text": [
      "0.90 0.34.0\n"
     ]
    }
   ],
   "source": [
    "import xgboost\n",
    "import shap\n",
    "print(xgboost.__version__, shap.__version__)"
   ]
  },
  {
   "cell_type": "code",
   "execution_count": 2,
   "metadata": {},
   "outputs": [],
   "source": [
    "# Import Statements\n",
    "import pandas as pd\n",
    "import numpy as np\n",
    "import matplotlib.pyplot as plt\n",
    "from pathlib import Path\n",
    "\n",
    "cwd = Path.cwd()\n",
    "datasets = cwd / 'datasets'\n",
    "results = cwd / 'results/external_validation'"
   ]
  },
  {
   "cell_type": "markdown",
   "metadata": {},
   "source": [
    "## Data Preprocessing\n",
    "Since we are using stratified kfold, a validation split is not necesssary."
   ]
  },
  {
   "cell_type": "markdown",
   "metadata": {},
   "source": [
    "### Load data"
   ]
  },
  {
   "cell_type": "code",
   "execution_count": 3,
   "metadata": {
    "scrolled": true
   },
   "outputs": [
    {
     "data": {
      "text/html": [
       "<div>\n",
       "<style scoped>\n",
       "    .dataframe tbody tr th:only-of-type {\n",
       "        vertical-align: middle;\n",
       "    }\n",
       "\n",
       "    .dataframe tbody tr th {\n",
       "        vertical-align: top;\n",
       "    }\n",
       "\n",
       "    .dataframe thead th {\n",
       "        text-align: right;\n",
       "    }\n",
       "</style>\n",
       "<table border=\"1\" class=\"dataframe\">\n",
       "  <thead>\n",
       "    <tr style=\"text-align: right;\">\n",
       "      <th></th>\n",
       "      <th>y</th>\n",
       "      <th>Bifidobacterium</th>\n",
       "      <th>Alloscardovia</th>\n",
       "      <th>Arthrobacter</th>\n",
       "      <th>Kocuria</th>\n",
       "      <th>Glutamicibacter</th>\n",
       "      <th>Citricoccus</th>\n",
       "      <th>Micrococcus</th>\n",
       "      <th>Pseudarthrobacter</th>\n",
       "      <th>Microbacterium</th>\n",
       "      <th>...</th>\n",
       "      <th>Slackia</th>\n",
       "      <th>Mumia</th>\n",
       "      <th>Thermomonospora</th>\n",
       "      <th>Ilumatobacter</th>\n",
       "      <th>Marinibacterium</th>\n",
       "      <th>Maricaulis</th>\n",
       "      <th>Stella</th>\n",
       "      <th>Eoetvoesia</th>\n",
       "      <th>Bilophila</th>\n",
       "      <th>Paeniclostridium</th>\n",
       "    </tr>\n",
       "  </thead>\n",
       "  <tbody>\n",
       "    <tr>\n",
       "      <th>0</th>\n",
       "      <td>healthy</td>\n",
       "      <td>42891.0</td>\n",
       "      <td>1.0</td>\n",
       "      <td>14.0</td>\n",
       "      <td>1.0</td>\n",
       "      <td>3.0</td>\n",
       "      <td>0.0</td>\n",
       "      <td>15.0</td>\n",
       "      <td>1.0</td>\n",
       "      <td>7.0</td>\n",
       "      <td>...</td>\n",
       "      <td>0.0</td>\n",
       "      <td>0.0</td>\n",
       "      <td>0.0</td>\n",
       "      <td>7.0</td>\n",
       "      <td>1.0</td>\n",
       "      <td>0.0</td>\n",
       "      <td>0.0</td>\n",
       "      <td>0.0</td>\n",
       "      <td>0.0</td>\n",
       "      <td>0.0</td>\n",
       "    </tr>\n",
       "    <tr>\n",
       "      <th>1</th>\n",
       "      <td>septic</td>\n",
       "      <td>730.0</td>\n",
       "      <td>0.0</td>\n",
       "      <td>48.0</td>\n",
       "      <td>9.0</td>\n",
       "      <td>10.0</td>\n",
       "      <td>1.0</td>\n",
       "      <td>20.0</td>\n",
       "      <td>5.0</td>\n",
       "      <td>21.0</td>\n",
       "      <td>...</td>\n",
       "      <td>0.0</td>\n",
       "      <td>0.0</td>\n",
       "      <td>0.0</td>\n",
       "      <td>0.0</td>\n",
       "      <td>0.0</td>\n",
       "      <td>0.0</td>\n",
       "      <td>0.0</td>\n",
       "      <td>0.0</td>\n",
       "      <td>0.0</td>\n",
       "      <td>0.0</td>\n",
       "    </tr>\n",
       "    <tr>\n",
       "      <th>2</th>\n",
       "      <td>healthy</td>\n",
       "      <td>36074.0</td>\n",
       "      <td>3.0</td>\n",
       "      <td>6.0</td>\n",
       "      <td>56.0</td>\n",
       "      <td>3.0</td>\n",
       "      <td>0.0</td>\n",
       "      <td>21.0</td>\n",
       "      <td>6.0</td>\n",
       "      <td>1.0</td>\n",
       "      <td>...</td>\n",
       "      <td>0.0</td>\n",
       "      <td>0.0</td>\n",
       "      <td>0.0</td>\n",
       "      <td>0.0</td>\n",
       "      <td>0.0</td>\n",
       "      <td>0.0</td>\n",
       "      <td>0.0</td>\n",
       "      <td>0.0</td>\n",
       "      <td>0.0</td>\n",
       "      <td>0.0</td>\n",
       "    </tr>\n",
       "    <tr>\n",
       "      <th>3</th>\n",
       "      <td>healthy</td>\n",
       "      <td>44094.0</td>\n",
       "      <td>0.0</td>\n",
       "      <td>59.0</td>\n",
       "      <td>10.0</td>\n",
       "      <td>21.0</td>\n",
       "      <td>3.0</td>\n",
       "      <td>66.0</td>\n",
       "      <td>40.0</td>\n",
       "      <td>26.0</td>\n",
       "      <td>...</td>\n",
       "      <td>0.0</td>\n",
       "      <td>0.0</td>\n",
       "      <td>0.0</td>\n",
       "      <td>0.0</td>\n",
       "      <td>0.0</td>\n",
       "      <td>0.0</td>\n",
       "      <td>0.0</td>\n",
       "      <td>0.0</td>\n",
       "      <td>0.0</td>\n",
       "      <td>0.0</td>\n",
       "    </tr>\n",
       "    <tr>\n",
       "      <th>4</th>\n",
       "      <td>healthy</td>\n",
       "      <td>26958.0</td>\n",
       "      <td>0.0</td>\n",
       "      <td>6.0</td>\n",
       "      <td>1.0</td>\n",
       "      <td>0.0</td>\n",
       "      <td>0.0</td>\n",
       "      <td>16.0</td>\n",
       "      <td>1.0</td>\n",
       "      <td>9.0</td>\n",
       "      <td>...</td>\n",
       "      <td>0.0</td>\n",
       "      <td>0.0</td>\n",
       "      <td>0.0</td>\n",
       "      <td>0.0</td>\n",
       "      <td>0.0</td>\n",
       "      <td>0.0</td>\n",
       "      <td>0.0</td>\n",
       "      <td>0.0</td>\n",
       "      <td>0.0</td>\n",
       "      <td>0.0</td>\n",
       "    </tr>\n",
       "    <tr>\n",
       "      <th>...</th>\n",
       "      <td>...</td>\n",
       "      <td>...</td>\n",
       "      <td>...</td>\n",
       "      <td>...</td>\n",
       "      <td>...</td>\n",
       "      <td>...</td>\n",
       "      <td>...</td>\n",
       "      <td>...</td>\n",
       "      <td>...</td>\n",
       "      <td>...</td>\n",
       "      <td>...</td>\n",
       "      <td>...</td>\n",
       "      <td>...</td>\n",
       "      <td>...</td>\n",
       "      <td>...</td>\n",
       "      <td>...</td>\n",
       "      <td>...</td>\n",
       "      <td>...</td>\n",
       "      <td>...</td>\n",
       "      <td>...</td>\n",
       "      <td>...</td>\n",
       "    </tr>\n",
       "    <tr>\n",
       "      <th>436</th>\n",
       "      <td>septic</td>\n",
       "      <td>4.0</td>\n",
       "      <td>0.0</td>\n",
       "      <td>3.0</td>\n",
       "      <td>2.0</td>\n",
       "      <td>0.0</td>\n",
       "      <td>0.0</td>\n",
       "      <td>1.0</td>\n",
       "      <td>0.0</td>\n",
       "      <td>8.0</td>\n",
       "      <td>...</td>\n",
       "      <td>14.0</td>\n",
       "      <td>0.0</td>\n",
       "      <td>1.0</td>\n",
       "      <td>0.0</td>\n",
       "      <td>0.0</td>\n",
       "      <td>0.0</td>\n",
       "      <td>0.0</td>\n",
       "      <td>0.0</td>\n",
       "      <td>109.0</td>\n",
       "      <td>0.0</td>\n",
       "    </tr>\n",
       "    <tr>\n",
       "      <th>437</th>\n",
       "      <td>septic</td>\n",
       "      <td>1.0</td>\n",
       "      <td>0.0</td>\n",
       "      <td>0.0</td>\n",
       "      <td>0.0</td>\n",
       "      <td>0.0</td>\n",
       "      <td>0.0</td>\n",
       "      <td>1.0</td>\n",
       "      <td>0.0</td>\n",
       "      <td>2.0</td>\n",
       "      <td>...</td>\n",
       "      <td>0.0</td>\n",
       "      <td>0.0</td>\n",
       "      <td>0.0</td>\n",
       "      <td>0.0</td>\n",
       "      <td>0.0</td>\n",
       "      <td>0.0</td>\n",
       "      <td>0.0</td>\n",
       "      <td>0.0</td>\n",
       "      <td>0.0</td>\n",
       "      <td>0.0</td>\n",
       "    </tr>\n",
       "    <tr>\n",
       "      <th>438</th>\n",
       "      <td>septic</td>\n",
       "      <td>0.0</td>\n",
       "      <td>0.0</td>\n",
       "      <td>0.0</td>\n",
       "      <td>4.0</td>\n",
       "      <td>0.0</td>\n",
       "      <td>0.0</td>\n",
       "      <td>1.0</td>\n",
       "      <td>0.0</td>\n",
       "      <td>17.0</td>\n",
       "      <td>...</td>\n",
       "      <td>0.0</td>\n",
       "      <td>0.0</td>\n",
       "      <td>0.0</td>\n",
       "      <td>0.0</td>\n",
       "      <td>0.0</td>\n",
       "      <td>0.0</td>\n",
       "      <td>0.0</td>\n",
       "      <td>0.0</td>\n",
       "      <td>0.0</td>\n",
       "      <td>0.0</td>\n",
       "    </tr>\n",
       "    <tr>\n",
       "      <th>439</th>\n",
       "      <td>septic</td>\n",
       "      <td>0.0</td>\n",
       "      <td>0.0</td>\n",
       "      <td>0.0</td>\n",
       "      <td>0.0</td>\n",
       "      <td>0.0</td>\n",
       "      <td>0.0</td>\n",
       "      <td>0.0</td>\n",
       "      <td>0.0</td>\n",
       "      <td>2.0</td>\n",
       "      <td>...</td>\n",
       "      <td>0.0</td>\n",
       "      <td>0.0</td>\n",
       "      <td>0.0</td>\n",
       "      <td>0.0</td>\n",
       "      <td>0.0</td>\n",
       "      <td>0.0</td>\n",
       "      <td>0.0</td>\n",
       "      <td>0.0</td>\n",
       "      <td>0.0</td>\n",
       "      <td>0.0</td>\n",
       "    </tr>\n",
       "    <tr>\n",
       "      <th>440</th>\n",
       "      <td>septic</td>\n",
       "      <td>0.0</td>\n",
       "      <td>0.0</td>\n",
       "      <td>1.0</td>\n",
       "      <td>0.0</td>\n",
       "      <td>0.0</td>\n",
       "      <td>0.0</td>\n",
       "      <td>0.0</td>\n",
       "      <td>0.0</td>\n",
       "      <td>1.0</td>\n",
       "      <td>...</td>\n",
       "      <td>0.0</td>\n",
       "      <td>0.0</td>\n",
       "      <td>0.0</td>\n",
       "      <td>0.0</td>\n",
       "      <td>0.0</td>\n",
       "      <td>0.0</td>\n",
       "      <td>0.0</td>\n",
       "      <td>0.0</td>\n",
       "      <td>0.0</td>\n",
       "      <td>0.0</td>\n",
       "    </tr>\n",
       "  </tbody>\n",
       "</table>\n",
       "<p>438 rows × 686 columns</p>\n",
       "</div>"
      ],
      "text/plain": [
       "           y  Bifidobacterium  Alloscardovia  Arthrobacter  Kocuria  \\\n",
       "0    healthy          42891.0            1.0          14.0      1.0   \n",
       "1     septic            730.0            0.0          48.0      9.0   \n",
       "2    healthy          36074.0            3.0           6.0     56.0   \n",
       "3    healthy          44094.0            0.0          59.0     10.0   \n",
       "4    healthy          26958.0            0.0           6.0      1.0   \n",
       "..       ...              ...            ...           ...      ...   \n",
       "436   septic              4.0            0.0           3.0      2.0   \n",
       "437   septic              1.0            0.0           0.0      0.0   \n",
       "438   septic              0.0            0.0           0.0      4.0   \n",
       "439   septic              0.0            0.0           0.0      0.0   \n",
       "440   septic              0.0            0.0           1.0      0.0   \n",
       "\n",
       "     Glutamicibacter  Citricoccus  Micrococcus  Pseudarthrobacter  \\\n",
       "0                3.0          0.0         15.0                1.0   \n",
       "1               10.0          1.0         20.0                5.0   \n",
       "2                3.0          0.0         21.0                6.0   \n",
       "3               21.0          3.0         66.0               40.0   \n",
       "4                0.0          0.0         16.0                1.0   \n",
       "..               ...          ...          ...                ...   \n",
       "436              0.0          0.0          1.0                0.0   \n",
       "437              0.0          0.0          1.0                0.0   \n",
       "438              0.0          0.0          1.0                0.0   \n",
       "439              0.0          0.0          0.0                0.0   \n",
       "440              0.0          0.0          0.0                0.0   \n",
       "\n",
       "     Microbacterium  ...  Slackia  Mumia  Thermomonospora  Ilumatobacter  \\\n",
       "0               7.0  ...      0.0    0.0              0.0            7.0   \n",
       "1              21.0  ...      0.0    0.0              0.0            0.0   \n",
       "2               1.0  ...      0.0    0.0              0.0            0.0   \n",
       "3              26.0  ...      0.0    0.0              0.0            0.0   \n",
       "4               9.0  ...      0.0    0.0              0.0            0.0   \n",
       "..              ...  ...      ...    ...              ...            ...   \n",
       "436             8.0  ...     14.0    0.0              1.0            0.0   \n",
       "437             2.0  ...      0.0    0.0              0.0            0.0   \n",
       "438            17.0  ...      0.0    0.0              0.0            0.0   \n",
       "439             2.0  ...      0.0    0.0              0.0            0.0   \n",
       "440             1.0  ...      0.0    0.0              0.0            0.0   \n",
       "\n",
       "     Marinibacterium  Maricaulis  Stella  Eoetvoesia  Bilophila  \\\n",
       "0                1.0         0.0     0.0         0.0        0.0   \n",
       "1                0.0         0.0     0.0         0.0        0.0   \n",
       "2                0.0         0.0     0.0         0.0        0.0   \n",
       "3                0.0         0.0     0.0         0.0        0.0   \n",
       "4                0.0         0.0     0.0         0.0        0.0   \n",
       "..               ...         ...     ...         ...        ...   \n",
       "436              0.0         0.0     0.0         0.0      109.0   \n",
       "437              0.0         0.0     0.0         0.0        0.0   \n",
       "438              0.0         0.0     0.0         0.0        0.0   \n",
       "439              0.0         0.0     0.0         0.0        0.0   \n",
       "440              0.0         0.0     0.0         0.0        0.0   \n",
       "\n",
       "     Paeniclostridium  \n",
       "0                 0.0  \n",
       "1                 0.0  \n",
       "2                 0.0  \n",
       "3                 0.0  \n",
       "4                 0.0  \n",
       "..                ...  \n",
       "436               0.0  \n",
       "437               0.0  \n",
       "438               0.0  \n",
       "439               0.0  \n",
       "440               0.0  \n",
       "\n",
       "[438 rows x 686 columns]"
      ]
     },
     "metadata": {},
     "output_type": "display_data"
    }
   ],
   "source": [
    "raw_df = pd.read_csv(datasets / 'kapusta_grumaz_karius_genus_raw.csv')\n",
    "\n",
    "# Remove NTCs\n",
    "raw_df = raw_df.loc[raw_df.y != 'ntc', :]\n",
    "display(raw_df)\n",
    "\n",
    "X = raw_df.drop('y', axis=1).copy()\n",
    "y = raw_df.y.copy()"
   ]
  },
  {
   "cell_type": "code",
   "execution_count": 4,
   "metadata": {},
   "outputs": [],
   "source": [
    "# Binary encode y\n",
    "y.loc[y == 'septic'] = 1\n",
    "y.loc[y == 'healthy'] = 0\n",
    "y = y.astype('int')\n",
    "\n",
    "# Relative abundance\n",
    "X_RA = X.apply(func=lambda x: x / x.sum(), axis=1)"
   ]
  },
  {
   "cell_type": "code",
   "execution_count": 5,
   "metadata": {},
   "outputs": [
    {
     "data": {
      "text/html": [
       "<div>\n",
       "<style scoped>\n",
       "    .dataframe tbody tr th:only-of-type {\n",
       "        vertical-align: middle;\n",
       "    }\n",
       "\n",
       "    .dataframe tbody tr th {\n",
       "        vertical-align: top;\n",
       "    }\n",
       "\n",
       "    .dataframe thead th {\n",
       "        text-align: right;\n",
       "    }\n",
       "</style>\n",
       "<table border=\"1\" class=\"dataframe\">\n",
       "  <thead>\n",
       "    <tr style=\"text-align: right;\">\n",
       "      <th></th>\n",
       "      <th>Septic</th>\n",
       "      <th>Healthy</th>\n",
       "    </tr>\n",
       "  </thead>\n",
       "  <tbody>\n",
       "    <tr>\n",
       "      <th>Train fold</th>\n",
       "      <td>207</td>\n",
       "      <td>188</td>\n",
       "    </tr>\n",
       "    <tr>\n",
       "      <th>Test fold</th>\n",
       "      <td>23</td>\n",
       "      <td>20</td>\n",
       "    </tr>\n",
       "  </tbody>\n",
       "</table>\n",
       "</div>"
      ],
      "text/plain": [
       "            Septic  Healthy\n",
       "Train fold     207      188\n",
       "Test fold       23       20"
      ]
     },
     "metadata": {},
     "output_type": "display_data"
    }
   ],
   "source": [
    "n_splits = 10\n",
    "\n",
    "pos = len(y[y == 1])\n",
    "neg = len(y[y == 0])\n",
    "split_sizes = pd.DataFrame({'Septic': [pos - int(pos / n_splits), int(pos / n_splits)], \n",
    "                           'Healthy': [neg - int(neg / n_splits), int(neg / n_splits)]}, index=['Train fold', 'Test fold'])\n",
    "\n",
    "display(split_sizes)\n",
    "\n",
    "# Get negative to positive ratio\n",
    "ratio = sum(y == 0) / sum(y == 1)"
   ]
  },
  {
   "cell_type": "markdown",
   "metadata": {},
   "source": [
    "## Nested CV for hyperparameter optimisation"
   ]
  },
  {
   "cell_type": "code",
   "execution_count": 6,
   "metadata": {},
   "outputs": [],
   "source": [
    "from xgboost import XGBClassifier\n",
    "from sklearn.model_selection import RandomizedSearchCV, StratifiedKFold, cross_validate\n",
    "from sklearn.metrics import make_scorer, precision_score, recall_score, f1_score, average_precision_score"
   ]
  },
  {
   "cell_type": "code",
   "execution_count": 7,
   "metadata": {},
   "outputs": [],
   "source": [
    "def optimise_evaluate(X, y):\n",
    "    np.random.seed(66)\n",
    "    ratio = sum(y == 0) / sum(y == 1)\n",
    "    \n",
    "    # Hyperparemeter Optimisation using grid search (F1)\n",
    "    model = XGBClassifier()\n",
    "    n_estimators = range(100, 300, 10)\n",
    "    max_depth = range(1, 5, 1)\n",
    "    gamma = np.linspace(0.1, 3, 10)\n",
    "    subsample = [0.6, 0.7, 0.8, 0.9, 1.0]\n",
    "    colsample_bytree = np.linspace(0.1, 1, 20)\n",
    "    \n",
    "    param_grid = dict(max_depth=max_depth, \n",
    "                      n_estimators=n_estimators, \n",
    "                      colsample_bytree=colsample_bytree,\n",
    "                      gamma=gamma,\n",
    "                      subsample=subsample,\n",
    "                      scale_pos_weight=[ratio])\n",
    "    \n",
    "    inner_cv = StratifiedKFold(n_splits=n_splits, shuffle=True)\n",
    "    outer_cv = StratifiedKFold(n_splits=n_splits, shuffle=True)\n",
    "\n",
    "    # Inner CV\n",
    "    model = RandomizedSearchCV(model, \n",
    "                               param_grid, \n",
    "                               scoring='roc_auc',\n",
    "                               n_iter=1000,\n",
    "                               n_jobs=28, \n",
    "                               cv=inner_cv, \n",
    "                               verbose=0)\n",
    "\n",
    "    model.fit(X, y)\n",
    "    best_params = model.best_params_\n",
    "    print(best_params)\n",
    "\n",
    "    # Custom metrics\n",
    "    precision = make_scorer(precision_score, average='binary')\n",
    "    recall = make_scorer(recall_score, average='binary')\n",
    "    f1 = make_scorer(f1_score, average='binary')\n",
    "    auprc = make_scorer(average_precision_score, average=None)\n",
    "    \n",
    "    scoring = {'precision': precision, \n",
    "               'recall': recall, \n",
    "               'AUROC': 'roc_auc',\n",
    "               'F1': f1}\n",
    "\n",
    "    # Outer CV\n",
    "    outer_results = cross_validate(model, X=X, y=y, cv=outer_cv, scoring=scoring)\n",
    "    outer_results = pd.DataFrame(outer_results).mean()[['test_precision', 'test_recall', 'test_F1', 'test_AUROC']]\n",
    "\n",
    "    return outer_results, best_params\n"
   ]
  },
  {
   "cell_type": "markdown",
   "metadata": {},
   "source": [
    "### Optimise and evaluate models trained on dirty data"
   ]
  },
  {
   "cell_type": "code",
   "execution_count": 8,
   "metadata": {
    "scrolled": true
   },
   "outputs": [
    {
     "name": "stdout",
     "output_type": "stream",
     "text": [
      "{'subsample': 0.8, 'scale_pos_weight': 0.9043478260869565, 'n_estimators': 220, 'max_depth': 4, 'gamma': 0.1, 'colsample_bytree': 0.1473684210526316}\n",
      "{'subsample': 0.8, 'scale_pos_weight': 0.9043478260869565, 'n_estimators': 220, 'max_depth': 4, 'gamma': 0.1, 'colsample_bytree': 0.1473684210526316}\n"
     ]
    }
   ],
   "source": [
    "raw_results, raw_params = optimise_evaluate(X, y)\n",
    "# raw_params = {'subsample': 0.5263157894736842, 'scale_pos_weight': 1.4273504273504274, 'n_estimators': 96, 'max_depth': 2, 'gamma': 1.8421052631578947, 'colsample_bytree': 0.19473684210526315}\n",
    "RA_results, RA_params = optimise_evaluate(X_RA, y)\n",
    "# RA_params = {'subsample': 0.4789473684210527, 'scale_pos_weight': 1.4273504273504274, 'n_estimators': 255, 'max_depth': 1, 'gamma': 0.7894736842105263, 'colsample_bytree': 0.4}\n"
   ]
  },
  {
   "cell_type": "markdown",
   "metadata": {},
   "source": [
    "## Estimates of test error"
   ]
  },
  {
   "cell_type": "code",
   "execution_count": 9,
   "metadata": {
    "scrolled": true
   },
   "outputs": [
    {
     "data": {
      "text/html": [
       "<div>\n",
       "<style scoped>\n",
       "    .dataframe tbody tr th:only-of-type {\n",
       "        vertical-align: middle;\n",
       "    }\n",
       "\n",
       "    .dataframe tbody tr th {\n",
       "        vertical-align: top;\n",
       "    }\n",
       "\n",
       "    .dataframe thead th {\n",
       "        text-align: right;\n",
       "    }\n",
       "</style>\n",
       "<table border=\"1\" class=\"dataframe\">\n",
       "  <thead>\n",
       "    <tr style=\"text-align: right;\">\n",
       "      <th></th>\n",
       "      <th>test_precision</th>\n",
       "      <th>test_recall</th>\n",
       "      <th>test_F1</th>\n",
       "      <th>test_AUROC</th>\n",
       "    </tr>\n",
       "  </thead>\n",
       "  <tbody>\n",
       "    <tr>\n",
       "      <th>Raw</th>\n",
       "      <td>0.950</td>\n",
       "      <td>0.939</td>\n",
       "      <td>0.944</td>\n",
       "      <td>0.982</td>\n",
       "    </tr>\n",
       "    <tr>\n",
       "      <th>RA</th>\n",
       "      <td>0.952</td>\n",
       "      <td>0.926</td>\n",
       "      <td>0.938</td>\n",
       "      <td>0.981</td>\n",
       "    </tr>\n",
       "  </tbody>\n",
       "</table>\n",
       "</div>"
      ],
      "text/plain": [
       "     test_precision  test_recall  test_F1  test_AUROC\n",
       "Raw           0.950        0.939    0.944       0.982\n",
       "RA            0.952        0.926    0.938       0.981"
      ]
     },
     "metadata": {},
     "output_type": "display_data"
    }
   ],
   "source": [
    "metric_df = pd.DataFrame({'Raw': raw_results, 'RA': RA_results}).round(3).T\n",
    "display(metric_df)"
   ]
  },
  {
   "cell_type": "markdown",
   "metadata": {},
   "source": [
    "## Train dirty models"
   ]
  },
  {
   "cell_type": "code",
   "execution_count": 10,
   "metadata": {},
   "outputs": [
    {
     "data": {
      "text/plain": [
       "XGBClassifier(colsample_bytree=0.1473684210526316, gamma=0.1, max_depth=4,\n",
       "              n_estimators=220, scale_pos_weight=0.9043478260869565,\n",
       "              subsample=0.8)"
      ]
     },
     "execution_count": 10,
     "metadata": {},
     "output_type": "execute_result"
    }
   ],
   "source": [
    "raw_model = XGBClassifier(**raw_params)\n",
    "raw_model.fit(X, y)\n",
    "\n",
    "RA_model = XGBClassifier(**RA_params)\n",
    "RA_model.fit(X_RA, y)\n"
   ]
  },
  {
   "cell_type": "markdown",
   "metadata": {},
   "source": [
    "### Remove Contaminants based on SHAP values"
   ]
  },
  {
   "cell_type": "code",
   "execution_count": 11,
   "metadata": {},
   "outputs": [],
   "source": [
    "import math\n",
    "from scipy.stats import spearmanr\n",
    "import shap\n",
    "\n",
    "\n",
    "def decontam(X_train, y_train, params):\n",
    "    X_train = X_train.copy()\n",
    "    y_train = y_train.copy()\n",
    "    params = params.copy()\n",
    "#     X_train = X_train.apply(func=lambda x: x / x.sum(), axis=1)\n",
    "    \n",
    "    model = XGBClassifier(**params)\n",
    "    model.fit(X=X_train, y=y_train)\n",
    "\n",
    "    explainer = shap.TreeExplainer(model, feature_pertubation='interventional', model_output='probability', data=X_train)\n",
    "    shap_val = explainer.shap_values(X_train)\n",
    "\n",
    "    to_retain = np.array([True] * X_train.shape[1])\n",
    "    corrs = np.zeros(X_train.shape[1])\n",
    "    \n",
    "    for i in range(X_train.shape[1]):\n",
    "        if sum(X_train.iloc[:, i] != 0) >= X_train.shape[0] * 0.1:\n",
    "            rho = spearmanr(X_train.iloc[:, i], shap_val[:, i])[0]\n",
    "            p = spearmanr(X_train.iloc[:, i], shap_val[:, i])[1]\n",
    "            print(f'rho={rho}, p={p}, genus={X_train.columns[i]}')\n",
    "            \n",
    "            if rho < 0:\n",
    "                to_retain[i] = False\n",
    "                \n",
    "            elif not shap_val[:, i].any(0):\n",
    "                to_retain[i] = False\n",
    "        else:\n",
    "            to_retain[i] = False\n",
    "\n",
    "    to_retain = X_train.columns[to_retain]\n",
    "    print(to_retain.shape, to_retain)\n",
    "    \n",
    "    return to_retain"
   ]
  },
  {
   "cell_type": "code",
   "execution_count": 12,
   "metadata": {},
   "outputs": [],
   "source": [
    "# Retrieve known human pathogens\n",
    "meta = pd.read_csv(datasets / 'pathogen_list.csv', encoding= 'unicode_escape')\n",
    "meta = meta['Genus'].unique()\n",
    "\n",
    "# Remove non-human pathogens\n",
    "genera_new = X.columns\n",
    "genera_new = list(set(genera_new).intersection(set(meta)))"
   ]
  },
  {
   "cell_type": "code",
   "execution_count": 13,
   "metadata": {
    "scrolled": true
   },
   "outputs": [
    {
     "name": "stderr",
     "output_type": "stream",
     "text": [
      "\r",
      " 94%|=================== | 410/438 [00:11<00:00]       "
     ]
    },
    {
     "name": "stdout",
     "output_type": "stream",
     "text": [
      "rho=-0.8514200079856199, p=2.8501011932473666e-124, genus=Bosea\n",
      "rho=0.5301756025060583, p=4.07923483572026e-33, genus=Morganella\n",
      "rho=-0.4819528830740147, p=7.415194963571939e-27, genus=Kocuria\n",
      "rho=0.6923104050535595, p=9.074323676488332e-64, genus=Blautia\n",
      "rho=0.5353700399456305, p=7.493403826123107e-34, genus=Raoultella\n",
      "rho=-0.7874656983219535, p=1.1283972769320785e-93, genus=Finegoldia\n",
      "rho=-0.8172531633538163, p=2.018065658848211e-106, genus=Flavobacterium\n",
      "rho=-0.7596999884032343, p=1.6237920143759553e-83, genus=Corynebacterium\n",
      "rho=-0.7170723115851027, p=2.3692612451657987e-70, genus=Ochrobactrum\n",
      "rho=-0.8475622693632774, p=4.854541650572493e-122, genus=Nocardia\n",
      "rho=0.6127512108157038, p=1.6770756428370853e-46, genus=Cellulosimicrobium\n",
      "rho=0.6732439712315178, p=3.8837814785963652e-59, genus=Campylobacter\n",
      "rho=-0.17212100663931298, p=0.00029577095918223857, genus=Streptomyces\n",
      "rho=-0.6916655817988397, p=1.3192843330830776e-63, genus=Elizabethkingia\n",
      "rho=-0.5883298133647943, p=3.866484014072949e-42, genus=Lactobacillus\n",
      "rho=-0.6777654954062069, p=3.3314146804013835e-60, genus=Kytococcus\n",
      "rho=0.675080034100572, p=1.4402033478170346e-59, genus=Alloprevotella\n",
      "rho=0.5199928652009251, p=1.039368372375709e-31, genus=Megasphaera\n",
      "rho=0.43809399826766665, p=5.762449007053173e-22, genus=Janibacter\n",
      "rho=-0.825293468176905, p=2.876060127451255e-110, genus=Gemella\n",
      "rho=0.7736862824316895, p=1.8829380000380784e-88, genus=Comamonas\n",
      "rho=-0.7679715390243449, p=2.1553558989119637e-86, genus=Providencia\n",
      "rho=-0.9029120505937688, p=5.51314873866491e-162, genus=Lactococcus\n",
      "rho=nan, p=nan, genus=Dermabacter\n",
      "rho=-0.14976189220821953, p=0.001671850907264851, genus=Neisseria\n",
      "rho=0.7860721927785417, p=3.963844223646339e-93, genus=Dermacoccus\n",
      "rho=-0.8733271062541658, p=2.852832438650873e-138, genus=Propionibacterium\n",
      "rho=0.6592841810890144, p=5.832358688596794e-56, genus=Bacteroides\n",
      "rho=-0.8929955221174508, p=2.877945020786575e-153, genus=Arthrobacter\n",
      "rho=0.37532931439104206, p=4.2295157382138325e-16, genus=Leptotrichia\n",
      "rho=0.08701325500490939, p=0.06886559317173377, genus=Porphyromonas\n",
      "rho=-0.6138223780217101, p=1.0578366789783484e-46, genus=Carnobacterium\n",
      "rho=0.7619480664025905, p=2.7557451670696485e-84, genus=Shewanella\n",
      "rho=-0.6788097216766757, p=1.877457345073626e-60, genus=Xenophilus\n",
      "rho=0.6511313644999237, p=3.4965279545633687e-54, genus=Treponema\n",
      "rho=-0.8638059850411084, p=6.90234967899171e-132, genus=Mycobacterium\n",
      "rho=-0.5398835146912294, p=1.6780482926209845e-34, genus=Weissella\n",
      "rho=0.6754904150770148, p=1.1526590942270625e-59, genus=Rothia\n",
      "rho=0.8180158254586618, p=8.878033550666473e-107, genus=Bacillus\n",
      "rho=0.7989924589810078, p=2.374293866540898e-98, genus=Leifsonia\n",
      "rho=nan, p=nan, genus=Rickettsia\n",
      "rho=-0.3666613537114647, p=2.199084268751638e-15, genus=Achromobacter\n",
      "rho=-0.20871412325641636, p=1.0618611827229771e-05, genus=Bifidobacterium\n",
      "rho=0.5042314556116579, p=1.2643540639274512e-29, genus=Prevotella\n",
      "rho=0.21540075927356275, p=5.399746384795163e-06, genus=Moraxella\n",
      "rho=-0.5555085849451078, p=7.897055020863251e-37, genus=Dyella\n",
      "rho=-0.7447917469892159, p=1.2950091092217423e-78, genus=Roseomonas\n",
      "rho=-0.6220247616072541, p=2.9249852639608406e-48, genus=Sphingobacterium\n",
      "rho=-0.6959955031770738, p=1.0488606758042405e-64, genus=Exiguobacterium\n",
      "rho=0.7585518459441044, p=3.9872211745995415e-83, genus=Salmonella\n",
      "rho=0.6717508971654648, p=8.655985871829705e-59, genus=Citrobacter\n",
      "rho=0.6420703260849264, p=2.8593322957221617e-52, genus=Atopobium\n",
      "rho=-0.7109062315448501, p=1.199297685805189e-68, genus=Paenibacillus\n",
      "rho=-0.5959365175506433, p=1.855164253870023e-43, genus=Selenomonas\n",
      "rho=-0.1123217898173275, p=0.018700458883242458, genus=Actinomyces\n",
      "rho=nan, p=nan, genus=Yersinia\n",
      "rho=0.6314989990024619, p=4.0518028614034465e-50, genus=Sutterella\n",
      "rho=0.7973228708597694, p=1.179427907759409e-97, genus=Enterococcus\n",
      "rho=0.3939669307960671, p=1.0291665947917976e-17, genus=Dietzia\n",
      "rho=-0.21908416237815728, p=3.68616020222791e-06, genus=Brachybacterium\n",
      "rho=nan, p=nan, genus=Aggregatibacter\n",
      "rho=-0.8470420259088259, p=9.60093315087778e-122, genus=Chryseobacterium\n",
      "rho=0.7868883154647939, p=1.9012764769043858e-93, genus=Cellulomonas\n",
      "rho=-0.8257869037580624, p=1.6457046529942904e-110, genus=Gordonia\n",
      "rho=0.6950323836107344, p=1.8492863769116246e-64, genus=Pseudoclavibacter\n",
      "rho=-0.7361621022928433, p=6.256396918444442e-76, genus=Leuconostoc\n",
      "rho=-0.33022185712153307, p=1.329802295474076e-12, genus=Serratia\n",
      "rho=0.7252847959303663, p=1.078031467132423e-72, genus=Vibrio\n",
      "rho=-0.853216288799957, p=2.478477553482711e-125, genus=Alcaligenes\n",
      "rho=0.8763640737884034, p=2.04002600655746e-140, genus=Brevibacterium\n",
      "rho=0.8402893279820618, p=5.358915678381805e-118, genus=Psychrobacter\n",
      "rho=nan, p=nan, genus=Erwinia\n",
      "rho=-0.4073131233041977, p=6.198232159387157e-19, genus=Leptospira\n",
      "rho=-0.8607273860352942, p=6.313989797853846e-130, genus=Haemophilus\n",
      "rho=0.24433981445998337, p=2.2460666643593694e-07, genus=Streptococcus\n",
      "rho=-0.6100751901242147, p=5.262589878154293e-46, genus=Arsenicicoccus\n",
      "rho=0.8251051205036178, p=3.557460412628082e-110, genus=Stenotrophomonas\n",
      "rho=-0.6678092299198081, p=7.022145801458174e-58, genus=Paracoccus\n",
      "rho=-0.8408435480218286, p=2.6803328606484586e-118, genus=Micrococcus\n",
      "rho=0.7741813231699888, p=1.2406766265391103e-88, genus=Oerskovia\n",
      "rho=-0.12824700313504342, p=0.007200054532243463, genus=Microbacterium\n",
      "rho=0.6519666780696447, p=2.3121249151577127e-54, genus=Bartonella\n",
      "rho=0.2814506909911924, p=2.033501446316745e-09, genus=Veillonella\n"
     ]
    },
    {
     "name": "stderr",
     "output_type": "stream",
     "text": [
      "An input array is constant; the correlation coefficent is not defined.\n"
     ]
    },
    {
     "name": "stdout",
     "output_type": "stream",
     "text": [
      "rho=0.373067816121963, p=6.533797420321556e-16, genus=Helicobacter\n",
      "rho=0.19397044841018707, p=4.374035228772541e-05, genus=Parabacteroides\n",
      "rho=0.8879863259085297, p=3.48426643956348e-149, genus=Pseudomonas\n",
      "rho=nan, p=nan, genus=Haematobacter\n",
      "rho=nan, p=nan, genus=Listeria\n",
      "rho=0.8053199159753355, p=4.746198286864973e-101, genus=Aerococcus\n",
      "rho=0.7598171479410853, p=1.4811399030100212e-83, genus=Aeromonas\n",
      "rho=-0.7682472222151477, p=1.7201661000714425e-86, genus=Pseudonocardia\n",
      "rho=nan, p=nan, genus=Alistipes\n",
      "rho=-0.26675432903420154, p=1.4291291716719108e-08, genus=Fusobacterium\n",
      "rho=0.8575357609797093, p=6.088685080396712e-128, genus=Enterobacter\n",
      "rho=0.9012643615007664, p=1.792470839091891e-160, genus=Cupriavidus\n",
      "rho=-0.798594447012296, p=3.484032800470732e-98, genus=Afipia\n",
      "rho=nan, p=nan, genus=Photobacterium\n",
      "rho=0.8249295053898614, p=4.336505749708122e-110, genus=Rhodococcus\n",
      "rho=-0.16755586655651797, p=0.00042896529892065094, genus=Acinetobacter\n",
      "rho=0.5443796321845631, p=3.694802239511335e-35, genus=Clostridioides\n",
      "rho=-0.3578276294310415, p=1.1218862289010609e-14, genus=Lachnoclostridium\n",
      "rho=0.4504104978251058, p=2.8703028046313007e-23, genus=Halomonas\n",
      "rho=0.8488174732696693, p=9.268264641361507e-123, genus=Klebsiella\n",
      "rho=nan, p=nan, genus=Desulfovibrio\n",
      "rho=0.8402834573689849, p=5.398311496358145e-118, genus=Bradyrhizobium\n",
      "rho=-0.787990190036623, p=7.014892460931655e-94, genus=Ralstonia\n",
      "rho=-0.5116102629459537, p=1.3779771995516908e-30, genus=Staphylococcus\n",
      "rho=-0.6691402327088604, p=3.475644521544662e-58, genus=Bordetella\n",
      "rho=0.8491994947711367, p=5.582466756207812e-123, genus=Pantoea\n",
      "rho=nan, p=nan, genus=Facklamia\n",
      "rho=0.6486187438059382, p=1.2037802304439097e-53, genus=Actinomadura\n",
      "rho=-0.6908735358360334, p=2.0863366774294655e-63, genus=Amycolatopsis\n",
      "rho=-0.6656245538657424, p=2.209969773973293e-57, genus=Legionella\n",
      "rho=0.19871779926171562, p=2.8041071133203136e-05, genus=Brevundimonas\n",
      "rho=nan, p=nan, genus=Collinsella\n",
      "rho=-0.6923377231394009, p=8.931397722996433e-64, genus=Sphingomonas\n",
      "rho=-0.7538330275090647, p=1.5186329105027721e-81, genus=Nocardiopsis\n",
      "rho=-0.7124231540701287, p=4.611313067641357e-69, genus=Peptoniphilus\n",
      "rho=nan, p=nan, genus=Kluyvera\n",
      "rho=-0.8573280165179672, p=8.165774072654696e-128, genus=Massilia\n",
      "rho=-0.465444622746793, p=6.227390317108946e-25, genus=Curtobacterium\n",
      "rho=0.6689820795042711, p=3.7792960125279724e-58, genus=Lysinibacillus\n",
      "rho=-0.7028343880363809, p=1.7512773373686355e-66, genus=Anaerococcus\n",
      "rho=0.318669197252332, p=8.548788586612125e-12, genus=Aureimonas\n",
      "rho=0.5443828979029927, p=3.6907125870797827e-35, genus=Delftia\n",
      "rho=-0.7343818904720282, p=2.172244267562233e-75, genus=Azospirillum\n",
      "rho=-0.2311430887431983, p=1.0082659650194534e-06, genus=Granulicatella\n",
      "rho=0.6126752454359037, p=1.7326734823175355e-46, genus=Pandoraea\n",
      "rho=0.6724052153373629, p=6.095856033922164e-59, genus=Cronobacter\n",
      "(56,) Index(['Morganella', 'Blautia', 'Raoultella', 'Cellulosimicrobium',\n",
      "       'Campylobacter', 'Alloprevotella', 'Megasphaera', 'Janibacter',\n",
      "       'Comamonas', 'Dermacoccus', 'Bacteroides', 'Leptotrichia',\n",
      "       'Porphyromonas', 'Shewanella', 'Treponema', 'Rothia', 'Bacillus',\n",
      "       'Leifsonia', 'Prevotella', 'Moraxella', 'Salmonella', 'Citrobacter',\n",
      "       'Atopobium', 'Sutterella', 'Enterococcus', 'Dietzia', 'Cellulomonas',\n",
      "       'Pseudoclavibacter', 'Vibrio', 'Brevibacterium', 'Psychrobacter',\n",
      "       'Streptococcus', 'Stenotrophomonas', 'Oerskovia', 'Bartonella',\n",
      "       'Veillonella', 'Helicobacter', 'Parabacteroides', 'Pseudomonas',\n",
      "       'Aerococcus', 'Aeromonas', 'Enterobacter', 'Cupriavidus', 'Rhodococcus',\n",
      "       'Clostridioides', 'Halomonas', 'Klebsiella', 'Bradyrhizobium',\n",
      "       'Pantoea', 'Actinomadura', 'Brevundimonas', 'Lysinibacillus',\n",
      "       'Aureimonas', 'Delftia', 'Pandoraea', 'Cronobacter'],\n",
      "      dtype='object')\n"
     ]
    },
    {
     "name": "stderr",
     "output_type": "stream",
     "text": [
      "\r",
      " 98%|===================| 431/438 [00:11<00:00]       "
     ]
    },
    {
     "name": "stdout",
     "output_type": "stream",
     "text": [
      "rho=0.5304774950181332, p=3.699621912937442e-33, genus=Morganella\n",
      "rho=0.52385812591575, p=3.080275961136214e-32, genus=Blautia\n",
      "rho=0.5351007353745135, p=8.187400173671243e-34, genus=Raoultella\n",
      "rho=0.46297700533304365, p=1.1831779385160038e-24, genus=Cellulosimicrobium\n",
      "rho=0.53902597551377, p=2.2337455831176886e-34, genus=Campylobacter\n",
      "rho=0.6711133198500228, p=1.2171013848110338e-58, genus=Alloprevotella\n",
      "rho=0.5196434801601348, p=1.1592556219934175e-31, genus=Megasphaera\n",
      "rho=-0.35110292216165045, p=3.750876061726422e-14, genus=Janibacter\n",
      "rho=-0.1371657391095548, p=0.004026624128347858, genus=Comamonas\n",
      "rho=-0.1311323124011478, p=0.005988126190988404, genus=Dermacoccus\n",
      "rho=0.46579690360725795, p=5.679721655244772e-25, genus=Bacteroides\n",
      "rho=0.43092065944129404, p=3.1273109744948066e-21, genus=Leptotrichia\n",
      "rho=-0.4017339055934724, p=2.0373900881933268e-18, genus=Porphyromonas\n",
      "rho=0.7605363737989256, p=8.412818362780855e-84, genus=Shewanella\n",
      "rho=0.6480275996273641, p=1.6074186423956772e-53, genus=Treponema\n",
      "rho=-0.666528954347075, p=1.3764929486109124e-57, genus=Rothia\n",
      "rho=0.2263477493777068, p=1.7028826633909497e-06, genus=Bacillus\n",
      "rho=0.7406837215315368, p=2.531198806481089e-77, genus=Leifsonia\n",
      "rho=0.1477265289581376, p=0.0019360120636373558, genus=Prevotella\n",
      "rho=-0.5375150231879364, p=3.6902483534414464e-34, genus=Moraxella\n",
      "rho=0.7666716502100364, p=6.216357135345012e-86, genus=Salmonella\n",
      "rho=0.5511675976168827, p=3.6006300620689424e-36, genus=Citrobacter\n",
      "rho=0.01055736842940353, p=0.8256187521602391, genus=Atopobium\n",
      "rho=0.39981168164957, p=3.0541267585483647e-18, genus=Sutterella\n",
      "rho=0.444598672256622, p=1.2001707123382956e-22, genus=Enterococcus\n",
      "rho=-0.787979332078332, p=7.084360886390106e-94, genus=Dietzia\n",
      "rho=0.588419860167707, p=3.731699141198461e-42, genus=Cellulomonas\n",
      "rho=0.6944461494299257, p=2.6087782325802218e-64, genus=Pseudoclavibacter\n",
      "rho=0.07630817669988377, p=0.11076275780185921, genus=Vibrio\n",
      "rho=-0.8086732357578796, p=1.6042219489295224e-102, genus=Brevibacterium\n",
      "rho=-0.15768036288724402, p=0.0009285930779621282, genus=Psychrobacter\n",
      "rho=-0.35162392561579175, p=3.4195234023883163e-14, genus=Streptococcus\n",
      "rho=0.7344498843763992, p=2.071770729939193e-75, genus=Stenotrophomonas\n",
      "rho=0.7825010223585693, p=9.50615624758796e-92, genus=Oerskovia\n",
      "rho=-0.1686936741759406, p=0.00039134557713255266, genus=Bartonella\n",
      "rho=-0.5303990154995234, p=3.794803050568295e-33, genus=Veillonella\n",
      "rho=-0.5937049009478027, p=4.559986372533819e-43, genus=Helicobacter\n",
      "rho=-0.022166714694892096, p=0.6436180444263628, genus=Parabacteroides\n",
      "rho=0.5421179750073478, p=7.932748520121143e-35, genus=Pseudomonas\n",
      "rho=-0.5891952239875712, p=2.748018698070399e-42, genus=Aerococcus\n",
      "rho=0.4291140677179203, p=4.758023627902664e-21, genus=Aeromonas\n",
      "rho=0.7419164845958574, p=1.0434757117242635e-77, genus=Enterobacter\n",
      "rho=0.7689754148733761, p=9.466553543168933e-87, genus=Cupriavidus\n",
      "rho=0.5825490067789818, p=3.686101207960273e-41, genus=Rhodococcus\n",
      "rho=0.7011117627426836, p=4.963925437372978e-66, genus=Clostridioides\n",
      "rho=-0.8093390041049172, p=8.123246836429519e-103, genus=Halomonas\n",
      "rho=0.839659425422422, p=1.1739765693995647e-117, genus=Klebsiella\n",
      "rho=-0.5248330583572725, p=2.2609607624215511e-32, genus=Bradyrhizobium\n",
      "rho=0.8438155344162854, p=6.233856215978716e-120, genus=Pantoea\n",
      "rho=0.6478445308705448, p=1.7577748927922131e-53, genus=Actinomadura\n",
      "rho=-0.8705495503055731, p=2.342632737359123e-136, genus=Brevundimonas\n",
      "rho=-0.6710291710448257, p=1.2730159615210308e-58, genus=Lysinibacillus\n",
      "rho=-0.667728519784185, p=7.327234234419727e-58, genus=Aureimonas\n",
      "rho=-0.8319902983590443, p=1.2633721418792934e-113, genus=Delftia\n",
      "rho=0.6132714675639908, p=1.3410502214829652e-46, genus=Pandoraea\n",
      "rho=0.6691453114129157, p=3.466305748691783e-58, genus=Cronobacter\n",
      "(35,) Index(['Morganella', 'Blautia', 'Raoultella', 'Cellulosimicrobium',\n",
      "       'Campylobacter', 'Alloprevotella', 'Megasphaera', 'Bacteroides',\n",
      "       'Leptotrichia', 'Shewanella', 'Treponema', 'Bacillus', 'Leifsonia',\n",
      "       'Prevotella', 'Salmonella', 'Citrobacter', 'Atopobium', 'Sutterella',\n",
      "       'Enterococcus', 'Cellulomonas', 'Pseudoclavibacter', 'Vibrio',\n",
      "       'Stenotrophomonas', 'Oerskovia', 'Pseudomonas', 'Aeromonas',\n",
      "       'Enterobacter', 'Cupriavidus', 'Rhodococcus', 'Clostridioides',\n",
      "       'Klebsiella', 'Pantoea', 'Actinomadura', 'Pandoraea', 'Cronobacter'],\n",
      "      dtype='object')\n",
      "rho=0.5303960717234573, p=3.7984200762077194e-33, genus=Morganella\n",
      "rho=0.3264513526394977, p=2.462204010231289e-12, genus=Blautia\n",
      "rho=0.5351390937868279, p=8.084796598328988e-34, genus=Raoultella\n",
      "rho=0.36145193368207085, p=5.784150673997158e-15, genus=Cellulosimicrobium\n",
      "rho=0.31864686451975943, p=8.578939186938144e-12, genus=Campylobacter\n",
      "rho=0.523778903109358, p=3.158518621302525e-32, genus=Alloprevotella\n",
      "rho=0.5195502660266326, p=1.19348948650123e-31, genus=Megasphaera\n",
      "rho=0.3977415579266662, p=4.709253849377969e-18, genus=Bacteroides\n",
      "rho=-0.35425236332953886, p=2.1388922719952257e-14, genus=Leptotrichia\n",
      "rho=0.6455244177180609, p=5.430264295480193e-53, genus=Shewanella\n",
      "rho=-0.0042575225675324365, p=0.929201816787216, genus=Treponema\n",
      "rho=-0.32198609269671064, p=5.051260443730545e-12, genus=Bacillus\n",
      "rho=0.03399676394416481, p=0.47790785972499705, genus=Leifsonia\n",
      "rho=-0.06497227189066193, p=0.17468029393434747, genus=Prevotella\n",
      "rho=0.7683989874958048, p=1.5191160865586443e-86, genus=Salmonella\n",
      "rho=0.5499455256693294, p=5.497198453766629e-36, genus=Citrobacter\n",
      "rho=-0.20716315096146948, p=1.2383865916690041e-05, genus=Atopobium\n",
      "rho=-0.6356113373202816, p=6.035434930466959e-51, genus=Sutterella\n",
      "rho=-0.17406310491599788, p=0.00025178123061953017, genus=Enterococcus\n",
      "rho=0.46140561714532413, p=1.775734564905834e-24, genus=Cellulomonas\n",
      "rho=-0.4997715234660988, p=4.703632231322418e-29, genus=Pseudoclavibacter\n",
      "rho=-0.7585487396210172, p=3.996896406351274e-83, genus=Vibrio\n",
      "rho=0.6294582373581141, p=1.031357751061989e-49, genus=Stenotrophomonas\n",
      "rho=0.716394620662512, p=3.665648140826047e-70, genus=Oerskovia\n",
      "rho=-0.18212659895304553, p=0.00012667326841066655, genus=Pseudomonas\n",
      "rho=0.054845487105898635, p=0.25203803053227547, genus=Aeromonas\n",
      "rho=0.3931656412089778, p=1.2134008143016183e-17, genus=Enterobacter\n",
      "rho=0.25991247692698566, p=3.406315287540583e-08, genus=Cupriavidus\n",
      "rho=0.28587642711445854, p=1.1048181826706172e-09, genus=Rhodococcus\n",
      "rho=0.4159770108643226, p=9.33773652349182e-20, genus=Clostridioides\n",
      "rho=0.762412507960391, p=1.9056135505040349e-84, genus=Klebsiella\n",
      "rho=0.5522269254373452, p=2.4915737938850305e-36, genus=Pantoea\n",
      "rho=-0.6373398530238268, p=2.687622514317699e-51, genus=Actinomadura\n",
      "rho=0.6144163353644626, p=8.186798593840402e-47, genus=Pandoraea\n",
      "rho=0.3627793117819516, p=4.528439656841511e-15, genus=Cronobacter\n",
      "(24,) Index(['Morganella', 'Blautia', 'Raoultella', 'Cellulosimicrobium',\n",
      "       'Campylobacter', 'Alloprevotella', 'Megasphaera', 'Bacteroides',\n",
      "       'Shewanella', 'Leifsonia', 'Salmonella', 'Citrobacter', 'Cellulomonas',\n",
      "       'Stenotrophomonas', 'Oerskovia', 'Aeromonas', 'Enterobacter',\n",
      "       'Cupriavidus', 'Rhodococcus', 'Clostridioides', 'Klebsiella', 'Pantoea',\n",
      "       'Pandoraea', 'Cronobacter'],\n",
      "      dtype='object')\n",
      "rho=0.5297854785238911, p=4.627378688220634e-33, genus=Morganella\n",
      "rho=0.24563829773183488, p=1.9283643000957371e-07, genus=Blautia\n",
      "rho=0.5350960432596042, p=8.200039090913068e-34, genus=Raoultella\n",
      "rho=0.18458697430244114, p=0.00010211175235250558, genus=Cellulosimicrobium\n",
      "rho=0.09577607763020766, p=0.045142499700798394, genus=Campylobacter\n",
      "rho=0.6177858467515641, p=1.8931173997955612e-47, genus=Alloprevotella\n",
      "rho=0.5198803768606001, p=1.0765633006967707e-31, genus=Megasphaera\n",
      "rho=0.40414172847353447, p=1.222444055966564e-18, genus=Bacteroides\n",
      "rho=0.40932018166345574, p=4.017566669665998e-19, genus=Shewanella\n",
      "rho=-0.4340963888380867, p=1.4863704376519861e-21, genus=Leifsonia\n",
      "rho=0.7783650585977443, p=3.497966062142572e-90, genus=Salmonella\n",
      "rho=0.46088449237475243, p=2.0307338012368763e-24, genus=Citrobacter\n",
      "rho=0.4730928988595696, p=8.237982625449393e-26, genus=Cellulomonas\n",
      "rho=0.5259326514950229, p=1.593314029392538e-32, genus=Stenotrophomonas\n",
      "rho=0.7826277685556228, p=8.501173173451097e-92, genus=Oerskovia\n",
      "rho=-0.0430991174881542, p=0.3682063087336984, genus=Aeromonas\n",
      "rho=0.4297548498303413, p=4.101167091233283e-21, genus=Enterobacter\n",
      "rho=0.5046241912021043, p=1.125180259638911e-29, genus=Cupriavidus\n",
      "rho=0.19302388948850568, p=4.773445524743361e-05, genus=Rhodococcus\n",
      "rho=0.5431588220289755, p=5.584988431862693e-35, genus=Clostridioides\n",
      "rho=0.7792639613871027, p=1.6084029239292774e-90, genus=Klebsiella\n",
      "rho=0.011905881443568115, p=0.8037720135527227, genus=Pantoea\n",
      "rho=0.6126723482555536, p=1.7348296840731545e-46, genus=Pandoraea\n",
      "rho=0.36008676404956286, p=7.430905399472081e-15, genus=Cronobacter\n",
      "(22,) Index(['Morganella', 'Blautia', 'Raoultella', 'Cellulosimicrobium',\n",
      "       'Campylobacter', 'Alloprevotella', 'Megasphaera', 'Bacteroides',\n",
      "       'Shewanella', 'Salmonella', 'Citrobacter', 'Cellulomonas',\n",
      "       'Stenotrophomonas', 'Oerskovia', 'Enterobacter', 'Cupriavidus',\n",
      "       'Rhodococcus', 'Clostridioides', 'Klebsiella', 'Pantoea', 'Pandoraea',\n",
      "       'Cronobacter'],\n",
      "      dtype='object')\n"
     ]
    },
    {
     "name": "stdout",
     "output_type": "stream",
     "text": [
      "rho=0.5312568188598454, p=2.8737617861691484e-33, genus=Morganella\n",
      "rho=0.26133962827349166, p=2.847627946524954e-08, genus=Blautia\n",
      "rho=0.5352949962029676, p=7.6807158802002465e-34, genus=Raoultella\n",
      "rho=0.1835357208779045, p=0.00011200070105507972, genus=Cellulosimicrobium\n",
      "rho=0.04261499073706836, p=0.3736155601959932, genus=Campylobacter\n",
      "rho=0.55994715553279, p=1.6355544491559129e-37, genus=Alloprevotella\n",
      "rho=0.519878048539646, p=1.0773469234579081e-31, genus=Megasphaera\n",
      "rho=0.33026069853721857, p=1.321331597281096e-12, genus=Bacteroides\n",
      "rho=0.2840984476519511, p=1.4134847383487905e-09, genus=Shewanella\n",
      "rho=0.7775445306712667, p=7.086572500449937e-90, genus=Salmonella\n",
      "rho=0.4707247057565236, p=1.5495322565830716e-25, genus=Citrobacter\n",
      "rho=0.4479709754899973, p=5.2502471714079784e-23, genus=Cellulomonas\n",
      "rho=0.500274021081164, p=4.0603834782060145e-29, genus=Stenotrophomonas\n",
      "rho=0.7822350522363208, p=1.201512650161656e-91, genus=Oerskovia\n",
      "rho=0.43005376500085507, p=3.826160576416966e-21, genus=Enterobacter\n",
      "rho=0.45069692396657923, p=2.6729919967377524e-23, genus=Cupriavidus\n",
      "rho=0.13970916500139424, p=0.0033904620818630696, genus=Rhodococcus\n",
      "rho=0.5166662879805802, p=2.9238052298704165e-31, genus=Clostridioides\n",
      "rho=0.7179858416622487, p=1.3129021203809576e-70, genus=Klebsiella\n",
      "rho=-0.17493772684598186, p=0.00023403811720749742, genus=Pantoea\n",
      "rho=0.5658929552554396, p=1.9115013227984853e-38, genus=Pandoraea\n",
      "rho=0.2434640933371502, p=2.488177561848591e-07, genus=Cronobacter\n",
      "(21,) Index(['Morganella', 'Blautia', 'Raoultella', 'Cellulosimicrobium',\n",
      "       'Campylobacter', 'Alloprevotella', 'Megasphaera', 'Bacteroides',\n",
      "       'Shewanella', 'Salmonella', 'Citrobacter', 'Cellulomonas',\n",
      "       'Stenotrophomonas', 'Oerskovia', 'Enterobacter', 'Cupriavidus',\n",
      "       'Rhodococcus', 'Clostridioides', 'Klebsiella', 'Pandoraea',\n",
      "       'Cronobacter'],\n",
      "      dtype='object')\n",
      "rho=0.5299552847026141, p=4.380366317771012e-33, genus=Morganella\n",
      "rho=0.04393697763242241, p=0.358960213523554, genus=Blautia\n",
      "rho=0.5354285180981124, p=7.350581081131051e-34, genus=Raoultella\n",
      "rho=0.2801366981893955, p=2.432292557984414e-09, genus=Cellulosimicrobium\n",
      "rho=0.0730212298423496, p=0.12703685378709045, genus=Campylobacter\n",
      "rho=0.6754914246230909, p=1.1520272374222243e-59, genus=Alloprevotella\n",
      "rho=0.5196261789964426, p=1.1655353781012714e-31, genus=Megasphaera\n",
      "rho=0.37094387984984534, p=9.799619973659998e-16, genus=Bacteroides\n",
      "rho=0.35097523499133076, p=3.8367677964316905e-14, genus=Shewanella\n",
      "rho=0.7773833830877852, p=8.137688384688631e-90, genus=Salmonella\n",
      "rho=0.4499629771549831, p=3.207710914731527e-23, genus=Citrobacter\n",
      "rho=0.38517000167890386, p=6.124202856749971e-17, genus=Cellulomonas\n",
      "rho=0.518320731111178, p=1.7505418017015514e-31, genus=Stenotrophomonas\n",
      "rho=0.7826994274769755, p=7.9804808485941e-92, genus=Oerskovia\n",
      "rho=0.34989453465056153, p=4.645244246656989e-14, genus=Enterobacter\n",
      "rho=0.2881701269451904, p=8.019378996590801e-10, genus=Cupriavidus\n",
      "rho=0.20565852142151636, p=1.436056351944258e-05, genus=Rhodococcus\n",
      "rho=0.53856648279859, p=2.602870445809641e-34, genus=Clostridioides\n",
      "rho=0.6828975812124898, p=1.9433158577734155e-61, genus=Klebsiella\n",
      "rho=0.5394103270046594, p=1.965159908472624e-34, genus=Pandoraea\n",
      "rho=0.2372662179306152, p=5.078251740761499e-07, genus=Cronobacter\n",
      "(21,) Index(['Morganella', 'Blautia', 'Raoultella', 'Cellulosimicrobium',\n",
      "       'Campylobacter', 'Alloprevotella', 'Megasphaera', 'Bacteroides',\n",
      "       'Shewanella', 'Salmonella', 'Citrobacter', 'Cellulomonas',\n",
      "       'Stenotrophomonas', 'Oerskovia', 'Enterobacter', 'Cupriavidus',\n",
      "       'Rhodococcus', 'Clostridioides', 'Klebsiella', 'Pandoraea',\n",
      "       'Cronobacter'],\n",
      "      dtype='object')\n",
      "rho=0.5299552847026141, p=4.380366317771012e-33, genus=Morganella\n",
      "rho=0.04393697763242241, p=0.358960213523554, genus=Blautia\n",
      "rho=0.5354285180981124, p=7.350581081131051e-34, genus=Raoultella\n",
      "rho=0.2801366981893955, p=2.432292557984414e-09, genus=Cellulosimicrobium\n",
      "rho=0.0730212298423496, p=0.12703685378709045, genus=Campylobacter\n",
      "rho=0.6754914246230909, p=1.1520272374222243e-59, genus=Alloprevotella\n",
      "rho=0.5196261789964426, p=1.1655353781012714e-31, genus=Megasphaera\n",
      "rho=0.37094387984984534, p=9.799619973659998e-16, genus=Bacteroides\n",
      "rho=0.35097523499133076, p=3.8367677964316905e-14, genus=Shewanella\n",
      "rho=0.7773833830877852, p=8.137688384688631e-90, genus=Salmonella\n",
      "rho=0.4499629771549831, p=3.207710914731527e-23, genus=Citrobacter\n",
      "rho=0.38517000167890386, p=6.124202856749971e-17, genus=Cellulomonas\n",
      "rho=0.518320731111178, p=1.7505418017015514e-31, genus=Stenotrophomonas\n",
      "rho=0.7826994274769755, p=7.9804808485941e-92, genus=Oerskovia\n",
      "rho=0.34989453465056153, p=4.645244246656989e-14, genus=Enterobacter\n",
      "rho=0.2881701269451904, p=8.019378996590801e-10, genus=Cupriavidus\n",
      "rho=0.20565852142151636, p=1.436056351944258e-05, genus=Rhodococcus\n",
      "rho=0.53856648279859, p=2.602870445809641e-34, genus=Clostridioides\n",
      "rho=0.6828975812124898, p=1.9433158577734155e-61, genus=Klebsiella\n",
      "rho=0.5394103270046594, p=1.965159908472624e-34, genus=Pandoraea\n",
      "rho=0.2372662179306152, p=5.078251740761499e-07, genus=Cronobacter\n",
      "(21,) Index(['Morganella', 'Blautia', 'Raoultella', 'Cellulosimicrobium',\n",
      "       'Campylobacter', 'Alloprevotella', 'Megasphaera', 'Bacteroides',\n",
      "       'Shewanella', 'Salmonella', 'Citrobacter', 'Cellulomonas',\n",
      "       'Stenotrophomonas', 'Oerskovia', 'Enterobacter', 'Cupriavidus',\n",
      "       'Rhodococcus', 'Clostridioides', 'Klebsiella', 'Pandoraea',\n",
      "       'Cronobacter'],\n",
      "      dtype='object')\n",
      "rho=0.5299552847026141, p=4.380366317771012e-33, genus=Morganella\n",
      "rho=0.04393697763242241, p=0.358960213523554, genus=Blautia\n",
      "rho=0.5354285180981124, p=7.350581081131051e-34, genus=Raoultella\n",
      "rho=0.2801366981893955, p=2.432292557984414e-09, genus=Cellulosimicrobium\n",
      "rho=0.0730212298423496, p=0.12703685378709045, genus=Campylobacter\n",
      "rho=0.6754914246230909, p=1.1520272374222243e-59, genus=Alloprevotella\n",
      "rho=0.5196261789964426, p=1.1655353781012714e-31, genus=Megasphaera\n",
      "rho=0.37094387984984534, p=9.799619973659998e-16, genus=Bacteroides\n",
      "rho=0.35097523499133076, p=3.8367677964316905e-14, genus=Shewanella\n",
      "rho=0.7773833830877852, p=8.137688384688631e-90, genus=Salmonella\n",
      "rho=0.4499629771549831, p=3.207710914731527e-23, genus=Citrobacter\n",
      "rho=0.38517000167890386, p=6.124202856749971e-17, genus=Cellulomonas\n",
      "rho=0.518320731111178, p=1.7505418017015514e-31, genus=Stenotrophomonas\n",
      "rho=0.7826994274769755, p=7.9804808485941e-92, genus=Oerskovia\n",
      "rho=0.34989453465056153, p=4.645244246656989e-14, genus=Enterobacter\n",
      "rho=0.2881701269451904, p=8.019378996590801e-10, genus=Cupriavidus\n",
      "rho=0.20565852142151636, p=1.436056351944258e-05, genus=Rhodococcus\n",
      "rho=0.53856648279859, p=2.602870445809641e-34, genus=Clostridioides\n",
      "rho=0.6828975812124898, p=1.9433158577734155e-61, genus=Klebsiella\n",
      "rho=0.5394103270046594, p=1.965159908472624e-34, genus=Pandoraea\n",
      "rho=0.2372662179306152, p=5.078251740761499e-07, genus=Cronobacter\n",
      "(21,) Index(['Morganella', 'Blautia', 'Raoultella', 'Cellulosimicrobium',\n",
      "       'Campylobacter', 'Alloprevotella', 'Megasphaera', 'Bacteroides',\n",
      "       'Shewanella', 'Salmonella', 'Citrobacter', 'Cellulomonas',\n",
      "       'Stenotrophomonas', 'Oerskovia', 'Enterobacter', 'Cupriavidus',\n",
      "       'Rhodococcus', 'Clostridioides', 'Klebsiella', 'Pandoraea',\n",
      "       'Cronobacter'],\n",
      "      dtype='object')\n",
      "rho=0.5299552847026141, p=4.380366317771012e-33, genus=Morganella\n",
      "rho=0.04393697763242241, p=0.358960213523554, genus=Blautia\n",
      "rho=0.5354285180981124, p=7.350581081131051e-34, genus=Raoultella\n",
      "rho=0.2801366981893955, p=2.432292557984414e-09, genus=Cellulosimicrobium\n",
      "rho=0.0730212298423496, p=0.12703685378709045, genus=Campylobacter\n",
      "rho=0.6754914246230909, p=1.1520272374222243e-59, genus=Alloprevotella\n",
      "rho=0.5196261789964426, p=1.1655353781012714e-31, genus=Megasphaera\n",
      "rho=0.37094387984984534, p=9.799619973659998e-16, genus=Bacteroides\n",
      "rho=0.35097523499133076, p=3.8367677964316905e-14, genus=Shewanella\n",
      "rho=0.7773833830877852, p=8.137688384688631e-90, genus=Salmonella\n",
      "rho=0.4499629771549831, p=3.207710914731527e-23, genus=Citrobacter\n",
      "rho=0.38517000167890386, p=6.124202856749971e-17, genus=Cellulomonas\n",
      "rho=0.518320731111178, p=1.7505418017015514e-31, genus=Stenotrophomonas\n",
      "rho=0.7826994274769755, p=7.9804808485941e-92, genus=Oerskovia\n",
      "rho=0.34989453465056153, p=4.645244246656989e-14, genus=Enterobacter\n",
      "rho=0.2881701269451904, p=8.019378996590801e-10, genus=Cupriavidus\n",
      "rho=0.20565852142151636, p=1.436056351944258e-05, genus=Rhodococcus\n",
      "rho=0.53856648279859, p=2.602870445809641e-34, genus=Clostridioides\n",
      "rho=0.6828975812124898, p=1.9433158577734155e-61, genus=Klebsiella\n",
      "rho=0.5394103270046594, p=1.965159908472624e-34, genus=Pandoraea\n",
      "rho=0.2372662179306152, p=5.078251740761499e-07, genus=Cronobacter\n",
      "(21,) Index(['Morganella', 'Blautia', 'Raoultella', 'Cellulosimicrobium',\n",
      "       'Campylobacter', 'Alloprevotella', 'Megasphaera', 'Bacteroides',\n",
      "       'Shewanella', 'Salmonella', 'Citrobacter', 'Cellulomonas',\n",
      "       'Stenotrophomonas', 'Oerskovia', 'Enterobacter', 'Cupriavidus',\n",
      "       'Rhodococcus', 'Clostridioides', 'Klebsiella', 'Pandoraea',\n",
      "       'Cronobacter'],\n",
      "      dtype='object')\n"
     ]
    },
    {
     "name": "stdout",
     "output_type": "stream",
     "text": [
      "rho=0.5299552847026141, p=4.380366317771012e-33, genus=Morganella\n",
      "rho=0.04393697763242241, p=0.358960213523554, genus=Blautia\n",
      "rho=0.5354285180981124, p=7.350581081131051e-34, genus=Raoultella\n",
      "rho=0.2801366981893955, p=2.432292557984414e-09, genus=Cellulosimicrobium\n",
      "rho=0.0730212298423496, p=0.12703685378709045, genus=Campylobacter\n",
      "rho=0.6754914246230909, p=1.1520272374222243e-59, genus=Alloprevotella\n",
      "rho=0.5196261789964426, p=1.1655353781012714e-31, genus=Megasphaera\n",
      "rho=0.37094387984984534, p=9.799619973659998e-16, genus=Bacteroides\n",
      "rho=0.35097523499133076, p=3.8367677964316905e-14, genus=Shewanella\n",
      "rho=0.7773833830877852, p=8.137688384688631e-90, genus=Salmonella\n",
      "rho=0.4499629771549831, p=3.207710914731527e-23, genus=Citrobacter\n",
      "rho=0.38517000167890386, p=6.124202856749971e-17, genus=Cellulomonas\n",
      "rho=0.518320731111178, p=1.7505418017015514e-31, genus=Stenotrophomonas\n",
      "rho=0.7826994274769755, p=7.9804808485941e-92, genus=Oerskovia\n",
      "rho=0.34989453465056153, p=4.645244246656989e-14, genus=Enterobacter\n",
      "rho=0.2881701269451904, p=8.019378996590801e-10, genus=Cupriavidus\n",
      "rho=0.20565852142151636, p=1.436056351944258e-05, genus=Rhodococcus\n",
      "rho=0.53856648279859, p=2.602870445809641e-34, genus=Clostridioides\n",
      "rho=0.6828975812124898, p=1.9433158577734155e-61, genus=Klebsiella\n",
      "rho=0.5394103270046594, p=1.965159908472624e-34, genus=Pandoraea\n",
      "rho=0.2372662179306152, p=5.078251740761499e-07, genus=Cronobacter\n",
      "(21,) Index(['Morganella', 'Blautia', 'Raoultella', 'Cellulosimicrobium',\n",
      "       'Campylobacter', 'Alloprevotella', 'Megasphaera', 'Bacteroides',\n",
      "       'Shewanella', 'Salmonella', 'Citrobacter', 'Cellulomonas',\n",
      "       'Stenotrophomonas', 'Oerskovia', 'Enterobacter', 'Cupriavidus',\n",
      "       'Rhodococcus', 'Clostridioides', 'Klebsiella', 'Pandoraea',\n",
      "       'Cronobacter'],\n",
      "      dtype='object')\n"
     ]
    }
   ],
   "source": [
    "# Decontam using raw_params\n",
    "for _ in range(10):\n",
    "    genera_new = decontam(X.loc[:, genera_new], y, raw_params)"
   ]
  },
  {
   "cell_type": "code",
   "execution_count": 14,
   "metadata": {},
   "outputs": [],
   "source": [
    "# Decontam + pathogens\n",
    "raw_CR = X[genera_new]\n",
    "\n",
    "# Normalise RA\n",
    "RA_CR = raw_CR.apply(func=lambda x: x / x.sum(), axis=1)"
   ]
  },
  {
   "cell_type": "code",
   "execution_count": 15,
   "metadata": {},
   "outputs": [
    {
     "data": {
      "image/png": "[encoded data removed]",
      "text/plain": [
       "<Figure size 288x360 with 2 Axes>"
      ]
     },
     "metadata": {
      "needs_background": "light"
     },
     "output_type": "display_data"
    }
   ],
   "source": [
    "# Get SHAP summary before removing Cellulomonas and Agrobacterium\n",
    "pre_model = XGBClassifier(**raw_params)\n",
    "pre_model.fit(X=raw_CR, y=y)\n",
    "\n",
    "pre_explainer = shap.TreeExplainer(pre_model, feature_pertubation='interventional', model_output='probability', data=raw_CR)\n",
    "shap_pre = pre_explainer.shap_values(raw_CR)\n",
    "\n",
    "shap.summary_plot(shap_pre, raw_CR, show=False, plot_size=(4, 5), color_bar_label='Read Count', max_display=25)\n",
    "fig, ax = plt.gcf(), plt.gca()\n",
    "ax.set_xlabel('SHAP Value')\n",
    "plt.savefig(results / 'pre_shap.png', dpi=600, format='png', bbox_inches='tight')\n"
   ]
  },
  {
   "cell_type": "markdown",
   "metadata": {},
   "source": [
    "### Number of Features"
   ]
  },
  {
   "cell_type": "code",
   "execution_count": 16,
   "metadata": {},
   "outputs": [
    {
     "name": "stdout",
     "output_type": "stream",
     "text": [
      "Neat (438, 685)\n",
      "CR (438, 21)\n"
     ]
    }
   ],
   "source": [
    "print('Neat', X.shape)\n",
    "print('CR', raw_CR.shape)"
   ]
  },
  {
   "cell_type": "markdown",
   "metadata": {},
   "source": [
    "## Optimise and evaluate decontaminated models"
   ]
  },
  {
   "cell_type": "code",
   "execution_count": 17,
   "metadata": {},
   "outputs": [
    {
     "name": "stdout",
     "output_type": "stream",
     "text": [
      "{'subsample': 0.7, 'scale_pos_weight': 0.9043478260869565, 'n_estimators': 110, 'max_depth': 4, 'gamma': 0.42222222222222217, 'colsample_bytree': 0.5736842105263158}\n",
      "{'subsample': 0.6, 'scale_pos_weight': 0.9043478260869565, 'n_estimators': 220, 'max_depth': 4, 'gamma': 0.7444444444444444, 'colsample_bytree': 0.33684210526315794}\n"
     ]
    },
    {
     "data": {
      "text/html": [
       "<div>\n",
       "<style scoped>\n",
       "    .dataframe tbody tr th:only-of-type {\n",
       "        vertical-align: middle;\n",
       "    }\n",
       "\n",
       "    .dataframe tbody tr th {\n",
       "        vertical-align: top;\n",
       "    }\n",
       "\n",
       "    .dataframe thead th {\n",
       "        text-align: right;\n",
       "    }\n",
       "</style>\n",
       "<table border=\"1\" class=\"dataframe\">\n",
       "  <thead>\n",
       "    <tr style=\"text-align: right;\">\n",
       "      <th></th>\n",
       "      <th>test_precision</th>\n",
       "      <th>test_recall</th>\n",
       "      <th>test_F1</th>\n",
       "      <th>test_AUROC</th>\n",
       "    </tr>\n",
       "  </thead>\n",
       "  <tbody>\n",
       "    <tr>\n",
       "      <th>Raw</th>\n",
       "      <td>0.950</td>\n",
       "      <td>0.939</td>\n",
       "      <td>0.944</td>\n",
       "      <td>0.982</td>\n",
       "    </tr>\n",
       "    <tr>\n",
       "      <th>RA</th>\n",
       "      <td>0.952</td>\n",
       "      <td>0.926</td>\n",
       "      <td>0.938</td>\n",
       "      <td>0.981</td>\n",
       "    </tr>\n",
       "    <tr>\n",
       "      <th>Raw CR</th>\n",
       "      <td>0.870</td>\n",
       "      <td>0.796</td>\n",
       "      <td>0.829</td>\n",
       "      <td>0.904</td>\n",
       "    </tr>\n",
       "    <tr>\n",
       "      <th>RA CR</th>\n",
       "      <td>0.850</td>\n",
       "      <td>0.796</td>\n",
       "      <td>0.820</td>\n",
       "      <td>0.882</td>\n",
       "    </tr>\n",
       "  </tbody>\n",
       "</table>\n",
       "</div>"
      ],
      "text/plain": [
       "        test_precision  test_recall  test_F1  test_AUROC\n",
       "Raw              0.950        0.939    0.944       0.982\n",
       "RA               0.952        0.926    0.938       0.981\n",
       "Raw CR           0.870        0.796    0.829       0.904\n",
       "RA CR            0.850        0.796    0.820       0.882"
      ]
     },
     "metadata": {},
     "output_type": "display_data"
    }
   ],
   "source": [
    "raw_CR_results, raw_CR_params = optimise_evaluate(raw_CR, y)\n",
    "\n",
    "RA_CR_results, RA_CR_params = optimise_evaluate(RA_CR, y)\n",
    "\n",
    "metric_df = metric_df.append(pd.DataFrame({'Raw CR': raw_CR_results, 'RA CR': RA_CR_results}).round(3).T)\n",
    "display(metric_df)"
   ]
  },
  {
   "cell_type": "markdown",
   "metadata": {},
   "source": [
    "### Fit clean models"
   ]
  },
  {
   "cell_type": "code",
   "execution_count": 18,
   "metadata": {},
   "outputs": [
    {
     "data": {
      "text/plain": [
       "XGBClassifier(colsample_bytree=0.33684210526315794, gamma=0.7444444444444444,\n",
       "              max_depth=4, n_estimators=220,\n",
       "              scale_pos_weight=0.9043478260869565, subsample=0.6)"
      ]
     },
     "execution_count": 18,
     "metadata": {},
     "output_type": "execute_result"
    }
   ],
   "source": [
    "raw_CR_model = XGBClassifier(**raw_CR_params)\n",
    "raw_CR_model.fit(raw_CR, y)\n",
    "\n",
    "RA_CR_model = XGBClassifier(**RA_CR_params)\n",
    "RA_CR_model.fit(RA_CR, y)"
   ]
  },
  {
   "cell_type": "markdown",
   "metadata": {},
   "source": [
    "## Interpreting model using SHAP values"
   ]
  },
  {
   "cell_type": "markdown",
   "metadata": {},
   "source": [
    "### Plot of SHAP values per Feature"
   ]
  },
  {
   "cell_type": "code",
   "execution_count": 19,
   "metadata": {},
   "outputs": [
    {
     "name": "stderr",
     "output_type": "stream",
     "text": [
      " 97%|=================== | 427/438 [00:13<00:00]       "
     ]
    }
   ],
   "source": [
    "import matplotlib.pyplot as plt\n",
    "explainer_CR = shap.TreeExplainer(raw_CR_model, feature_pertubation='interventional', model_output='probability', data=raw_CR)\n",
    "shap_CR = explainer_CR.shap_values(raw_CR)\n",
    "\n",
    "explainer_raw = shap.TreeExplainer(raw_model, feature_pertubation='interventional', model_output='probability', data=X)\n",
    "shap_raw = explainer_raw.shap_values(X)"
   ]
  },
  {
   "cell_type": "markdown",
   "metadata": {},
   "source": [
    "#### Dirty raw"
   ]
  },
  {
   "cell_type": "code",
   "execution_count": 20,
   "metadata": {},
   "outputs": [
    {
     "data": {
      "image/png": "[encoded data removed]",
      "text/plain": [
       "<Figure size 288x360 with 2 Axes>"
      ]
     },
     "metadata": {
      "needs_background": "light"
     },
     "output_type": "display_data"
    }
   ],
   "source": [
    "shap.summary_plot(shap_raw, X, show=False, plot_size=(4, 5), color_bar_label='Read Count', max_display=23)\n",
    "fig, ax = plt.gcf(), plt.gca()\n",
    "ax.set_xlabel('SHAP Value')\n",
    "plt.savefig(results / 'raw_shap.png', dpi=600, format='png', bbox_inches='tight')"
   ]
  },
  {
   "cell_type": "code",
   "execution_count": 21,
   "metadata": {
    "scrolled": true
   },
   "outputs": [
    {
     "data": {
      "image/png": "[encoded data removed]",
      "text/plain": [
       "<Figure size 288x360 with 2 Axes>"
      ]
     },
     "metadata": {
      "needs_background": "light"
     },
     "output_type": "display_data"
    }
   ],
   "source": [
    "shap.summary_plot(shap_CR, raw_CR, show=False, plot_size=(4, 5), color_bar_label='Read Count', max_display=35)\n",
    "fig, ax = plt.gcf(), plt.gca()\n",
    "ax.set_xlabel('SHAP Value')\n",
    "plt.savefig(results / 'raw_CR_shap.png', dpi=600, format='png', bbox_inches='tight')"
   ]
  },
  {
   "cell_type": "markdown",
   "metadata": {},
   "source": [
    "### Force plot for healthy patient"
   ]
  },
  {
   "cell_type": "code",
   "execution_count": 22,
   "metadata": {
    "scrolled": true
   },
   "outputs": [
    {
     "name": "stdout",
     "output_type": "stream",
     "text": [
      "Actual Classification 0\n",
      "204\n"
     ]
    },
    {
     "data": {
      "image/png": "[encoded data removed]",
      "text/plain": [
       "<Figure size 1440x216 with 1 Axes>"
      ]
     },
     "metadata": {
      "needs_background": "light"
     },
     "output_type": "display_data"
    }
   ],
   "source": [
    "j = 201\n",
    "\n",
    "print(f'Actual Classification {y[j]}')\n",
    "print(raw_CR.index[j])\n",
    "\n",
    "shap.force_plot(explainer_CR.expected_value, \n",
    "                shap_CR[j,:], \n",
    "                raw_CR.iloc[j,:],\n",
    "                show=False,\n",
    "                matplotlib=True)\n",
    "\n",
    "plt.savefig(results / 'CR_force_plot.png', dpi=600, format='png', bbox_inches='tight')"
   ]
  },
  {
   "cell_type": "code",
   "execution_count": 23,
   "metadata": {},
   "outputs": [],
   "source": [
    "import math\n",
    "from scipy.stats import wilcoxon\n",
    "import shap\n",
    "\n",
    "\n",
    "def decontam_simple(X, y):\n",
    "    to_retain = np.array([True] * X.shape[1])\n",
    "    p_vals = []\n",
    "    problems = []\n",
    "    for i in range(X.shape[1]):\n",
    "        try:\n",
    "            genus = X.iloc[:, i].copy()\n",
    "            pos = genus.loc[y == 1]\n",
    "            neg = genus.loc[y == 0]\n",
    "            \n",
    "            if not (sum(pos != 0) >= 5 and sum(neg != 0) >= 5):\n",
    "                raise ValueError\n",
    "            \n",
    "            # Downsample negative class\n",
    "            if len(neg) > len(pos):\n",
    "                neg = neg.sample(len(pos))\n",
    "            elif len(neg) < len(pos):\n",
    "                pos = pos.sample(len(neg))\n",
    "            \n",
    "            # Wilcoxon test\n",
    "            _, p_val = wilcoxon(pos, neg, alternative='less')\n",
    "            p_vals.append(p_val)\n",
    "#             print(genus, p_val)\n",
    "\n",
    "            if p_val < 0.05:\n",
    "                to_retain[i] = False\n",
    "        \n",
    "        except ValueError:\n",
    "            problems.append(X.columns[i])\n",
    "            to_retain[i] = False\n",
    "            \n",
    "\n",
    "    return to_retain, p_vals, problems"
   ]
  },
  {
   "cell_type": "code",
   "execution_count": 24,
   "metadata": {
    "scrolled": true
   },
   "outputs": [
    {
     "name": "stdout",
     "output_type": "stream",
     "text": [
      "After simple decontamination: 347\n",
      "After removing non-human pathogens: 107\n",
      "No. of problems: 182\n",
      "Final list of genera: ['Morganella', 'Kocuria', 'Blautia', 'Raoultella', 'Varibaculum', 'Buttiauxella', 'Edwardsiella', 'Ochrobactrum', 'Cellulosimicrobium', 'Campylobacter', 'Streptomyces', 'Alloprevotella', 'Saccharomonospora', 'Kingella', 'Megasphaera', 'Janibacter', 'Brucella', 'Dermabacter', 'Dermacoccus', 'Mycoplasma', 'Bacteroides', 'Arthrobacter', 'Leptotrichia', 'Carnobacterium', 'Shewanella', 'Mobiluncus', 'Proteus', 'Treponema', 'Weissella', 'Gryllotalpicola', 'Rothia', 'Bacillus', 'Leifsonia', 'Rickettsia', 'Vagococcus', 'Tannerella', 'Bifidobacterium', 'Prevotella', 'Brevibacillus', 'Chitinophaga', 'Alloiococcus', 'Salmonella', 'Dokdonella', 'Citrobacter', 'Atopobium', 'Paenibacillus', 'Selenomonas', 'Actinomyces', 'Yersinia', 'Sutterella', 'Enterococcus', 'Cellulomonas', 'Pluralibacter', 'Pseudoclavibacter', 'Vibrio', 'Odoribacter', 'Dialister', 'Psychrobacter', 'Brevibacterium', 'Peptostreptococcus', 'Streptococcus', 'Stenotrophomonas', 'Micrococcus', 'Microbacterium', 'Oerskovia', 'Bartonella', 'Veillonella', 'Helicobacter', 'Parabacteroides', 'Chromobacterium', 'Listeria', 'Aeromonas', 'Alistipes', 'Fusobacterium', 'Enterobacter', 'Oscillibacter', 'Photobacterium', 'Rhodococcus', 'Clostridioides', 'Lachnoclostridium', 'Klebsiella', 'Actinobaculum', 'Desulfovibrio', 'Dysgonomonas', 'Lelliottia', 'Abiotrophia', 'Pantoea', 'Trueperella', 'Facklamia', 'Actinomadura', 'Solobacterium', 'Amycolatopsis', 'Brevundimonas', 'Collinsella', 'Hungatella', 'Parvimonas', 'Nocardiopsis', 'Actinobacillus', 'Kluyvera', 'Curtobacterium', 'Lysinibacillus', 'Aureimonas', 'Anaerostipes', 'Granulicatella', 'Pandoraea', 'Alloscardovia', 'Cronobacter']\n"
     ]
    },
    {
     "name": "stderr",
     "output_type": "stream",
     "text": [
      "Sample size too small for normal approximation.\n"
     ]
    }
   ],
   "source": [
    "simple_retain, simple_p, problems = decontam_simple(X_RA, y)\n",
    "print(f'After simple decontamination: {sum(simple_retain)}') # No. of genera retained after simple decontamination\n",
    "\n",
    "# Remove non-human associated pathogens\n",
    "retain_names = list(set(X.columns[simple_retain]).intersection(set(meta)))\n",
    "print(f'After removing non-human pathogens: {len(retain_names)}') # No. of genera retained after simple decontamination\n",
    "\n",
    "simple_X = X.loc[:, retain_names]\n",
    "\n",
    "# No. of genera with less than 5 septic and 5 healthy non-zero samples\n",
    "print(f'No. of problems: {len(problems)}')\n",
    "print(f'Final list of genera: {retain_names}')\n",
    "pd.Series(retain_names).to_csv(datasets / 'simple_decontam_pathogens_external_validation.csv', index=False, header=False)"
   ]
  },
  {
   "cell_type": "code",
   "execution_count": 25,
   "metadata": {},
   "outputs": [
    {
     "name": "stdout",
     "output_type": "stream",
     "text": [
      "{'subsample': 0.7, 'scale_pos_weight': 0.9043478260869565, 'n_estimators': 200, 'max_depth': 3, 'gamma': 0.1, 'colsample_bytree': 0.6684210526315789}\n"
     ]
    }
   ],
   "source": [
    "simple_results, simple_params = optimise_evaluate(simple_X, y)\n",
    "metric_df = metric_df.append(pd.DataFrame({'Raw simple': simple_results}).round(3).T)"
   ]
  },
  {
   "cell_type": "code",
   "execution_count": 26,
   "metadata": {},
   "outputs": [
    {
     "data": {
      "image/png": "[encoded data removed]",
      "text/plain": [
       "<Figure size 288x360 with 2 Axes>"
      ]
     },
     "metadata": {
      "needs_background": "light"
     },
     "output_type": "display_data"
    }
   ],
   "source": [
    "simple_model = XGBClassifier(**simple_params)\n",
    "simple_model.fit(X=simple_X, y=y)\n",
    "\n",
    "simple_explainer = shap.TreeExplainer(simple_model, feature_pertubation='interventional', \n",
    "                                      model_output='probability', \n",
    "                                      data=simple_X)\n",
    "\n",
    "shap_simple = simple_explainer.shap_values(simple_X)\n",
    "\n",
    "shap.summary_plot(shap_simple, simple_X, show=False, plot_size=(4, 5), color_bar_label='Read Count', max_display=25)\n",
    "fig, ax = plt.gcf(), plt.gca()\n",
    "ax.set_xlabel('SHAP Value')\n",
    "plt.savefig(results / 'simple_decontam_shap.png', dpi=600, format='png', bbox_inches='tight')"
   ]
  },
  {
   "cell_type": "code",
   "execution_count": 27,
   "metadata": {},
   "outputs": [
    {
     "name": "stdout",
     "output_type": "stream",
     "text": [
      "No. of genera in common: 20\n",
      "No. of genera in CR: 21\n",
      "No. of genera in simple decontam: 107\n"
     ]
    }
   ],
   "source": [
    "# Intersecting genera between \n",
    "common = len(list(set(genera_new).intersection(set(retain_names))))\n",
    "print(f'No. of genera in common: {common}\\nNo. of genera in CR: {len(genera_new)}\\nNo. of genera in simple decontam: {len(retain_names)}')"
   ]
  },
  {
   "cell_type": "markdown",
   "metadata": {},
   "source": [
    "### Final Results"
   ]
  },
  {
   "cell_type": "code",
   "execution_count": 28,
   "metadata": {},
   "outputs": [
    {
     "data": {
      "text/html": [
       "<div>\n",
       "<style scoped>\n",
       "    .dataframe tbody tr th:only-of-type {\n",
       "        vertical-align: middle;\n",
       "    }\n",
       "\n",
       "    .dataframe tbody tr th {\n",
       "        vertical-align: top;\n",
       "    }\n",
       "\n",
       "    .dataframe thead th {\n",
       "        text-align: right;\n",
       "    }\n",
       "</style>\n",
       "<table border=\"1\" class=\"dataframe\">\n",
       "  <thead>\n",
       "    <tr style=\"text-align: right;\">\n",
       "      <th></th>\n",
       "      <th>test_precision</th>\n",
       "      <th>test_recall</th>\n",
       "      <th>test_F1</th>\n",
       "      <th>test_AUROC</th>\n",
       "    </tr>\n",
       "  </thead>\n",
       "  <tbody>\n",
       "    <tr>\n",
       "      <th>Raw</th>\n",
       "      <td>0.950</td>\n",
       "      <td>0.939</td>\n",
       "      <td>0.944</td>\n",
       "      <td>0.982</td>\n",
       "    </tr>\n",
       "    <tr>\n",
       "      <th>RA</th>\n",
       "      <td>0.952</td>\n",
       "      <td>0.926</td>\n",
       "      <td>0.938</td>\n",
       "      <td>0.981</td>\n",
       "    </tr>\n",
       "    <tr>\n",
       "      <th>Raw CR</th>\n",
       "      <td>0.870</td>\n",
       "      <td>0.796</td>\n",
       "      <td>0.829</td>\n",
       "      <td>0.904</td>\n",
       "    </tr>\n",
       "    <tr>\n",
       "      <th>RA CR</th>\n",
       "      <td>0.850</td>\n",
       "      <td>0.796</td>\n",
       "      <td>0.820</td>\n",
       "      <td>0.882</td>\n",
       "    </tr>\n",
       "    <tr>\n",
       "      <th>Raw simple</th>\n",
       "      <td>0.925</td>\n",
       "      <td>0.861</td>\n",
       "      <td>0.890</td>\n",
       "      <td>0.950</td>\n",
       "    </tr>\n",
       "  </tbody>\n",
       "</table>\n",
       "</div>"
      ],
      "text/plain": [
       "            test_precision  test_recall  test_F1  test_AUROC\n",
       "Raw                  0.950        0.939    0.944       0.982\n",
       "RA                   0.952        0.926    0.938       0.981\n",
       "Raw CR               0.870        0.796    0.829       0.904\n",
       "RA CR                0.850        0.796    0.820       0.882\n",
       "Raw simple           0.925        0.861    0.890       0.950"
      ]
     },
     "metadata": {},
     "output_type": "display_data"
    }
   ],
   "source": [
    "display(metric_df)\n",
    "\n",
    "metric_df.to_csv(results / 'external_validation_model_results.csv', index=True, header=True)"
   ]
  }
 ],
 "metadata": {
  "kernelspec": {
   "display_name": "mashin",
   "language": "python",
   "name": "mashin"
  },
  "language_info": {
   "codemirror_mode": {
    "name": "ipython",
    "version": 3
   },
   "file_extension": ".py",
   "mimetype": "text/x-python",
   "name": "python",
   "nbconvert_exporter": "python",
   "pygments_lexer": "ipython3",
   "version": "3.7.3"
  }
 },
 "nbformat": 4,
 "nbformat_minor": 4
}
