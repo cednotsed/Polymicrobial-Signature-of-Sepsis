{
 "cells": [
  {
   "cell_type": "markdown",
   "metadata": {},
   "source": [
    "# Metagenomic-based Diagnostic for Sepsis (Karius Dataset)"
   ]
  },
  {
   "cell_type": "code",
   "execution_count": 1,
   "metadata": {},
   "outputs": [
    {
     "name": "stdout",
     "output_type": "stream",
     "text": [
      "0.90 0.34.0\n"
     ]
    }
   ],
   "source": [
    "import xgboost\n",
    "import shap\n",
    "print(xgboost.__version__, shap.__version__)"
   ]
  },
  {
   "cell_type": "code",
   "execution_count": 2,
   "metadata": {},
   "outputs": [],
   "source": [
    "# Import Statements\n",
    "import pandas as pd\n",
    "import numpy as np\n",
    "import matplotlib.pyplot as plt\n",
    "from pathlib import Path\n",
    "\n",
    "cwd = Path.cwd()\n",
    "datasets = cwd / 'datasets'\n",
    "results = cwd / 'results/external_validation'"
   ]
  },
  {
   "cell_type": "markdown",
   "metadata": {},
   "source": [
    "## Data Preprocessing\n",
    "Since we are using stratified kfold, a validation split is not necesssary."
   ]
  },
  {
   "cell_type": "markdown",
   "metadata": {},
   "source": [
    "### Load data"
   ]
  },
  {
   "cell_type": "code",
   "execution_count": 3,
   "metadata": {
    "scrolled": true
   },
   "outputs": [
    {
     "data": {
      "text/html": [
       "<div>\n",
       "<style scoped>\n",
       "    .dataframe tbody tr th:only-of-type {\n",
       "        vertical-align: middle;\n",
       "    }\n",
       "\n",
       "    .dataframe tbody tr th {\n",
       "        vertical-align: top;\n",
       "    }\n",
       "\n",
       "    .dataframe thead th {\n",
       "        text-align: right;\n",
       "    }\n",
       "</style>\n",
       "<table border=\"1\" class=\"dataframe\">\n",
       "  <thead>\n",
       "    <tr style=\"text-align: right;\">\n",
       "      <th></th>\n",
       "      <th>y</th>\n",
       "      <th>Bifidobacterium</th>\n",
       "      <th>Arthrobacter</th>\n",
       "      <th>Kocuria</th>\n",
       "      <th>Glutamicibacter</th>\n",
       "      <th>Micrococcus</th>\n",
       "      <th>Microbacterium</th>\n",
       "      <th>Agrococcus</th>\n",
       "      <th>Agromyces</th>\n",
       "      <th>Leucobacter</th>\n",
       "      <th>...</th>\n",
       "      <th>Cohnella</th>\n",
       "      <th>Rhodopirellula</th>\n",
       "      <th>Buttiauxella</th>\n",
       "      <th>Myroides</th>\n",
       "      <th>Nitrospira</th>\n",
       "      <th>Anaeromyxobacter</th>\n",
       "      <th>Marichromatium</th>\n",
       "      <th>Deinococcus</th>\n",
       "      <th>Maricaulis</th>\n",
       "      <th>Bilophila</th>\n",
       "    </tr>\n",
       "  </thead>\n",
       "  <tbody>\n",
       "    <tr>\n",
       "      <th>0</th>\n",
       "      <td>healthy</td>\n",
       "      <td>42891.0</td>\n",
       "      <td>14.0</td>\n",
       "      <td>1.0</td>\n",
       "      <td>3.0</td>\n",
       "      <td>15.0</td>\n",
       "      <td>7.0</td>\n",
       "      <td>1.0</td>\n",
       "      <td>1.0</td>\n",
       "      <td>0.0</td>\n",
       "      <td>...</td>\n",
       "      <td>0.0</td>\n",
       "      <td>0.0</td>\n",
       "      <td>0.0</td>\n",
       "      <td>0.0</td>\n",
       "      <td>0.0</td>\n",
       "      <td>0.0</td>\n",
       "      <td>0.0</td>\n",
       "      <td>0.0</td>\n",
       "      <td>0.0</td>\n",
       "      <td>0.0</td>\n",
       "    </tr>\n",
       "    <tr>\n",
       "      <th>1</th>\n",
       "      <td>septic</td>\n",
       "      <td>730.0</td>\n",
       "      <td>48.0</td>\n",
       "      <td>9.0</td>\n",
       "      <td>10.0</td>\n",
       "      <td>20.0</td>\n",
       "      <td>21.0</td>\n",
       "      <td>0.0</td>\n",
       "      <td>12.0</td>\n",
       "      <td>21.0</td>\n",
       "      <td>...</td>\n",
       "      <td>0.0</td>\n",
       "      <td>0.0</td>\n",
       "      <td>0.0</td>\n",
       "      <td>184.0</td>\n",
       "      <td>1.0</td>\n",
       "      <td>1.0</td>\n",
       "      <td>0.0</td>\n",
       "      <td>0.0</td>\n",
       "      <td>0.0</td>\n",
       "      <td>0.0</td>\n",
       "    </tr>\n",
       "    <tr>\n",
       "      <th>2</th>\n",
       "      <td>healthy</td>\n",
       "      <td>36074.0</td>\n",
       "      <td>6.0</td>\n",
       "      <td>56.0</td>\n",
       "      <td>3.0</td>\n",
       "      <td>21.0</td>\n",
       "      <td>1.0</td>\n",
       "      <td>2.0</td>\n",
       "      <td>0.0</td>\n",
       "      <td>1.0</td>\n",
       "      <td>...</td>\n",
       "      <td>0.0</td>\n",
       "      <td>0.0</td>\n",
       "      <td>0.0</td>\n",
       "      <td>0.0</td>\n",
       "      <td>0.0</td>\n",
       "      <td>0.0</td>\n",
       "      <td>0.0</td>\n",
       "      <td>0.0</td>\n",
       "      <td>0.0</td>\n",
       "      <td>0.0</td>\n",
       "    </tr>\n",
       "    <tr>\n",
       "      <th>3</th>\n",
       "      <td>healthy</td>\n",
       "      <td>44094.0</td>\n",
       "      <td>59.0</td>\n",
       "      <td>10.0</td>\n",
       "      <td>21.0</td>\n",
       "      <td>66.0</td>\n",
       "      <td>26.0</td>\n",
       "      <td>1.0</td>\n",
       "      <td>3.0</td>\n",
       "      <td>3.0</td>\n",
       "      <td>...</td>\n",
       "      <td>0.0</td>\n",
       "      <td>0.0</td>\n",
       "      <td>0.0</td>\n",
       "      <td>0.0</td>\n",
       "      <td>0.0</td>\n",
       "      <td>0.0</td>\n",
       "      <td>0.0</td>\n",
       "      <td>0.0</td>\n",
       "      <td>0.0</td>\n",
       "      <td>0.0</td>\n",
       "    </tr>\n",
       "    <tr>\n",
       "      <th>4</th>\n",
       "      <td>healthy</td>\n",
       "      <td>26958.0</td>\n",
       "      <td>6.0</td>\n",
       "      <td>1.0</td>\n",
       "      <td>0.0</td>\n",
       "      <td>16.0</td>\n",
       "      <td>9.0</td>\n",
       "      <td>0.0</td>\n",
       "      <td>2.0</td>\n",
       "      <td>0.0</td>\n",
       "      <td>...</td>\n",
       "      <td>0.0</td>\n",
       "      <td>0.0</td>\n",
       "      <td>0.0</td>\n",
       "      <td>0.0</td>\n",
       "      <td>0.0</td>\n",
       "      <td>0.0</td>\n",
       "      <td>0.0</td>\n",
       "      <td>0.0</td>\n",
       "      <td>0.0</td>\n",
       "      <td>0.0</td>\n",
       "    </tr>\n",
       "    <tr>\n",
       "      <th>...</th>\n",
       "      <td>...</td>\n",
       "      <td>...</td>\n",
       "      <td>...</td>\n",
       "      <td>...</td>\n",
       "      <td>...</td>\n",
       "      <td>...</td>\n",
       "      <td>...</td>\n",
       "      <td>...</td>\n",
       "      <td>...</td>\n",
       "      <td>...</td>\n",
       "      <td>...</td>\n",
       "      <td>...</td>\n",
       "      <td>...</td>\n",
       "      <td>...</td>\n",
       "      <td>...</td>\n",
       "      <td>...</td>\n",
       "      <td>...</td>\n",
       "      <td>...</td>\n",
       "      <td>...</td>\n",
       "      <td>...</td>\n",
       "      <td>...</td>\n",
       "    </tr>\n",
       "    <tr>\n",
       "      <th>436</th>\n",
       "      <td>septic</td>\n",
       "      <td>1.0</td>\n",
       "      <td>3.0</td>\n",
       "      <td>1.0</td>\n",
       "      <td>0.0</td>\n",
       "      <td>1.0</td>\n",
       "      <td>2.0</td>\n",
       "      <td>0.0</td>\n",
       "      <td>0.0</td>\n",
       "      <td>1.0</td>\n",
       "      <td>...</td>\n",
       "      <td>0.0</td>\n",
       "      <td>0.0</td>\n",
       "      <td>0.0</td>\n",
       "      <td>0.0</td>\n",
       "      <td>0.0</td>\n",
       "      <td>0.0</td>\n",
       "      <td>0.0</td>\n",
       "      <td>0.0</td>\n",
       "      <td>0.0</td>\n",
       "      <td>62.0</td>\n",
       "    </tr>\n",
       "    <tr>\n",
       "      <th>437</th>\n",
       "      <td>septic</td>\n",
       "      <td>1.0</td>\n",
       "      <td>0.0</td>\n",
       "      <td>0.0</td>\n",
       "      <td>0.0</td>\n",
       "      <td>1.0</td>\n",
       "      <td>0.0</td>\n",
       "      <td>0.0</td>\n",
       "      <td>0.0</td>\n",
       "      <td>0.0</td>\n",
       "      <td>...</td>\n",
       "      <td>0.0</td>\n",
       "      <td>0.0</td>\n",
       "      <td>0.0</td>\n",
       "      <td>0.0</td>\n",
       "      <td>0.0</td>\n",
       "      <td>0.0</td>\n",
       "      <td>0.0</td>\n",
       "      <td>0.0</td>\n",
       "      <td>0.0</td>\n",
       "      <td>0.0</td>\n",
       "    </tr>\n",
       "    <tr>\n",
       "      <th>438</th>\n",
       "      <td>septic</td>\n",
       "      <td>0.0</td>\n",
       "      <td>0.0</td>\n",
       "      <td>4.0</td>\n",
       "      <td>0.0</td>\n",
       "      <td>1.0</td>\n",
       "      <td>8.0</td>\n",
       "      <td>0.0</td>\n",
       "      <td>0.0</td>\n",
       "      <td>0.0</td>\n",
       "      <td>...</td>\n",
       "      <td>0.0</td>\n",
       "      <td>0.0</td>\n",
       "      <td>0.0</td>\n",
       "      <td>0.0</td>\n",
       "      <td>0.0</td>\n",
       "      <td>0.0</td>\n",
       "      <td>0.0</td>\n",
       "      <td>6.0</td>\n",
       "      <td>0.0</td>\n",
       "      <td>0.0</td>\n",
       "    </tr>\n",
       "    <tr>\n",
       "      <th>439</th>\n",
       "      <td>septic</td>\n",
       "      <td>0.0</td>\n",
       "      <td>0.0</td>\n",
       "      <td>0.0</td>\n",
       "      <td>0.0</td>\n",
       "      <td>0.0</td>\n",
       "      <td>2.0</td>\n",
       "      <td>0.0</td>\n",
       "      <td>0.0</td>\n",
       "      <td>0.0</td>\n",
       "      <td>...</td>\n",
       "      <td>0.0</td>\n",
       "      <td>0.0</td>\n",
       "      <td>0.0</td>\n",
       "      <td>0.0</td>\n",
       "      <td>0.0</td>\n",
       "      <td>0.0</td>\n",
       "      <td>0.0</td>\n",
       "      <td>0.0</td>\n",
       "      <td>0.0</td>\n",
       "      <td>0.0</td>\n",
       "    </tr>\n",
       "    <tr>\n",
       "      <th>440</th>\n",
       "      <td>septic</td>\n",
       "      <td>0.0</td>\n",
       "      <td>0.0</td>\n",
       "      <td>0.0</td>\n",
       "      <td>0.0</td>\n",
       "      <td>0.0</td>\n",
       "      <td>0.0</td>\n",
       "      <td>0.0</td>\n",
       "      <td>0.0</td>\n",
       "      <td>0.0</td>\n",
       "      <td>...</td>\n",
       "      <td>0.0</td>\n",
       "      <td>0.0</td>\n",
       "      <td>1.0</td>\n",
       "      <td>0.0</td>\n",
       "      <td>0.0</td>\n",
       "      <td>0.0</td>\n",
       "      <td>0.0</td>\n",
       "      <td>1.0</td>\n",
       "      <td>0.0</td>\n",
       "      <td>0.0</td>\n",
       "    </tr>\n",
       "  </tbody>\n",
       "</table>\n",
       "<p>438 rows × 319 columns</p>\n",
       "</div>"
      ],
      "text/plain": [
       "           y  Bifidobacterium  Arthrobacter  Kocuria  Glutamicibacter  \\\n",
       "0    healthy          42891.0          14.0      1.0              3.0   \n",
       "1     septic            730.0          48.0      9.0             10.0   \n",
       "2    healthy          36074.0           6.0     56.0              3.0   \n",
       "3    healthy          44094.0          59.0     10.0             21.0   \n",
       "4    healthy          26958.0           6.0      1.0              0.0   \n",
       "..       ...              ...           ...      ...              ...   \n",
       "436   septic              1.0           3.0      1.0              0.0   \n",
       "437   septic              1.0           0.0      0.0              0.0   \n",
       "438   septic              0.0           0.0      4.0              0.0   \n",
       "439   septic              0.0           0.0      0.0              0.0   \n",
       "440   septic              0.0           0.0      0.0              0.0   \n",
       "\n",
       "     Micrococcus  Microbacterium  Agrococcus  Agromyces  Leucobacter  ...  \\\n",
       "0           15.0             7.0         1.0        1.0          0.0  ...   \n",
       "1           20.0            21.0         0.0       12.0         21.0  ...   \n",
       "2           21.0             1.0         2.0        0.0          1.0  ...   \n",
       "3           66.0            26.0         1.0        3.0          3.0  ...   \n",
       "4           16.0             9.0         0.0        2.0          0.0  ...   \n",
       "..           ...             ...         ...        ...          ...  ...   \n",
       "436          1.0             2.0         0.0        0.0          1.0  ...   \n",
       "437          1.0             0.0         0.0        0.0          0.0  ...   \n",
       "438          1.0             8.0         0.0        0.0          0.0  ...   \n",
       "439          0.0             2.0         0.0        0.0          0.0  ...   \n",
       "440          0.0             0.0         0.0        0.0          0.0  ...   \n",
       "\n",
       "     Cohnella  Rhodopirellula  Buttiauxella  Myroides  Nitrospira  \\\n",
       "0         0.0             0.0           0.0       0.0         0.0   \n",
       "1         0.0             0.0           0.0     184.0         1.0   \n",
       "2         0.0             0.0           0.0       0.0         0.0   \n",
       "3         0.0             0.0           0.0       0.0         0.0   \n",
       "4         0.0             0.0           0.0       0.0         0.0   \n",
       "..        ...             ...           ...       ...         ...   \n",
       "436       0.0             0.0           0.0       0.0         0.0   \n",
       "437       0.0             0.0           0.0       0.0         0.0   \n",
       "438       0.0             0.0           0.0       0.0         0.0   \n",
       "439       0.0             0.0           0.0       0.0         0.0   \n",
       "440       0.0             0.0           1.0       0.0         0.0   \n",
       "\n",
       "     Anaeromyxobacter  Marichromatium  Deinococcus  Maricaulis  Bilophila  \n",
       "0                 0.0             0.0          0.0         0.0        0.0  \n",
       "1                 1.0             0.0          0.0         0.0        0.0  \n",
       "2                 0.0             0.0          0.0         0.0        0.0  \n",
       "3                 0.0             0.0          0.0         0.0        0.0  \n",
       "4                 0.0             0.0          0.0         0.0        0.0  \n",
       "..                ...             ...          ...         ...        ...  \n",
       "436               0.0             0.0          0.0         0.0       62.0  \n",
       "437               0.0             0.0          0.0         0.0        0.0  \n",
       "438               0.0             0.0          6.0         0.0        0.0  \n",
       "439               0.0             0.0          0.0         0.0        0.0  \n",
       "440               0.0             0.0          1.0         0.0        0.0  \n",
       "\n",
       "[438 rows x 319 columns]"
      ]
     },
     "metadata": {},
     "output_type": "display_data"
    }
   ],
   "source": [
    "raw_df = pd.read_csv(datasets / 'kapusta_grumaz_karius_genus_raw.csv')\n",
    "\n",
    "# Remove NTCs\n",
    "raw_df = raw_df.loc[raw_df.y != 'ntc', :]\n",
    "display(raw_df)\n",
    "\n",
    "X = raw_df.drop('y', axis=1).copy()\n",
    "y = raw_df.y.copy()"
   ]
  },
  {
   "cell_type": "code",
   "execution_count": 4,
   "metadata": {},
   "outputs": [],
   "source": [
    "# Binary encode y\n",
    "y.loc[y == 'septic'] = 1\n",
    "y.loc[y == 'healthy'] = 0\n",
    "y = y.astype('int')\n",
    "\n",
    "# Relative abundance\n",
    "X_RA = X.apply(func=lambda x: x / x.sum(), axis=1)"
   ]
  },
  {
   "cell_type": "code",
   "execution_count": 5,
   "metadata": {},
   "outputs": [
    {
     "data": {
      "text/html": [
       "<div>\n",
       "<style scoped>\n",
       "    .dataframe tbody tr th:only-of-type {\n",
       "        vertical-align: middle;\n",
       "    }\n",
       "\n",
       "    .dataframe tbody tr th {\n",
       "        vertical-align: top;\n",
       "    }\n",
       "\n",
       "    .dataframe thead th {\n",
       "        text-align: right;\n",
       "    }\n",
       "</style>\n",
       "<table border=\"1\" class=\"dataframe\">\n",
       "  <thead>\n",
       "    <tr style=\"text-align: right;\">\n",
       "      <th></th>\n",
       "      <th>Septic</th>\n",
       "      <th>Healthy</th>\n",
       "    </tr>\n",
       "  </thead>\n",
       "  <tbody>\n",
       "    <tr>\n",
       "      <th>Train fold</th>\n",
       "      <td>207</td>\n",
       "      <td>188</td>\n",
       "    </tr>\n",
       "    <tr>\n",
       "      <th>Test fold</th>\n",
       "      <td>23</td>\n",
       "      <td>20</td>\n",
       "    </tr>\n",
       "  </tbody>\n",
       "</table>\n",
       "</div>"
      ],
      "text/plain": [
       "            Septic  Healthy\n",
       "Train fold     207      188\n",
       "Test fold       23       20"
      ]
     },
     "metadata": {},
     "output_type": "display_data"
    }
   ],
   "source": [
    "n_splits = 10\n",
    "\n",
    "pos = len(y[y == 1])\n",
    "neg = len(y[y == 0])\n",
    "split_sizes = pd.DataFrame({'Septic': [pos - int(pos / n_splits), int(pos / n_splits)], \n",
    "                           'Healthy': [neg - int(neg / n_splits), int(neg / n_splits)]}, index=['Train fold', 'Test fold'])\n",
    "\n",
    "display(split_sizes)\n",
    "\n",
    "# Get negative to positive ratio\n",
    "ratio = sum(y == 0) / sum(y == 1)"
   ]
  },
  {
   "cell_type": "markdown",
   "metadata": {},
   "source": [
    "## Nested CV for hyperparameter optimisation"
   ]
  },
  {
   "cell_type": "code",
   "execution_count": 6,
   "metadata": {},
   "outputs": [],
   "source": [
    "from xgboost import XGBClassifier\n",
    "from sklearn.model_selection import RandomizedSearchCV, StratifiedKFold, cross_validate\n",
    "from sklearn.metrics import make_scorer, precision_score, recall_score, f1_score, average_precision_score"
   ]
  },
  {
   "cell_type": "code",
   "execution_count": 7,
   "metadata": {},
   "outputs": [],
   "source": [
    "def optimise_evaluate(X, y):\n",
    "    np.random.seed(66)\n",
    "    ratio = sum(y == 0) / sum(y == 1)\n",
    "    \n",
    "    # Hyperparemeter Optimisation using grid search (F1)\n",
    "    model = XGBClassifier()\n",
    "    n_estimators = range(100, 300, 10)\n",
    "    max_depth = range(1, 5, 1)\n",
    "    gamma = np.linspace(0.1, 3, 10)\n",
    "    subsample = [0.6, 0.7, 0.8, 0.9, 1.0]\n",
    "    colsample_bytree = np.linspace(0.1, 1, 20)\n",
    "    \n",
    "    param_grid = dict(max_depth=max_depth, \n",
    "                      n_estimators=n_estimators, \n",
    "                      colsample_bytree=colsample_bytree,\n",
    "                      gamma=gamma,\n",
    "                      subsample=subsample,\n",
    "                      scale_pos_weight=[ratio])\n",
    "    \n",
    "    inner_cv = StratifiedKFold(n_splits=n_splits, shuffle=True)\n",
    "    outer_cv = StratifiedKFold(n_splits=n_splits, shuffle=True)\n",
    "\n",
    "    # Inner CV\n",
    "    model = RandomizedSearchCV(model, \n",
    "                               param_grid, \n",
    "                               scoring='roc_auc',\n",
    "                               n_iter=1000,\n",
    "                               n_jobs=70, \n",
    "                               cv=inner_cv, \n",
    "                               verbose=0)\n",
    "\n",
    "    model.fit(X, y)\n",
    "    best_params = model.best_params_\n",
    "    print(best_params)\n",
    "\n",
    "    # Custom metrics\n",
    "    precision = make_scorer(precision_score, average='binary')\n",
    "    recall = make_scorer(recall_score, average='binary')\n",
    "    f1 = make_scorer(f1_score, average='binary')\n",
    "    auprc = make_scorer(average_precision_score, average=None)\n",
    "    \n",
    "    scoring = {'precision': precision, \n",
    "               'recall': recall, \n",
    "               'AUROC': 'roc_auc',\n",
    "               'F1': f1}\n",
    "\n",
    "    # Outer CV\n",
    "    outer_results = cross_validate(model, X=X, y=y, cv=outer_cv, scoring=scoring)\n",
    "    outer_results = pd.DataFrame(outer_results).mean()[['test_precision', 'test_recall', 'test_F1', 'test_AUROC']]\n",
    "\n",
    "    return outer_results, best_params\n"
   ]
  },
  {
   "cell_type": "markdown",
   "metadata": {},
   "source": [
    "### Optimise and evaluate models trained on dirty data"
   ]
  },
  {
   "cell_type": "code",
   "execution_count": 8,
   "metadata": {
    "scrolled": true
   },
   "outputs": [
    {
     "name": "stdout",
     "output_type": "stream",
     "text": [
      "{'subsample': 0.7, 'scale_pos_weight': 0.9043478260869565, 'n_estimators': 200, 'max_depth': 3, 'gamma': 0.1, 'colsample_bytree': 0.6684210526315789}\n",
      "{'subsample': 1.0, 'scale_pos_weight': 0.9043478260869565, 'n_estimators': 200, 'max_depth': 4, 'gamma': 1.711111111111111, 'colsample_bytree': 0.1}\n"
     ]
    }
   ],
   "source": [
    "raw_results, raw_params = optimise_evaluate(X, y)\n",
    "# raw_params = {'subsample': 0.5263157894736842, 'scale_pos_weight': 1.4273504273504274, 'n_estimators': 96, 'max_depth': 2, 'gamma': 1.8421052631578947, 'colsample_bytree': 0.19473684210526315}\n",
    "RA_results, RA_params = optimise_evaluate(X_RA, y)\n",
    "# RA_params = {'subsample': 0.4789473684210527, 'scale_pos_weight': 1.4273504273504274, 'n_estimators': 255, 'max_depth': 1, 'gamma': 0.7894736842105263, 'colsample_bytree': 0.4}\n"
   ]
  },
  {
   "cell_type": "markdown",
   "metadata": {},
   "source": [
    "## Estimates of test error"
   ]
  },
  {
   "cell_type": "code",
   "execution_count": 9,
   "metadata": {
    "scrolled": true
   },
   "outputs": [
    {
     "data": {
      "text/html": [
       "<div>\n",
       "<style scoped>\n",
       "    .dataframe tbody tr th:only-of-type {\n",
       "        vertical-align: middle;\n",
       "    }\n",
       "\n",
       "    .dataframe tbody tr th {\n",
       "        vertical-align: top;\n",
       "    }\n",
       "\n",
       "    .dataframe thead th {\n",
       "        text-align: right;\n",
       "    }\n",
       "</style>\n",
       "<table border=\"1\" class=\"dataframe\">\n",
       "  <thead>\n",
       "    <tr style=\"text-align: right;\">\n",
       "      <th></th>\n",
       "      <th>test_precision</th>\n",
       "      <th>test_recall</th>\n",
       "      <th>test_F1</th>\n",
       "      <th>test_AUROC</th>\n",
       "    </tr>\n",
       "  </thead>\n",
       "  <tbody>\n",
       "    <tr>\n",
       "      <th>Raw</th>\n",
       "      <td>0.959</td>\n",
       "      <td>0.883</td>\n",
       "      <td>0.918</td>\n",
       "      <td>0.969</td>\n",
       "    </tr>\n",
       "    <tr>\n",
       "      <th>RA</th>\n",
       "      <td>0.939</td>\n",
       "      <td>0.896</td>\n",
       "      <td>0.915</td>\n",
       "      <td>0.964</td>\n",
       "    </tr>\n",
       "  </tbody>\n",
       "</table>\n",
       "</div>"
      ],
      "text/plain": [
       "     test_precision  test_recall  test_F1  test_AUROC\n",
       "Raw           0.959        0.883    0.918       0.969\n",
       "RA            0.939        0.896    0.915       0.964"
      ]
     },
     "metadata": {},
     "output_type": "display_data"
    }
   ],
   "source": [
    "metric_df = pd.DataFrame({'Raw': raw_results, 'RA': RA_results}).round(3).T\n",
    "display(metric_df)"
   ]
  },
  {
   "cell_type": "markdown",
   "metadata": {},
   "source": [
    "## Train dirty models"
   ]
  },
  {
   "cell_type": "code",
   "execution_count": 10,
   "metadata": {},
   "outputs": [
    {
     "data": {
      "text/plain": [
       "XGBClassifier(colsample_bytree=0.1, gamma=1.711111111111111, max_depth=4,\n",
       "              n_estimators=200, scale_pos_weight=0.9043478260869565,\n",
       "              subsample=1.0)"
      ]
     },
     "execution_count": 10,
     "metadata": {},
     "output_type": "execute_result"
    }
   ],
   "source": [
    "raw_model = XGBClassifier(**raw_params)\n",
    "raw_model.fit(X, y)\n",
    "\n",
    "RA_model = XGBClassifier(**RA_params)\n",
    "RA_model.fit(X_RA, y)\n"
   ]
  },
  {
   "cell_type": "markdown",
   "metadata": {},
   "source": [
    "### Remove Contaminants based on SHAP values"
   ]
  },
  {
   "cell_type": "code",
   "execution_count": 11,
   "metadata": {},
   "outputs": [],
   "source": [
    "import math\n",
    "from scipy.stats import spearmanr\n",
    "import shap\n",
    "\n",
    "\n",
    "def decontam(X_train, y_train, params):\n",
    "    X_train = X_train.copy()\n",
    "    y_train = y_train.copy()\n",
    "    params = params.copy()\n",
    "#     X_train = X_train.apply(func=lambda x: x / x.sum(), axis=1)\n",
    "    \n",
    "    model = XGBClassifier(**params)\n",
    "    model.fit(X=X_train, y=y_train)\n",
    "\n",
    "    explainer = shap.TreeExplainer(model, feature_pertubation='interventional', model_output='probability', data=X_train)\n",
    "    shap_val = explainer.shap_values(X_train)\n",
    "\n",
    "    to_retain = np.array([True] * X_train.shape[1])\n",
    "    corrs = np.zeros(X_train.shape[1])\n",
    "    \n",
    "    for i in range(X_train.shape[1]):\n",
    "        if sum(X_train.iloc[:, i] != 0) >= X_train.shape[0] * 0.1:\n",
    "            rho = spearmanr(X_train.iloc[:, i], shap_val[:, i])[0]\n",
    "            p = spearmanr(X_train.iloc[:, i], shap_val[:, i])[1]\n",
    "            print(f'rho={rho}, p={p}, genus={X_train.columns[i]}')\n",
    "            \n",
    "            if rho < 0:\n",
    "                to_retain[i] = False\n",
    "                \n",
    "            elif not shap_val[:, i].any(0):\n",
    "                to_retain[i] = False\n",
    "        else:\n",
    "            to_retain[i] = False\n",
    "\n",
    "    to_retain = X_train.columns[to_retain]\n",
    "    print(to_retain.shape, to_retain)\n",
    "    \n",
    "    return to_retain"
   ]
  },
  {
   "cell_type": "code",
   "execution_count": 12,
   "metadata": {},
   "outputs": [],
   "source": [
    "# Retrieve known human pathogens\n",
    "meta = pd.read_csv(datasets / 'pathogen_list.csv', encoding= 'unicode_escape')\n",
    "meta = meta['Genus'].unique()\n",
    "\n",
    "# Remove non-human pathogens\n",
    "genera_new = X.columns\n",
    "genera_new = list(set(genera_new).intersection(set(meta)))"
   ]
  },
  {
   "cell_type": "code",
   "execution_count": 13,
   "metadata": {
    "scrolled": true
   },
   "outputs": [
    {
     "name": "stdout",
     "output_type": "stream",
     "text": [
      "rho=-0.5451034370469928, p=2.889753531791999e-35, genus=Anaerococcus\n",
      "rho=nan, p=nan, genus=Brachybacterium\n",
      "rho=0.8548932480153081, p=2.4609202663585167e-126, genus=Stenotrophomonas\n",
      "rho=0.8948718146686359, p=7.535698099201255e-155, genus=Bacillus\n",
      "rho=-0.18916819595663395, p=6.784803743542624e-05, genus=Actinomyces\n",
      "rho=-0.5396568889367281, p=1.809963244531651e-34, genus=Peptoniphilus\n",
      "rho=0.6126279032768827, p=1.7682429543167046e-46, genus=Helicobacter\n",
      "rho=-0.8129279893165076, p=1.9782017701015178e-104, genus=Paracoccus\n",
      "rho=nan, p=nan, genus=Dermabacter\n",
      "rho=nan, p=nan, genus=Legionella\n",
      "rho=0.7642883414657227, p=4.258183618727917e-85, genus=Psychrobacter\n",
      "rho=0.5452466290444418, p=2.752423959175165e-35, genus=Leptotrichia\n",
      "rho=-0.8620003881112009, p=9.886940628611763e-131, genus=Sphingomonas\n",
      "rho=-0.7708731860830946, p=1.9756357602503701e-87, genus=Ralstonia\n",
      "rho=-0.22628969100652854, p=1.7136028335563334e-06, genus=Acinetobacter\n",
      "rho=-0.6728417124081612, p=4.822024240320863e-59, genus=Gordonia\n",
      "rho=0.34061510292698494, p=2.3282387946291317e-13, genus=Lactobacillus\n",
      "rho=0.8196567086375228, p=1.4973863801868684e-107, genus=Cellulomonas\n",
      "rho=nan, p=nan, genus=Aureimonas\n",
      "rho=-0.7805708269317488, p=5.164058030584412e-91, genus=Achromobacter\n",
      "rho=nan, p=nan, genus=Pseudoclavibacter\n",
      "rho=nan, p=nan, genus=Aerococcus\n",
      "rho=0.6365078680614481, p=3.9697083396128416e-51, genus=Serratia\n",
      "rho=nan, p=nan, genus=Parabacteroides\n",
      "rho=0.457058735066541, p=5.4003091246576126e-24, genus=Fusobacterium\n",
      "rho=0.2798067114472805, p=2.543798833197768e-09, genus=Janibacter\n",
      "rho=nan, p=nan, genus=Blautia\n",
      "rho=-0.9505115386746998, p=1.811857611860495e-223, genus=Corynebacterium\n",
      "rho=-0.8048485044370836, p=7.600658462029366e-101, genus=Sphingobacterium\n",
      "rho=0.6137611264366294, p=1.0861339579729268e-46, genus=Aeromonas\n",
      "rho=-0.7273798022405689, p=2.6394118328015367e-73, genus=Massilia\n",
      "rho=-0.807626752912441, p=4.650065601789192e-102, genus=Afipia\n",
      "rho=-0.6223002430728864, p=2.5881140540748913e-48, genus=Porphyromonas\n",
      "rho=-0.7229711137881839, p=5.023326967827483e-72, genus=Flavobacterium\n",
      "rho=nan, p=nan, genus=Azospirillum\n",
      "rho=-0.788448701881311, p=4.6245418175859195e-94, genus=Mycobacterium\n",
      "rho=nan, p=nan, genus=Sutterella\n",
      "rho=0.9027504862143284, p=7.777827672074682e-162, genus=Neisseria\n",
      "rho=0.19386550480838752, p=4.416707966129734e-05, genus=Kocuria\n",
      "rho=0.6701799701056387, p=2.0013982617076004e-58, genus=Nocardiopsis\n",
      "rho=-0.8985888110823186, p=4.4958437237597636e-158, genus=Haemophilus\n",
      "rho=0.7790668788737443, p=1.9076978365122207e-90, genus=Rhodococcus\n",
      "rho=nan, p=nan, genus=Alistipes\n",
      "rho=0.6840819099012349, p=1.0003212434491884e-61, genus=Streptococcus\n",
      "rho=0.8088512463722127, p=1.3377018271507915e-102, genus=Cupriavidus\n",
      "rho=0.6330953674193037, p=1.9414334528333396e-50, genus=Rothia\n",
      "rho=nan, p=nan, genus=Yersinia\n",
      "rho=0.819013548568356, p=3.014721218342566e-107, genus=Pantoea\n",
      "rho=nan, p=nan, genus=Vibrio\n",
      "rho=-0.714593027097627, p=1.1623363640509146e-69, genus=Nocardia\n",
      "rho=0.52975922721727, p=4.66677671504042e-33, genus=Bacteroides\n",
      "rho=nan, p=nan, genus=Kytococcus\n",
      "rho=-0.659619342080627, p=4.915516190047162e-56, genus=Exiguobacterium\n",
      "rho=0.03349839328111528, p=0.4843881219735875, genus=Bifidobacterium\n",
      "rho=-0.770213034750692, p=3.4131946962251356e-87, genus=Arthrobacter\n",
      "rho=nan, p=nan, genus=Moraxella\n",
      "rho=-0.7097339055528221, p=2.4997381169785833e-68, genus=Lactococcus\n",
      "rho=nan, p=nan, genus=Leifsonia\n",
      "rho=-0.7979613449203293, p=6.400777038248767e-98, genus=Staphylococcus\n",
      "rho=0.9131720885512781, p=4.691558031552476e-172, genus=Comamonas\n",
      "rho=-0.8826477010117243, p=4.838420628679931e-145, genus=Chryseobacterium\n",
      "rho=0.8498176508360886, p=2.450555647190259e-123, genus=Bradyrhizobium\n",
      "rho=0.7655700274771473, p=1.5172173297861822e-85, genus=Brevibacterium\n",
      "rho=nan, p=nan, genus=Aggregatibacter\n",
      "rho=-0.9031816472367842, p=3.1004008532187348e-162, genus=Micrococcus\n",
      "rho=nan, p=nan, genus=Roseomonas\n",
      "rho=-0.4681002407399132, p=3.103015288287776e-25, genus=Microbacterium\n",
      "rho=-0.6108468231685734, p=3.7885859890649294e-46, genus=Paenibacillus\n",
      "rho=-0.7347180982916686, p=1.7185007503732145e-75, genus=Halomonas\n",
      "rho=0.8722825901799381, p=1.5151889126704016e-137, genus=Prevotella\n",
      "rho=0.672246903333695, p=6.636133281934256e-59, genus=Enterococcus\n"
     ]
    },
    {
     "name": "stderr",
     "output_type": "stream",
     "text": [
      "An input array is constant; the correlation coefficent is not defined.\n"
     ]
    },
    {
     "name": "stdout",
     "output_type": "stream",
     "text": [
      "rho=0.7543382980586943, p=1.0325436024961399e-81, genus=Ochrobactrum\n",
      "rho=0.8760683882090989, p=3.319069803666358e-140, genus=Pseudomonas\n",
      "rho=0.21659617151436078, p=4.773960228376626e-06, genus=Veillonella\n",
      "rho=0.6905589228187305, p=2.501902043404165e-63, genus=Shewanella\n",
      "rho=0.399294564804996, p=3.4039984067426847e-18, genus=Curtobacterium\n",
      "rho=0.7269314257420679, p=3.5709165511615634e-73, genus=Oerskovia\n",
      "rho=-0.5819713938391414, p=4.606171049995487e-41, genus=Bosea\n",
      "rho=-0.6190166873960549, p=1.103952581858644e-47, genus=Leuconostoc\n",
      "rho=0.835205108441169, p=2.733424513528637e-115, genus=Enterobacter\n",
      "rho=nan, p=nan, genus=Pseudonocardia\n",
      "rho=0.5857105011964032, p=1.0800717572092724e-41, genus=Cellulosimicrobium\n",
      "rho=-0.17921667864135393, p=0.00016286864114217856, genus=Delftia\n",
      "rho=nan, p=nan, genus=Amycolatopsis\n",
      "rho=0.6802530960772893, p=8.464532019458552e-61, genus=Citrobacter\n",
      "rho=0.09127439029387228, p=0.056293231622597556, genus=Brevundimonas\n",
      "rho=0.8822967382732126, p=8.911431523023363e-145, genus=Klebsiella\n",
      "rho=nan, p=nan, genus=Lysinibacillus\n",
      "rho=-0.7391623515667111, p=7.503365434853994e-77, genus=Dietzia\n",
      "rho=nan, p=nan, genus=Salmonella\n",
      "rho=-0.8704362959140645, p=2.797838224101607e-136, genus=Streptomyces\n",
      "rho=-0.6319892886697537, p=3.2337918141253464e-50, genus=Elizabethkingia\n",
      "rho=nan, p=nan, genus=Gemella\n",
      "(37,) Index(['Stenotrophomonas', 'Bacillus', 'Helicobacter', 'Psychrobacter',\n",
      "       'Leptotrichia', 'Lactobacillus', 'Cellulomonas', 'Serratia',\n",
      "       'Fusobacterium', 'Janibacter', 'Aeromonas', 'Neisseria', 'Kocuria',\n",
      "       'Nocardiopsis', 'Rhodococcus', 'Streptococcus', 'Cupriavidus', 'Rothia',\n",
      "       'Pantoea', 'Bacteroides', 'Bifidobacterium', 'Comamonas',\n",
      "       'Bradyrhizobium', 'Brevibacterium', 'Prevotella', 'Enterococcus',\n",
      "       'Ochrobactrum', 'Pseudomonas', 'Veillonella', 'Shewanella',\n",
      "       'Curtobacterium', 'Oerskovia', 'Enterobacter', 'Cellulosimicrobium',\n",
      "       'Citrobacter', 'Brevundimonas', 'Klebsiella'],\n",
      "      dtype='object')\n",
      "rho=0.8465304393672421, p=1.8727299927721062e-121, genus=Stenotrophomonas\n",
      "rho=0.866434441431853, p=1.3367752845585644e-133, genus=Bacillus\n",
      "rho=0.36795788544577235, p=1.7239267049575238e-15, genus=Helicobacter\n",
      "rho=0.6484033833827966, p=1.3376127707499387e-53, genus=Psychrobacter\n",
      "rho=0.005822478105448326, p=0.9032884800421299, genus=Leptotrichia\n",
      "rho=-0.8803865265845201, p=2.392896163272396e-143, genus=Lactobacillus\n",
      "rho=0.8264688720393893, p=7.585938697968004e-111, genus=Cellulomonas\n",
      "rho=-0.8018787429319257, p=1.4336302030424272e-99, genus=Serratia\n",
      "rho=0.22269502369471614, p=2.51913308214122e-06, genus=Fusobacterium\n",
      "rho=-0.7000721843139637, p=9.275014359787131e-66, genus=Janibacter\n",
      "rho=0.5454794277139645, p=2.5428206578839094e-35, genus=Aeromonas\n",
      "rho=-0.22685284822295146, p=1.6122903655960282e-06, genus=Neisseria\n",
      "rho=-0.8439833510869924, p=5.029276384866044e-120, genus=Kocuria\n",
      "rho=nan, p=nan, genus=Nocardiopsis\n",
      "rho=-0.18687037489776473, p=8.338997895208701e-05, genus=Rhodococcus\n",
      "rho=-0.06612945846625264, p=0.16711153366764772, genus=Streptococcus\n",
      "rho=0.7075517335898917, p=9.714109647762878e-68, genus=Cupriavidus\n",
      "rho=-0.7424010011043622, p=7.355685212254353e-78, genus=Rothia\n",
      "rho=-0.14804153750667695, p=0.0018927754819399673, genus=Pantoea\n",
      "rho=0.29414176107008655, p=3.43512388585034e-10, genus=Bacteroides\n",
      "rho=-0.6795295129098061, p=1.2626690535075387e-60, genus=Bifidobacterium\n",
      "rho=0.293179166101874, p=3.943439928579408e-10, genus=Comamonas\n",
      "rho=-0.8032725091937546, p=3.6349616330376576e-100, genus=Bradyrhizobium\n",
      "rho=0.505549820536924, p=8.542681381488755e-30, genus=Brevibacterium\n",
      "rho=0.825686039171426, p=1.844901416168958e-110, genus=Prevotella\n",
      "rho=0.6825356494191291, p=2.3790679076991784e-61, genus=Enterococcus\n",
      "rho=-0.774912006978856, p=6.68950901807998e-89, genus=Ochrobactrum\n",
      "rho=0.6092097953154191, p=7.599729437067089e-46, genus=Pseudomonas\n",
      "rho=0.018899827699750953, p=0.6932495703325989, genus=Veillonella\n",
      "rho=0.6884844266707423, p=8.239625955873943e-63, genus=Shewanella\n",
      "rho=-0.7729579943133955, p=3.471702290347479e-88, genus=Curtobacterium\n",
      "rho=0.7291223329718158, p=8.10667544715402e-74, genus=Oerskovia\n",
      "rho=0.7560844650737673, p=2.702325482121509e-82, genus=Enterobacter\n",
      "rho=0.6323642932653025, p=2.720728564770337e-50, genus=Cellulosimicrobium\n",
      "rho=0.6834581506799, p=1.4197315213439895e-61, genus=Citrobacter\n",
      "rho=-0.8497459374093859, p=2.6966741618926408e-123, genus=Brevundimonas\n",
      "rho=0.869393947209872, p=1.4229617663311674e-135, genus=Klebsiella\n",
      "(22,) Index(['Stenotrophomonas', 'Bacillus', 'Helicobacter', 'Psychrobacter',\n",
      "       'Leptotrichia', 'Cellulomonas', 'Fusobacterium', 'Aeromonas',\n",
      "       'Cupriavidus', 'Bacteroides', 'Comamonas', 'Brevibacterium',\n",
      "       'Prevotella', 'Enterococcus', 'Pseudomonas', 'Veillonella',\n",
      "       'Shewanella', 'Oerskovia', 'Enterobacter', 'Cellulosimicrobium',\n",
      "       'Citrobacter', 'Klebsiella'],\n",
      "      dtype='object')\n",
      "rho=0.7196803265495088, p=4.364895543988526e-71, genus=Stenotrophomonas\n",
      "rho=-0.5947390736936681, p=3.008432653724798e-43, genus=Bacillus\n",
      "rho=0.18538418727596392, p=9.516652790214733e-05, genus=Helicobacter\n",
      "rho=0.7708219014263362, p=2.0614953179029414e-87, genus=Psychrobacter\n",
      "rho=-0.5453257226275009, p=2.679359866275724e-35, genus=Leptotrichia\n",
      "rho=0.16689708298079356, p=0.00045225799241248527, genus=Cellulomonas\n",
      "rho=-0.7936283049672123, p=3.882865265589143e-96, genus=Fusobacterium\n",
      "rho=-0.013572924324325773, p=0.7769763341285159, genus=Aeromonas\n",
      "rho=0.30885970294856174, p=3.902775056943125e-11, genus=Cupriavidus\n",
      "rho=0.18976280192658676, p=6.429601996753389e-05, genus=Bacteroides\n",
      "rho=0.0902185714024183, p=0.05921575876050569, genus=Comamonas\n",
      "rho=-0.6152664496834309, p=5.667538030320108e-47, genus=Brevibacterium\n",
      "rho=0.6842747069858442, p=8.975531695237964e-62, genus=Prevotella\n",
      "rho=0.6234661751640437, p=1.539882875250326e-48, genus=Enterococcus\n",
      "rho=-0.35354515507766765, p=2.4277492591354456e-14, genus=Pseudomonas\n",
      "rho=-0.5097159462321554, p=2.4468948701327232e-30, genus=Veillonella\n",
      "rho=0.6950677921870675, p=1.811201905618833e-64, genus=Shewanella\n",
      "rho=0.731472263476896, p=1.6259790630846949e-74, genus=Oerskovia\n",
      "rho=0.37569311355827456, p=3.942473550011396e-16, genus=Enterobacter\n",
      "rho=0.3714022788944698, p=8.9809915065122e-16, genus=Cellulosimicrobium\n",
      "rho=0.698884113968248, p=1.8886374615140602e-65, genus=Citrobacter\n",
      "rho=0.8462811903774509, p=2.5909562671509744e-121, genus=Klebsiella\n",
      "(15,) Index(['Stenotrophomonas', 'Helicobacter', 'Psychrobacter', 'Cellulomonas',\n",
      "       'Cupriavidus', 'Bacteroides', 'Comamonas', 'Prevotella', 'Enterococcus',\n",
      "       'Shewanella', 'Oerskovia', 'Enterobacter', 'Cellulosimicrobium',\n",
      "       'Citrobacter', 'Klebsiella'],\n",
      "      dtype='object')\n",
      "rho=0.5757223097416027, p=4.9896608435472874e-40, genus=Stenotrophomonas\n",
      "rho=-0.05520157606929959, p=0.24896735053040778, genus=Helicobacter\n",
      "rho=-0.7661899183984818, p=9.188720581413978e-86, genus=Psychrobacter\n",
      "rho=0.2641482142763001, p=1.9953397390536585e-08, genus=Cellulomonas\n",
      "rho=0.30947559747941783, p=3.553691943606697e-11, genus=Cupriavidus\n",
      "rho=0.3593144921732726, p=8.557759295151758e-15, genus=Bacteroides\n",
      "rho=-0.2184470718058987, p=3.9396377692159126e-06, genus=Comamonas\n",
      "rho=0.7029804827448346, p=1.6026217868071346e-66, genus=Prevotella\n",
      "rho=0.304861568622479, p=7.132550360994e-11, genus=Enterococcus\n",
      "rho=0.6699239533648687, p=2.2932225681657065e-58, genus=Shewanella\n",
      "rho=0.7288423245809539, p=9.806011001453792e-74, genus=Oerskovia\n",
      "rho=0.15364805423499014, p=0.0012570882827872098, genus=Enterobacter\n",
      "rho=0.1901945993945748, p=6.1827319284523e-05, genus=Cellulosimicrobium\n",
      "rho=0.6885061209976485, p=8.13798296741432e-63, genus=Citrobacter\n",
      "rho=0.691972856380256, p=1.1039387181723492e-63, genus=Klebsiella\n",
      "(12,) Index(['Stenotrophomonas', 'Cellulomonas', 'Cupriavidus', 'Bacteroides',\n",
      "       'Prevotella', 'Enterococcus', 'Shewanella', 'Oerskovia', 'Enterobacter',\n",
      "       'Cellulosimicrobium', 'Citrobacter', 'Klebsiella'],\n",
      "      dtype='object')\n",
      "rho=0.5956749835734644, p=2.0621228360186677e-43, genus=Stenotrophomonas\n",
      "rho=0.31435716044200357, p=1.6779569447650792e-11, genus=Cellulomonas\n",
      "rho=0.16544475110949772, p=0.0005078238815358018, genus=Cupriavidus\n",
      "rho=0.1627240834502209, p=0.0006293418270528732, genus=Bacteroides\n",
      "rho=0.5347269981445141, p=9.257048691889153e-34, genus=Prevotella\n",
      "rho=0.0408864672241618, p=0.3933254953613554, genus=Enterococcus\n",
      "rho=0.535818696790296, p=6.464234184043374e-34, genus=Shewanella\n",
      "rho=0.7312815299300506, p=1.853623271810964e-74, genus=Oerskovia\n",
      "rho=-0.11572316038243365, p=0.015387358923960787, genus=Enterobacter\n",
      "rho=0.07988251417901925, p=0.09497697215709022, genus=Cellulosimicrobium\n",
      "rho=0.703710191021937, p=1.0281580519308233e-66, genus=Citrobacter\n",
      "rho=0.5439796871889405, p=4.231115811777156e-35, genus=Klebsiella\n",
      "(11,) Index(['Stenotrophomonas', 'Cellulomonas', 'Cupriavidus', 'Bacteroides',\n",
      "       'Prevotella', 'Enterococcus', 'Shewanella', 'Oerskovia',\n",
      "       'Cellulosimicrobium', 'Citrobacter', 'Klebsiella'],\n",
      "      dtype='object')\n"
     ]
    },
    {
     "name": "stdout",
     "output_type": "stream",
     "text": [
      "rho=0.5827551537182601, p=3.403946651676236e-41, genus=Stenotrophomonas\n",
      "rho=0.20498138296467885, p=1.5344845644192086e-05, genus=Cellulomonas\n",
      "rho=0.24967088658524475, p=1.1942875209883808e-07, genus=Cupriavidus\n",
      "rho=0.13672239987427995, p=0.004147967746851428, genus=Bacteroides\n",
      "rho=0.5253214657515565, p=1.935759135737932e-32, genus=Prevotella\n",
      "rho=-0.025786262653680184, p=0.5904294337146538, genus=Enterococcus\n",
      "rho=0.3975335942817843, p=4.917815105168005e-18, genus=Shewanella\n",
      "rho=0.7313073814221716, p=1.8210060279166716e-74, genus=Oerskovia\n",
      "rho=0.07208964364619168, p=0.13197130490707132, genus=Cellulosimicrobium\n",
      "rho=0.6602155602009516, p=3.6241389062514272e-56, genus=Citrobacter\n",
      "rho=0.5529382066134835, p=1.9443986435963704e-36, genus=Klebsiella\n",
      "(10,) Index(['Stenotrophomonas', 'Cellulomonas', 'Cupriavidus', 'Bacteroides',\n",
      "       'Prevotella', 'Shewanella', 'Oerskovia', 'Cellulosimicrobium',\n",
      "       'Citrobacter', 'Klebsiella'],\n",
      "      dtype='object')\n",
      "rho=0.5762874040783573, p=4.031019372140671e-40, genus=Stenotrophomonas\n",
      "rho=0.042892535621106155, p=0.37050852292899494, genus=Cellulomonas\n",
      "rho=0.3749495655104959, p=4.551030241735358e-16, genus=Cupriavidus\n",
      "rho=0.24568880734100348, p=1.9169250326544739e-07, genus=Bacteroides\n",
      "rho=0.35804076571437443, p=1.0792714058256088e-14, genus=Prevotella\n",
      "rho=0.6159186295559856, p=4.2710266380194624e-47, genus=Shewanella\n",
      "rho=0.7289772164224538, p=8.947248586401797e-74, genus=Oerskovia\n",
      "rho=0.08834686046232555, p=0.06470473243910892, genus=Cellulosimicrobium\n",
      "rho=0.6531447796426942, p=1.2873745164007546e-54, genus=Citrobacter\n",
      "rho=0.3063791105393212, p=5.6795743527452123e-11, genus=Klebsiella\n",
      "(10,) Index(['Stenotrophomonas', 'Cellulomonas', 'Cupriavidus', 'Bacteroides',\n",
      "       'Prevotella', 'Shewanella', 'Oerskovia', 'Cellulosimicrobium',\n",
      "       'Citrobacter', 'Klebsiella'],\n",
      "      dtype='object')\n",
      "rho=0.5762874040783573, p=4.031019372140671e-40, genus=Stenotrophomonas\n",
      "rho=0.042892535621106155, p=0.37050852292899494, genus=Cellulomonas\n",
      "rho=0.3749495655104959, p=4.551030241735358e-16, genus=Cupriavidus\n",
      "rho=0.24568880734100348, p=1.9169250326544739e-07, genus=Bacteroides\n",
      "rho=0.35804076571437443, p=1.0792714058256088e-14, genus=Prevotella\n",
      "rho=0.6159186295559856, p=4.2710266380194624e-47, genus=Shewanella\n",
      "rho=0.7289772164224538, p=8.947248586401797e-74, genus=Oerskovia\n",
      "rho=0.08834686046232555, p=0.06470473243910892, genus=Cellulosimicrobium\n",
      "rho=0.6531447796426942, p=1.2873745164007546e-54, genus=Citrobacter\n",
      "rho=0.3063791105393212, p=5.6795743527452123e-11, genus=Klebsiella\n",
      "(10,) Index(['Stenotrophomonas', 'Cellulomonas', 'Cupriavidus', 'Bacteroides',\n",
      "       'Prevotella', 'Shewanella', 'Oerskovia', 'Cellulosimicrobium',\n",
      "       'Citrobacter', 'Klebsiella'],\n",
      "      dtype='object')\n",
      "rho=0.5762874040783573, p=4.031019372140671e-40, genus=Stenotrophomonas\n",
      "rho=0.042892535621106155, p=0.37050852292899494, genus=Cellulomonas\n",
      "rho=0.3749495655104959, p=4.551030241735358e-16, genus=Cupriavidus\n",
      "rho=0.24568880734100348, p=1.9169250326544739e-07, genus=Bacteroides\n",
      "rho=0.35804076571437443, p=1.0792714058256088e-14, genus=Prevotella\n",
      "rho=0.6159186295559856, p=4.2710266380194624e-47, genus=Shewanella\n",
      "rho=0.7289772164224538, p=8.947248586401797e-74, genus=Oerskovia\n",
      "rho=0.08834686046232555, p=0.06470473243910892, genus=Cellulosimicrobium\n",
      "rho=0.6531447796426942, p=1.2873745164007546e-54, genus=Citrobacter\n",
      "rho=0.3063791105393212, p=5.6795743527452123e-11, genus=Klebsiella\n",
      "(10,) Index(['Stenotrophomonas', 'Cellulomonas', 'Cupriavidus', 'Bacteroides',\n",
      "       'Prevotella', 'Shewanella', 'Oerskovia', 'Cellulosimicrobium',\n",
      "       'Citrobacter', 'Klebsiella'],\n",
      "      dtype='object')\n",
      "rho=0.5762874040783573, p=4.031019372140671e-40, genus=Stenotrophomonas\n",
      "rho=0.042892535621106155, p=0.37050852292899494, genus=Cellulomonas\n",
      "rho=0.3749495655104959, p=4.551030241735358e-16, genus=Cupriavidus\n",
      "rho=0.24568880734100348, p=1.9169250326544739e-07, genus=Bacteroides\n",
      "rho=0.35804076571437443, p=1.0792714058256088e-14, genus=Prevotella\n",
      "rho=0.6159186295559856, p=4.2710266380194624e-47, genus=Shewanella\n",
      "rho=0.7289772164224538, p=8.947248586401797e-74, genus=Oerskovia\n",
      "rho=0.08834686046232555, p=0.06470473243910892, genus=Cellulosimicrobium\n",
      "rho=0.6531447796426942, p=1.2873745164007546e-54, genus=Citrobacter\n",
      "rho=0.3063791105393212, p=5.6795743527452123e-11, genus=Klebsiella\n",
      "(10,) Index(['Stenotrophomonas', 'Cellulomonas', 'Cupriavidus', 'Bacteroides',\n",
      "       'Prevotella', 'Shewanella', 'Oerskovia', 'Cellulosimicrobium',\n",
      "       'Citrobacter', 'Klebsiella'],\n",
      "      dtype='object')\n"
     ]
    }
   ],
   "source": [
    "# Decontam using raw_params\n",
    "for _ in range(10):\n",
    "    genera_new = decontam(X.loc[:, genera_new], y, raw_params)"
   ]
  },
  {
   "cell_type": "code",
   "execution_count": 14,
   "metadata": {},
   "outputs": [],
   "source": [
    "# Decontam + pathogens\n",
    "raw_CR = X[genera_new]\n",
    "\n",
    "# Normalise RA\n",
    "RA_CR = raw_CR.apply(func=lambda x: x / x.sum(), axis=1)"
   ]
  },
  {
   "cell_type": "code",
   "execution_count": 15,
   "metadata": {},
   "outputs": [
    {
     "data": {
      "image/png": "[encoded data removed]",
      "text/plain": [
       "<Figure size 288x360 with 2 Axes>"
      ]
     },
     "metadata": {
      "needs_background": "light"
     },
     "output_type": "display_data"
    }
   ],
   "source": [
    "# Get SHAP summary before removing Cellulomonas and Agrobacterium\n",
    "pre_model = XGBClassifier(**raw_params)\n",
    "pre_model.fit(X=raw_CR, y=y)\n",
    "\n",
    "pre_explainer = shap.TreeExplainer(pre_model, feature_pertubation='interventional', model_output='probability', data=raw_CR)\n",
    "shap_pre = pre_explainer.shap_values(raw_CR)\n",
    "\n",
    "shap.summary_plot(shap_pre, raw_CR, show=False, plot_size=(4, 5), color_bar_label='Read Count', max_display=25)\n",
    "fig, ax = plt.gcf(), plt.gca()\n",
    "ax.set_xlabel('SHAP Value')\n",
    "plt.savefig(results / 'pre_shap.png', dpi=600, format='png', bbox_inches='tight')\n"
   ]
  },
  {
   "cell_type": "markdown",
   "metadata": {},
   "source": [
    "### Number of Features"
   ]
  },
  {
   "cell_type": "code",
   "execution_count": 16,
   "metadata": {},
   "outputs": [
    {
     "name": "stdout",
     "output_type": "stream",
     "text": [
      "Neat (438, 318)\n",
      "CR (438, 10)\n"
     ]
    }
   ],
   "source": [
    "print('Neat', X.shape)\n",
    "print('CR', raw_CR.shape)"
   ]
  },
  {
   "cell_type": "markdown",
   "metadata": {},
   "source": [
    "## Optimise and evaluate decontaminated models"
   ]
  },
  {
   "cell_type": "code",
   "execution_count": 17,
   "metadata": {},
   "outputs": [
    {
     "name": "stdout",
     "output_type": "stream",
     "text": [
      "{'subsample': 0.9, 'scale_pos_weight': 0.9043478260869565, 'n_estimators': 270, 'max_depth': 3, 'gamma': 2.3555555555555556, 'colsample_bytree': 0.9526315789473684}\n",
      "{'subsample': 0.7, 'scale_pos_weight': 0.9043478260869565, 'n_estimators': 270, 'max_depth': 4, 'gamma': 0.42222222222222217, 'colsample_bytree': 0.8105263157894737}\n"
     ]
    },
    {
     "data": {
      "text/html": [
       "<div>\n",
       "<style scoped>\n",
       "    .dataframe tbody tr th:only-of-type {\n",
       "        vertical-align: middle;\n",
       "    }\n",
       "\n",
       "    .dataframe tbody tr th {\n",
       "        vertical-align: top;\n",
       "    }\n",
       "\n",
       "    .dataframe thead th {\n",
       "        text-align: right;\n",
       "    }\n",
       "</style>\n",
       "<table border=\"1\" class=\"dataframe\">\n",
       "  <thead>\n",
       "    <tr style=\"text-align: right;\">\n",
       "      <th></th>\n",
       "      <th>test_precision</th>\n",
       "      <th>test_recall</th>\n",
       "      <th>test_F1</th>\n",
       "      <th>test_AUROC</th>\n",
       "    </tr>\n",
       "  </thead>\n",
       "  <tbody>\n",
       "    <tr>\n",
       "      <th>Raw</th>\n",
       "      <td>0.959</td>\n",
       "      <td>0.883</td>\n",
       "      <td>0.918</td>\n",
       "      <td>0.969</td>\n",
       "    </tr>\n",
       "    <tr>\n",
       "      <th>RA</th>\n",
       "      <td>0.939</td>\n",
       "      <td>0.896</td>\n",
       "      <td>0.915</td>\n",
       "      <td>0.964</td>\n",
       "    </tr>\n",
       "    <tr>\n",
       "      <th>Raw CR</th>\n",
       "      <td>0.823</td>\n",
       "      <td>0.704</td>\n",
       "      <td>0.757</td>\n",
       "      <td>0.839</td>\n",
       "    </tr>\n",
       "    <tr>\n",
       "      <th>RA CR</th>\n",
       "      <td>0.799</td>\n",
       "      <td>0.743</td>\n",
       "      <td>0.768</td>\n",
       "      <td>0.849</td>\n",
       "    </tr>\n",
       "  </tbody>\n",
       "</table>\n",
       "</div>"
      ],
      "text/plain": [
       "        test_precision  test_recall  test_F1  test_AUROC\n",
       "Raw              0.959        0.883    0.918       0.969\n",
       "RA               0.939        0.896    0.915       0.964\n",
       "Raw CR           0.823        0.704    0.757       0.839\n",
       "RA CR            0.799        0.743    0.768       0.849"
      ]
     },
     "metadata": {},
     "output_type": "display_data"
    }
   ],
   "source": [
    "raw_CR_results, raw_CR_params = optimise_evaluate(raw_CR, y)\n",
    "\n",
    "RA_CR_results, RA_CR_params = optimise_evaluate(RA_CR, y)\n",
    "\n",
    "metric_df = metric_df.append(pd.DataFrame({'Raw CR': raw_CR_results, 'RA CR': RA_CR_results}).round(3).T)\n",
    "display(metric_df)"
   ]
  },
  {
   "cell_type": "markdown",
   "metadata": {},
   "source": [
    "### Fit clean models"
   ]
  },
  {
   "cell_type": "code",
   "execution_count": 18,
   "metadata": {},
   "outputs": [
    {
     "data": {
      "text/plain": [
       "XGBClassifier(colsample_bytree=0.8105263157894737, gamma=0.42222222222222217,\n",
       "              max_depth=4, n_estimators=270,\n",
       "              scale_pos_weight=0.9043478260869565, subsample=0.7)"
      ]
     },
     "execution_count": 18,
     "metadata": {},
     "output_type": "execute_result"
    }
   ],
   "source": [
    "raw_CR_model = XGBClassifier(**raw_CR_params)\n",
    "raw_CR_model.fit(raw_CR, y)\n",
    "\n",
    "RA_CR_model = XGBClassifier(**RA_CR_params)\n",
    "RA_CR_model.fit(RA_CR, y)"
   ]
  },
  {
   "cell_type": "markdown",
   "metadata": {},
   "source": [
    "## Interpreting model using SHAP values"
   ]
  },
  {
   "cell_type": "markdown",
   "metadata": {},
   "source": [
    "### Plot of SHAP values per Feature"
   ]
  },
  {
   "cell_type": "code",
   "execution_count": 19,
   "metadata": {},
   "outputs": [],
   "source": [
    "import matplotlib.pyplot as plt\n",
    "explainer_CR = shap.TreeExplainer(raw_CR_model, feature_pertubation='interventional', model_output='probability', data=raw_CR)\n",
    "shap_CR = explainer_CR.shap_values(raw_CR)\n",
    "\n",
    "explainer_raw = shap.TreeExplainer(raw_model, feature_pertubation='interventional', model_output='probability', data=X)\n",
    "shap_raw = explainer_raw.shap_values(X)"
   ]
  },
  {
   "cell_type": "markdown",
   "metadata": {},
   "source": [
    "#### Dirty raw"
   ]
  },
  {
   "cell_type": "code",
   "execution_count": 20,
   "metadata": {},
   "outputs": [
    {
     "data": {
      "image/png": "[encoded data removed]",
      "text/plain": [
       "<Figure size 288x360 with 2 Axes>"
      ]
     },
     "metadata": {
      "needs_background": "light"
     },
     "output_type": "display_data"
    }
   ],
   "source": [
    "shap.summary_plot(shap_raw, X, show=False, plot_size=(4, 5), color_bar_label='Read Count', max_display=23)\n",
    "fig, ax = plt.gcf(), plt.gca()\n",
    "ax.set_xlabel('SHAP Value')\n",
    "plt.savefig(results / 'raw_shap.png', dpi=600, format='png', bbox_inches='tight')"
   ]
  },
  {
   "cell_type": "code",
   "execution_count": 21,
   "metadata": {
    "scrolled": true
   },
   "outputs": [
    {
     "data": {
      "image/png": "[encoded data removed]",
      "text/plain": [
       "<Figure size 288x360 with 2 Axes>"
      ]
     },
     "metadata": {
      "needs_background": "light"
     },
     "output_type": "display_data"
    }
   ],
   "source": [
    "shap.summary_plot(shap_CR, raw_CR, show=False, plot_size=(4, 5), color_bar_label='Read Count', max_display=35)\n",
    "fig, ax = plt.gcf(), plt.gca()\n",
    "ax.set_xlabel('SHAP Value')\n",
    "plt.savefig(results / 'raw_CR_shap.png', dpi=600, format='png', bbox_inches='tight')"
   ]
  },
  {
   "cell_type": "markdown",
   "metadata": {},
   "source": [
    "### Force plot for healthy patient"
   ]
  },
  {
   "cell_type": "code",
   "execution_count": 22,
   "metadata": {
    "scrolled": true
   },
   "outputs": [
    {
     "name": "stdout",
     "output_type": "stream",
     "text": [
      "Actual Classification 0\n",
      "204\n"
     ]
    },
    {
     "data": {
      "image/png": "[encoded data removed]",
      "text/plain": [
       "<Figure size 1440x216 with 1 Axes>"
      ]
     },
     "metadata": {
      "needs_background": "light"
     },
     "output_type": "display_data"
    }
   ],
   "source": [
    "j = 201\n",
    "\n",
    "print(f'Actual Classification {y[j]}')\n",
    "print(raw_CR.index[j])\n",
    "\n",
    "shap.force_plot(explainer_CR.expected_value, \n",
    "                shap_CR[j,:], \n",
    "                raw_CR.iloc[j,:],\n",
    "                show=False,\n",
    "                matplotlib=True)\n",
    "\n",
    "plt.savefig(results / 'CR_force_plot.png', dpi=600, format='png', bbox_inches='tight')"
   ]
  },
  {
   "cell_type": "code",
   "execution_count": 23,
   "metadata": {},
   "outputs": [],
   "source": [
    "import math\n",
    "from scipy.stats import wilcoxon\n",
    "import shap\n",
    "\n",
    "\n",
    "def decontam_simple(X, y):\n",
    "    to_retain = np.array([True] * X.shape[1])\n",
    "    p_vals = []\n",
    "    problems = []\n",
    "    for i in range(X.shape[1]):\n",
    "        try:\n",
    "            genus = X.iloc[:, i].copy()\n",
    "            pos = genus.loc[y == 1]\n",
    "            neg = genus.loc[y == 0]\n",
    "            \n",
    "            if not (sum(pos != 0) >= 5 and sum(neg != 0) >= 5):\n",
    "                raise ValueError\n",
    "            \n",
    "            # Downsample negative class\n",
    "            if len(neg) > len(pos):\n",
    "                neg = neg.sample(len(pos))\n",
    "            elif len(neg) < len(pos):\n",
    "                pos = pos.sample(len(neg))\n",
    "            \n",
    "            # Wilcoxon test\n",
    "            _, p_val = wilcoxon(pos, neg, alternative='less')\n",
    "            p_vals.append(p_val)\n",
    "#             print(genus, p_val)\n",
    "\n",
    "            if p_val < 0.05:\n",
    "                to_retain[i] = False\n",
    "        \n",
    "        except ValueError:\n",
    "            problems.append(X.columns[i])\n",
    "            to_retain[i] = False\n",
    "            \n",
    "\n",
    "    return to_retain, p_vals, problems"
   ]
  },
  {
   "cell_type": "code",
   "execution_count": 24,
   "metadata": {
    "scrolled": true
   },
   "outputs": [
    {
     "name": "stdout",
     "output_type": "stream",
     "text": [
      "After simple decontamination: 191\n",
      "After removing non-human pathogens: 78\n",
      "No. of problems: 64\n",
      "Final list of genera: ['Mycoplasma', 'Stenotrophomonas', 'Tsukamurella', 'Bacillus', 'Haematobacter', 'Actinomyces', 'Helicobacter', 'Dermabacter', 'Leptotrichia', 'Psychrobacter', 'Legionella', 'Sphingomonas', 'Cellulomonas', 'Aureimonas', 'Pseudoclavibacter', 'Aerococcus', 'Parabacteroides', 'Abiotrophia', 'Fusobacterium', 'Janibacter', 'Blautia', 'Cronobacter', 'Aeromonas', 'Propionibacterium', 'Collinsella', 'Azospirillum', 'Sutterella', 'Kocuria', 'Nocardiopsis', 'Rhodococcus', 'Alistipes', 'Streptococcus', 'Cupriavidus', 'Rothia', 'Chromobacterium', 'Yersinia', 'Pantoea', 'Vibrio', 'Nocardia', 'Bacteroides', 'Bifidobacterium', 'Arthrobacter', 'Moraxella', 'Pandoraea', 'Lactococcus', 'Actinomadura', 'Leifsonia', 'Proteus', 'Campylobacter', 'Brevibacterium', 'Aggregatibacter', 'Micrococcus', 'Microbacterium', 'Paenibacillus', 'Prevotella', 'Enterococcus', 'Ochrobactrum', 'Weissella', 'Erwinia', 'Veillonella', 'Desulfovibrio', 'Shewanella', 'Atopobium', 'Curtobacterium', 'Oerskovia', 'Chitinophaga', 'Enterobacter', 'Cellulosimicrobium', 'Amycolatopsis', 'Citrobacter', 'Brevundimonas', 'Klebsiella', 'Carnobacterium', 'Selenomonas', 'Lysinibacillus', 'Salmonella', 'Streptomyces', 'Gemella']\n"
     ]
    }
   ],
   "source": [
    "simple_retain, simple_p, problems = decontam_simple(X_RA, y)\n",
    "print(f'After simple decontamination: {sum(simple_retain)}') # No. of genera retained after simple decontamination\n",
    "\n",
    "# Remove non-human associated pathogens\n",
    "retain_names = list(set(X.columns[simple_retain]).intersection(set(meta)))\n",
    "print(f'After removing non-human pathogens: {len(retain_names)}') # No. of genera retained after simple decontamination\n",
    "\n",
    "simple_X = X.loc[:, retain_names]\n",
    "\n",
    "# No. of genera with less than 5 septic and 5 healthy non-zero samples\n",
    "print(f'No. of problems: {len(problems)}')\n",
    "print(f'Final list of genera: {retain_names}')\n",
    "pd.Series(retain_names).to_csv(datasets / 'simple_decontam_pathogens_external_validation.csv', index=False, header=False)"
   ]
  },
  {
   "cell_type": "code",
   "execution_count": 25,
   "metadata": {},
   "outputs": [
    {
     "name": "stdout",
     "output_type": "stream",
     "text": [
      "{'subsample': 0.9, 'scale_pos_weight': 0.9043478260869565, 'n_estimators': 260, 'max_depth': 4, 'gamma': 1.0666666666666667, 'colsample_bytree': 0.38421052631578945}\n"
     ]
    }
   ],
   "source": [
    "simple_results, simple_params = optimise_evaluate(simple_X, y)\n",
    "metric_df = metric_df.append(pd.DataFrame({'Raw simple': simple_results}).round(3).T)"
   ]
  },
  {
   "cell_type": "code",
   "execution_count": 26,
   "metadata": {},
   "outputs": [
    {
     "data": {
      "image/png": "[encoded data removed]",
      "text/plain": [
       "<Figure size 288x360 with 2 Axes>"
      ]
     },
     "metadata": {
      "needs_background": "light"
     },
     "output_type": "display_data"
    }
   ],
   "source": [
    "simple_model = XGBClassifier(**simple_params)\n",
    "simple_model.fit(X=simple_X, y=y)\n",
    "\n",
    "simple_explainer = shap.TreeExplainer(simple_model, feature_pertubation='interventional', \n",
    "                                      model_output='probability', \n",
    "                                      data=simple_X)\n",
    "\n",
    "shap_simple = simple_explainer.shap_values(simple_X)\n",
    "\n",
    "shap.summary_plot(shap_simple, simple_X, show=False, plot_size=(4, 5), color_bar_label='Read Count', max_display=25)\n",
    "fig, ax = plt.gcf(), plt.gca()\n",
    "ax.set_xlabel('SHAP Value')\n",
    "plt.savefig(results / 'simple_decontam_shap.png', dpi=600, format='png', bbox_inches='tight')"
   ]
  },
  {
   "cell_type": "code",
   "execution_count": 27,
   "metadata": {},
   "outputs": [
    {
     "name": "stdout",
     "output_type": "stream",
     "text": [
      "No. of genera in common: 10\n",
      "No. of genera in CR: 10\n",
      "No. of genera in simple decontam: 78\n"
     ]
    }
   ],
   "source": [
    "# Intersecting genera between \n",
    "common = len(list(set(genera_new).intersection(set(retain_names))))\n",
    "print(f'No. of genera in common: {common}\\nNo. of genera in CR: {len(genera_new)}\\nNo. of genera in simple decontam: {len(retain_names)}')"
   ]
  },
  {
   "cell_type": "markdown",
   "metadata": {},
   "source": [
    "### Final Results"
   ]
  },
  {
   "cell_type": "code",
   "execution_count": 28,
   "metadata": {},
   "outputs": [
    {
     "data": {
      "text/html": [
       "<div>\n",
       "<style scoped>\n",
       "    .dataframe tbody tr th:only-of-type {\n",
       "        vertical-align: middle;\n",
       "    }\n",
       "\n",
       "    .dataframe tbody tr th {\n",
       "        vertical-align: top;\n",
       "    }\n",
       "\n",
       "    .dataframe thead th {\n",
       "        text-align: right;\n",
       "    }\n",
       "</style>\n",
       "<table border=\"1\" class=\"dataframe\">\n",
       "  <thead>\n",
       "    <tr style=\"text-align: right;\">\n",
       "      <th></th>\n",
       "      <th>test_precision</th>\n",
       "      <th>test_recall</th>\n",
       "      <th>test_F1</th>\n",
       "      <th>test_AUROC</th>\n",
       "    </tr>\n",
       "  </thead>\n",
       "  <tbody>\n",
       "    <tr>\n",
       "      <th>Raw</th>\n",
       "      <td>0.959</td>\n",
       "      <td>0.883</td>\n",
       "      <td>0.918</td>\n",
       "      <td>0.969</td>\n",
       "    </tr>\n",
       "    <tr>\n",
       "      <th>RA</th>\n",
       "      <td>0.939</td>\n",
       "      <td>0.896</td>\n",
       "      <td>0.915</td>\n",
       "      <td>0.964</td>\n",
       "    </tr>\n",
       "    <tr>\n",
       "      <th>Raw CR</th>\n",
       "      <td>0.823</td>\n",
       "      <td>0.704</td>\n",
       "      <td>0.757</td>\n",
       "      <td>0.839</td>\n",
       "    </tr>\n",
       "    <tr>\n",
       "      <th>RA CR</th>\n",
       "      <td>0.799</td>\n",
       "      <td>0.743</td>\n",
       "      <td>0.768</td>\n",
       "      <td>0.849</td>\n",
       "    </tr>\n",
       "    <tr>\n",
       "      <th>Raw simple</th>\n",
       "      <td>0.908</td>\n",
       "      <td>0.835</td>\n",
       "      <td>0.867</td>\n",
       "      <td>0.950</td>\n",
       "    </tr>\n",
       "  </tbody>\n",
       "</table>\n",
       "</div>"
      ],
      "text/plain": [
       "            test_precision  test_recall  test_F1  test_AUROC\n",
       "Raw                  0.959        0.883    0.918       0.969\n",
       "RA                   0.939        0.896    0.915       0.964\n",
       "Raw CR               0.823        0.704    0.757       0.839\n",
       "RA CR                0.799        0.743    0.768       0.849\n",
       "Raw simple           0.908        0.835    0.867       0.950"
      ]
     },
     "metadata": {},
     "output_type": "display_data"
    }
   ],
   "source": [
    "display(metric_df)\n",
    "\n",
    "metric_df.to_csv(results / 'external_validation_model_results.csv', index=True, header=True)"
   ]
  }
 ],
 "metadata": {
  "kernelspec": {
   "display_name": "xgboost",
   "language": "python",
   "name": "xgboost"
  },
  "language_info": {
   "codemirror_mode": {
    "name": "ipython",
    "version": 3
   },
   "file_extension": ".py",
   "mimetype": "text/x-python",
   "name": "python",
   "nbconvert_exporter": "python",
   "pygments_lexer": "ipython3",
   "version": "3.7.3"
  }
 },
 "nbformat": 4,
 "nbformat_minor": 4
}
