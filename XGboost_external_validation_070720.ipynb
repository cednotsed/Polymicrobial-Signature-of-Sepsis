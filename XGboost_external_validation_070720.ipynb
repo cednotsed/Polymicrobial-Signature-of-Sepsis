{
 "cells": [
  {
   "cell_type": "markdown",
   "metadata": {},
   "source": [
    "# Metagenomic-based Diagnostic for Sepsis (Karius Dataset)"
   ]
  },
  {
   "cell_type": "code",
   "execution_count": 1,
   "metadata": {},
   "outputs": [
    {
     "data": {
      "text/plain": [
       "'0.90'"
      ]
     },
     "execution_count": 1,
     "metadata": {},
     "output_type": "execute_result"
    }
   ],
   "source": [
    "import xgboost\n",
    "xgboost.__version__"
   ]
  },
  {
   "cell_type": "code",
   "execution_count": 2,
   "metadata": {},
   "outputs": [],
   "source": [
    "# Import Statements\n",
    "import pandas as pd\n",
    "import numpy as np\n",
    "import matplotlib.pyplot as plt\n",
    "from pathlib import Path\n",
    "\n",
    "cwd = Path.cwd()\n",
    "datasets = cwd / 'datasets'\n",
    "results = cwd / 'results/external_validation'"
   ]
  },
  {
   "cell_type": "markdown",
   "metadata": {},
   "source": [
    "## Data Preprocessing\n",
    "Since we are using stratified kfold, a validation split is not necesssary."
   ]
  },
  {
   "cell_type": "markdown",
   "metadata": {},
   "source": [
    "### Load data"
   ]
  },
  {
   "cell_type": "code",
   "execution_count": 3,
   "metadata": {
    "scrolled": true
   },
   "outputs": [
    {
     "data": {
      "text/html": [
       "<div>\n",
       "<style scoped>\n",
       "    .dataframe tbody tr th:only-of-type {\n",
       "        vertical-align: middle;\n",
       "    }\n",
       "\n",
       "    .dataframe tbody tr th {\n",
       "        vertical-align: top;\n",
       "    }\n",
       "\n",
       "    .dataframe thead th {\n",
       "        text-align: right;\n",
       "    }\n",
       "</style>\n",
       "<table border=\"1\" class=\"dataframe\">\n",
       "  <thead>\n",
       "    <tr style=\"text-align: right;\">\n",
       "      <th></th>\n",
       "      <th>y</th>\n",
       "      <th>Bifidobacterium</th>\n",
       "      <th>Gardnerella</th>\n",
       "      <th>Arthrobacter</th>\n",
       "      <th>Kocuria</th>\n",
       "      <th>Cellulomonas</th>\n",
       "      <th>Brevibacterium</th>\n",
       "      <th>Agrococcus</th>\n",
       "      <th>Agromyces</th>\n",
       "      <th>Microbacterium</th>\n",
       "      <th>...</th>\n",
       "      <th>Thermoanaerobacter</th>\n",
       "      <th>Thioclava</th>\n",
       "      <th>Methylotenera</th>\n",
       "      <th>Collimonas</th>\n",
       "      <th>Azospira</th>\n",
       "      <th>Eggerthella</th>\n",
       "      <th>Thalassobaculum</th>\n",
       "      <th>Rubrivivax</th>\n",
       "      <th>Nitrospira</th>\n",
       "      <th>Bilophila</th>\n",
       "    </tr>\n",
       "  </thead>\n",
       "  <tbody>\n",
       "    <tr>\n",
       "      <th>0</th>\n",
       "      <td>healthy</td>\n",
       "      <td>654.0</td>\n",
       "      <td>1.0</td>\n",
       "      <td>0.0</td>\n",
       "      <td>0.0</td>\n",
       "      <td>92.0</td>\n",
       "      <td>19.0</td>\n",
       "      <td>0.0</td>\n",
       "      <td>0.0</td>\n",
       "      <td>0.0</td>\n",
       "      <td>...</td>\n",
       "      <td>0.0</td>\n",
       "      <td>0.0</td>\n",
       "      <td>0.0</td>\n",
       "      <td>0.0</td>\n",
       "      <td>0.0</td>\n",
       "      <td>0.0</td>\n",
       "      <td>0.0</td>\n",
       "      <td>0.0</td>\n",
       "      <td>0.0</td>\n",
       "      <td>0.0</td>\n",
       "    </tr>\n",
       "    <tr>\n",
       "      <th>1</th>\n",
       "      <td>septic</td>\n",
       "      <td>5.0</td>\n",
       "      <td>0.0</td>\n",
       "      <td>1.0</td>\n",
       "      <td>0.0</td>\n",
       "      <td>0.0</td>\n",
       "      <td>5.0</td>\n",
       "      <td>0.0</td>\n",
       "      <td>4.0</td>\n",
       "      <td>0.0</td>\n",
       "      <td>...</td>\n",
       "      <td>0.0</td>\n",
       "      <td>0.0</td>\n",
       "      <td>0.0</td>\n",
       "      <td>0.0</td>\n",
       "      <td>0.0</td>\n",
       "      <td>0.0</td>\n",
       "      <td>0.0</td>\n",
       "      <td>0.0</td>\n",
       "      <td>0.0</td>\n",
       "      <td>0.0</td>\n",
       "    </tr>\n",
       "    <tr>\n",
       "      <th>2</th>\n",
       "      <td>healthy</td>\n",
       "      <td>451.0</td>\n",
       "      <td>0.0</td>\n",
       "      <td>0.0</td>\n",
       "      <td>0.0</td>\n",
       "      <td>0.0</td>\n",
       "      <td>6.0</td>\n",
       "      <td>0.0</td>\n",
       "      <td>0.0</td>\n",
       "      <td>0.0</td>\n",
       "      <td>...</td>\n",
       "      <td>0.0</td>\n",
       "      <td>0.0</td>\n",
       "      <td>0.0</td>\n",
       "      <td>0.0</td>\n",
       "      <td>0.0</td>\n",
       "      <td>0.0</td>\n",
       "      <td>0.0</td>\n",
       "      <td>0.0</td>\n",
       "      <td>0.0</td>\n",
       "      <td>0.0</td>\n",
       "    </tr>\n",
       "    <tr>\n",
       "      <th>3</th>\n",
       "      <td>healthy</td>\n",
       "      <td>763.0</td>\n",
       "      <td>4.0</td>\n",
       "      <td>1.0</td>\n",
       "      <td>0.0</td>\n",
       "      <td>2.0</td>\n",
       "      <td>29.0</td>\n",
       "      <td>0.0</td>\n",
       "      <td>0.0</td>\n",
       "      <td>34.0</td>\n",
       "      <td>...</td>\n",
       "      <td>22.0</td>\n",
       "      <td>0.0</td>\n",
       "      <td>0.0</td>\n",
       "      <td>0.0</td>\n",
       "      <td>5.0</td>\n",
       "      <td>0.0</td>\n",
       "      <td>0.0</td>\n",
       "      <td>0.0</td>\n",
       "      <td>0.0</td>\n",
       "      <td>0.0</td>\n",
       "    </tr>\n",
       "    <tr>\n",
       "      <th>4</th>\n",
       "      <td>healthy</td>\n",
       "      <td>443.0</td>\n",
       "      <td>1.0</td>\n",
       "      <td>0.0</td>\n",
       "      <td>0.0</td>\n",
       "      <td>0.0</td>\n",
       "      <td>24.0</td>\n",
       "      <td>0.0</td>\n",
       "      <td>0.0</td>\n",
       "      <td>0.0</td>\n",
       "      <td>...</td>\n",
       "      <td>0.0</td>\n",
       "      <td>0.0</td>\n",
       "      <td>0.0</td>\n",
       "      <td>0.0</td>\n",
       "      <td>0.0</td>\n",
       "      <td>0.0</td>\n",
       "      <td>0.0</td>\n",
       "      <td>0.0</td>\n",
       "      <td>0.0</td>\n",
       "      <td>0.0</td>\n",
       "    </tr>\n",
       "    <tr>\n",
       "      <th>...</th>\n",
       "      <td>...</td>\n",
       "      <td>...</td>\n",
       "      <td>...</td>\n",
       "      <td>...</td>\n",
       "      <td>...</td>\n",
       "      <td>...</td>\n",
       "      <td>...</td>\n",
       "      <td>...</td>\n",
       "      <td>...</td>\n",
       "      <td>...</td>\n",
       "      <td>...</td>\n",
       "      <td>...</td>\n",
       "      <td>...</td>\n",
       "      <td>...</td>\n",
       "      <td>...</td>\n",
       "      <td>...</td>\n",
       "      <td>...</td>\n",
       "      <td>...</td>\n",
       "      <td>...</td>\n",
       "      <td>...</td>\n",
       "      <td>...</td>\n",
       "    </tr>\n",
       "    <tr>\n",
       "      <th>436</th>\n",
       "      <td>septic</td>\n",
       "      <td>1.0</td>\n",
       "      <td>0.0</td>\n",
       "      <td>3.0</td>\n",
       "      <td>1.0</td>\n",
       "      <td>23.0</td>\n",
       "      <td>1.0</td>\n",
       "      <td>0.0</td>\n",
       "      <td>0.0</td>\n",
       "      <td>2.0</td>\n",
       "      <td>...</td>\n",
       "      <td>0.0</td>\n",
       "      <td>0.0</td>\n",
       "      <td>0.0</td>\n",
       "      <td>0.0</td>\n",
       "      <td>0.0</td>\n",
       "      <td>14.0</td>\n",
       "      <td>0.0</td>\n",
       "      <td>0.0</td>\n",
       "      <td>0.0</td>\n",
       "      <td>62.0</td>\n",
       "    </tr>\n",
       "    <tr>\n",
       "      <th>437</th>\n",
       "      <td>septic</td>\n",
       "      <td>1.0</td>\n",
       "      <td>0.0</td>\n",
       "      <td>0.0</td>\n",
       "      <td>0.0</td>\n",
       "      <td>3.0</td>\n",
       "      <td>0.0</td>\n",
       "      <td>0.0</td>\n",
       "      <td>0.0</td>\n",
       "      <td>0.0</td>\n",
       "      <td>...</td>\n",
       "      <td>0.0</td>\n",
       "      <td>0.0</td>\n",
       "      <td>0.0</td>\n",
       "      <td>0.0</td>\n",
       "      <td>0.0</td>\n",
       "      <td>0.0</td>\n",
       "      <td>0.0</td>\n",
       "      <td>0.0</td>\n",
       "      <td>0.0</td>\n",
       "      <td>0.0</td>\n",
       "    </tr>\n",
       "    <tr>\n",
       "      <th>438</th>\n",
       "      <td>septic</td>\n",
       "      <td>0.0</td>\n",
       "      <td>0.0</td>\n",
       "      <td>0.0</td>\n",
       "      <td>4.0</td>\n",
       "      <td>11.0</td>\n",
       "      <td>1.0</td>\n",
       "      <td>0.0</td>\n",
       "      <td>0.0</td>\n",
       "      <td>8.0</td>\n",
       "      <td>...</td>\n",
       "      <td>0.0</td>\n",
       "      <td>0.0</td>\n",
       "      <td>0.0</td>\n",
       "      <td>0.0</td>\n",
       "      <td>0.0</td>\n",
       "      <td>0.0</td>\n",
       "      <td>0.0</td>\n",
       "      <td>1.0</td>\n",
       "      <td>0.0</td>\n",
       "      <td>0.0</td>\n",
       "    </tr>\n",
       "    <tr>\n",
       "      <th>439</th>\n",
       "      <td>septic</td>\n",
       "      <td>0.0</td>\n",
       "      <td>0.0</td>\n",
       "      <td>0.0</td>\n",
       "      <td>0.0</td>\n",
       "      <td>0.0</td>\n",
       "      <td>0.0</td>\n",
       "      <td>0.0</td>\n",
       "      <td>0.0</td>\n",
       "      <td>2.0</td>\n",
       "      <td>...</td>\n",
       "      <td>0.0</td>\n",
       "      <td>0.0</td>\n",
       "      <td>0.0</td>\n",
       "      <td>0.0</td>\n",
       "      <td>0.0</td>\n",
       "      <td>0.0</td>\n",
       "      <td>0.0</td>\n",
       "      <td>0.0</td>\n",
       "      <td>0.0</td>\n",
       "      <td>0.0</td>\n",
       "    </tr>\n",
       "    <tr>\n",
       "      <th>440</th>\n",
       "      <td>septic</td>\n",
       "      <td>0.0</td>\n",
       "      <td>0.0</td>\n",
       "      <td>0.0</td>\n",
       "      <td>0.0</td>\n",
       "      <td>0.0</td>\n",
       "      <td>0.0</td>\n",
       "      <td>0.0</td>\n",
       "      <td>0.0</td>\n",
       "      <td>0.0</td>\n",
       "      <td>...</td>\n",
       "      <td>0.0</td>\n",
       "      <td>0.0</td>\n",
       "      <td>0.0</td>\n",
       "      <td>0.0</td>\n",
       "      <td>0.0</td>\n",
       "      <td>0.0</td>\n",
       "      <td>0.0</td>\n",
       "      <td>0.0</td>\n",
       "      <td>0.0</td>\n",
       "      <td>0.0</td>\n",
       "    </tr>\n",
       "  </tbody>\n",
       "</table>\n",
       "<p>438 rows × 248 columns</p>\n",
       "</div>"
      ],
      "text/plain": [
       "           y  Bifidobacterium  Gardnerella  Arthrobacter  Kocuria  \\\n",
       "0    healthy            654.0          1.0           0.0      0.0   \n",
       "1     septic              5.0          0.0           1.0      0.0   \n",
       "2    healthy            451.0          0.0           0.0      0.0   \n",
       "3    healthy            763.0          4.0           1.0      0.0   \n",
       "4    healthy            443.0          1.0           0.0      0.0   \n",
       "..       ...              ...          ...           ...      ...   \n",
       "436   septic              1.0          0.0           3.0      1.0   \n",
       "437   septic              1.0          0.0           0.0      0.0   \n",
       "438   septic              0.0          0.0           0.0      4.0   \n",
       "439   septic              0.0          0.0           0.0      0.0   \n",
       "440   septic              0.0          0.0           0.0      0.0   \n",
       "\n",
       "     Cellulomonas  Brevibacterium  Agrococcus  Agromyces  Microbacterium  ...  \\\n",
       "0            92.0            19.0         0.0        0.0             0.0  ...   \n",
       "1             0.0             5.0         0.0        4.0             0.0  ...   \n",
       "2             0.0             6.0         0.0        0.0             0.0  ...   \n",
       "3             2.0            29.0         0.0        0.0            34.0  ...   \n",
       "4             0.0            24.0         0.0        0.0             0.0  ...   \n",
       "..            ...             ...         ...        ...             ...  ...   \n",
       "436          23.0             1.0         0.0        0.0             2.0  ...   \n",
       "437           3.0             0.0         0.0        0.0             0.0  ...   \n",
       "438          11.0             1.0         0.0        0.0             8.0  ...   \n",
       "439           0.0             0.0         0.0        0.0             2.0  ...   \n",
       "440           0.0             0.0         0.0        0.0             0.0  ...   \n",
       "\n",
       "     Thermoanaerobacter  Thioclava  Methylotenera  Collimonas  Azospira  \\\n",
       "0                   0.0        0.0            0.0         0.0       0.0   \n",
       "1                   0.0        0.0            0.0         0.0       0.0   \n",
       "2                   0.0        0.0            0.0         0.0       0.0   \n",
       "3                  22.0        0.0            0.0         0.0       5.0   \n",
       "4                   0.0        0.0            0.0         0.0       0.0   \n",
       "..                  ...        ...            ...         ...       ...   \n",
       "436                 0.0        0.0            0.0         0.0       0.0   \n",
       "437                 0.0        0.0            0.0         0.0       0.0   \n",
       "438                 0.0        0.0            0.0         0.0       0.0   \n",
       "439                 0.0        0.0            0.0         0.0       0.0   \n",
       "440                 0.0        0.0            0.0         0.0       0.0   \n",
       "\n",
       "     Eggerthella  Thalassobaculum  Rubrivivax  Nitrospira  Bilophila  \n",
       "0            0.0              0.0         0.0         0.0        0.0  \n",
       "1            0.0              0.0         0.0         0.0        0.0  \n",
       "2            0.0              0.0         0.0         0.0        0.0  \n",
       "3            0.0              0.0         0.0         0.0        0.0  \n",
       "4            0.0              0.0         0.0         0.0        0.0  \n",
       "..           ...              ...         ...         ...        ...  \n",
       "436         14.0              0.0         0.0         0.0       62.0  \n",
       "437          0.0              0.0         0.0         0.0        0.0  \n",
       "438          0.0              0.0         1.0         0.0        0.0  \n",
       "439          0.0              0.0         0.0         0.0        0.0  \n",
       "440          0.0              0.0         0.0         0.0        0.0  \n",
       "\n",
       "[438 rows x 248 columns]"
      ]
     },
     "metadata": {},
     "output_type": "display_data"
    }
   ],
   "source": [
    "raw_df = pd.read_csv(datasets / 'kapusta_grumaz_karius_genus_raw.csv')\n",
    "\n",
    "# Remove NTCs\n",
    "raw_df = raw_df.loc[raw_df.y != 'ntc', :]\n",
    "display(raw_df)\n",
    "\n",
    "X = raw_df.drop('y', axis=1).copy()\n",
    "y = raw_df.y.copy()"
   ]
  },
  {
   "cell_type": "code",
   "execution_count": 4,
   "metadata": {},
   "outputs": [],
   "source": [
    "# Binary encode y\n",
    "y.loc[y == 'septic'] = 1\n",
    "y.loc[y == 'healthy'] = 0\n",
    "y = y.astype('int')\n",
    "\n",
    "# Relative abundance\n",
    "X_RA = X.apply(func=lambda x: x / x.sum(), axis=1)"
   ]
  },
  {
   "cell_type": "code",
   "execution_count": 5,
   "metadata": {},
   "outputs": [
    {
     "data": {
      "text/html": [
       "<div>\n",
       "<style scoped>\n",
       "    .dataframe tbody tr th:only-of-type {\n",
       "        vertical-align: middle;\n",
       "    }\n",
       "\n",
       "    .dataframe tbody tr th {\n",
       "        vertical-align: top;\n",
       "    }\n",
       "\n",
       "    .dataframe thead th {\n",
       "        text-align: right;\n",
       "    }\n",
       "</style>\n",
       "<table border=\"1\" class=\"dataframe\">\n",
       "  <thead>\n",
       "    <tr style=\"text-align: right;\">\n",
       "      <th></th>\n",
       "      <th>Septic</th>\n",
       "      <th>Healthy</th>\n",
       "    </tr>\n",
       "  </thead>\n",
       "  <tbody>\n",
       "    <tr>\n",
       "      <th>Train fold</th>\n",
       "      <td>207</td>\n",
       "      <td>188</td>\n",
       "    </tr>\n",
       "    <tr>\n",
       "      <th>Test fold</th>\n",
       "      <td>23</td>\n",
       "      <td>20</td>\n",
       "    </tr>\n",
       "  </tbody>\n",
       "</table>\n",
       "</div>"
      ],
      "text/plain": [
       "            Septic  Healthy\n",
       "Train fold     207      188\n",
       "Test fold       23       20"
      ]
     },
     "metadata": {},
     "output_type": "display_data"
    }
   ],
   "source": [
    "n_splits = 10\n",
    "\n",
    "pos = len(y[y == 1])\n",
    "neg = len(y[y == 0])\n",
    "split_sizes = pd.DataFrame({'Septic': [pos - int(pos / n_splits), int(pos / n_splits)], \n",
    "                           'Healthy': [neg - int(neg / n_splits), int(neg / n_splits)]}, index=['Train fold', 'Test fold'])\n",
    "\n",
    "display(split_sizes)\n",
    "\n",
    "# Get negative to positive ratio\n",
    "ratio = sum(y == 0) / sum(y == 1)"
   ]
  },
  {
   "cell_type": "markdown",
   "metadata": {},
   "source": [
    "## Nested CV for hyperparameter optimisation"
   ]
  },
  {
   "cell_type": "code",
   "execution_count": 6,
   "metadata": {},
   "outputs": [],
   "source": [
    "from xgboost import XGBClassifier\n",
    "from sklearn.model_selection import RandomizedSearchCV, StratifiedKFold, cross_validate\n",
    "from sklearn.metrics import make_scorer, precision_score, recall_score, f1_score, average_precision_score"
   ]
  },
  {
   "cell_type": "code",
   "execution_count": 7,
   "metadata": {},
   "outputs": [],
   "source": [
    "def optimise_evaluate(X, y):\n",
    "    np.random.seed(66)\n",
    "    ratio = sum(y == 0) / sum(y == 1)\n",
    "    \n",
    "    # Hyperparemeter Optimisation using grid search (F1)\n",
    "    model = XGBClassifier()\n",
    "    n_estimators = range(100, 300, 10)\n",
    "    max_depth = range(1, 5, 1)\n",
    "    gamma = np.linspace(0.1, 3, 10)\n",
    "    subsample = [0.6, 0.7, 0.8, 0.9, 1.0]\n",
    "    colsample_bytree = np.linspace(0.1, 1, 20)\n",
    "    \n",
    "    param_grid = dict(max_depth=max_depth, \n",
    "                      n_estimators=n_estimators, \n",
    "                      colsample_bytree=colsample_bytree,\n",
    "                      gamma=gamma,\n",
    "                      subsample=subsample,\n",
    "                      scale_pos_weight=[ratio])\n",
    "    \n",
    "    inner_cv = StratifiedKFold(n_splits=n_splits, shuffle=True)\n",
    "    outer_cv = StratifiedKFold(n_splits=n_splits, shuffle=True)\n",
    "\n",
    "    # Inner CV\n",
    "    model = RandomizedSearchCV(model, \n",
    "                               param_grid, \n",
    "                               scoring='roc_auc',\n",
    "                               n_iter=1000,\n",
    "                               n_jobs=30, \n",
    "                               cv=inner_cv, \n",
    "                               verbose=0)\n",
    "\n",
    "    model.fit(X, y)\n",
    "    best_params = model.best_params_\n",
    "    print(best_params)\n",
    "\n",
    "    # Custom metrics\n",
    "    precision = make_scorer(precision_score, average='binary')\n",
    "    recall = make_scorer(recall_score, average='binary')\n",
    "    f1 = make_scorer(f1_score, average='binary')\n",
    "    auprc = make_scorer(average_precision_score, average=None)\n",
    "    \n",
    "    scoring = {'precision': precision, \n",
    "               'recall': recall, \n",
    "               'AUROC': 'roc_auc',\n",
    "               'F1': f1}\n",
    "\n",
    "    # Outer CV\n",
    "    outer_results = cross_validate(model, X=X, y=y, cv=outer_cv, scoring=scoring)\n",
    "    outer_results = pd.DataFrame(outer_results).mean()[['test_precision', 'test_recall', 'test_F1', 'test_AUROC']]\n",
    "\n",
    "    return outer_results, best_params\n"
   ]
  },
  {
   "cell_type": "markdown",
   "metadata": {},
   "source": [
    "### Optimise and evaluate models trained on dirty data"
   ]
  },
  {
   "cell_type": "code",
   "execution_count": 8,
   "metadata": {
    "scrolled": true
   },
   "outputs": [
    {
     "name": "stdout",
     "output_type": "stream",
     "text": [
      "{'subsample': 0.6, 'scale_pos_weight': 0.9043478260869565, 'n_estimators': 170, 'max_depth': 4, 'gamma': 0.1, 'colsample_bytree': 0.33684210526315794}\n",
      "{'subsample': 0.7, 'scale_pos_weight': 0.9043478260869565, 'n_estimators': 220, 'max_depth': 4, 'gamma': 0.1, 'colsample_bytree': 0.19473684210526315}\n"
     ]
    }
   ],
   "source": [
    "raw_results, raw_params = optimise_evaluate(X, y)\n",
    "# raw_params = {'subsample': 0.5263157894736842, 'scale_pos_weight': 1.4273504273504274, 'n_estimators': 96, 'max_depth': 2, 'gamma': 1.8421052631578947, 'colsample_bytree': 0.19473684210526315}\n",
    "RA_results, RA_params = optimise_evaluate(X_RA, y)\n",
    "# RA_params = {'subsample': 0.4789473684210527, 'scale_pos_weight': 1.4273504273504274, 'n_estimators': 255, 'max_depth': 1, 'gamma': 0.7894736842105263, 'colsample_bytree': 0.4}\n"
   ]
  },
  {
   "cell_type": "markdown",
   "metadata": {},
   "source": [
    "## Estimates of test error"
   ]
  },
  {
   "cell_type": "code",
   "execution_count": 9,
   "metadata": {
    "scrolled": true
   },
   "outputs": [
    {
     "data": {
      "text/html": [
       "<div>\n",
       "<style scoped>\n",
       "    .dataframe tbody tr th:only-of-type {\n",
       "        vertical-align: middle;\n",
       "    }\n",
       "\n",
       "    .dataframe tbody tr th {\n",
       "        vertical-align: top;\n",
       "    }\n",
       "\n",
       "    .dataframe thead th {\n",
       "        text-align: right;\n",
       "    }\n",
       "</style>\n",
       "<table border=\"1\" class=\"dataframe\">\n",
       "  <thead>\n",
       "    <tr style=\"text-align: right;\">\n",
       "      <th></th>\n",
       "      <th>test_precision</th>\n",
       "      <th>test_recall</th>\n",
       "      <th>test_F1</th>\n",
       "      <th>test_AUROC</th>\n",
       "    </tr>\n",
       "  </thead>\n",
       "  <tbody>\n",
       "    <tr>\n",
       "      <th>Raw</th>\n",
       "      <td>0.967</td>\n",
       "      <td>0.926</td>\n",
       "      <td>0.944</td>\n",
       "      <td>0.985</td>\n",
       "    </tr>\n",
       "    <tr>\n",
       "      <th>RA</th>\n",
       "      <td>0.948</td>\n",
       "      <td>0.922</td>\n",
       "      <td>0.934</td>\n",
       "      <td>0.979</td>\n",
       "    </tr>\n",
       "  </tbody>\n",
       "</table>\n",
       "</div>"
      ],
      "text/plain": [
       "     test_precision  test_recall  test_F1  test_AUROC\n",
       "Raw           0.967        0.926    0.944       0.985\n",
       "RA            0.948        0.922    0.934       0.979"
      ]
     },
     "metadata": {},
     "output_type": "display_data"
    }
   ],
   "source": [
    "metric_df = pd.DataFrame({'Raw': raw_results, 'RA': RA_results}).round(3).T\n",
    "display(metric_df)"
   ]
  },
  {
   "cell_type": "markdown",
   "metadata": {},
   "source": [
    "## Train dirty models"
   ]
  },
  {
   "cell_type": "code",
   "execution_count": 10,
   "metadata": {},
   "outputs": [
    {
     "data": {
      "text/plain": [
       "XGBClassifier(colsample_bytree=0.19473684210526315, gamma=0.1, max_depth=4,\n",
       "              n_estimators=220, scale_pos_weight=0.9043478260869565,\n",
       "              subsample=0.7)"
      ]
     },
     "execution_count": 10,
     "metadata": {},
     "output_type": "execute_result"
    }
   ],
   "source": [
    "raw_model = XGBClassifier(**raw_params)\n",
    "raw_model.fit(X, y)\n",
    "\n",
    "RA_model = XGBClassifier(**RA_params)\n",
    "RA_model.fit(X_RA, y)\n"
   ]
  },
  {
   "cell_type": "markdown",
   "metadata": {},
   "source": [
    "### Remove Contaminants based on SHAP values"
   ]
  },
  {
   "cell_type": "code",
   "execution_count": 11,
   "metadata": {},
   "outputs": [],
   "source": [
    "import math\n",
    "from scipy.stats import spearmanr\n",
    "import shap\n",
    "\n",
    "\n",
    "def decontam(X_train, y_train, params):\n",
    "    X_train = X_train.copy()\n",
    "    y_train = y_train.copy()\n",
    "    params = params.copy()\n",
    "#     X_train = X_train.apply(func=lambda x: x / x.sum(), axis=1)\n",
    "    \n",
    "    model = XGBClassifier(**params)\n",
    "    model.fit(X=X_train, y=y_train)\n",
    "\n",
    "    explainer = shap.TreeExplainer(model, feature_pertubation='interventional', model_output='probability', data=X_train)\n",
    "    shap_val = explainer.shap_values(X_train)\n",
    "\n",
    "    to_retain = np.array([True] * X_train.shape[1])\n",
    "    corrs = np.zeros(X_train.shape[1])\n",
    "    \n",
    "    for i in range(X_train.shape[1]):\n",
    "        if sum(X_train.iloc[y_train, i] != 0) >= X_train.shape[0] * 0.1:\n",
    "            rho = spearmanr(X_train.iloc[:, i], shap_val[:, i])[0]\n",
    "            p = spearmanr(X_train.iloc[:, i], shap_val[:, i])[1]\n",
    "            \n",
    "            if rho < 0 and p < 0.05:\n",
    "                to_retain[i] = False\n",
    "                \n",
    "            elif not shap_val[:, i].any(0):\n",
    "                to_retain[i] = False\n",
    "        else:\n",
    "            to_retain[i] = False\n",
    "\n",
    "    to_retain = X_train.columns[to_retain]\n",
    "    print(to_retain.shape, to_retain)\n",
    "    \n",
    "    return to_retain"
   ]
  },
  {
   "cell_type": "code",
   "execution_count": 13,
   "metadata": {},
   "outputs": [],
   "source": [
    "# Retrieve known human pathogens\n",
    "meta = pd.read_csv(datasets / 'pathogen_list.csv', encoding= 'unicode_escape')\n",
    "meta = meta['Genus'].unique()\n",
    "\n",
    "# Remove non-human pathogens\n",
    "genera_new = X.columns\n",
    "genera_new = list(set(genera_new).intersection(set(meta)))"
   ]
  },
  {
   "cell_type": "code",
   "execution_count": 14,
   "metadata": {
    "scrolled": true
   },
   "outputs": [
    {
     "name": "stderr",
     "output_type": "stream",
     "text": [
      "An input array is constant; the correlation coefficent is not defined.\n"
     ]
    },
    {
     "name": "stdout",
     "output_type": "stream",
     "text": [
      "(19,) Index(['Pseudonocardia', 'Pseudomonas', 'Desulfovibrio', 'Actinomyces',\n",
      "       'Bacillus', 'Aeromonas', 'Streptococcus', 'Comamonas', 'Helicobacter',\n",
      "       'Acinetobacter', 'Klebsiella', 'Cellulomonas', 'Burkholderia',\n",
      "       'Stenotrophomonas', 'Methylobacterium', 'Lactococcus', 'Brevibacterium',\n",
      "       'Dietzia', 'Enterococcus'],\n",
      "      dtype='object')\n",
      "(11,) Index(['Desulfovibrio', 'Bacillus', 'Aeromonas', 'Streptococcus', 'Comamonas',\n",
      "       'Helicobacter', 'Klebsiella', 'Cellulomonas', 'Burkholderia',\n",
      "       'Stenotrophomonas', 'Enterococcus'],\n",
      "      dtype='object')\n",
      "(10,) Index(['Desulfovibrio', 'Aeromonas', 'Streptococcus', 'Comamonas',\n",
      "       'Helicobacter', 'Klebsiella', 'Cellulomonas', 'Burkholderia',\n",
      "       'Stenotrophomonas', 'Enterococcus'],\n",
      "      dtype='object')\n",
      "(9,) Index(['Desulfovibrio', 'Aeromonas', 'Comamonas', 'Helicobacter', 'Klebsiella',\n",
      "       'Cellulomonas', 'Burkholderia', 'Stenotrophomonas', 'Enterococcus'],\n",
      "      dtype='object')\n",
      "(8,) Index(['Desulfovibrio', 'Aeromonas', 'Comamonas', 'Klebsiella', 'Cellulomonas',\n",
      "       'Burkholderia', 'Stenotrophomonas', 'Enterococcus'],\n",
      "      dtype='object')\n",
      "(8,) Index(['Desulfovibrio', 'Aeromonas', 'Comamonas', 'Klebsiella', 'Cellulomonas',\n",
      "       'Burkholderia', 'Stenotrophomonas', 'Enterococcus'],\n",
      "      dtype='object')\n",
      "(8,) Index(['Desulfovibrio', 'Aeromonas', 'Comamonas', 'Klebsiella', 'Cellulomonas',\n",
      "       'Burkholderia', 'Stenotrophomonas', 'Enterococcus'],\n",
      "      dtype='object')\n",
      "(8,) Index(['Desulfovibrio', 'Aeromonas', 'Comamonas', 'Klebsiella', 'Cellulomonas',\n",
      "       'Burkholderia', 'Stenotrophomonas', 'Enterococcus'],\n",
      "      dtype='object')\n",
      "(8,) Index(['Desulfovibrio', 'Aeromonas', 'Comamonas', 'Klebsiella', 'Cellulomonas',\n",
      "       'Burkholderia', 'Stenotrophomonas', 'Enterococcus'],\n",
      "      dtype='object')\n",
      "(8,) Index(['Desulfovibrio', 'Aeromonas', 'Comamonas', 'Klebsiella', 'Cellulomonas',\n",
      "       'Burkholderia', 'Stenotrophomonas', 'Enterococcus'],\n",
      "      dtype='object')\n",
      "(8,) Index(['Desulfovibrio', 'Aeromonas', 'Comamonas', 'Klebsiella', 'Cellulomonas',\n",
      "       'Burkholderia', 'Stenotrophomonas', 'Enterococcus'],\n",
      "      dtype='object')\n",
      "(8,) Index(['Desulfovibrio', 'Aeromonas', 'Comamonas', 'Klebsiella', 'Cellulomonas',\n",
      "       'Burkholderia', 'Stenotrophomonas', 'Enterococcus'],\n",
      "      dtype='object')\n",
      "(8,) Index(['Desulfovibrio', 'Aeromonas', 'Comamonas', 'Klebsiella', 'Cellulomonas',\n",
      "       'Burkholderia', 'Stenotrophomonas', 'Enterococcus'],\n",
      "      dtype='object')\n",
      "(8,) Index(['Desulfovibrio', 'Aeromonas', 'Comamonas', 'Klebsiella', 'Cellulomonas',\n",
      "       'Burkholderia', 'Stenotrophomonas', 'Enterococcus'],\n",
      "      dtype='object')\n",
      "(8,) Index(['Desulfovibrio', 'Aeromonas', 'Comamonas', 'Klebsiella', 'Cellulomonas',\n",
      "       'Burkholderia', 'Stenotrophomonas', 'Enterococcus'],\n",
      "      dtype='object')\n"
     ]
    }
   ],
   "source": [
    "# Decontam using raw_params\n",
    "\n",
    "for _ in range(15):\n",
    "    genera_new = decontam(X.loc[:, genera_new], y, raw_params)"
   ]
  },
  {
   "cell_type": "code",
   "execution_count": 15,
   "metadata": {},
   "outputs": [],
   "source": [
    "# Decontam + pathogens\n",
    "raw_CR = X[genera_new]\n",
    "\n",
    "# Normalise RA\n",
    "RA_CR = raw_CR.apply(func=lambda x: x / x.sum(), axis=1)"
   ]
  },
  {
   "cell_type": "code",
   "execution_count": 16,
   "metadata": {},
   "outputs": [
    {
     "data": {
      "image/png": "[encoded data removed]",
      "text/plain": [
       "<Figure size 288x360 with 2 Axes>"
      ]
     },
     "metadata": {
      "needs_background": "light"
     },
     "output_type": "display_data"
    }
   ],
   "source": [
    "# Get SHAP summary before removing Cellulomonas and Agrobacterium\n",
    "pre_model = XGBClassifier(**raw_params)\n",
    "pre_model.fit(X=raw_CR, y=y)\n",
    "\n",
    "pre_explainer = shap.TreeExplainer(pre_model, feature_pertubation='interventional', model_output='probability', data=raw_CR)\n",
    "shap_pre = pre_explainer.shap_values(raw_CR)\n",
    "\n",
    "shap.summary_plot(shap_pre, raw_CR, show=False, plot_size=(4, 5), color_bar_label='Unique k-mer Count', max_display=25)\n",
    "fig, ax = plt.gcf(), plt.gca()\n",
    "ax.set_xlabel('SHAP Value')\n",
    "plt.savefig(results / 'pre_shap.png', dpi=600, format='png', bbox_inches='tight')\n"
   ]
  },
  {
   "cell_type": "markdown",
   "metadata": {},
   "source": [
    "### Number of Features"
   ]
  },
  {
   "cell_type": "code",
   "execution_count": 17,
   "metadata": {},
   "outputs": [
    {
     "name": "stdout",
     "output_type": "stream",
     "text": [
      "Neat (438, 247)\n",
      "CR (438, 8)\n"
     ]
    }
   ],
   "source": [
    "print('Neat', X.shape)\n",
    "print('CR', raw_CR.shape)"
   ]
  },
  {
   "cell_type": "markdown",
   "metadata": {},
   "source": [
    "## Optimise and evaluate decontaminated models"
   ]
  },
  {
   "cell_type": "code",
   "execution_count": null,
   "metadata": {},
   "outputs": [
    {
     "name": "stdout",
     "output_type": "stream",
     "text": [
      "{'subsample': 1.0, 'scale_pos_weight': 0.9043478260869565, 'n_estimators': 140, 'max_depth': 4, 'gamma': 3.0, 'colsample_bytree': 0.7157894736842105}\n"
     ]
    }
   ],
   "source": [
    "raw_CR_results, raw_CR_params = optimise_evaluate(raw_CR, y)\n",
    "# raw_CR_params = {'subsample': 0.7631578947368421, 'scale_pos_weight': 1.4273504273504274, 'n_estimators': 426, 'max_depth': 1, 'gamma': 0.0, 'colsample_bytree': 0.1}\n",
    "\n",
    "RA_CR_results, RA_CR_params = optimise_evaluate(RA_CR, y)\n",
    "# RA_CR_params = {'subsample': 0.38421052631578945, 'scale_pos_weight': 1.4273504273504274, 'n_estimators': 101, 'max_depth': 5, 'gamma': 2.894736842105263, 'colsample_bytree': 0.19473684210526315}\n",
    "\n",
    "metric_df = metric_df.append(pd.DataFrame({'Raw CR': raw_CR_results, 'RA CR': RA_CR_results}).round(3).T)\n",
    "display(metric_df)"
   ]
  },
  {
   "cell_type": "markdown",
   "metadata": {},
   "source": [
    "### Fit clean models"
   ]
  },
  {
   "cell_type": "code",
   "execution_count": null,
   "metadata": {},
   "outputs": [],
   "source": [
    "raw_CR_model = XGBClassifier(**raw_CR_params)\n",
    "raw_CR_model.fit(raw_CR, y)\n",
    "\n",
    "RA_CR_model = XGBClassifier(**RA_CR_params)\n",
    "RA_CR_model.fit(RA_CR, y)"
   ]
  },
  {
   "cell_type": "markdown",
   "metadata": {},
   "source": [
    "## Interpreting model using SHAP values"
   ]
  },
  {
   "cell_type": "markdown",
   "metadata": {},
   "source": [
    "### Plot of SHAP values per Feature"
   ]
  },
  {
   "cell_type": "code",
   "execution_count": null,
   "metadata": {},
   "outputs": [],
   "source": [
    "import matplotlib.pyplot as plt\n",
    "explainer_CR = shap.TreeExplainer(raw_CR_model, feature_pertubation='interventional', model_output='probability', data=raw_CR)\n",
    "shap_CR = explainer_CR.shap_values(raw_CR)\n",
    "\n",
    "explainer_raw = shap.TreeExplainer(raw_model, feature_pertubation='interventional', model_output='probability', data=X)\n",
    "shap_raw = explainer_raw.shap_values(X)"
   ]
  },
  {
   "cell_type": "markdown",
   "metadata": {},
   "source": [
    "#### Dirty raw"
   ]
  },
  {
   "cell_type": "code",
   "execution_count": null,
   "metadata": {},
   "outputs": [],
   "source": [
    "shap.summary_plot(shap_raw, X, show=False, plot_size=(4, 5), color_bar_label='Unique k-mer Count', max_display=23)\n",
    "fig, ax = plt.gcf(), plt.gca()\n",
    "ax.set_xlabel('SHAP Value')\n",
    "plt.savefig(results / 'raw_shap.png', dpi=600, format='png', bbox_inches='tight')"
   ]
  },
  {
   "cell_type": "code",
   "execution_count": null,
   "metadata": {
    "scrolled": true
   },
   "outputs": [],
   "source": [
    "shap.summary_plot(shap_CR, raw_CR, show=False, plot_size=(4, 5), color_bar_label='Unique k-mer Count', max_display=35)\n",
    "fig, ax = plt.gcf(), plt.gca()\n",
    "ax.set_xlabel('SHAP Value')\n",
    "plt.savefig(results / 'raw_CR_shap.png', dpi=600, format='png', bbox_inches='tight')"
   ]
  },
  {
   "cell_type": "code",
   "execution_count": null,
   "metadata": {},
   "outputs": [],
   "source": [
    "spearmanr(raw_CR.iloc[:, 0], shap_CR[:, 0])"
   ]
  },
  {
   "cell_type": "markdown",
   "metadata": {},
   "source": [
    "* Features are ranked by importance from top to botttom\n",
    "* feature values are the kmer counts for each genus\n",
    "* SHAP values are the average marginal contributions to probability"
   ]
  },
  {
   "cell_type": "markdown",
   "metadata": {},
   "source": [
    "### Force plot for healthy patient"
   ]
  },
  {
   "cell_type": "code",
   "execution_count": null,
   "metadata": {
    "scrolled": true
   },
   "outputs": [],
   "source": [
    "j = 201\n",
    "\n",
    "print(f'Actual Classification {y[j]}')\n",
    "print(raw_CR.index[j])\n",
    "\n",
    "shap.force_plot(explainer_CR.expected_value, \n",
    "                shap_CR[j,:], \n",
    "                raw_CR.iloc[j,:],\n",
    "                show=False,\n",
    "                matplotlib=True)\n",
    "\n",
    "plt.savefig(results / 'CR_force_plot.png', dpi=600, format='png', bbox_inches='tight')"
   ]
  },
  {
   "cell_type": "markdown",
   "metadata": {},
   "source": [
    "## How much does Escherichia drive predictions?"
   ]
  },
  {
   "cell_type": "markdown",
   "metadata": {},
   "source": [
    "In Escherichia-positive patients"
   ]
  },
  {
   "cell_type": "code",
   "execution_count": null,
   "metadata": {
    "scrolled": true
   },
   "outputs": [],
   "source": [
    "n = 10\n",
    "\n",
    "for i in range(n):\n",
    "    escherichia = pd.DataFrame(raw_CR.loc[raw_df.pathogen == 'Escherichia coli', :])\n",
    "    healthy_samples = pd.DataFrame(raw_CR.loc[raw_df.pathogen == 'none', :])\n",
    "    y_esc = y[raw_df.pathogen == 'Escherichia coli']\n",
    "    y_healthy = y[raw_df.pathogen == 'none']\n",
    "\n",
    "    sample_idx = np.random.choice(healthy_samples.index, escherichia.shape[0], replace=False)\n",
    "\n",
    "    X_esc = escherichia.append(healthy_samples.iloc[sample_idx, :])\n",
    "    y_esc = y_esc.append(y_healthy[sample_idx])\n",
    "\n",
    "    # decontam feature space\n",
    "    with_escherichia_results, with_escherichia_params = optimise_evaluate(X_esc, y_esc)\n",
    "\n",
    "    # decontam without Escherichia\n",
    "    no_escherichia_results, no_escherichia_params = optimise_evaluate(X_esc.drop('Escherichia', axis=1), y_esc)\n",
    "\n",
    "    # Escherichia only\n",
    "    only_escherichia_results, only_escherichia_params = optimise_evaluate(pd.DataFrame(X_esc['Escherichia']), y_esc)\n",
    "\n",
    "    esc_metric = pd.DataFrame({'With': with_escherichia_results,\n",
    "                               'No': no_escherichia_results,\n",
    "                               'only': only_escherichia_results}).T\n",
    "\n",
    "    display(esc_metric)\n",
    "    if i == 0:\n",
    "        esc_df = esc_metric\n",
    "\n",
    "    else:\n",
    "        esc_df = esc_df + esc_metric"
   ]
  },
  {
   "cell_type": "code",
   "execution_count": null,
   "metadata": {},
   "outputs": [],
   "source": [
    "# Average metrics over 10 random samples\n",
    "esc_df = esc_df / n\n",
    "display(esc_df)"
   ]
  },
  {
   "cell_type": "markdown",
   "metadata": {},
   "source": [
    "### Visualise raw model without using Escherichia"
   ]
  },
  {
   "cell_type": "code",
   "execution_count": null,
   "metadata": {},
   "outputs": [],
   "source": [
    "no_esc_model = XGBClassifier(**no_escherichia_params)\n",
    "no_esc_model.fit(X=X_esc.drop('Escherichia', axis=1), y=y_esc)\n",
    "\n",
    "no_esc_explainer = shap.TreeExplainer(no_esc_model, \n",
    "                                      feature_pertubation='interventional', \n",
    "                                      model_output='probability', \n",
    "                                      data=X_esc.drop('Escherichia', axis=1))\n",
    "\n",
    "shap_no_esc = no_esc_explainer.shap_values(X_esc.drop('Escherichia', axis=1))\n",
    "\n",
    "shap.summary_plot(shap_no_esc, \n",
    "                  X_esc.drop('Escherichia', axis=1), \n",
    "                  show=False, plot_size=(4, 5), \n",
    "                  color_bar_label='Unique k-mer Count', \n",
    "                  max_display=25)\n",
    "\n",
    "fig, ax = plt.gcf(), plt.gca()\n",
    "ax.set_xlabel('SHAP Value')\n",
    "\n",
    "plt.savefig(results / 'no_esc_shap.png', dpi=600, format='png', bbox_inches='tight')"
   ]
  },
  {
   "cell_type": "code",
   "execution_count": null,
   "metadata": {},
   "outputs": [],
   "source": [
    "display(metric_df)\n",
    "metric_df.to_csv(results / 'karius_model_results.csv', index=True, header=True)"
   ]
  },
  {
   "cell_type": "markdown",
   "metadata": {},
   "source": [
    "## Simple decontamination"
   ]
  },
  {
   "cell_type": "code",
   "execution_count": null,
   "metadata": {},
   "outputs": [],
   "source": [
    "import math\n",
    "from scipy.stats import wilcoxon\n",
    "import shap\n",
    "\n",
    "\n",
    "def decontam_simple(X, y):\n",
    "    to_retain = np.array([True] * X.shape[1])\n",
    "    p_vals = []\n",
    "    problems = []\n",
    "    for i in range(X.shape[1]):\n",
    "        try:\n",
    "            genus = X.iloc[:, i].copy()\n",
    "            pos = genus.loc[y == 1]\n",
    "            neg = genus.loc[y == 0]\n",
    "            \n",
    "            if not (sum(pos != 0) >= 5 and sum(neg != 0) >= 5):\n",
    "                raise ValueError\n",
    "            \n",
    "            # Downsample negative class\n",
    "            neg = neg.sample(len(pos))\n",
    "            \n",
    "            # Wilcoxon test\n",
    "            _, p_val = wilcoxon(pos, neg, alternative='less')\n",
    "            p_vals.append(p_val)\n",
    "\n",
    "            if p_val < 0.05:\n",
    "                to_retain[i] = False\n",
    "        \n",
    "        except ValueError:\n",
    "            problems.append(X.columns[i])\n",
    "            to_retain[i] = False\n",
    "            \n",
    "\n",
    "    return to_retain, p_vals, problems"
   ]
  },
  {
   "cell_type": "code",
   "execution_count": null,
   "metadata": {
    "scrolled": true
   },
   "outputs": [],
   "source": [
    "simple_retain, simple_p, problems = decontam_simple(X_RA, y)\n",
    "print(f'After simple decontamination: {sum(simple_retain)}') # No. of genera retained after simple decontamination\n",
    "\n",
    "# Remove non-human associated pathogens\n",
    "retain_names = list(set(X.columns[simple_retain]).intersection(set(meta)))\n",
    "print(f'After removing non-human pathogens: {len(retain_names)}') # No. of genera retained after simple decontamination\n",
    "\n",
    "simple_X = X.loc[:, retain_names]\n",
    "\n",
    "# No. of genera with less than 5 septic and 5 healthy non-zero samples\n",
    "print(f'No. of problems: {len(problems)}')\n",
    "print(f'Final list of genera: {retain_names}')"
   ]
  },
  {
   "cell_type": "code",
   "execution_count": null,
   "metadata": {},
   "outputs": [],
   "source": [
    "simple_results, simple_params = optimise_evaluate(simple_X, y)\n",
    "metric_df = metric_df.append(pd.DataFrame({'Raw simple': simple_results}).round(3).T)"
   ]
  },
  {
   "cell_type": "code",
   "execution_count": null,
   "metadata": {},
   "outputs": [],
   "source": [
    "simple_model = XGBClassifier(**simple_params)\n",
    "simple_model.fit(X=simple_X, y=y)\n",
    "\n",
    "simple_explainer = shap.TreeExplainer(simple_model, feature_pertubation='interventional', \n",
    "                                      model_output='probability', \n",
    "                                      data=simple_X)\n",
    "\n",
    "shap_simple = simple_explainer.shap_values(simple_X)\n",
    "\n",
    "shap.summary_plot(shap_simple, simple_X, show=False, plot_size=(4, 5), color_bar_label='Unique k-mer Count', max_display=25)\n",
    "fig, ax = plt.gcf(), plt.gca()\n",
    "ax.set_xlabel('SHAP Value')\n",
    "plt.savefig(results / 'simple_decontam_shap.png', dpi=600, format='png', bbox_inches='tight')"
   ]
  },
  {
   "cell_type": "code",
   "execution_count": null,
   "metadata": {},
   "outputs": [],
   "source": [
    "# Intersecting genera between \n",
    "common = len(list(set(to_retain).intersection(set(retain_names))))\n",
    "print(f'No. of genera in common: {common}')"
   ]
  },
  {
   "cell_type": "markdown",
   "metadata": {},
   "source": [
    "### Final Results"
   ]
  },
  {
   "cell_type": "code",
   "execution_count": null,
   "metadata": {},
   "outputs": [],
   "source": [
    "display(metric_df)\n",
    "\n",
    "esc_df.to_csv(results / 'escherichia_model_results.csv', index=True, header=True)\n",
    "metric_df.to_csv(results / 'karius_model_results.csv', index=True, header=True)"
   ]
  }
 ],
 "metadata": {
  "kernelspec": {
   "display_name": "xgboost",
   "language": "python",
   "name": "xgboost"
  },
  "language_info": {
   "codemirror_mode": {
    "name": "ipython",
    "version": 3
   },
   "file_extension": ".py",
   "mimetype": "text/x-python",
   "name": "python",
   "nbconvert_exporter": "python",
   "pygments_lexer": "ipython3",
   "version": "3.7.3"
  }
 },
 "nbformat": 4,
 "nbformat_minor": 4
}
